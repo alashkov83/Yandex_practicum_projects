{
 "cells": [
  {
   "cell_type": "markdown",
   "metadata": {
    "toc": true
   },
   "source": [
    "<h1>Содержание<span class=\"tocSkip\"></span></h1>\n",
    "<div class=\"toc\"><ul class=\"toc-item\"><li><span><a href=\"#Загрузка-данных\" data-toc-modified-id=\"Загрузка-данных-1\"><span class=\"toc-item-num\">1&nbsp;&nbsp;</span>Загрузка данных</a></span><ul class=\"toc-item\"><li><span><a href=\"#Импорты\" data-toc-modified-id=\"Импорты-1.1\"><span class=\"toc-item-num\">1.1&nbsp;&nbsp;</span>Импорты</a></span></li><li><span><a href=\"#Загрузка-данных\" data-toc-modified-id=\"Загрузка-данных-1.2\"><span class=\"toc-item-num\">1.2&nbsp;&nbsp;</span>Загрузка данных</a></span></li><li><span><a href=\"#Анализ\" data-toc-modified-id=\"Анализ-1.3\"><span class=\"toc-item-num\">1.3&nbsp;&nbsp;</span>Анализ</a></span><ul class=\"toc-item\"><li><span><a href=\"#Проверка-типов\" data-toc-modified-id=\"Проверка-типов-1.3.1\"><span class=\"toc-item-num\">1.3.1&nbsp;&nbsp;</span>Проверка типов</a></span></li><li><span><a href=\"#Пропущенные-значения\" data-toc-modified-id=\"Пропущенные-значения-1.3.2\"><span class=\"toc-item-num\">1.3.2&nbsp;&nbsp;</span>Пропущенные значения</a></span></li><li><span><a href=\"#Дубликаты\" data-toc-modified-id=\"Дубликаты-1.3.3\"><span class=\"toc-item-num\">1.3.3&nbsp;&nbsp;</span>Дубликаты</a></span></li><li><span><a href=\"#Описательная-статистика\" data-toc-modified-id=\"Описательная-статистика-1.3.4\"><span class=\"toc-item-num\">1.3.4&nbsp;&nbsp;</span>Описательная статистика</a></span></li><li><span><a href=\"#Индивидуальные-распределения\" data-toc-modified-id=\"Индивидуальные-распределения-1.3.5\"><span class=\"toc-item-num\">1.3.5&nbsp;&nbsp;</span>Индивидуальные распределения</a></span><ul class=\"toc-item\"><li><span><a href=\"#Пол\" data-toc-modified-id=\"Пол-1.3.5.1\"><span class=\"toc-item-num\">1.3.5.1&nbsp;&nbsp;</span>Пол</a></span></li><li><span><a href=\"#Возраст\" data-toc-modified-id=\"Возраст-1.3.5.2\"><span class=\"toc-item-num\">1.3.5.2&nbsp;&nbsp;</span>Возраст</a></span></li><li><span><a href=\"#Зарплата\" data-toc-modified-id=\"Зарплата-1.3.5.3\"><span class=\"toc-item-num\">1.3.5.3&nbsp;&nbsp;</span>Зарплата</a></span></li><li><span><a href=\"#Члены-семьи\" data-toc-modified-id=\"Члены-семьи-1.3.5.4\"><span class=\"toc-item-num\">1.3.5.4&nbsp;&nbsp;</span>Члены семьи</a></span></li></ul></li><li><span><a href=\"#Матрица-корреляций\" data-toc-modified-id=\"Матрица-корреляций-1.3.6\"><span class=\"toc-item-num\">1.3.6&nbsp;&nbsp;</span>Матрица корреляций</a></span></li></ul></li></ul></li><li><span><a href=\"#Умножение-матриц\" data-toc-modified-id=\"Умножение-матриц-2\"><span class=\"toc-item-num\">2&nbsp;&nbsp;</span>Умножение матриц</a></span><ul class=\"toc-item\"><li><span><a href=\"#Аналитическое-решение\" data-toc-modified-id=\"Аналитическое-решение-2.1\"><span class=\"toc-item-num\">2.1&nbsp;&nbsp;</span>Аналитическое решение</a></span></li><li><span><a href=\"#Практическое-доказательство\" data-toc-modified-id=\"Практическое-доказательство-2.2\"><span class=\"toc-item-num\">2.2&nbsp;&nbsp;</span>Практическое доказательство</a></span><ul class=\"toc-item\"><li><span><a href=\"#Создаём-класс-модели\" data-toc-modified-id=\"Создаём-класс-модели-2.2.1\"><span class=\"toc-item-num\">2.2.1&nbsp;&nbsp;</span>Создаём класс модели</a></span></li><li><span><a href=\"#Разделяем-выборку-на-предикторы-и-отклик\" data-toc-modified-id=\"Разделяем-выборку-на-предикторы-и-отклик-2.2.2\"><span class=\"toc-item-num\">2.2.2&nbsp;&nbsp;</span>Разделяем выборку на предикторы и отклик</a></span></li><li><span><a href=\"#Обучаем-модель-на-исходных-данных-и-вычисляем-R2\" data-toc-modified-id=\"Обучаем-модель-на-исходных-данных-и-вычисляем-R2-2.2.3\"><span class=\"toc-item-num\">2.2.3&nbsp;&nbsp;</span>Обучаем модель на исходных данных и вычисляем R2</a></span></li><li><span><a href=\"#Создаём-квадратную-случайную-матрицу,-проверяем-на-обратимость-и-проверяем-модель\" data-toc-modified-id=\"Создаём-квадратную-случайную-матрицу,-проверяем-на-обратимость-и-проверяем-модель-2.2.4\"><span class=\"toc-item-num\">2.2.4&nbsp;&nbsp;</span>Создаём квадратную случайную матрицу, проверяем на обратимость и проверяем модель</a></span></li></ul></li></ul></li><li><span><a href=\"#Алгоритм-преобразования\" data-toc-modified-id=\"Алгоритм-преобразования-3\"><span class=\"toc-item-num\">3&nbsp;&nbsp;</span>Алгоритм преобразования</a></span></li><li><span><a href=\"#Проверка-алгоритма\" data-toc-modified-id=\"Проверка-алгоритма-4\"><span class=\"toc-item-num\">4&nbsp;&nbsp;</span>Проверка алгоритма</a></span></li><li><span><a href=\"#Выводы\" data-toc-modified-id=\"Выводы-5\"><span class=\"toc-item-num\">5&nbsp;&nbsp;</span>Выводы</a></span></li><li><span><a href=\"#Чек-лист-проверки\" data-toc-modified-id=\"Чек-лист-проверки-6\"><span class=\"toc-item-num\">6&nbsp;&nbsp;</span>Чек-лист проверки</a></span></li></ul></div>"
   ]
  },
  {
   "cell_type": "markdown",
   "metadata": {},
   "source": [
    "# Защита персональных данных клиентов"
   ]
  },
  {
   "cell_type": "markdown",
   "metadata": {},
   "source": [
    "Вам нужно защитить данные клиентов страховой компании «Хоть потоп». Разработайте такой метод преобразования данных, чтобы по ним было сложно восстановить персональную информацию. Обоснуйте корректность его работы.\n",
    "\n",
    "Нужно защитить данные, чтобы при преобразовании качество моделей машинного обучения не ухудшилось. Подбирать наилучшую модель не требуется."
   ]
  },
  {
   "cell_type": "markdown",
   "metadata": {},
   "source": [
    "## Загрузка данных"
   ]
  },
  {
   "cell_type": "markdown",
   "metadata": {},
   "source": [
    "### Импорты"
   ]
  },
  {
   "cell_type": "code",
   "execution_count": 1,
   "metadata": {},
   "outputs": [],
   "source": [
    "import pandas as pd\n",
    "import numpy as np\n",
    "import matplotlib.pyplot as plt\n",
    "import seaborn as sns\n",
    "from sklearn.linear_model import LinearRegression\n",
    "from sklearn.preprocessing import StandardScaler\n",
    "from sklearn.metrics import r2_score"
   ]
  },
  {
   "cell_type": "markdown",
   "metadata": {},
   "source": [
    "### Загрузка данных"
   ]
  },
  {
   "cell_type": "code",
   "execution_count": 2,
   "metadata": {},
   "outputs": [],
   "source": [
    "df = pd.read_csv('insurance.csv')"
   ]
  },
  {
   "cell_type": "code",
   "execution_count": 3,
   "metadata": {},
   "outputs": [
    {
     "data": {
      "text/html": [
       "<div>\n",
       "<style scoped>\n",
       "    .dataframe tbody tr th:only-of-type {\n",
       "        vertical-align: middle;\n",
       "    }\n",
       "\n",
       "    .dataframe tbody tr th {\n",
       "        vertical-align: top;\n",
       "    }\n",
       "\n",
       "    .dataframe thead th {\n",
       "        text-align: right;\n",
       "    }\n",
       "</style>\n",
       "<table border=\"1\" class=\"dataframe\">\n",
       "  <thead>\n",
       "    <tr style=\"text-align: right;\">\n",
       "      <th></th>\n",
       "      <th>Пол</th>\n",
       "      <th>Возраст</th>\n",
       "      <th>Зарплата</th>\n",
       "      <th>Члены семьи</th>\n",
       "      <th>Страховые выплаты</th>\n",
       "    </tr>\n",
       "  </thead>\n",
       "  <tbody>\n",
       "    <tr>\n",
       "      <th>0</th>\n",
       "      <td>1</td>\n",
       "      <td>41.0</td>\n",
       "      <td>49600.0</td>\n",
       "      <td>1</td>\n",
       "      <td>0</td>\n",
       "    </tr>\n",
       "    <tr>\n",
       "      <th>1</th>\n",
       "      <td>0</td>\n",
       "      <td>46.0</td>\n",
       "      <td>38000.0</td>\n",
       "      <td>1</td>\n",
       "      <td>1</td>\n",
       "    </tr>\n",
       "    <tr>\n",
       "      <th>2</th>\n",
       "      <td>0</td>\n",
       "      <td>29.0</td>\n",
       "      <td>21000.0</td>\n",
       "      <td>0</td>\n",
       "      <td>0</td>\n",
       "    </tr>\n",
       "    <tr>\n",
       "      <th>3</th>\n",
       "      <td>0</td>\n",
       "      <td>21.0</td>\n",
       "      <td>41700.0</td>\n",
       "      <td>2</td>\n",
       "      <td>0</td>\n",
       "    </tr>\n",
       "    <tr>\n",
       "      <th>4</th>\n",
       "      <td>1</td>\n",
       "      <td>28.0</td>\n",
       "      <td>26100.0</td>\n",
       "      <td>0</td>\n",
       "      <td>0</td>\n",
       "    </tr>\n",
       "  </tbody>\n",
       "</table>\n",
       "</div>"
      ],
      "text/plain": [
       "   Пол  Возраст  Зарплата  Члены семьи  Страховые выплаты\n",
       "0    1     41.0   49600.0            1                  0\n",
       "1    0     46.0   38000.0            1                  1\n",
       "2    0     29.0   21000.0            0                  0\n",
       "3    0     21.0   41700.0            2                  0\n",
       "4    1     28.0   26100.0            0                  0"
      ]
     },
     "execution_count": 3,
     "metadata": {},
     "output_type": "execute_result"
    }
   ],
   "source": [
    "df.head()"
   ]
  },
  {
   "cell_type": "markdown",
   "metadata": {},
   "source": [
    "### Анализ"
   ]
  },
  {
   "cell_type": "markdown",
   "metadata": {},
   "source": [
    "#### Проверка типов"
   ]
  },
  {
   "cell_type": "code",
   "execution_count": 4,
   "metadata": {},
   "outputs": [
    {
     "name": "stdout",
     "output_type": "stream",
     "text": [
      "<class 'pandas.core.frame.DataFrame'>\n",
      "RangeIndex: 5000 entries, 0 to 4999\n",
      "Data columns (total 5 columns):\n",
      " #   Column             Non-Null Count  Dtype  \n",
      "---  ------             --------------  -----  \n",
      " 0   Пол                5000 non-null   int64  \n",
      " 1   Возраст            5000 non-null   float64\n",
      " 2   Зарплата           5000 non-null   float64\n",
      " 3   Члены семьи        5000 non-null   int64  \n",
      " 4   Страховые выплаты  5000 non-null   int64  \n",
      "dtypes: float64(2), int64(3)\n",
      "memory usage: 195.4 KB\n"
     ]
    }
   ],
   "source": [
    "df.info()"
   ]
  },
  {
   "cell_type": "markdown",
   "metadata": {},
   "source": [
    "Приведение типов не требуется. Кодирование признаков тоже."
   ]
  },
  {
   "cell_type": "markdown",
   "metadata": {},
   "source": [
    "#### Пропущенные значения"
   ]
  },
  {
   "cell_type": "markdown",
   "metadata": {},
   "source": [
    "Пропущенных значений нет."
   ]
  },
  {
   "cell_type": "markdown",
   "metadata": {},
   "source": [
    "#### Дубликаты"
   ]
  },
  {
   "cell_type": "code",
   "execution_count": 5,
   "metadata": {},
   "outputs": [
    {
     "data": {
      "text/plain": [
       "153"
      ]
     },
     "execution_count": 5,
     "metadata": {},
     "output_type": "execute_result"
    }
   ],
   "source": [
    "df.duplicated().sum()"
   ]
  },
  {
   "cell_type": "markdown",
   "metadata": {},
   "source": [
    "Дупликаты обнаружены. Их мало. Можно удалить."
   ]
  },
  {
   "cell_type": "code",
   "execution_count": 6,
   "metadata": {},
   "outputs": [
    {
     "data": {
      "text/plain": [
       "0"
      ]
     },
     "execution_count": 6,
     "metadata": {},
     "output_type": "execute_result"
    }
   ],
   "source": [
    "df = df.drop_duplicates().reset_index(drop=True)\n",
    "df.duplicated().sum()"
   ]
  },
  {
   "cell_type": "markdown",
   "metadata": {},
   "source": [
    "#### Описательная статистика"
   ]
  },
  {
   "cell_type": "code",
   "execution_count": 7,
   "metadata": {},
   "outputs": [
    {
     "data": {
      "text/html": [
       "<div>\n",
       "<style scoped>\n",
       "    .dataframe tbody tr th:only-of-type {\n",
       "        vertical-align: middle;\n",
       "    }\n",
       "\n",
       "    .dataframe tbody tr th {\n",
       "        vertical-align: top;\n",
       "    }\n",
       "\n",
       "    .dataframe thead th {\n",
       "        text-align: right;\n",
       "    }\n",
       "</style>\n",
       "<table border=\"1\" class=\"dataframe\">\n",
       "  <thead>\n",
       "    <tr style=\"text-align: right;\">\n",
       "      <th></th>\n",
       "      <th>Пол</th>\n",
       "      <th>Возраст</th>\n",
       "      <th>Зарплата</th>\n",
       "      <th>Члены семьи</th>\n",
       "      <th>Страховые выплаты</th>\n",
       "    </tr>\n",
       "  </thead>\n",
       "  <tbody>\n",
       "    <tr>\n",
       "      <th>count</th>\n",
       "      <td>4847.000000</td>\n",
       "      <td>4847.000000</td>\n",
       "      <td>4847.000000</td>\n",
       "      <td>4847.000000</td>\n",
       "      <td>4847.000000</td>\n",
       "    </tr>\n",
       "    <tr>\n",
       "      <th>mean</th>\n",
       "      <td>0.498453</td>\n",
       "      <td>31.023932</td>\n",
       "      <td>39895.811842</td>\n",
       "      <td>1.203425</td>\n",
       "      <td>0.152259</td>\n",
       "    </tr>\n",
       "    <tr>\n",
       "      <th>std</th>\n",
       "      <td>0.500049</td>\n",
       "      <td>8.487995</td>\n",
       "      <td>9972.953985</td>\n",
       "      <td>1.098664</td>\n",
       "      <td>0.468934</td>\n",
       "    </tr>\n",
       "    <tr>\n",
       "      <th>min</th>\n",
       "      <td>0.000000</td>\n",
       "      <td>18.000000</td>\n",
       "      <td>5300.000000</td>\n",
       "      <td>0.000000</td>\n",
       "      <td>0.000000</td>\n",
       "    </tr>\n",
       "    <tr>\n",
       "      <th>25%</th>\n",
       "      <td>0.000000</td>\n",
       "      <td>24.000000</td>\n",
       "      <td>33200.000000</td>\n",
       "      <td>0.000000</td>\n",
       "      <td>0.000000</td>\n",
       "    </tr>\n",
       "    <tr>\n",
       "      <th>50%</th>\n",
       "      <td>0.000000</td>\n",
       "      <td>30.000000</td>\n",
       "      <td>40200.000000</td>\n",
       "      <td>1.000000</td>\n",
       "      <td>0.000000</td>\n",
       "    </tr>\n",
       "    <tr>\n",
       "      <th>75%</th>\n",
       "      <td>1.000000</td>\n",
       "      <td>37.000000</td>\n",
       "      <td>46600.000000</td>\n",
       "      <td>2.000000</td>\n",
       "      <td>0.000000</td>\n",
       "    </tr>\n",
       "    <tr>\n",
       "      <th>max</th>\n",
       "      <td>1.000000</td>\n",
       "      <td>65.000000</td>\n",
       "      <td>79000.000000</td>\n",
       "      <td>6.000000</td>\n",
       "      <td>5.000000</td>\n",
       "    </tr>\n",
       "  </tbody>\n",
       "</table>\n",
       "</div>"
      ],
      "text/plain": [
       "               Пол      Возраст      Зарплата  Члены семьи  Страховые выплаты\n",
       "count  4847.000000  4847.000000   4847.000000  4847.000000        4847.000000\n",
       "mean      0.498453    31.023932  39895.811842     1.203425           0.152259\n",
       "std       0.500049     8.487995   9972.953985     1.098664           0.468934\n",
       "min       0.000000    18.000000   5300.000000     0.000000           0.000000\n",
       "25%       0.000000    24.000000  33200.000000     0.000000           0.000000\n",
       "50%       0.000000    30.000000  40200.000000     1.000000           0.000000\n",
       "75%       1.000000    37.000000  46600.000000     2.000000           0.000000\n",
       "max       1.000000    65.000000  79000.000000     6.000000           5.000000"
      ]
     },
     "execution_count": 7,
     "metadata": {},
     "output_type": "execute_result"
    }
   ],
   "source": [
    "df.describe()"
   ]
  },
  {
   "cell_type": "markdown",
   "metadata": {},
   "source": [
    "Выбросов нет или мало. Но имеется разный масштаб признаков. Желательно использовать шкалирование признаков при работе с линейной регрессией."
   ]
  },
  {
   "cell_type": "markdown",
   "metadata": {},
   "source": [
    "#### Индивидуальные распределения"
   ]
  },
  {
   "cell_type": "markdown",
   "metadata": {},
   "source": [
    "##### Пол"
   ]
  },
  {
   "cell_type": "code",
   "execution_count": 8,
   "metadata": {},
   "outputs": [
    {
     "data": {
      "image/png": "[encoded data removed]",
      "text/plain": [
       "<Figure size 504x504 with 1 Axes>"
      ]
     },
     "metadata": {},
     "output_type": "display_data"
    }
   ],
   "source": [
    "fig = df[\"Пол\"].value_counts().plot(kind='pie', title=\"Пол:\", fontsize=16,\n",
    "                                            legend=False,\n",
    "                                            autopct='%1.1f%%',\n",
    "                                            figsize=(7,7));\n",
    "fig.axes.title.set_size(20)\n",
    "fig.axes.set_ylabel(None);"
   ]
  },
  {
   "cell_type": "markdown",
   "metadata": {},
   "source": [
    "Пол клиентов распределяется поровну. Не определившихся нет :-)"
   ]
  },
  {
   "cell_type": "markdown",
   "metadata": {},
   "source": [
    "##### Возраст"
   ]
  },
  {
   "cell_type": "code",
   "execution_count": 9,
   "metadata": {},
   "outputs": [
    {
     "data": {
      "image/png": "[encoded data removed]",
      "text/plain": [
       "<Figure size 504x504 with 1 Axes>"
      ]
     },
     "metadata": {
      "needs_background": "light"
     },
     "output_type": "display_data"
    }
   ],
   "source": [
    "df[\"Возраст\"].plot(kind='hist', title=\"Возраст\", fontsize=16,bins=10, figsize=(7,7));"
   ]
  },
  {
   "cell_type": "markdown",
   "metadata": {},
   "source": [
    "Среди клиентов преобладают клиенты возраста 25-35 лет."
   ]
  },
  {
   "cell_type": "markdown",
   "metadata": {},
   "source": [
    "##### Зарплата"
   ]
  },
  {
   "cell_type": "code",
   "execution_count": 10,
   "metadata": {},
   "outputs": [
    {
     "data": {
      "image/png": "[encoded data removed]",
      "text/plain": [
       "<Figure size 1152x504 with 1 Axes>"
      ]
     },
     "metadata": {
      "needs_background": "light"
     },
     "output_type": "display_data"
    }
   ],
   "source": [
    "df[\"Зарплата\"].plot(kind='hist', title=\"Зарплата\", fontsize=16,bins=20, figsize=(16,7));"
   ]
  },
  {
   "cell_type": "markdown",
   "metadata": {},
   "source": [
    "Почти нормальное распределение."
   ]
  },
  {
   "cell_type": "markdown",
   "metadata": {},
   "source": [
    "##### Члены семьи"
   ]
  },
  {
   "cell_type": "code",
   "execution_count": 11,
   "metadata": {},
   "outputs": [
    {
     "data": {
      "image/png": "[encoded data removed]",
      "text/plain": [
       "<Figure size 1152x504 with 1 Axes>"
      ]
     },
     "metadata": {
      "needs_background": "light"
     },
     "output_type": "display_data"
    }
   ],
   "source": [
    "df[\"Члены семьи\"].plot(kind='hist', title=\"numerus parasitorum\", fontsize=16,bins=5, figsize=(16,7));"
   ]
  },
  {
   "cell_type": "markdown",
   "metadata": {},
   "source": [
    "#### Матрица корреляций"
   ]
  },
  {
   "cell_type": "code",
   "execution_count": 12,
   "metadata": {},
   "outputs": [
    {
     "data": {
      "image/png": "[encoded data removed]",
      "text/plain": [
       "<Figure size 720x720 with 20 Axes>"
      ]
     },
     "metadata": {
      "needs_background": "light"
     },
     "output_type": "display_data"
    }
   ],
   "source": [
    "sns.pairplot(df.iloc[:, 1:], diag_kind='kde');"
   ]
  },
  {
   "cell_type": "code",
   "execution_count": 13,
   "metadata": {},
   "outputs": [
    {
     "data": {
      "image/png": "[encoded data removed]",
      "text/plain": [
       "<Figure size 648x648 with 2 Axes>"
      ]
     },
     "metadata": {
      "needs_background": "light"
     },
     "output_type": "display_data"
    }
   ],
   "source": [
    "plt.figure(figsize = (9,9))\n",
    "sns.heatmap(abs(df.corr()), cmap=\"rocket_r\");"
   ]
  },
  {
   "cell_type": "markdown",
   "metadata": {},
   "source": [
    "Корреляций между признаками практически нет. С откликом сильно коррелирует возраст клиента."
   ]
  },
  {
   "cell_type": "markdown",
   "metadata": {},
   "source": [
    "## Умножение матриц"
   ]
  },
  {
   "cell_type": "markdown",
   "metadata": {},
   "source": [
    "### Аналитическое решение"
   ]
  },
  {
   "cell_type": "markdown",
   "metadata": {},
   "source": [
    "**Задача:** Признаки умножают на обратимую матрицу. Изменится ли качество линейной регрессии? (Её можно обучить заново.)"
   ]
  },
  {
   "cell_type": "markdown",
   "metadata": {},
   "source": [
    "**Ответ:** Качество регрессионной модели при умножении матрицы признаков на обратимую матрицу $M$ изменится не должно. Коэффициенты регрессионной функции (веса и смещение) при этом поменяются. \n",
    "\n",
    "**Обоснование:**\n",
    "\n",
    "$$\n",
    "w' = ((XM)^T XM)^{-1} (XM)^T y = (M^T X^T X M)^{-1} M^T X^T y = (M^T (X^T X M))^{-1} M^T X^T y =\n",
    "= (X^T X M))^{-1} M^T^{-1{ M^T X^T y\n",
    "$$\n",
    "\n",
    "учитывая, что $(M^T)^{-1} M^T = E$, а $E$ умноженная на матрицу даёт её же, получаeм:\n",
    "$$\n",
    "w' = (X^T X M)^{-1} X^T y = M^{-1}(X^T X)^{-1} X^T y = M^{-1} w\n",
    "$$\n",
    "подставляя в формулу предсказаний получаем:\n",
    "$$\n",
    "a' = M^{-1}XMw = EXw = Xw = a\n",
    "$$\n",
    "ч.т.д.\n",
    "**Пояснения:**\n",
    "1. Раскрываем транспонирования по свойству: $(AB)^T = B^T A^T$\n",
    "2. Считаем $X^TX$ - квадратная обратимая марица, $M$ - обратимая по опеределнию, то раскрываем скобки по свойству $(AB)^{-1} = B^{-1} A^{-1}$\n",
    "3. Используем свойство ассоциативности умножения матриц \n",
    "**Необхолимое условие:**  $X^TX$ - обратимая, что может быть не так, если она окажется вырожденной."
   ]
  },
  {
   "cell_type": "markdown",
   "metadata": {},
   "source": [
    "### Практическое доказательство"
   ]
  },
  {
   "cell_type": "markdown",
   "metadata": {},
   "source": [
    "#### Создаём класс модели"
   ]
  },
  {
   "cell_type": "code",
   "execution_count": 14,
   "metadata": {},
   "outputs": [],
   "source": [
    "class CustomLinnearReg:\n",
    "    def fit(self, X, y):\n",
    "        intercept = np.ones((X.shape[0], 1)) # свободный член\n",
    "        ix = np.concatenate((intercept, X), axis=1)\n",
    "        self.coef_ = np.linalg.inv(ix.T @ ix) @ ix.T @ y\n",
    "    \n",
    "    def predict(self, X):\n",
    "        intercept = np.ones((X.shape[0], 1)) # свободный член\n",
    "        ix = np.concatenate((intercept, X), axis=1)\n",
    "        return ix @ self.coef_"
   ]
  },
  {
   "cell_type": "markdown",
   "metadata": {},
   "source": [
    "#### Разделяем выборку на предикторы и отклик"
   ]
  },
  {
   "cell_type": "code",
   "execution_count": 15,
   "metadata": {},
   "outputs": [],
   "source": [
    "X = df.drop([\"Страховые выплаты\"], axis=1).values\n",
    "y = df[\"Страховые выплаты\"].values"
   ]
  },
  {
   "cell_type": "markdown",
   "metadata": {},
   "source": [
    "#### Обучаем модель на исходных данных и вычисляем R2"
   ]
  },
  {
   "cell_type": "code",
   "execution_count": 16,
   "metadata": {},
   "outputs": [
    {
     "data": {
      "text/plain": [
       "0.4302010044852068"
      ]
     },
     "execution_count": 16,
     "metadata": {},
     "output_type": "execute_result"
    }
   ],
   "source": [
    "model = CustomLinnearReg()\n",
    "model.fit(X, y)\n",
    "y_pred = model.predict(X)\n",
    "r2_score(y, y_pred)"
   ]
  },
  {
   "cell_type": "markdown",
   "metadata": {},
   "source": [
    "Значение метрики оставляет желать лучшего."
   ]
  },
  {
   "cell_type": "markdown",
   "metadata": {},
   "source": [
    "#### Создаём квадратную случайную матрицу, проверяем на обратимость и проверяем модель"
   ]
  },
  {
   "cell_type": "code",
   "execution_count": 17,
   "metadata": {},
   "outputs": [],
   "source": [
    "np.random.seed(12345)\n",
    "M = np.random.rand(X.shape[1], X.shape[1])\n",
    "try:\n",
    "    np.linalg.inv(M)\n",
    "except np.linalg.LinAlgError:\n",
    "    print('M - необратима!')"
   ]
  },
  {
   "cell_type": "code",
   "execution_count": 18,
   "metadata": {},
   "outputs": [
    {
     "data": {
      "text/plain": [
       "0.4302010044845962"
      ]
     },
     "execution_count": 18,
     "metadata": {},
     "output_type": "execute_result"
    }
   ],
   "source": [
    "Xnew = X @ M\n",
    "model.fit(Xnew, y)\n",
    "y_pred = model.predict(Xnew)\n",
    "r2_score(y, y_pred)"
   ]
  },
  {
   "cell_type": "markdown",
   "metadata": {},
   "source": [
    "Получили практически одну и ту же метрику. Неточность связана, по всей видимости с погрешностями численного вычисления обратной матрицы в нахождении коэффициентов регрессии."
   ]
  },
  {
   "cell_type": "markdown",
   "metadata": {},
   "source": [
    "## Алгоритм преобразования"
   ]
  },
  {
   "cell_type": "markdown",
   "metadata": {},
   "source": [
    "**Алгоритм**\n",
    "\n",
    "1. Генерируем квадратную матрицу случайных чисел размером в количество признаков.\n",
    "2. Проверяем матрицу на обратимость. Если матрица обратимая переходим к следующему пункту, если нет - возвращаемся к пункту 1.\n",
    "3. Умножаем матрицу признаков на полученную обратимую матрицу.\n",
    "4. Рандомная матрица при необходимости может быть использована, как ключ для дешивровки."
   ]
  },
  {
   "cell_type": "markdown",
   "metadata": {},
   "source": [
    "**Реализация**"
   ]
  },
  {
   "cell_type": "code",
   "execution_count": 19,
   "metadata": {},
   "outputs": [],
   "source": [
    "def gen_key(features):\n",
    "    N_dim = features.shape[1]\n",
    "    flag = True\n",
    "    while flag:\n",
    "        key = np.random.rand(N_dim, N_dim)\n",
    "        try:\n",
    "            np.linalg.inv(key)\n",
    "            return key\n",
    "        except np.linalg.LinAlgError:\n",
    "            pass\n",
    "\n",
    "def coder(X, key):\n",
    "    return X @ key\n",
    "    \n",
    "def decoder(X, key):\n",
    "    return X @ np.linalg.inv(key)"
   ]
  },
  {
   "cell_type": "markdown",
   "metadata": {},
   "source": [
    "**Проверка**"
   ]
  },
  {
   "cell_type": "code",
   "execution_count": 20,
   "metadata": {},
   "outputs": [
    {
     "data": {
      "text/plain": [
       "array([[21834.3145754 , 36223.03719287, 49323.28651681, 33587.80913135],\n",
       "       [16736.83971122, 27761.3589252 , 37794.09066781, 25736.97831281],\n",
       "       [ 9251.16850809, 15344.27689269, 20887.86667511, 14223.7899029 ],\n",
       "       [18348.25369232, 30443.4431051 , 41460.28150973, 28234.07179968],\n",
       "       [11493.52333533, 19065.84593699, 25957.83811179, 17676.24393361],\n",
       "       [18055.44673796, 29949.31690275, 40775.72312536, 27768.14674969]])"
      ]
     },
     "execution_count": 20,
     "metadata": {},
     "output_type": "execute_result"
    }
   ],
   "source": [
    "key = gen_key(X)\n",
    "Xnew = coder(X, key)\n",
    "Xnew[:6, :]"
   ]
  },
  {
   "cell_type": "code",
   "execution_count": 21,
   "metadata": {},
   "outputs": [
    {
     "data": {
      "text/plain": [
       "array([[ 1.00000000e+00,  4.10000000e+01,  4.96000000e+04,\n",
       "         1.00000000e+00],\n",
       "       [-2.91038305e-11,  4.60000000e+01,  3.80000000e+04,\n",
       "         1.00000000e+00],\n",
       "       [-1.45519152e-11,  2.90000000e+01,  2.10000000e+04,\n",
       "         7.27595761e-12],\n",
       "       [ 0.00000000e+00,  2.10000000e+01,  4.17000000e+04,\n",
       "         2.00000000e+00],\n",
       "       [ 1.00000000e+00,  2.80000000e+01,  2.61000000e+04,\n",
       "         7.27595761e-12],\n",
       "       [ 1.00000000e+00,  4.30000000e+01,  4.10000000e+04,\n",
       "         2.00000000e+00]])"
      ]
     },
     "execution_count": 21,
     "metadata": {},
     "output_type": "execute_result"
    }
   ],
   "source": [
    "Xrecover = decoder(Xnew, key)\n",
    "Xrecover[:6,:]"
   ]
  },
  {
   "cell_type": "markdown",
   "metadata": {},
   "source": [
    "**Обоснование**\n",
    "Алгоритм основан на свойстве линейной регресси из пункта 2. Использование генератора случайных чисел (если неизвестно зерно) затруднит расшифровку при неизвестном ключе (матрице $M$). Но стоит отметить что генератор случайных чисел по-умолчанию в NumPy не криптостоек и может быть взломан при сравнительно небольшом усилии. Криптостойкость ещё по всей видимости зависит от размера M, то есть от числа признаков."
   ]
  },
  {
   "cell_type": "markdown",
   "metadata": {},
   "source": [
    "## Проверка алгоритма"
   ]
  },
  {
   "cell_type": "markdown",
   "metadata": {},
   "source": [
    "Шкалируем признаки"
   ]
  },
  {
   "cell_type": "code",
   "execution_count": 22,
   "metadata": {},
   "outputs": [
    {
     "data": {
      "text/plain": [
       "0.4302010044852068"
      ]
     },
     "execution_count": 22,
     "metadata": {},
     "output_type": "execute_result"
    }
   ],
   "source": [
    "scaler = StandardScaler()\n",
    "X = scaler.fit_transform(X)\n",
    "model1 = LinearRegression()\n",
    "model1.fit(X, y)\n",
    "model1.score(X, y)"
   ]
  },
  {
   "cell_type": "code",
   "execution_count": 23,
   "metadata": {},
   "outputs": [
    {
     "data": {
      "text/plain": [
       "0.4302010044852067"
      ]
     },
     "execution_count": 23,
     "metadata": {},
     "output_type": "execute_result"
    }
   ],
   "source": [
    "key = gen_key(X)\n",
    "Xnew = coder(X, key)\n",
    "model2 = LinearRegression()\n",
    "model2.fit(Xnew, y)\n",
    "model2.score(Xnew, y)"
   ]
  },
  {
   "cell_type": "markdown",
   "metadata": {},
   "source": [
    "**Вывод:** Значение метрики практически одинаково. Реализованный алгоритм шифрования пригоден для работы."
   ]
  },
  {
   "cell_type": "markdown",
   "metadata": {},
   "source": [
    "## Выводы"
   ]
  },
  {
   "cell_type": "markdown",
   "metadata": {},
   "source": [
    "Проведенные исследования позволили сделать следующие выводы:\n",
    "\n",
    "- Умножив признаки на обратимую матрицу, качество модели линейной регрессии не меняется. \n",
    "\n",
    "- Предложенный алгоритм преобразования данных пригоден для решения задачи шифрования признаков.\n",
    "\n",
    "- Зашифрованные данные пригодны для предсказаний с помощью линейной регресии\n",
    "\n",
    "- Алгоритм позволяет дешифровать данные, если известен ключ - случайная обратимая матрица\n",
    "\n",
    "- Реализованный алгоритм полностью удовлетворяет поставленной задаче Защиты персональных данных клиентов страховой компании"
   ]
  },
  {
   "cell_type": "markdown",
   "metadata": {},
   "source": [
    "## Чек-лист проверки"
   ]
  },
  {
   "cell_type": "markdown",
   "metadata": {},
   "source": [
    "Поставьте 'x' в выполненных пунктах. Далее нажмите Shift+Enter."
   ]
  },
  {
   "cell_type": "markdown",
   "metadata": {},
   "source": [
    "- [x]  Jupyter Notebook открыт\n",
    "- [x]  Весь код выполняется без ошибок\n",
    "- [x]  Ячейки с кодом расположены в порядке исполнения\n",
    "- [x]  Выполнен шаг 1: данные загружены\n",
    "- [x]  Выполнен шаг 2: получен ответ на вопрос об умножении матриц\n",
    "    - [x]  Указан правильный вариант ответа\n",
    "    - [x]  Вариант обоснован\n",
    "- [x]  Выполнен шаг 3: предложен алгоритм преобразования\n",
    "    - [x]  Алгоритм описан\n",
    "    - [x]  Алгоритм обоснован\n",
    "- [x]  Выполнен шаг 4: алгоритм проверен\n",
    "    - [x]  Алгоритм реализован\n",
    "    - [x]  Проведено сравнение качества моделей до и после преобразования"
   ]
  }
 ],
 "metadata": {
  "ExecuteTimeLog": [
   {
    "duration": 236,
    "start_time": "2022-11-30T06:36:27.088Z"
   },
   {
    "duration": 91,
    "start_time": "2022-11-30T06:37:10.343Z"
   },
   {
    "duration": 17,
    "start_time": "2022-11-30T06:37:23.570Z"
   },
   {
    "duration": 12,
    "start_time": "2022-11-30T06:39:15.871Z"
   },
   {
    "duration": 7,
    "start_time": "2022-11-30T06:41:39.341Z"
   },
   {
    "duration": 9,
    "start_time": "2022-11-30T06:43:15.768Z"
   },
   {
    "duration": 10,
    "start_time": "2022-11-30T06:44:00.315Z"
   },
   {
    "duration": 22,
    "start_time": "2022-11-30T06:44:17.943Z"
   },
   {
    "duration": 100,
    "start_time": "2022-11-30T06:57:27.919Z"
   },
   {
    "duration": 63,
    "start_time": "2022-11-30T06:57:35.942Z"
   },
   {
    "duration": 3802,
    "start_time": "2022-11-30T06:58:21.051Z"
   },
   {
    "duration": 4033,
    "start_time": "2022-11-30T06:59:59.503Z"
   },
   {
    "duration": 2563,
    "start_time": "2022-11-30T07:00:57.008Z"
   },
   {
    "duration": 17,
    "start_time": "2022-11-30T07:01:18.015Z"
   },
   {
    "duration": 347,
    "start_time": "2022-11-30T07:01:31.384Z"
   },
   {
    "duration": 297,
    "start_time": "2022-11-30T07:01:47.119Z"
   },
   {
    "duration": 103,
    "start_time": "2022-11-30T07:08:26.411Z"
   },
   {
    "duration": 76,
    "start_time": "2022-11-30T07:09:31.830Z"
   },
   {
    "duration": 817,
    "start_time": "2022-11-30T07:12:16.725Z"
   },
   {
    "duration": 129,
    "start_time": "2022-11-30T07:12:27.777Z"
   },
   {
    "duration": 155,
    "start_time": "2022-11-30T07:13:25.294Z"
   },
   {
    "duration": 136,
    "start_time": "2022-11-30T07:14:29.479Z"
   },
   {
    "duration": 146,
    "start_time": "2022-11-30T07:15:01.304Z"
   },
   {
    "duration": 145,
    "start_time": "2022-11-30T07:15:21.680Z"
   },
   {
    "duration": 172,
    "start_time": "2022-11-30T07:16:34.779Z"
   },
   {
    "duration": 152,
    "start_time": "2022-11-30T07:19:55.632Z"
   },
   {
    "duration": 237,
    "start_time": "2022-11-30T07:20:31.405Z"
   },
   {
    "duration": 180,
    "start_time": "2022-11-30T07:21:14.046Z"
   },
   {
    "duration": 183,
    "start_time": "2022-11-30T07:21:22.997Z"
   },
   {
    "duration": 189,
    "start_time": "2022-11-30T07:28:04.857Z"
   },
   {
    "duration": 161,
    "start_time": "2022-11-30T07:28:22.829Z"
   },
   {
    "duration": 4,
    "start_time": "2022-11-30T07:51:09.814Z"
   },
   {
    "duration": 5,
    "start_time": "2022-11-30T07:52:58.949Z"
   },
   {
    "duration": 9,
    "start_time": "2022-11-30T07:55:00.972Z"
   },
   {
    "duration": 7,
    "start_time": "2022-11-30T07:56:48.897Z"
   },
   {
    "duration": 21,
    "start_time": "2022-11-30T07:57:51.531Z"
   },
   {
    "duration": 31,
    "start_time": "2022-11-30T07:58:20.751Z"
   },
   {
    "duration": 228,
    "start_time": "2022-11-30T07:58:59.013Z"
   },
   {
    "duration": 9,
    "start_time": "2022-11-30T07:59:22.867Z"
   },
   {
    "duration": 4,
    "start_time": "2022-11-30T08:02:31.150Z"
   },
   {
    "duration": 11,
    "start_time": "2022-11-30T08:02:33.032Z"
   },
   {
    "duration": 12,
    "start_time": "2022-11-30T08:09:12.021Z"
   },
   {
    "duration": 4,
    "start_time": "2022-11-30T08:09:38.545Z"
   },
   {
    "duration": 8,
    "start_time": "2022-11-30T08:09:50.560Z"
   },
   {
    "duration": 10,
    "start_time": "2022-11-30T08:17:26.704Z"
   },
   {
    "duration": 8,
    "start_time": "2022-11-30T08:17:45.648Z"
   },
   {
    "duration": 5,
    "start_time": "2022-11-30T08:20:49.288Z"
   },
   {
    "duration": 13,
    "start_time": "2022-11-30T08:31:58.023Z"
   },
   {
    "duration": 5,
    "start_time": "2022-11-30T08:32:17.277Z"
   },
   {
    "duration": 8,
    "start_time": "2022-11-30T08:32:19.208Z"
   },
   {
    "duration": 7,
    "start_time": "2022-11-30T08:32:42.416Z"
   },
   {
    "duration": 6,
    "start_time": "2022-11-30T08:33:04.167Z"
   },
   {
    "duration": 11,
    "start_time": "2022-11-30T08:34:28.278Z"
   },
   {
    "duration": 5,
    "start_time": "2022-11-30T08:34:43.525Z"
   },
   {
    "duration": 7,
    "start_time": "2022-11-30T08:34:45.157Z"
   },
   {
    "duration": 3,
    "start_time": "2022-11-30T08:34:45.990Z"
   },
   {
    "duration": 7,
    "start_time": "2022-11-30T08:35:10.840Z"
   },
   {
    "duration": 3,
    "start_time": "2022-11-30T08:40:23.012Z"
   },
   {
    "duration": 10,
    "start_time": "2022-11-30T08:43:06.891Z"
   },
   {
    "duration": 8,
    "start_time": "2022-11-30T08:43:38.512Z"
   },
   {
    "duration": 11,
    "start_time": "2022-11-30T08:45:13.656Z"
   },
   {
    "duration": 10,
    "start_time": "2022-11-30T08:45:25.915Z"
   },
   {
    "duration": 7,
    "start_time": "2022-11-30T08:49:03.605Z"
   },
   {
    "duration": 4,
    "start_time": "2022-11-30T08:50:25.753Z"
   },
   {
    "duration": 28,
    "start_time": "2022-11-30T08:50:27.429Z"
   },
   {
    "duration": 10,
    "start_time": "2022-11-30T08:50:28.391Z"
   },
   {
    "duration": 12,
    "start_time": "2022-11-30T08:50:32.640Z"
   },
   {
    "duration": 6,
    "start_time": "2022-11-30T08:50:37.149Z"
   },
   {
    "duration": 9,
    "start_time": "2022-11-30T08:50:41.832Z"
   },
   {
    "duration": 24,
    "start_time": "2022-11-30T08:50:43.040Z"
   },
   {
    "duration": 76,
    "start_time": "2022-11-30T08:50:52.167Z"
   },
   {
    "duration": 125,
    "start_time": "2022-11-30T08:51:05.767Z"
   },
   {
    "duration": 210,
    "start_time": "2022-11-30T08:51:09.453Z"
   },
   {
    "duration": 159,
    "start_time": "2022-11-30T08:51:15.700Z"
   },
   {
    "duration": 2121,
    "start_time": "2022-11-30T08:51:19.943Z"
   },
   {
    "duration": 310,
    "start_time": "2022-11-30T08:51:22.066Z"
   },
   {
    "duration": 4,
    "start_time": "2022-11-30T08:52:06.056Z"
   },
   {
    "duration": 4,
    "start_time": "2022-11-30T08:52:19.661Z"
   },
   {
    "duration": 67,
    "start_time": "2022-11-30T08:52:21.308Z"
   },
   {
    "duration": 4,
    "start_time": "2022-11-30T08:52:26.989Z"
   },
   {
    "duration": 3,
    "start_time": "2022-11-30T08:52:44.622Z"
   },
   {
    "duration": 7,
    "start_time": "2022-11-30T08:52:52.709Z"
   },
   {
    "duration": 5,
    "start_time": "2022-11-30T08:53:34.145Z"
   },
   {
    "duration": 7,
    "start_time": "2022-11-30T08:53:37.275Z"
   },
   {
    "duration": 9,
    "start_time": "2022-11-30T08:53:38.504Z"
   },
   {
    "duration": 10,
    "start_time": "2022-11-30T08:55:05.579Z"
   },
   {
    "duration": 10,
    "start_time": "2022-11-30T08:55:07.890Z"
   },
   {
    "duration": 8,
    "start_time": "2022-11-30T08:55:58.458Z"
   },
   {
    "duration": 9,
    "start_time": "2022-11-30T08:56:00.931Z"
   },
   {
    "duration": 2216,
    "start_time": "2022-11-30T09:13:25.379Z"
   },
   {
    "duration": 88,
    "start_time": "2022-11-30T09:13:27.598Z"
   },
   {
    "duration": 13,
    "start_time": "2022-11-30T09:13:27.687Z"
   },
   {
    "duration": 19,
    "start_time": "2022-11-30T09:13:27.702Z"
   },
   {
    "duration": 13,
    "start_time": "2022-11-30T09:13:27.723Z"
   },
   {
    "duration": 23,
    "start_time": "2022-11-30T09:13:27.738Z"
   },
   {
    "duration": 30,
    "start_time": "2022-11-30T09:13:27.763Z"
   },
   {
    "duration": 90,
    "start_time": "2022-11-30T09:13:27.795Z"
   },
   {
    "duration": 126,
    "start_time": "2022-11-30T09:13:27.887Z"
   },
   {
    "duration": 189,
    "start_time": "2022-11-30T09:13:28.016Z"
   },
   {
    "duration": 170,
    "start_time": "2022-11-30T09:13:28.206Z"
   },
   {
    "duration": 2239,
    "start_time": "2022-11-30T09:13:28.378Z"
   },
   {
    "duration": 302,
    "start_time": "2022-11-30T09:13:30.619Z"
   },
   {
    "duration": 4,
    "start_time": "2022-11-30T09:13:30.923Z"
   },
   {
    "duration": 34,
    "start_time": "2022-11-30T09:13:30.928Z"
   },
   {
    "duration": 43,
    "start_time": "2022-11-30T09:13:30.963Z"
   },
   {
    "duration": 231,
    "start_time": "2022-11-30T09:13:31.008Z"
   },
   {
    "duration": 170,
    "start_time": "2022-11-30T09:13:31.241Z"
   },
   {
    "duration": 94,
    "start_time": "2022-11-30T09:13:31.413Z"
   },
   {
    "duration": 135,
    "start_time": "2022-11-30T09:13:31.513Z"
   },
   {
    "duration": 55,
    "start_time": "2022-11-30T09:13:31.649Z"
   },
   {
    "duration": 8,
    "start_time": "2022-11-30T09:13:31.706Z"
   },
   {
    "duration": 195,
    "start_time": "2022-11-30T09:13:31.716Z"
   },
   {
    "duration": 43,
    "start_time": "2022-11-30T11:01:37.500Z"
   },
   {
    "duration": 3,
    "start_time": "2022-11-30T11:01:49.799Z"
   },
   {
    "duration": 6,
    "start_time": "2022-11-30T11:01:50.964Z"
   },
   {
    "duration": 1434,
    "start_time": "2022-11-30T11:03:39.614Z"
   },
   {
    "duration": 75,
    "start_time": "2022-11-30T11:03:41.083Z"
   },
   {
    "duration": 12,
    "start_time": "2022-11-30T11:03:41.588Z"
   },
   {
    "duration": 11,
    "start_time": "2022-11-30T11:03:43.268Z"
   },
   {
    "duration": 6,
    "start_time": "2022-11-30T11:03:45.585Z"
   },
   {
    "duration": 8,
    "start_time": "2022-11-30T11:03:46.877Z"
   },
   {
    "duration": 22,
    "start_time": "2022-11-30T11:03:50.673Z"
   },
   {
    "duration": 89,
    "start_time": "2022-11-30T11:03:55.131Z"
   },
   {
    "duration": 115,
    "start_time": "2022-11-30T11:03:56.934Z"
   },
   {
    "duration": 168,
    "start_time": "2022-11-30T11:03:58.672Z"
   },
   {
    "duration": 150,
    "start_time": "2022-11-30T11:04:00.109Z"
   },
   {
    "duration": 2186,
    "start_time": "2022-11-30T11:04:01.346Z"
   },
   {
    "duration": 279,
    "start_time": "2022-11-30T11:04:03.534Z"
   },
   {
    "duration": 5,
    "start_time": "2022-11-30T11:28:08.411Z"
   },
   {
    "duration": 4,
    "start_time": "2022-11-30T11:28:10.057Z"
   },
   {
    "duration": 22,
    "start_time": "2022-11-30T11:28:11.520Z"
   },
   {
    "duration": 3,
    "start_time": "2022-11-30T11:28:14.513Z"
   },
   {
    "duration": 8,
    "start_time": "2022-11-30T11:28:16.787Z"
   },
   {
    "duration": 5,
    "start_time": "2022-11-30T11:28:21.338Z"
   },
   {
    "duration": 6,
    "start_time": "2022-11-30T11:28:23.315Z"
   },
   {
    "duration": 6,
    "start_time": "2022-11-30T11:28:24.443Z"
   },
   {
    "duration": 10,
    "start_time": "2022-11-30T11:28:29.490Z"
   },
   {
    "duration": 11,
    "start_time": "2022-11-30T11:28:30.139Z"
   },
   {
    "duration": 4,
    "start_time": "2022-11-30T11:31:31.271Z"
   },
   {
    "duration": 4,
    "start_time": "2022-11-30T11:31:33.224Z"
   },
   {
    "duration": 9,
    "start_time": "2022-11-30T11:31:35.087Z"
   },
   {
    "duration": 3,
    "start_time": "2022-11-30T11:31:37.496Z"
   },
   {
    "duration": 6,
    "start_time": "2022-11-30T11:31:47.903Z"
   },
   {
    "duration": 4,
    "start_time": "2022-11-30T11:31:50.830Z"
   },
   {
    "duration": 7,
    "start_time": "2022-11-30T11:31:51.446Z"
   },
   {
    "duration": 6,
    "start_time": "2022-11-30T11:31:51.685Z"
   },
   {
    "duration": 14,
    "start_time": "2022-11-30T11:31:52.943Z"
   },
   {
    "duration": 9,
    "start_time": "2022-11-30T11:31:53.207Z"
   }
  ],
  "kernelspec": {
   "display_name": "Python 3",
   "language": "python",
   "name": "python3"
  },
  "language_info": {
   "codemirror_mode": {
    "name": "ipython",
    "version": 3
   },
   "file_extension": ".py",
   "mimetype": "text/x-python",
   "name": "python",
   "nbconvert_exporter": "python",
   "pygments_lexer": "ipython3",
   "version": "3.8.10"
  },
  "toc": {
   "base_numbering": 1,
   "nav_menu": {},
   "number_sections": true,
   "sideBar": true,
   "skip_h1_title": true,
   "title_cell": "Содержание",
   "title_sidebar": "Contents",
   "toc_cell": true,
   "toc_position": {},
   "toc_section_display": true,
   "toc_window_display": false
  }
 },
 "nbformat": 4,
 "nbformat_minor": 2
}
