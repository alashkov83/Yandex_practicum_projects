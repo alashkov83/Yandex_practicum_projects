{
 "cells": [
  {
   "cell_type": "markdown",
   "metadata": {
    "toc": true
   },
   "source": [
    "<h1>Содержание<span class=\"tocSkip\"></span></h1>\n",
    "<div class=\"toc\"><ul class=\"toc-item\"><li><span><a href=\"#Подготовка\" data-toc-modified-id=\"Подготовка-1\"><span class=\"toc-item-num\">1&nbsp;&nbsp;</span>Подготовка</a></span><ul class=\"toc-item\"><li><span><a href=\"#Импорты\" data-toc-modified-id=\"Импорты-1.1\"><span class=\"toc-item-num\">1.1&nbsp;&nbsp;</span>Импорты</a></span></li><li><span><a href=\"#Загрузка-датасета\" data-toc-modified-id=\"Загрузка-датасета-1.2\"><span class=\"toc-item-num\">1.2&nbsp;&nbsp;</span>Загрузка датасета</a></span></li><li><span><a href=\"#Очистка-текста\" data-toc-modified-id=\"Очистка-текста-1.3\"><span class=\"toc-item-num\">1.3&nbsp;&nbsp;</span>Очистка текста</a></span></li><li><span><a href=\"#Очмстка-по-длине\" data-toc-modified-id=\"Очмстка-по-длине-1.4\"><span class=\"toc-item-num\">1.4&nbsp;&nbsp;</span>Очмстка по длине</a></span></li><li><span><a href=\"#Лемматизация\" data-toc-modified-id=\"Лемматизация-1.5\"><span class=\"toc-item-num\">1.5&nbsp;&nbsp;</span>Лемматизация</a></span></li><li><span><a href=\"#Разбивка-на-признаки-и-отклик\" data-toc-modified-id=\"Разбивка-на-признаки-и-отклик-1.6\"><span class=\"toc-item-num\">1.6&nbsp;&nbsp;</span>Разбивка на признаки и отклик</a></span></li><li><span><a href=\"#Анализ-классов-отклика\" data-toc-modified-id=\"Анализ-классов-отклика-1.7\"><span class=\"toc-item-num\">1.7&nbsp;&nbsp;</span>Анализ классов отклика</a></span></li><li><span><a href=\"#Разбивка-на-тестовый-и-тренировочный-наборы\" data-toc-modified-id=\"Разбивка-на-тестовый-и-тренировочный-наборы-1.8\"><span class=\"toc-item-num\">1.8&nbsp;&nbsp;</span>Разбивка на тестовый и тренировочный наборы</a></span></li></ul></li><li><span><a href=\"#Обучение\" data-toc-modified-id=\"Обучение-2\"><span class=\"toc-item-num\">2&nbsp;&nbsp;</span>Обучение</a></span><ul class=\"toc-item\"><li><span><a href=\"#Базовая-линия\" data-toc-modified-id=\"Базовая-линия-2.1\"><span class=\"toc-item-num\">2.1&nbsp;&nbsp;</span>Базовая линия</a></span></li><li><span><a href=\"#Логистическая-регрессия-(мешок-слов)\" data-toc-modified-id=\"Логистическая-регрессия-(мешок-слов)-2.2\"><span class=\"toc-item-num\">2.2&nbsp;&nbsp;</span>Логистическая регрессия (мешок слов)</a></span><ul class=\"toc-item\"><li><span><a href=\"#Стоп-слова\" data-toc-modified-id=\"Стоп-слова-2.2.1\"><span class=\"toc-item-num\">2.2.1&nbsp;&nbsp;</span>Стоп-слова</a></span></li></ul></li><li><span><a href=\"#Логистическая-регрессия-(TF-IDF)\" data-toc-modified-id=\"Логистическая-регрессия-(TF-IDF)-2.3\"><span class=\"toc-item-num\">2.3&nbsp;&nbsp;</span>Логистическая регрессия (TF-IDF)</a></span></li><li><span><a href=\"#Наивный-Байес-(мешок-слов)\" data-toc-modified-id=\"Наивный-Байес-(мешок-слов)-2.4\"><span class=\"toc-item-num\">2.4&nbsp;&nbsp;</span>Наивный Байес (мешок слов)</a></span></li><li><span><a href=\"#Наивный-Байес-(TF-IDF)\" data-toc-modified-id=\"Наивный-Байес-(TF-IDF)-2.5\"><span class=\"toc-item-num\">2.5&nbsp;&nbsp;</span>Наивный Байес (TF-IDF)</a></span></li><li><span><a href=\"#Тестирование-лучшей-модели.\" data-toc-modified-id=\"Тестирование-лучшей-модели.-2.6\"><span class=\"toc-item-num\">2.6&nbsp;&nbsp;</span>Тестирование лучшей модели.</a></span></li></ul></li><li><span><a href=\"#Выводы\" data-toc-modified-id=\"Выводы-3\"><span class=\"toc-item-num\">3&nbsp;&nbsp;</span>Выводы</a></span></li><li><span><a href=\"#Чек-лист-проверки\" data-toc-modified-id=\"Чек-лист-проверки-4\"><span class=\"toc-item-num\">4&nbsp;&nbsp;</span>Чек-лист проверки</a></span></li></ul></div>"
   ]
  },
  {
   "cell_type": "markdown",
   "metadata": {},
   "source": [
    "# Проект для «Викишоп»"
   ]
  },
  {
   "cell_type": "markdown",
   "metadata": {},
   "source": [
    "Интернет-магазин «Викишоп» запускает новый сервис. Теперь пользователи могут редактировать и дополнять описания товаров, как в вики-сообществах. То есть клиенты предлагают свои правки и комментируют изменения других. Магазину нужен инструмент, который будет искать токсичные комментарии и отправлять их на модерацию. \n",
    "\n",
    "Обучите модель классифицировать комментарии на позитивные и негативные. В вашем распоряжении набор данных с разметкой о токсичности правок.\n",
    "\n",
    "Постройте модель со значением метрики качества *F1* не меньше 0.75. \n",
    "\n",
    "**Инструкция по выполнению проекта**\n",
    "\n",
    "1. Загрузите и подготовьте данные.\n",
    "2. Обучите разные модели. \n",
    "3. Сделайте выводы.\n",
    "\n",
    "Для выполнения проекта применять *BERT* необязательно, но вы можете попробовать.\n",
    "\n",
    "**Описание данных**\n",
    "\n",
    "Данные находятся в файле `toxic_comments.csv`. Столбец *text* в нём содержит текст комментария, а *toxic* — целевой признак."
   ]
  },
  {
   "cell_type": "markdown",
   "metadata": {},
   "source": [
    "## Подготовка"
   ]
  },
  {
   "cell_type": "markdown",
   "metadata": {},
   "source": [
    "### Импорты"
   ]
  },
  {
   "cell_type": "code",
   "execution_count": 3,
   "metadata": {},
   "outputs": [],
   "source": [
    "import re\n",
    "import numpy as np\n",
    "import pandas as pd\n",
    "import matplotlib.pyplot as plt\n",
    "from sklearn.dummy import DummyClassifier\n",
    "from sklearn.model_selection import GridSearchCV, train_test_split\n",
    "from sklearn.pipeline import Pipeline\n",
    "from sklearn.feature_extraction.text import TfidfVectorizer, CountVectorizer\n",
    "from sklearn.metrics import f1_score\n",
    "from sklearn.linear_model import LogisticRegression\n",
    "from sklearn.naive_bayes import MultinomialNB, GaussianNB\n",
    "from pattern.en import lemma"
   ]
  },
  {
   "cell_type": "markdown",
   "metadata": {},
   "source": [
    "### Загрузка датасета"
   ]
  },
  {
   "cell_type": "code",
   "execution_count": 4,
   "metadata": {},
   "outputs": [
    {
     "name": "stdout",
     "output_type": "stream",
     "text": [
      "<class 'pandas.core.frame.DataFrame'>\n",
      "Int64Index: 159292 entries, 0 to 159450\n",
      "Data columns (total 2 columns):\n",
      " #   Column  Non-Null Count   Dtype \n",
      "---  ------  --------------   ----- \n",
      " 0   text    159292 non-null  object\n",
      " 1   toxic   159292 non-null  int64 \n",
      "dtypes: int64(1), object(1)\n",
      "memory usage: 3.6+ MB\n"
     ]
    }
   ],
   "source": [
    "data = pd.read_csv(\"toxic_comments.csv\", index_col=[0])\n",
    "data.info()"
   ]
  },
  {
   "cell_type": "code",
   "execution_count": 5,
   "metadata": {},
   "outputs": [
    {
     "data": {
      "text/html": [
       "<div>\n",
       "<style scoped>\n",
       "    .dataframe tbody tr th:only-of-type {\n",
       "        vertical-align: middle;\n",
       "    }\n",
       "\n",
       "    .dataframe tbody tr th {\n",
       "        vertical-align: top;\n",
       "    }\n",
       "\n",
       "    .dataframe thead th {\n",
       "        text-align: right;\n",
       "    }\n",
       "</style>\n",
       "<table border=\"1\" class=\"dataframe\">\n",
       "  <thead>\n",
       "    <tr style=\"text-align: right;\">\n",
       "      <th></th>\n",
       "      <th>text</th>\n",
       "      <th>toxic</th>\n",
       "    </tr>\n",
       "  </thead>\n",
       "  <tbody>\n",
       "    <tr>\n",
       "      <th>0</th>\n",
       "      <td>Explanation\\nWhy the edits made under my usern...</td>\n",
       "      <td>0</td>\n",
       "    </tr>\n",
       "    <tr>\n",
       "      <th>1</th>\n",
       "      <td>D'aww! He matches this background colour I'm s...</td>\n",
       "      <td>0</td>\n",
       "    </tr>\n",
       "    <tr>\n",
       "      <th>2</th>\n",
       "      <td>Hey man, I'm really not trying to edit war. It...</td>\n",
       "      <td>0</td>\n",
       "    </tr>\n",
       "    <tr>\n",
       "      <th>3</th>\n",
       "      <td>\"\\nMore\\nI can't make any real suggestions on ...</td>\n",
       "      <td>0</td>\n",
       "    </tr>\n",
       "    <tr>\n",
       "      <th>4</th>\n",
       "      <td>You, sir, are my hero. Any chance you remember...</td>\n",
       "      <td>0</td>\n",
       "    </tr>\n",
       "  </tbody>\n",
       "</table>\n",
       "</div>"
      ],
      "text/plain": [
       "                                                text  toxic\n",
       "0  Explanation\\nWhy the edits made under my usern...      0\n",
       "1  D'aww! He matches this background colour I'm s...      0\n",
       "2  Hey man, I'm really not trying to edit war. It...      0\n",
       "3  \"\\nMore\\nI can't make any real suggestions on ...      0\n",
       "4  You, sir, are my hero. Any chance you remember...      0"
      ]
     },
     "execution_count": 5,
     "metadata": {},
     "output_type": "execute_result"
    }
   ],
   "source": [
    "data.head()"
   ]
  },
  {
   "cell_type": "markdown",
   "metadata": {},
   "source": [
    "Загрузка прошла успешно, тексты на латинице."
   ]
  },
  {
   "cell_type": "markdown",
   "metadata": {},
   "source": [
    "### Очистка текста"
   ]
  },
  {
   "cell_type": "markdown",
   "metadata": {},
   "source": [
    "Очищаем от цифр и знаков препинания."
   ]
  },
  {
   "cell_type": "code",
   "execution_count": 6,
   "metadata": {},
   "outputs": [],
   "source": [
    "data['text'] = data[\"text\"].apply(lambda s: re.sub(r'[1-9.,\"\\'-?:!;_]', '', s))"
   ]
  },
  {
   "cell_type": "markdown",
   "metadata": {},
   "source": [
    "Посмотрим на распределение текстов по длине."
   ]
  },
  {
   "cell_type": "code",
   "execution_count": 7,
   "metadata": {},
   "outputs": [
    {
     "data": {
      "image/png": "[encoded data removed]",
      "text/plain": [
       "<Figure size 1152x576 with 1 Axes>"
      ]
     },
     "metadata": {
      "needs_background": "light"
     },
     "output_type": "display_data"
    }
   ],
   "source": [
    "data['text'].apply(lambda s: len(s)).hist(bins=50, figsize=(16, 8));\n",
    "plt.xlabel(\"Количество символов\"); \n",
    "plt.ylabel(\"Количество текстов\");"
   ]
  },
  {
   "cell_type": "code",
   "execution_count": 8,
   "metadata": {
    "scrolled": false
   },
   "outputs": [
    {
     "data": {
      "text/plain": [
       "count    159292.000000\n",
       "mean        374.997024\n",
       "std         564.296812\n",
       "min           0.000000\n",
       "25%          89.000000\n",
       "50%         194.000000\n",
       "75%         415.000000\n",
       "max        5000.000000\n",
       "Name: text, dtype: float64"
      ]
     },
     "execution_count": 8,
     "metadata": {},
     "output_type": "execute_result"
    }
   ],
   "source": [
    "data['text'].apply(lambda s: len(s)).describe()"
   ]
  },
  {
   "cell_type": "markdown",
   "metadata": {},
   "source": [
    "Есть как очень длинные так и очень короткие тексты. Были тексты которые состояли лишь из одних знаков препинание и после очистки стали пустыми."
   ]
  },
  {
   "cell_type": "code",
   "execution_count": 9,
   "metadata": {},
   "outputs": [],
   "source": [
    "data[\"lenght\"] = data['text'].apply(lambda s: len(s))"
   ]
  },
  {
   "cell_type": "code",
   "execution_count": 10,
   "metadata": {},
   "outputs": [
    {
     "data": {
      "text/html": [
       "<div>\n",
       "<style scoped>\n",
       "    .dataframe tbody tr th:only-of-type {\n",
       "        vertical-align: middle;\n",
       "    }\n",
       "\n",
       "    .dataframe tbody tr th {\n",
       "        vertical-align: top;\n",
       "    }\n",
       "\n",
       "    .dataframe thead th {\n",
       "        text-align: right;\n",
       "    }\n",
       "</style>\n",
       "<table border=\"1\" class=\"dataframe\">\n",
       "  <thead>\n",
       "    <tr style=\"text-align: right;\">\n",
       "      <th></th>\n",
       "      <th>text</th>\n",
       "      <th>toxic</th>\n",
       "      <th>lenght</th>\n",
       "    </tr>\n",
       "  </thead>\n",
       "  <tbody>\n",
       "    <tr>\n",
       "      <th>6293</th>\n",
       "      <td></td>\n",
       "      <td>0</td>\n",
       "      <td>2</td>\n",
       "    </tr>\n",
       "    <tr>\n",
       "      <th>10206</th>\n",
       "      <td></td>\n",
       "      <td>0</td>\n",
       "      <td>0</td>\n",
       "    </tr>\n",
       "    <tr>\n",
       "      <th>17297</th>\n",
       "      <td>~ \\n\\n</td>\n",
       "      <td>0</td>\n",
       "      <td>4</td>\n",
       "    </tr>\n",
       "    <tr>\n",
       "      <th>38792</th>\n",
       "      <td></td>\n",
       "      <td>0</td>\n",
       "      <td>0</td>\n",
       "    </tr>\n",
       "    <tr>\n",
       "      <th>52393</th>\n",
       "      <td></td>\n",
       "      <td>0</td>\n",
       "      <td>0</td>\n",
       "    </tr>\n",
       "    <tr>\n",
       "      <th>53740</th>\n",
       "      <td>|]]</td>\n",
       "      <td>0</td>\n",
       "      <td>3</td>\n",
       "    </tr>\n",
       "    <tr>\n",
       "      <th>82619</th>\n",
       "      <td>\\n</td>\n",
       "      <td>0</td>\n",
       "      <td>4</td>\n",
       "    </tr>\n",
       "    <tr>\n",
       "      <th>119123</th>\n",
       "      <td></td>\n",
       "      <td>1</td>\n",
       "      <td>2</td>\n",
       "    </tr>\n",
       "    <tr>\n",
       "      <th>137547</th>\n",
       "      <td></td>\n",
       "      <td>0</td>\n",
       "      <td>1</td>\n",
       "    </tr>\n",
       "    <tr>\n",
       "      <th>150804</th>\n",
       "      <td>Au</td>\n",
       "      <td>0</td>\n",
       "      <td>4</td>\n",
       "    </tr>\n",
       "  </tbody>\n",
       "</table>\n",
       "</div>"
      ],
      "text/plain": [
       "          text  toxic  lenght\n",
       "6293                0       2\n",
       "10206               0       0\n",
       "17297   ~ \\n\\n      0       4\n",
       "38792               0       0\n",
       "52393               0       0\n",
       "53740      |]]      0       3\n",
       "82619    \\n         0       4\n",
       "119123              1       2\n",
       "137547              0       1\n",
       "150804      Au      0       4"
      ]
     },
     "execution_count": 10,
     "metadata": {},
     "output_type": "execute_result"
    }
   ],
   "source": [
    "data.query(\"lenght < 5\")"
   ]
  },
  {
   "cell_type": "markdown",
   "metadata": {},
   "source": [
    "Странные тексты всё еще присутствуют, можем очистить так чтобы были только латиница и пробелы."
   ]
  },
  {
   "cell_type": "code",
   "execution_count": 11,
   "metadata": {},
   "outputs": [],
   "source": [
    "data['text'] = data[\"text\"].apply(lambda s: re.sub(r'[^a-zA-Z\\s]', '', s))\n",
    "data['text'] = data[\"text\"].apply(lambda s: re.sub(r'\\n', ' ', s))"
   ]
  },
  {
   "cell_type": "code",
   "execution_count": 12,
   "metadata": {},
   "outputs": [
    {
     "data": {
      "text/html": [
       "<div>\n",
       "<style scoped>\n",
       "    .dataframe tbody tr th:only-of-type {\n",
       "        vertical-align: middle;\n",
       "    }\n",
       "\n",
       "    .dataframe tbody tr th {\n",
       "        vertical-align: top;\n",
       "    }\n",
       "\n",
       "    .dataframe thead th {\n",
       "        text-align: right;\n",
       "    }\n",
       "</style>\n",
       "<table border=\"1\" class=\"dataframe\">\n",
       "  <thead>\n",
       "    <tr style=\"text-align: right;\">\n",
       "      <th></th>\n",
       "      <th>text</th>\n",
       "      <th>toxic</th>\n",
       "      <th>lenght</th>\n",
       "    </tr>\n",
       "  </thead>\n",
       "  <tbody>\n",
       "    <tr>\n",
       "      <th>6293</th>\n",
       "      <td></td>\n",
       "      <td>0</td>\n",
       "      <td>2</td>\n",
       "    </tr>\n",
       "    <tr>\n",
       "      <th>10206</th>\n",
       "      <td></td>\n",
       "      <td>0</td>\n",
       "      <td>0</td>\n",
       "    </tr>\n",
       "    <tr>\n",
       "      <th>17297</th>\n",
       "      <td></td>\n",
       "      <td>0</td>\n",
       "      <td>3</td>\n",
       "    </tr>\n",
       "    <tr>\n",
       "      <th>38792</th>\n",
       "      <td></td>\n",
       "      <td>0</td>\n",
       "      <td>0</td>\n",
       "    </tr>\n",
       "    <tr>\n",
       "      <th>52393</th>\n",
       "      <td></td>\n",
       "      <td>0</td>\n",
       "      <td>0</td>\n",
       "    </tr>\n",
       "    <tr>\n",
       "      <th>53740</th>\n",
       "      <td></td>\n",
       "      <td>0</td>\n",
       "      <td>0</td>\n",
       "    </tr>\n",
       "    <tr>\n",
       "      <th>82619</th>\n",
       "      <td></td>\n",
       "      <td>0</td>\n",
       "      <td>4</td>\n",
       "    </tr>\n",
       "    <tr>\n",
       "      <th>119123</th>\n",
       "      <td></td>\n",
       "      <td>1</td>\n",
       "      <td>2</td>\n",
       "    </tr>\n",
       "    <tr>\n",
       "      <th>136958</th>\n",
       "      <td>JLo</td>\n",
       "      <td>0</td>\n",
       "      <td>4</td>\n",
       "    </tr>\n",
       "    <tr>\n",
       "      <th>137547</th>\n",
       "      <td></td>\n",
       "      <td>0</td>\n",
       "      <td>1</td>\n",
       "    </tr>\n",
       "    <tr>\n",
       "      <th>150804</th>\n",
       "      <td>Au</td>\n",
       "      <td>0</td>\n",
       "      <td>4</td>\n",
       "    </tr>\n",
       "  </tbody>\n",
       "</table>\n",
       "</div>"
      ],
      "text/plain": [
       "        text  toxic  lenght\n",
       "6293              0       2\n",
       "10206             0       0\n",
       "17297             0       3\n",
       "38792             0       0\n",
       "52393             0       0\n",
       "53740             0       0\n",
       "82619             0       4\n",
       "119123            1       2\n",
       "136958   JLo      0       4\n",
       "137547            0       1\n",
       "150804    Au      0       4"
      ]
     },
     "execution_count": 12,
     "metadata": {},
     "output_type": "execute_result"
    }
   ],
   "source": [
    "data[\"lenght\"] = data['text'].apply(lambda s: len(s))\n",
    "data.query(\"lenght < 5\")"
   ]
  },
  {
   "cell_type": "markdown",
   "metadata": {},
   "source": [
    "Очищаем от лишних пробелов."
   ]
  },
  {
   "cell_type": "code",
   "execution_count": 13,
   "metadata": {},
   "outputs": [
    {
     "data": {
      "text/html": [
       "<div>\n",
       "<style scoped>\n",
       "    .dataframe tbody tr th:only-of-type {\n",
       "        vertical-align: middle;\n",
       "    }\n",
       "\n",
       "    .dataframe tbody tr th {\n",
       "        vertical-align: top;\n",
       "    }\n",
       "\n",
       "    .dataframe thead th {\n",
       "        text-align: right;\n",
       "    }\n",
       "</style>\n",
       "<table border=\"1\" class=\"dataframe\">\n",
       "  <thead>\n",
       "    <tr style=\"text-align: right;\">\n",
       "      <th></th>\n",
       "      <th>text</th>\n",
       "      <th>toxic</th>\n",
       "      <th>lenght</th>\n",
       "    </tr>\n",
       "  </thead>\n",
       "  <tbody>\n",
       "    <tr>\n",
       "      <th>177</th>\n",
       "      <td>May</td>\n",
       "      <td>0</td>\n",
       "      <td>3</td>\n",
       "    </tr>\n",
       "    <tr>\n",
       "      <th>4475</th>\n",
       "      <td></td>\n",
       "      <td>0</td>\n",
       "      <td>0</td>\n",
       "    </tr>\n",
       "    <tr>\n",
       "      <th>6293</th>\n",
       "      <td></td>\n",
       "      <td>0</td>\n",
       "      <td>0</td>\n",
       "    </tr>\n",
       "    <tr>\n",
       "      <th>10206</th>\n",
       "      <td></td>\n",
       "      <td>0</td>\n",
       "      <td>0</td>\n",
       "    </tr>\n",
       "    <tr>\n",
       "      <th>12287</th>\n",
       "      <td>Jan</td>\n",
       "      <td>0</td>\n",
       "      <td>3</td>\n",
       "    </tr>\n",
       "    <tr>\n",
       "      <th>17297</th>\n",
       "      <td></td>\n",
       "      <td>0</td>\n",
       "      <td>0</td>\n",
       "    </tr>\n",
       "    <tr>\n",
       "      <th>20544</th>\n",
       "      <td>ISBN</td>\n",
       "      <td>0</td>\n",
       "      <td>4</td>\n",
       "    </tr>\n",
       "    <tr>\n",
       "      <th>38792</th>\n",
       "      <td></td>\n",
       "      <td>0</td>\n",
       "      <td>0</td>\n",
       "    </tr>\n",
       "    <tr>\n",
       "      <th>49220</th>\n",
       "      <td>talk</td>\n",
       "      <td>0</td>\n",
       "      <td>4</td>\n",
       "    </tr>\n",
       "    <tr>\n",
       "      <th>52393</th>\n",
       "      <td></td>\n",
       "      <td>0</td>\n",
       "      <td>0</td>\n",
       "    </tr>\n",
       "    <tr>\n",
       "      <th>53740</th>\n",
       "      <td></td>\n",
       "      <td>0</td>\n",
       "      <td>0</td>\n",
       "    </tr>\n",
       "    <tr>\n",
       "      <th>61711</th>\n",
       "      <td></td>\n",
       "      <td>0</td>\n",
       "      <td>0</td>\n",
       "    </tr>\n",
       "    <tr>\n",
       "      <th>72453</th>\n",
       "      <td>Also</td>\n",
       "      <td>0</td>\n",
       "      <td>4</td>\n",
       "    </tr>\n",
       "    <tr>\n",
       "      <th>72930</th>\n",
       "      <td>May</td>\n",
       "      <td>0</td>\n",
       "      <td>3</td>\n",
       "    </tr>\n",
       "    <tr>\n",
       "      <th>77570</th>\n",
       "      <td>talk</td>\n",
       "      <td>0</td>\n",
       "      <td>4</td>\n",
       "    </tr>\n",
       "    <tr>\n",
       "      <th>82619</th>\n",
       "      <td></td>\n",
       "      <td>0</td>\n",
       "      <td>0</td>\n",
       "    </tr>\n",
       "    <tr>\n",
       "      <th>89934</th>\n",
       "      <td>July</td>\n",
       "      <td>0</td>\n",
       "      <td>4</td>\n",
       "    </tr>\n",
       "    <tr>\n",
       "      <th>104669</th>\n",
       "      <td>Club</td>\n",
       "      <td>0</td>\n",
       "      <td>4</td>\n",
       "    </tr>\n",
       "    <tr>\n",
       "      <th>113734</th>\n",
       "      <td>talk</td>\n",
       "      <td>0</td>\n",
       "      <td>4</td>\n",
       "    </tr>\n",
       "    <tr>\n",
       "      <th>119123</th>\n",
       "      <td></td>\n",
       "      <td>1</td>\n",
       "      <td>0</td>\n",
       "    </tr>\n",
       "    <tr>\n",
       "      <th>119802</th>\n",
       "      <td>What</td>\n",
       "      <td>0</td>\n",
       "      <td>4</td>\n",
       "    </tr>\n",
       "    <tr>\n",
       "      <th>125599</th>\n",
       "      <td>Word</td>\n",
       "      <td>0</td>\n",
       "      <td>4</td>\n",
       "    </tr>\n",
       "    <tr>\n",
       "      <th>132970</th>\n",
       "      <td>True</td>\n",
       "      <td>0</td>\n",
       "      <td>4</td>\n",
       "    </tr>\n",
       "    <tr>\n",
       "      <th>136317</th>\n",
       "      <td>June</td>\n",
       "      <td>0</td>\n",
       "      <td>4</td>\n",
       "    </tr>\n",
       "    <tr>\n",
       "      <th>136958</th>\n",
       "      <td>JLo</td>\n",
       "      <td>0</td>\n",
       "      <td>3</td>\n",
       "    </tr>\n",
       "    <tr>\n",
       "      <th>137547</th>\n",
       "      <td></td>\n",
       "      <td>0</td>\n",
       "      <td>0</td>\n",
       "    </tr>\n",
       "    <tr>\n",
       "      <th>150804</th>\n",
       "      <td>Au</td>\n",
       "      <td>0</td>\n",
       "      <td>2</td>\n",
       "    </tr>\n",
       "    <tr>\n",
       "      <th>151263</th>\n",
       "      <td>to</td>\n",
       "      <td>0</td>\n",
       "      <td>2</td>\n",
       "    </tr>\n",
       "  </tbody>\n",
       "</table>\n",
       "</div>"
      ],
      "text/plain": [
       "        text  toxic  lenght\n",
       "177      May      0       3\n",
       "4475              0       0\n",
       "6293              0       0\n",
       "10206             0       0\n",
       "12287    Jan      0       3\n",
       "17297             0       0\n",
       "20544   ISBN      0       4\n",
       "38792             0       0\n",
       "49220   talk      0       4\n",
       "52393             0       0\n",
       "53740             0       0\n",
       "61711             0       0\n",
       "72453   Also      0       4\n",
       "72930    May      0       3\n",
       "77570   talk      0       4\n",
       "82619             0       0\n",
       "89934   July      0       4\n",
       "104669  Club      0       4\n",
       "113734  talk      0       4\n",
       "119123            1       0\n",
       "119802  What      0       4\n",
       "125599  Word      0       4\n",
       "132970  True      0       4\n",
       "136317  June      0       4\n",
       "136958   JLo      0       3\n",
       "137547            0       0\n",
       "150804    Au      0       2\n",
       "151263    to      0       2"
      ]
     },
     "execution_count": 13,
     "metadata": {},
     "output_type": "execute_result"
    }
   ],
   "source": [
    "data['text'] = data[\"text\"].apply(lambda s: s.strip())\n",
    "data[\"lenght\"] = data['text'].apply(lambda s: len(s))\n",
    "data.query(\"lenght < 5\")"
   ]
  },
  {
   "cell_type": "markdown",
   "metadata": {},
   "source": [
    "### Очистка по длине\n",
    "\n",
    "Из предыдущего пункта очевидно, что слишком короткие коментарии не несут в основном эмоциональной окраски. Я считаю, что стоит удалить и длинные. Писать 5000 символов негатива может лишь очень изощрённый ум."
   ]
  },
  {
   "cell_type": "code",
   "execution_count": 14,
   "metadata": {},
   "outputs": [
    {
     "data": {
      "text/plain": [
       "count    159292.000000\n",
       "mean        372.739045\n",
       "std         562.457036\n",
       "min           0.000000\n",
       "25%          88.000000\n",
       "50%         193.000000\n",
       "75%         413.000000\n",
       "max        5000.000000\n",
       "Name: lenght, dtype: float64"
      ]
     },
     "execution_count": 14,
     "metadata": {},
     "output_type": "execute_result"
    }
   ],
   "source": [
    "data.lenght.describe()"
   ]
  },
  {
   "cell_type": "code",
   "execution_count": 15,
   "metadata": {},
   "outputs": [
    {
     "data": {
      "image/png": "[encoded data removed]",
      "text/plain": [
       "<Figure size 432x288 with 1 Axes>"
      ]
     },
     "metadata": {
      "needs_background": "light"
     },
     "output_type": "display_data"
    }
   ],
   "source": [
    "data.lenght.plot.box();"
   ]
  },
  {
   "cell_type": "markdown",
   "metadata": {},
   "source": [
    "Удалим выбросы."
   ]
  },
  {
   "cell_type": "code",
   "execution_count": 16,
   "metadata": {},
   "outputs": [],
   "source": [
    "data = data.query(\"5 <= lenght <= 1000\")"
   ]
  },
  {
   "cell_type": "markdown",
   "metadata": {},
   "source": [
    "### Лемматизация"
   ]
  },
  {
   "cell_type": "code",
   "execution_count": 17,
   "metadata": {},
   "outputs": [
    {
     "name": "stdout",
     "output_type": "stream",
     "text": [
      "Explanation Why the edits made under my username Hardcore Metallica Fan were reverted They werent vandalisms just closure on some GAs after I voted at New York Dolls FAC And please dont remove the template from the talk page since Im retired now\n"
     ]
    }
   ],
   "source": [
    "print(data['text'][0])"
   ]
  },
  {
   "cell_type": "code",
   "execution_count": 19,
   "metadata": {},
   "outputs": [
    {
     "name": "stdout",
     "output_type": "stream",
     "text": [
      "explanation why the edit make under my username hardcore metallica fan be revert they werent vandalism just closure on some gas after i vote at new york doll fac and please dont remove the template from the talk page since im retire now\n"
     ]
    }
   ],
   "source": [
    "data['text'] = data['text'].apply(lambda s: \" \".join([lemma(wd) for wd in s.split()]))\n",
    "print(data['text'][0])"
   ]
  },
  {
   "cell_type": "markdown",
   "metadata": {},
   "source": [
    "### Разбивка на признаки и отклик"
   ]
  },
  {
   "cell_type": "code",
   "execution_count": 20,
   "metadata": {},
   "outputs": [],
   "source": [
    "X = data[\"text\"].values\n",
    "y = data[\"toxic\"]"
   ]
  },
  {
   "cell_type": "markdown",
   "metadata": {},
   "source": [
    "### Анализ классов отклика"
   ]
  },
  {
   "cell_type": "code",
   "execution_count": 21,
   "metadata": {},
   "outputs": [
    {
     "data": {
      "image/png": "[encoded data removed]",
      "text/plain": [
       "<Figure size 504x504 with 1 Axes>"
      ]
     },
     "metadata": {},
     "output_type": "display_data"
    }
   ],
   "source": [
    "fig = y.value_counts().rename(index={1:\"Токсичные\", 0:\"Не токсичные\"}).plot(kind='pie', \n",
    "                                            title=\"Target classes:\",\n",
    "                                            fontsize=16,\n",
    "                                            legend=False,\n",
    "                                            autopct='%1.1f%%',\n",
    "                                            figsize=(7,7))\n",
    "fig.axes.title.set_size(20)\n",
    "fig.axes.set_ylabel(None);"
   ]
  },
  {
   "cell_type": "markdown",
   "metadata": {},
   "source": [
    "Большой дисбаланс классов - нужно учесть при построении модели."
   ]
  },
  {
   "cell_type": "markdown",
   "metadata": {},
   "source": [
    "### Разбивка на тестовый и тренировочный наборы"
   ]
  },
  {
   "cell_type": "code",
   "execution_count": 22,
   "metadata": {},
   "outputs": [],
   "source": [
    "SEED = 12345\n",
    "X_train, X_test, y_train, y_test = train_test_split(X, y, test_size=0.1,random_state=SEED)"
   ]
  },
  {
   "cell_type": "markdown",
   "metadata": {},
   "source": [
    "## Обучение"
   ]
  },
  {
   "cell_type": "markdown",
   "metadata": {},
   "source": [
    "### Базовая линия"
   ]
  },
  {
   "cell_type": "code",
   "execution_count": 23,
   "metadata": {},
   "outputs": [
    {
     "data": {
      "text/plain": [
       "0.10188166273163053"
      ]
     },
     "execution_count": 23,
     "metadata": {},
     "output_type": "execute_result"
    }
   ],
   "source": [
    "dummy = DummyClassifier(strategy=\"stratified\", random_state=SEED)\n",
    "dummy.fit(X_train, y_train)\n",
    "y_pred = dummy.predict(X_train)\n",
    "f1_score(y_train, y_pred)"
   ]
  },
  {
   "cell_type": "markdown",
   "metadata": {},
   "source": [
    "### Логистическая регрессия (мешок слов)"
   ]
  },
  {
   "cell_type": "markdown",
   "metadata": {},
   "source": [
    "#### Стоп-слова"
   ]
  },
  {
   "cell_type": "code",
   "execution_count": 24,
   "metadata": {},
   "outputs": [
    {
     "name": "stdout",
     "output_type": "stream",
     "text": [
      "['i', 'me', 'my', 'myself', 'we', 'our', 'ours', 'ourselves', 'you', 'youre', 'youve', 'youll', 'youd', 'your', 'yours', 'yourself', 'yourselves', 'he', 'him', 'his', 'himself', 'she', 'shes', 'her', 'hers', 'herself', 'it', 'its', 'its', 'itself', 'they', 'them', 'their', 'theirs', 'themselves', 'what', 'which', 'who', 'whom', 'this', 'that', 'thatll', 'these', 'those', 'am', 'is', 'are', 'was', 'were', 'be', 'been', 'being', 'have', 'has', 'had', 'having', 'do', 'does', 'did', 'doing', 'a', 'an', 'the', 'and', 'but', 'if', 'or', 'because', 'as', 'until', 'while', 'of', 'at', 'by', 'for', 'with', 'about', 'against', 'between', 'into', 'through', 'during', 'before', 'after', 'above', 'below', 'to', 'from', 'up', 'down', 'in', 'out', 'on', 'off', 'over', 'under', 'again', 'further', 'then', 'once', 'here', 'there', 'when', 'where', 'why', 'how', 'all', 'any', 'both', 'each', 'few', 'more', 'most', 'other', 'some', 'such', 'no', 'nor', 'not', 'only', 'own', 'same', 'so', 'than', 'too', 'very', 's', 't', 'can', 'will', 'just', 'don', 'dont', 'should', 'shouldve', 'now', 'd', 'll', 'm', 'o', 're', 've', 'y', 'ain', 'aren', 'arent', 'couldn', 'couldnt', 'didn', 'didnt', 'doesn', 'doesnt', 'hadn', 'hadnt', 'hasn', 'hasnt', 'haven', 'havent', 'isn', 'isnt', 'ma', 'mightn', 'mightnt', 'mustn', 'mustnt', 'needn', 'neednt', 'shan', 'shant', 'shouldn', 'shouldnt', 'wasn', 'wasnt', 'weren', 'werent', 'won', 'wont', 'wouldn', 'wouldnt']\n"
     ]
    }
   ],
   "source": [
    "STOP_WORDS = \"\"\"\n",
    "i\n",
    "me\n",
    "my\n",
    "myself\n",
    "we\n",
    "our\n",
    "ours\n",
    "ourselves\n",
    "you\n",
    "youre\n",
    "youve\n",
    "youll\n",
    "youd\n",
    "your\n",
    "yours\n",
    "yourself\n",
    "yourselves\n",
    "he\n",
    "him\n",
    "his\n",
    "himself\n",
    "she\n",
    "shes\n",
    "her\n",
    "hers\n",
    "herself\n",
    "it\n",
    "its\n",
    "its\n",
    "itself\n",
    "they\n",
    "them\n",
    "their\n",
    "theirs\n",
    "themselves\n",
    "what\n",
    "which\n",
    "who\n",
    "whom\n",
    "this\n",
    "that\n",
    "thatll\n",
    "these\n",
    "those\n",
    "am\n",
    "is\n",
    "are\n",
    "was\n",
    "were\n",
    "be\n",
    "been\n",
    "being\n",
    "have\n",
    "has\n",
    "had\n",
    "having\n",
    "do\n",
    "does\n",
    "did\n",
    "doing\n",
    "a\n",
    "an\n",
    "the\n",
    "and\n",
    "but\n",
    "if\n",
    "or\n",
    "because\n",
    "as\n",
    "until\n",
    "while\n",
    "of\n",
    "at\n",
    "by\n",
    "for\n",
    "with\n",
    "about\n",
    "against\n",
    "between\n",
    "into\n",
    "through\n",
    "during\n",
    "before\n",
    "after\n",
    "above\n",
    "below\n",
    "to\n",
    "from\n",
    "up\n",
    "down\n",
    "in\n",
    "out\n",
    "on\n",
    "off\n",
    "over\n",
    "under\n",
    "again\n",
    "further\n",
    "then\n",
    "once\n",
    "here\n",
    "there\n",
    "when\n",
    "where\n",
    "why\n",
    "how\n",
    "all\n",
    "any\n",
    "both\n",
    "each\n",
    "few\n",
    "more\n",
    "most\n",
    "other\n",
    "some\n",
    "such\n",
    "no\n",
    "nor\n",
    "not\n",
    "only\n",
    "own\n",
    "same\n",
    "so\n",
    "than\n",
    "too\n",
    "very\n",
    "s\n",
    "t\n",
    "can\n",
    "will\n",
    "just\n",
    "don\n",
    "dont\n",
    "should\n",
    "shouldve\n",
    "now\n",
    "d\n",
    "ll\n",
    "m\n",
    "o\n",
    "re\n",
    "ve\n",
    "y\n",
    "ain\n",
    "aren\n",
    "arent\n",
    "couldn\n",
    "couldnt\n",
    "didn\n",
    "didnt\n",
    "doesn\n",
    "doesnt\n",
    "hadn\n",
    "hadnt\n",
    "hasn\n",
    "hasnt\n",
    "haven\n",
    "havent\n",
    "isn\n",
    "isnt\n",
    "ma\n",
    "mightn\n",
    "mightnt\n",
    "mustn\n",
    "mustnt\n",
    "needn\n",
    "neednt\n",
    "shan\n",
    "shant\n",
    "shouldn\n",
    "shouldnt\n",
    "wasn\n",
    "wasnt\n",
    "weren\n",
    "werent\n",
    "won\n",
    "wont\n",
    "wouldn\n",
    "wouldnt\n",
    "\"\"\".split()\n",
    "print(STOP_WORDS)"
   ]
  },
  {
   "cell_type": "code",
   "execution_count": 25,
   "metadata": {},
   "outputs": [
    {
     "name": "stdout",
     "output_type": "stream",
     "text": [
      "Fitting 5 folds for each of 7 candidates, totalling 35 fits\n"
     ]
    },
    {
     "data": {
      "text/html": [
       "<style>#sk-container-id-1 {color: black;background-color: white;}#sk-container-id-1 pre{padding: 0;}#sk-container-id-1 div.sk-toggleable {background-color: white;}#sk-container-id-1 label.sk-toggleable__label {cursor: pointer;display: block;width: 100%;margin-bottom: 0;padding: 0.3em;box-sizing: border-box;text-align: center;}#sk-container-id-1 label.sk-toggleable__label-arrow:before {content: \"▸\";float: left;margin-right: 0.25em;color: #696969;}#sk-container-id-1 label.sk-toggleable__label-arrow:hover:before {color: black;}#sk-container-id-1 div.sk-estimator:hover label.sk-toggleable__label-arrow:before {color: black;}#sk-container-id-1 div.sk-toggleable__content {max-height: 0;max-width: 0;overflow: hidden;text-align: left;background-color: #f0f8ff;}#sk-container-id-1 div.sk-toggleable__content pre {margin: 0.2em;color: black;border-radius: 0.25em;background-color: #f0f8ff;}#sk-container-id-1 input.sk-toggleable__control:checked~div.sk-toggleable__content {max-height: 200px;max-width: 100%;overflow: auto;}#sk-container-id-1 input.sk-toggleable__control:checked~label.sk-toggleable__label-arrow:before {content: \"▾\";}#sk-container-id-1 div.sk-estimator input.sk-toggleable__control:checked~label.sk-toggleable__label {background-color: #d4ebff;}#sk-container-id-1 div.sk-label input.sk-toggleable__control:checked~label.sk-toggleable__label {background-color: #d4ebff;}#sk-container-id-1 input.sk-hidden--visually {border: 0;clip: rect(1px 1px 1px 1px);clip: rect(1px, 1px, 1px, 1px);height: 1px;margin: -1px;overflow: hidden;padding: 0;position: absolute;width: 1px;}#sk-container-id-1 div.sk-estimator {font-family: monospace;background-color: #f0f8ff;border: 1px dotted black;border-radius: 0.25em;box-sizing: border-box;margin-bottom: 0.5em;}#sk-container-id-1 div.sk-estimator:hover {background-color: #d4ebff;}#sk-container-id-1 div.sk-parallel-item::after {content: \"\";width: 100%;border-bottom: 1px solid gray;flex-grow: 1;}#sk-container-id-1 div.sk-label:hover label.sk-toggleable__label {background-color: #d4ebff;}#sk-container-id-1 div.sk-serial::before {content: \"\";position: absolute;border-left: 1px solid gray;box-sizing: border-box;top: 0;bottom: 0;left: 50%;z-index: 0;}#sk-container-id-1 div.sk-serial {display: flex;flex-direction: column;align-items: center;background-color: white;padding-right: 0.2em;padding-left: 0.2em;position: relative;}#sk-container-id-1 div.sk-item {position: relative;z-index: 1;}#sk-container-id-1 div.sk-parallel {display: flex;align-items: stretch;justify-content: center;background-color: white;position: relative;}#sk-container-id-1 div.sk-item::before, #sk-container-id-1 div.sk-parallel-item::before {content: \"\";position: absolute;border-left: 1px solid gray;box-sizing: border-box;top: 0;bottom: 0;left: 50%;z-index: -1;}#sk-container-id-1 div.sk-parallel-item {display: flex;flex-direction: column;z-index: 1;position: relative;background-color: white;}#sk-container-id-1 div.sk-parallel-item:first-child::after {align-self: flex-end;width: 50%;}#sk-container-id-1 div.sk-parallel-item:last-child::after {align-self: flex-start;width: 50%;}#sk-container-id-1 div.sk-parallel-item:only-child::after {width: 0;}#sk-container-id-1 div.sk-dashed-wrapped {border: 1px dashed gray;margin: 0 0.4em 0.5em 0.4em;box-sizing: border-box;padding-bottom: 0.4em;background-color: white;}#sk-container-id-1 div.sk-label label {font-family: monospace;font-weight: bold;display: inline-block;line-height: 1.2em;}#sk-container-id-1 div.sk-label-container {text-align: center;}#sk-container-id-1 div.sk-container {/* jupyter's `normalize.less` sets `[hidden] { display: none; }` but bootstrap.min.css set `[hidden] { display: none !important; }` so we also need the `!important` here to be able to override the default hidden behavior on the sphinx rendered scikit-learn.org. See: https://github.com/scikit-learn/scikit-learn/issues/21755 */display: inline-block !important;position: relative;}#sk-container-id-1 div.sk-text-repr-fallback {display: none;}</style><div id=\"sk-container-id-1\" class=\"sk-top-container\"><div class=\"sk-text-repr-fallback\"><pre>GridSearchCV(estimator=Pipeline(steps=[(&#x27;bow&#x27;,\n",
       "                                        CountVectorizer(stop_words=[&#x27;i&#x27;, &#x27;me&#x27;,\n",
       "                                                                    &#x27;my&#x27;,\n",
       "                                                                    &#x27;myself&#x27;,\n",
       "                                                                    &#x27;we&#x27;, &#x27;our&#x27;,\n",
       "                                                                    &#x27;ours&#x27;,\n",
       "                                                                    &#x27;ourselves&#x27;,\n",
       "                                                                    &#x27;you&#x27;,\n",
       "                                                                    &#x27;youre&#x27;,\n",
       "                                                                    &#x27;youve&#x27;,\n",
       "                                                                    &#x27;youll&#x27;,\n",
       "                                                                    &#x27;youd&#x27;,\n",
       "                                                                    &#x27;your&#x27;,\n",
       "                                                                    &#x27;yours&#x27;,\n",
       "                                                                    &#x27;yourself&#x27;,\n",
       "                                                                    &#x27;yourselves&#x27;,\n",
       "                                                                    &#x27;he&#x27;, &#x27;him&#x27;,\n",
       "                                                                    &#x27;his&#x27;,\n",
       "                                                                    &#x27;himself&#x27;,\n",
       "                                                                    &#x27;she&#x27;,\n",
       "                                                                    &#x27;shes&#x27;,\n",
       "                                                                    &#x27;her&#x27;,\n",
       "                                                                    &#x27;hers&#x27;,\n",
       "                                                                    &#x27;herself&#x27;,\n",
       "                                                                    &#x27;it&#x27;, &#x27;its&#x27;,\n",
       "                                                                    &#x27;its&#x27;,\n",
       "                                                                    &#x27;itself&#x27;, ...])),\n",
       "                                       (&#x27;lr&#x27;,\n",
       "                                        LogisticRegression(class_weight=&#x27;balanced&#x27;,\n",
       "                                                           max_iter=10000,\n",
       "                                                           random_state=12345))]),\n",
       "             n_jobs=-1,\n",
       "             param_grid={&#x27;lr__C&#x27;: array([1.e-04, 1.e-03, 1.e-02, 1.e-01, 1.e+00, 1.e+01, 1.e+02])},\n",
       "             scoring=&#x27;f1&#x27;, verbose=3)</pre><b>In a Jupyter environment, please rerun this cell to show the HTML representation or trust the notebook. <br />On GitHub, the HTML representation is unable to render, please try loading this page with nbviewer.org.</b></div><div class=\"sk-container\" hidden><div class=\"sk-item sk-dashed-wrapped\"><div class=\"sk-label-container\"><div class=\"sk-label sk-toggleable\"><input class=\"sk-toggleable__control sk-hidden--visually\" id=\"sk-estimator-id-1\" type=\"checkbox\" ><label for=\"sk-estimator-id-1\" class=\"sk-toggleable__label sk-toggleable__label-arrow\">GridSearchCV</label><div class=\"sk-toggleable__content\"><pre>GridSearchCV(estimator=Pipeline(steps=[(&#x27;bow&#x27;,\n",
       "                                        CountVectorizer(stop_words=[&#x27;i&#x27;, &#x27;me&#x27;,\n",
       "                                                                    &#x27;my&#x27;,\n",
       "                                                                    &#x27;myself&#x27;,\n",
       "                                                                    &#x27;we&#x27;, &#x27;our&#x27;,\n",
       "                                                                    &#x27;ours&#x27;,\n",
       "                                                                    &#x27;ourselves&#x27;,\n",
       "                                                                    &#x27;you&#x27;,\n",
       "                                                                    &#x27;youre&#x27;,\n",
       "                                                                    &#x27;youve&#x27;,\n",
       "                                                                    &#x27;youll&#x27;,\n",
       "                                                                    &#x27;youd&#x27;,\n",
       "                                                                    &#x27;your&#x27;,\n",
       "                                                                    &#x27;yours&#x27;,\n",
       "                                                                    &#x27;yourself&#x27;,\n",
       "                                                                    &#x27;yourselves&#x27;,\n",
       "                                                                    &#x27;he&#x27;, &#x27;him&#x27;,\n",
       "                                                                    &#x27;his&#x27;,\n",
       "                                                                    &#x27;himself&#x27;,\n",
       "                                                                    &#x27;she&#x27;,\n",
       "                                                                    &#x27;shes&#x27;,\n",
       "                                                                    &#x27;her&#x27;,\n",
       "                                                                    &#x27;hers&#x27;,\n",
       "                                                                    &#x27;herself&#x27;,\n",
       "                                                                    &#x27;it&#x27;, &#x27;its&#x27;,\n",
       "                                                                    &#x27;its&#x27;,\n",
       "                                                                    &#x27;itself&#x27;, ...])),\n",
       "                                       (&#x27;lr&#x27;,\n",
       "                                        LogisticRegression(class_weight=&#x27;balanced&#x27;,\n",
       "                                                           max_iter=10000,\n",
       "                                                           random_state=12345))]),\n",
       "             n_jobs=-1,\n",
       "             param_grid={&#x27;lr__C&#x27;: array([1.e-04, 1.e-03, 1.e-02, 1.e-01, 1.e+00, 1.e+01, 1.e+02])},\n",
       "             scoring=&#x27;f1&#x27;, verbose=3)</pre></div></div></div><div class=\"sk-parallel\"><div class=\"sk-parallel-item\"><div class=\"sk-item\"><div class=\"sk-label-container\"><div class=\"sk-label sk-toggleable\"><input class=\"sk-toggleable__control sk-hidden--visually\" id=\"sk-estimator-id-2\" type=\"checkbox\" ><label for=\"sk-estimator-id-2\" class=\"sk-toggleable__label sk-toggleable__label-arrow\">estimator: Pipeline</label><div class=\"sk-toggleable__content\"><pre>Pipeline(steps=[(&#x27;bow&#x27;,\n",
       "                 CountVectorizer(stop_words=[&#x27;i&#x27;, &#x27;me&#x27;, &#x27;my&#x27;, &#x27;myself&#x27;, &#x27;we&#x27;,\n",
       "                                             &#x27;our&#x27;, &#x27;ours&#x27;, &#x27;ourselves&#x27;, &#x27;you&#x27;,\n",
       "                                             &#x27;youre&#x27;, &#x27;youve&#x27;, &#x27;youll&#x27;, &#x27;youd&#x27;,\n",
       "                                             &#x27;your&#x27;, &#x27;yours&#x27;, &#x27;yourself&#x27;,\n",
       "                                             &#x27;yourselves&#x27;, &#x27;he&#x27;, &#x27;him&#x27;, &#x27;his&#x27;,\n",
       "                                             &#x27;himself&#x27;, &#x27;she&#x27;, &#x27;shes&#x27;, &#x27;her&#x27;,\n",
       "                                             &#x27;hers&#x27;, &#x27;herself&#x27;, &#x27;it&#x27;, &#x27;its&#x27;,\n",
       "                                             &#x27;its&#x27;, &#x27;itself&#x27;, ...])),\n",
       "                (&#x27;lr&#x27;,\n",
       "                 LogisticRegression(class_weight=&#x27;balanced&#x27;, max_iter=10000,\n",
       "                                    random_state=12345))])</pre></div></div></div><div class=\"sk-serial\"><div class=\"sk-item\"><div class=\"sk-serial\"><div class=\"sk-item\"><div class=\"sk-estimator sk-toggleable\"><input class=\"sk-toggleable__control sk-hidden--visually\" id=\"sk-estimator-id-3\" type=\"checkbox\" ><label for=\"sk-estimator-id-3\" class=\"sk-toggleable__label sk-toggleable__label-arrow\">CountVectorizer</label><div class=\"sk-toggleable__content\"><pre>CountVectorizer(stop_words=[&#x27;i&#x27;, &#x27;me&#x27;, &#x27;my&#x27;, &#x27;myself&#x27;, &#x27;we&#x27;, &#x27;our&#x27;, &#x27;ours&#x27;,\n",
       "                            &#x27;ourselves&#x27;, &#x27;you&#x27;, &#x27;youre&#x27;, &#x27;youve&#x27;, &#x27;youll&#x27;,\n",
       "                            &#x27;youd&#x27;, &#x27;your&#x27;, &#x27;yours&#x27;, &#x27;yourself&#x27;, &#x27;yourselves&#x27;,\n",
       "                            &#x27;he&#x27;, &#x27;him&#x27;, &#x27;his&#x27;, &#x27;himself&#x27;, &#x27;she&#x27;, &#x27;shes&#x27;, &#x27;her&#x27;,\n",
       "                            &#x27;hers&#x27;, &#x27;herself&#x27;, &#x27;it&#x27;, &#x27;its&#x27;, &#x27;its&#x27;, &#x27;itself&#x27;, ...])</pre></div></div></div><div class=\"sk-item\"><div class=\"sk-estimator sk-toggleable\"><input class=\"sk-toggleable__control sk-hidden--visually\" id=\"sk-estimator-id-4\" type=\"checkbox\" ><label for=\"sk-estimator-id-4\" class=\"sk-toggleable__label sk-toggleable__label-arrow\">LogisticRegression</label><div class=\"sk-toggleable__content\"><pre>LogisticRegression(class_weight=&#x27;balanced&#x27;, max_iter=10000, random_state=12345)</pre></div></div></div></div></div></div></div></div></div></div></div></div>"
      ],
      "text/plain": [
       "GridSearchCV(estimator=Pipeline(steps=[('bow',\n",
       "                                        CountVectorizer(stop_words=['i', 'me',\n",
       "                                                                    'my',\n",
       "                                                                    'myself',\n",
       "                                                                    'we', 'our',\n",
       "                                                                    'ours',\n",
       "                                                                    'ourselves',\n",
       "                                                                    'you',\n",
       "                                                                    'youre',\n",
       "                                                                    'youve',\n",
       "                                                                    'youll',\n",
       "                                                                    'youd',\n",
       "                                                                    'your',\n",
       "                                                                    'yours',\n",
       "                                                                    'yourself',\n",
       "                                                                    'yourselves',\n",
       "                                                                    'he', 'him',\n",
       "                                                                    'his',\n",
       "                                                                    'himself',\n",
       "                                                                    'she',\n",
       "                                                                    'shes',\n",
       "                                                                    'her',\n",
       "                                                                    'hers',\n",
       "                                                                    'herself',\n",
       "                                                                    'it', 'its',\n",
       "                                                                    'its',\n",
       "                                                                    'itself', ...])),\n",
       "                                       ('lr',\n",
       "                                        LogisticRegression(class_weight='balanced',\n",
       "                                                           max_iter=10000,\n",
       "                                                           random_state=12345))]),\n",
       "             n_jobs=-1,\n",
       "             param_grid={'lr__C': array([1.e-04, 1.e-03, 1.e-02, 1.e-01, 1.e+00, 1.e+01, 1.e+02])},\n",
       "             scoring='f1', verbose=3)"
      ]
     },
     "execution_count": 25,
     "metadata": {},
     "output_type": "execute_result"
    }
   ],
   "source": [
    "count_vect = CountVectorizer(stop_words=STOP_WORDS)\n",
    "lr = LogisticRegression(random_state=SEED, class_weight=\"balanced\", max_iter=10000)\n",
    "pipe = Pipeline([(\"bow\", count_vect), (\"lr\", lr)])\n",
    "params = {\"lr__C\":np.logspace(-4, 2, 7)}\n",
    "gscv_lr_bow = GridSearchCV(pipe, params, scoring=\"f1\", verbose=3, n_jobs=-1)\n",
    "gscv_lr_bow.fit(X_train, y_train)"
   ]
  },
  {
   "cell_type": "code",
   "execution_count": 26,
   "metadata": {},
   "outputs": [
    {
     "name": "stdout",
     "output_type": "stream",
     "text": [
      "F1 (cv) for best Log reg (words bow) model = 0.76 for C = 1.0\n"
     ]
    }
   ],
   "source": [
    "best_lr_bow_cv_f1 = abs(gscv_lr_bow.best_score_)\n",
    "best_lr_bow_C = gscv_lr_bow.best_params_[\"lr__C\"]\n",
    "best_lr_bow = gscv_lr_bow.best_estimator_\n",
    "print(f\"F1 (cv) for best Log reg (words bow) model = {best_lr_bow_cv_f1:.2f} for C = {best_lr_bow_C}\")"
   ]
  },
  {
   "cell_type": "markdown",
   "metadata": {},
   "source": [
    "Очень неплохо."
   ]
  },
  {
   "cell_type": "markdown",
   "metadata": {},
   "source": [
    "### Логистическая регрессия (TF-IDF)"
   ]
  },
  {
   "cell_type": "code",
   "execution_count": 27,
   "metadata": {},
   "outputs": [
    {
     "name": "stdout",
     "output_type": "stream",
     "text": [
      "Fitting 5 folds for each of 7 candidates, totalling 35 fits\n"
     ]
    },
    {
     "data": {
      "text/html": [
       "<style>#sk-container-id-2 {color: black;background-color: white;}#sk-container-id-2 pre{padding: 0;}#sk-container-id-2 div.sk-toggleable {background-color: white;}#sk-container-id-2 label.sk-toggleable__label {cursor: pointer;display: block;width: 100%;margin-bottom: 0;padding: 0.3em;box-sizing: border-box;text-align: center;}#sk-container-id-2 label.sk-toggleable__label-arrow:before {content: \"▸\";float: left;margin-right: 0.25em;color: #696969;}#sk-container-id-2 label.sk-toggleable__label-arrow:hover:before {color: black;}#sk-container-id-2 div.sk-estimator:hover label.sk-toggleable__label-arrow:before {color: black;}#sk-container-id-2 div.sk-toggleable__content {max-height: 0;max-width: 0;overflow: hidden;text-align: left;background-color: #f0f8ff;}#sk-container-id-2 div.sk-toggleable__content pre {margin: 0.2em;color: black;border-radius: 0.25em;background-color: #f0f8ff;}#sk-container-id-2 input.sk-toggleable__control:checked~div.sk-toggleable__content {max-height: 200px;max-width: 100%;overflow: auto;}#sk-container-id-2 input.sk-toggleable__control:checked~label.sk-toggleable__label-arrow:before {content: \"▾\";}#sk-container-id-2 div.sk-estimator input.sk-toggleable__control:checked~label.sk-toggleable__label {background-color: #d4ebff;}#sk-container-id-2 div.sk-label input.sk-toggleable__control:checked~label.sk-toggleable__label {background-color: #d4ebff;}#sk-container-id-2 input.sk-hidden--visually {border: 0;clip: rect(1px 1px 1px 1px);clip: rect(1px, 1px, 1px, 1px);height: 1px;margin: -1px;overflow: hidden;padding: 0;position: absolute;width: 1px;}#sk-container-id-2 div.sk-estimator {font-family: monospace;background-color: #f0f8ff;border: 1px dotted black;border-radius: 0.25em;box-sizing: border-box;margin-bottom: 0.5em;}#sk-container-id-2 div.sk-estimator:hover {background-color: #d4ebff;}#sk-container-id-2 div.sk-parallel-item::after {content: \"\";width: 100%;border-bottom: 1px solid gray;flex-grow: 1;}#sk-container-id-2 div.sk-label:hover label.sk-toggleable__label {background-color: #d4ebff;}#sk-container-id-2 div.sk-serial::before {content: \"\";position: absolute;border-left: 1px solid gray;box-sizing: border-box;top: 0;bottom: 0;left: 50%;z-index: 0;}#sk-container-id-2 div.sk-serial {display: flex;flex-direction: column;align-items: center;background-color: white;padding-right: 0.2em;padding-left: 0.2em;position: relative;}#sk-container-id-2 div.sk-item {position: relative;z-index: 1;}#sk-container-id-2 div.sk-parallel {display: flex;align-items: stretch;justify-content: center;background-color: white;position: relative;}#sk-container-id-2 div.sk-item::before, #sk-container-id-2 div.sk-parallel-item::before {content: \"\";position: absolute;border-left: 1px solid gray;box-sizing: border-box;top: 0;bottom: 0;left: 50%;z-index: -1;}#sk-container-id-2 div.sk-parallel-item {display: flex;flex-direction: column;z-index: 1;position: relative;background-color: white;}#sk-container-id-2 div.sk-parallel-item:first-child::after {align-self: flex-end;width: 50%;}#sk-container-id-2 div.sk-parallel-item:last-child::after {align-self: flex-start;width: 50%;}#sk-container-id-2 div.sk-parallel-item:only-child::after {width: 0;}#sk-container-id-2 div.sk-dashed-wrapped {border: 1px dashed gray;margin: 0 0.4em 0.5em 0.4em;box-sizing: border-box;padding-bottom: 0.4em;background-color: white;}#sk-container-id-2 div.sk-label label {font-family: monospace;font-weight: bold;display: inline-block;line-height: 1.2em;}#sk-container-id-2 div.sk-label-container {text-align: center;}#sk-container-id-2 div.sk-container {/* jupyter's `normalize.less` sets `[hidden] { display: none; }` but bootstrap.min.css set `[hidden] { display: none !important; }` so we also need the `!important` here to be able to override the default hidden behavior on the sphinx rendered scikit-learn.org. See: https://github.com/scikit-learn/scikit-learn/issues/21755 */display: inline-block !important;position: relative;}#sk-container-id-2 div.sk-text-repr-fallback {display: none;}</style><div id=\"sk-container-id-2\" class=\"sk-top-container\"><div class=\"sk-text-repr-fallback\"><pre>GridSearchCV(estimator=Pipeline(steps=[(&#x27;tfidf&#x27;,\n",
       "                                        TfidfVectorizer(stop_words=[&#x27;i&#x27;, &#x27;me&#x27;,\n",
       "                                                                    &#x27;my&#x27;,\n",
       "                                                                    &#x27;myself&#x27;,\n",
       "                                                                    &#x27;we&#x27;, &#x27;our&#x27;,\n",
       "                                                                    &#x27;ours&#x27;,\n",
       "                                                                    &#x27;ourselves&#x27;,\n",
       "                                                                    &#x27;you&#x27;,\n",
       "                                                                    &#x27;youre&#x27;,\n",
       "                                                                    &#x27;youve&#x27;,\n",
       "                                                                    &#x27;youll&#x27;,\n",
       "                                                                    &#x27;youd&#x27;,\n",
       "                                                                    &#x27;your&#x27;,\n",
       "                                                                    &#x27;yours&#x27;,\n",
       "                                                                    &#x27;yourself&#x27;,\n",
       "                                                                    &#x27;yourselves&#x27;,\n",
       "                                                                    &#x27;he&#x27;, &#x27;him&#x27;,\n",
       "                                                                    &#x27;his&#x27;,\n",
       "                                                                    &#x27;himself&#x27;,\n",
       "                                                                    &#x27;she&#x27;,\n",
       "                                                                    &#x27;shes&#x27;,\n",
       "                                                                    &#x27;her&#x27;,\n",
       "                                                                    &#x27;hers&#x27;,\n",
       "                                                                    &#x27;herself&#x27;,\n",
       "                                                                    &#x27;it&#x27;, &#x27;its&#x27;,\n",
       "                                                                    &#x27;its&#x27;,\n",
       "                                                                    &#x27;itself&#x27;, ...])),\n",
       "                                       (&#x27;lr&#x27;,\n",
       "                                        LogisticRegression(class_weight=&#x27;balanced&#x27;,\n",
       "                                                           max_iter=10000,\n",
       "                                                           random_state=12345))]),\n",
       "             n_jobs=-1,\n",
       "             param_grid={&#x27;lr__C&#x27;: array([1.e-04, 1.e-03, 1.e-02, 1.e-01, 1.e+00, 1.e+01, 1.e+02])},\n",
       "             scoring=&#x27;f1&#x27;, verbose=3)</pre><b>In a Jupyter environment, please rerun this cell to show the HTML representation or trust the notebook. <br />On GitHub, the HTML representation is unable to render, please try loading this page with nbviewer.org.</b></div><div class=\"sk-container\" hidden><div class=\"sk-item sk-dashed-wrapped\"><div class=\"sk-label-container\"><div class=\"sk-label sk-toggleable\"><input class=\"sk-toggleable__control sk-hidden--visually\" id=\"sk-estimator-id-5\" type=\"checkbox\" ><label for=\"sk-estimator-id-5\" class=\"sk-toggleable__label sk-toggleable__label-arrow\">GridSearchCV</label><div class=\"sk-toggleable__content\"><pre>GridSearchCV(estimator=Pipeline(steps=[(&#x27;tfidf&#x27;,\n",
       "                                        TfidfVectorizer(stop_words=[&#x27;i&#x27;, &#x27;me&#x27;,\n",
       "                                                                    &#x27;my&#x27;,\n",
       "                                                                    &#x27;myself&#x27;,\n",
       "                                                                    &#x27;we&#x27;, &#x27;our&#x27;,\n",
       "                                                                    &#x27;ours&#x27;,\n",
       "                                                                    &#x27;ourselves&#x27;,\n",
       "                                                                    &#x27;you&#x27;,\n",
       "                                                                    &#x27;youre&#x27;,\n",
       "                                                                    &#x27;youve&#x27;,\n",
       "                                                                    &#x27;youll&#x27;,\n",
       "                                                                    &#x27;youd&#x27;,\n",
       "                                                                    &#x27;your&#x27;,\n",
       "                                                                    &#x27;yours&#x27;,\n",
       "                                                                    &#x27;yourself&#x27;,\n",
       "                                                                    &#x27;yourselves&#x27;,\n",
       "                                                                    &#x27;he&#x27;, &#x27;him&#x27;,\n",
       "                                                                    &#x27;his&#x27;,\n",
       "                                                                    &#x27;himself&#x27;,\n",
       "                                                                    &#x27;she&#x27;,\n",
       "                                                                    &#x27;shes&#x27;,\n",
       "                                                                    &#x27;her&#x27;,\n",
       "                                                                    &#x27;hers&#x27;,\n",
       "                                                                    &#x27;herself&#x27;,\n",
       "                                                                    &#x27;it&#x27;, &#x27;its&#x27;,\n",
       "                                                                    &#x27;its&#x27;,\n",
       "                                                                    &#x27;itself&#x27;, ...])),\n",
       "                                       (&#x27;lr&#x27;,\n",
       "                                        LogisticRegression(class_weight=&#x27;balanced&#x27;,\n",
       "                                                           max_iter=10000,\n",
       "                                                           random_state=12345))]),\n",
       "             n_jobs=-1,\n",
       "             param_grid={&#x27;lr__C&#x27;: array([1.e-04, 1.e-03, 1.e-02, 1.e-01, 1.e+00, 1.e+01, 1.e+02])},\n",
       "             scoring=&#x27;f1&#x27;, verbose=3)</pre></div></div></div><div class=\"sk-parallel\"><div class=\"sk-parallel-item\"><div class=\"sk-item\"><div class=\"sk-label-container\"><div class=\"sk-label sk-toggleable\"><input class=\"sk-toggleable__control sk-hidden--visually\" id=\"sk-estimator-id-6\" type=\"checkbox\" ><label for=\"sk-estimator-id-6\" class=\"sk-toggleable__label sk-toggleable__label-arrow\">estimator: Pipeline</label><div class=\"sk-toggleable__content\"><pre>Pipeline(steps=[(&#x27;tfidf&#x27;,\n",
       "                 TfidfVectorizer(stop_words=[&#x27;i&#x27;, &#x27;me&#x27;, &#x27;my&#x27;, &#x27;myself&#x27;, &#x27;we&#x27;,\n",
       "                                             &#x27;our&#x27;, &#x27;ours&#x27;, &#x27;ourselves&#x27;, &#x27;you&#x27;,\n",
       "                                             &#x27;youre&#x27;, &#x27;youve&#x27;, &#x27;youll&#x27;, &#x27;youd&#x27;,\n",
       "                                             &#x27;your&#x27;, &#x27;yours&#x27;, &#x27;yourself&#x27;,\n",
       "                                             &#x27;yourselves&#x27;, &#x27;he&#x27;, &#x27;him&#x27;, &#x27;his&#x27;,\n",
       "                                             &#x27;himself&#x27;, &#x27;she&#x27;, &#x27;shes&#x27;, &#x27;her&#x27;,\n",
       "                                             &#x27;hers&#x27;, &#x27;herself&#x27;, &#x27;it&#x27;, &#x27;its&#x27;,\n",
       "                                             &#x27;its&#x27;, &#x27;itself&#x27;, ...])),\n",
       "                (&#x27;lr&#x27;,\n",
       "                 LogisticRegression(class_weight=&#x27;balanced&#x27;, max_iter=10000,\n",
       "                                    random_state=12345))])</pre></div></div></div><div class=\"sk-serial\"><div class=\"sk-item\"><div class=\"sk-serial\"><div class=\"sk-item\"><div class=\"sk-estimator sk-toggleable\"><input class=\"sk-toggleable__control sk-hidden--visually\" id=\"sk-estimator-id-7\" type=\"checkbox\" ><label for=\"sk-estimator-id-7\" class=\"sk-toggleable__label sk-toggleable__label-arrow\">TfidfVectorizer</label><div class=\"sk-toggleable__content\"><pre>TfidfVectorizer(stop_words=[&#x27;i&#x27;, &#x27;me&#x27;, &#x27;my&#x27;, &#x27;myself&#x27;, &#x27;we&#x27;, &#x27;our&#x27;, &#x27;ours&#x27;,\n",
       "                            &#x27;ourselves&#x27;, &#x27;you&#x27;, &#x27;youre&#x27;, &#x27;youve&#x27;, &#x27;youll&#x27;,\n",
       "                            &#x27;youd&#x27;, &#x27;your&#x27;, &#x27;yours&#x27;, &#x27;yourself&#x27;, &#x27;yourselves&#x27;,\n",
       "                            &#x27;he&#x27;, &#x27;him&#x27;, &#x27;his&#x27;, &#x27;himself&#x27;, &#x27;she&#x27;, &#x27;shes&#x27;, &#x27;her&#x27;,\n",
       "                            &#x27;hers&#x27;, &#x27;herself&#x27;, &#x27;it&#x27;, &#x27;its&#x27;, &#x27;its&#x27;, &#x27;itself&#x27;, ...])</pre></div></div></div><div class=\"sk-item\"><div class=\"sk-estimator sk-toggleable\"><input class=\"sk-toggleable__control sk-hidden--visually\" id=\"sk-estimator-id-8\" type=\"checkbox\" ><label for=\"sk-estimator-id-8\" class=\"sk-toggleable__label sk-toggleable__label-arrow\">LogisticRegression</label><div class=\"sk-toggleable__content\"><pre>LogisticRegression(class_weight=&#x27;balanced&#x27;, max_iter=10000, random_state=12345)</pre></div></div></div></div></div></div></div></div></div></div></div></div>"
      ],
      "text/plain": [
       "GridSearchCV(estimator=Pipeline(steps=[('tfidf',\n",
       "                                        TfidfVectorizer(stop_words=['i', 'me',\n",
       "                                                                    'my',\n",
       "                                                                    'myself',\n",
       "                                                                    'we', 'our',\n",
       "                                                                    'ours',\n",
       "                                                                    'ourselves',\n",
       "                                                                    'you',\n",
       "                                                                    'youre',\n",
       "                                                                    'youve',\n",
       "                                                                    'youll',\n",
       "                                                                    'youd',\n",
       "                                                                    'your',\n",
       "                                                                    'yours',\n",
       "                                                                    'yourself',\n",
       "                                                                    'yourselves',\n",
       "                                                                    'he', 'him',\n",
       "                                                                    'his',\n",
       "                                                                    'himself',\n",
       "                                                                    'she',\n",
       "                                                                    'shes',\n",
       "                                                                    'her',\n",
       "                                                                    'hers',\n",
       "                                                                    'herself',\n",
       "                                                                    'it', 'its',\n",
       "                                                                    'its',\n",
       "                                                                    'itself', ...])),\n",
       "                                       ('lr',\n",
       "                                        LogisticRegression(class_weight='balanced',\n",
       "                                                           max_iter=10000,\n",
       "                                                           random_state=12345))]),\n",
       "             n_jobs=-1,\n",
       "             param_grid={'lr__C': array([1.e-04, 1.e-03, 1.e-02, 1.e-01, 1.e+00, 1.e+01, 1.e+02])},\n",
       "             scoring='f1', verbose=3)"
      ]
     },
     "execution_count": 27,
     "metadata": {},
     "output_type": "execute_result"
    }
   ],
   "source": [
    "count_tf_idf = TfidfVectorizer(stop_words=STOP_WORDS)\n",
    "pipe = Pipeline([(\"tfidf\", count_tf_idf), (\"lr\", lr)])\n",
    "gscv_lr_tfidf = GridSearchCV(pipe, params, scoring=\"f1\", verbose=3, n_jobs=-1)\n",
    "gscv_lr_tfidf.fit(X_train, y_train)"
   ]
  },
  {
   "cell_type": "code",
   "execution_count": 28,
   "metadata": {},
   "outputs": [
    {
     "name": "stdout",
     "output_type": "stream",
     "text": [
      "F1 (cv) for best Log reg (TF-IDF) model = 0.77 for C = 10.0\n"
     ]
    }
   ],
   "source": [
    "best_lr_tfidf_cv_f1 = abs(gscv_lr_tfidf.best_score_)\n",
    "best_lr_tfidf_C = gscv_lr_tfidf.best_params_[\"lr__C\"]\n",
    "best_lr_tfidf = gscv_lr_tfidf.best_estimator_\n",
    "print(f\"F1 (cv) for best Log reg (TF-IDF) model = {best_lr_tfidf_cv_f1:.2f} for C = {best_lr_tfidf_C}\")"
   ]
  },
  {
   "cell_type": "markdown",
   "metadata": {},
   "source": [
    "Работает лучше, чем для простого мешка слов, но при высоких значениях C."
   ]
  },
  {
   "cell_type": "markdown",
   "metadata": {},
   "source": [
    "### Наивный Байес (мешок слов)\n",
    "Эта модель часто применяется для анализа тональности текстов из классических методов ML. Используем мультиноминальный классификатор, который лучше подходит для дискретных величин, типа подсчёта слов. Будем подбирать параметр сглаживания."
   ]
  },
  {
   "cell_type": "code",
   "execution_count": 29,
   "metadata": {},
   "outputs": [
    {
     "name": "stdout",
     "output_type": "stream",
     "text": [
      "Fitting 5 folds for each of 5 candidates, totalling 25 fits\n"
     ]
    },
    {
     "data": {
      "text/html": [
       "<style>#sk-container-id-3 {color: black;background-color: white;}#sk-container-id-3 pre{padding: 0;}#sk-container-id-3 div.sk-toggleable {background-color: white;}#sk-container-id-3 label.sk-toggleable__label {cursor: pointer;display: block;width: 100%;margin-bottom: 0;padding: 0.3em;box-sizing: border-box;text-align: center;}#sk-container-id-3 label.sk-toggleable__label-arrow:before {content: \"▸\";float: left;margin-right: 0.25em;color: #696969;}#sk-container-id-3 label.sk-toggleable__label-arrow:hover:before {color: black;}#sk-container-id-3 div.sk-estimator:hover label.sk-toggleable__label-arrow:before {color: black;}#sk-container-id-3 div.sk-toggleable__content {max-height: 0;max-width: 0;overflow: hidden;text-align: left;background-color: #f0f8ff;}#sk-container-id-3 div.sk-toggleable__content pre {margin: 0.2em;color: black;border-radius: 0.25em;background-color: #f0f8ff;}#sk-container-id-3 input.sk-toggleable__control:checked~div.sk-toggleable__content {max-height: 200px;max-width: 100%;overflow: auto;}#sk-container-id-3 input.sk-toggleable__control:checked~label.sk-toggleable__label-arrow:before {content: \"▾\";}#sk-container-id-3 div.sk-estimator input.sk-toggleable__control:checked~label.sk-toggleable__label {background-color: #d4ebff;}#sk-container-id-3 div.sk-label input.sk-toggleable__control:checked~label.sk-toggleable__label {background-color: #d4ebff;}#sk-container-id-3 input.sk-hidden--visually {border: 0;clip: rect(1px 1px 1px 1px);clip: rect(1px, 1px, 1px, 1px);height: 1px;margin: -1px;overflow: hidden;padding: 0;position: absolute;width: 1px;}#sk-container-id-3 div.sk-estimator {font-family: monospace;background-color: #f0f8ff;border: 1px dotted black;border-radius: 0.25em;box-sizing: border-box;margin-bottom: 0.5em;}#sk-container-id-3 div.sk-estimator:hover {background-color: #d4ebff;}#sk-container-id-3 div.sk-parallel-item::after {content: \"\";width: 100%;border-bottom: 1px solid gray;flex-grow: 1;}#sk-container-id-3 div.sk-label:hover label.sk-toggleable__label {background-color: #d4ebff;}#sk-container-id-3 div.sk-serial::before {content: \"\";position: absolute;border-left: 1px solid gray;box-sizing: border-box;top: 0;bottom: 0;left: 50%;z-index: 0;}#sk-container-id-3 div.sk-serial {display: flex;flex-direction: column;align-items: center;background-color: white;padding-right: 0.2em;padding-left: 0.2em;position: relative;}#sk-container-id-3 div.sk-item {position: relative;z-index: 1;}#sk-container-id-3 div.sk-parallel {display: flex;align-items: stretch;justify-content: center;background-color: white;position: relative;}#sk-container-id-3 div.sk-item::before, #sk-container-id-3 div.sk-parallel-item::before {content: \"\";position: absolute;border-left: 1px solid gray;box-sizing: border-box;top: 0;bottom: 0;left: 50%;z-index: -1;}#sk-container-id-3 div.sk-parallel-item {display: flex;flex-direction: column;z-index: 1;position: relative;background-color: white;}#sk-container-id-3 div.sk-parallel-item:first-child::after {align-self: flex-end;width: 50%;}#sk-container-id-3 div.sk-parallel-item:last-child::after {align-self: flex-start;width: 50%;}#sk-container-id-3 div.sk-parallel-item:only-child::after {width: 0;}#sk-container-id-3 div.sk-dashed-wrapped {border: 1px dashed gray;margin: 0 0.4em 0.5em 0.4em;box-sizing: border-box;padding-bottom: 0.4em;background-color: white;}#sk-container-id-3 div.sk-label label {font-family: monospace;font-weight: bold;display: inline-block;line-height: 1.2em;}#sk-container-id-3 div.sk-label-container {text-align: center;}#sk-container-id-3 div.sk-container {/* jupyter's `normalize.less` sets `[hidden] { display: none; }` but bootstrap.min.css set `[hidden] { display: none !important; }` so we also need the `!important` here to be able to override the default hidden behavior on the sphinx rendered scikit-learn.org. See: https://github.com/scikit-learn/scikit-learn/issues/21755 */display: inline-block !important;position: relative;}#sk-container-id-3 div.sk-text-repr-fallback {display: none;}</style><div id=\"sk-container-id-3\" class=\"sk-top-container\"><div class=\"sk-text-repr-fallback\"><pre>GridSearchCV(estimator=Pipeline(steps=[(&#x27;bow&#x27;,\n",
       "                                        CountVectorizer(stop_words=[&#x27;i&#x27;, &#x27;me&#x27;,\n",
       "                                                                    &#x27;my&#x27;,\n",
       "                                                                    &#x27;myself&#x27;,\n",
       "                                                                    &#x27;we&#x27;, &#x27;our&#x27;,\n",
       "                                                                    &#x27;ours&#x27;,\n",
       "                                                                    &#x27;ourselves&#x27;,\n",
       "                                                                    &#x27;you&#x27;,\n",
       "                                                                    &#x27;youre&#x27;,\n",
       "                                                                    &#x27;youve&#x27;,\n",
       "                                                                    &#x27;youll&#x27;,\n",
       "                                                                    &#x27;youd&#x27;,\n",
       "                                                                    &#x27;your&#x27;,\n",
       "                                                                    &#x27;yours&#x27;,\n",
       "                                                                    &#x27;yourself&#x27;,\n",
       "                                                                    &#x27;yourselves&#x27;,\n",
       "                                                                    &#x27;he&#x27;, &#x27;him&#x27;,\n",
       "                                                                    &#x27;his&#x27;,\n",
       "                                                                    &#x27;himself&#x27;,\n",
       "                                                                    &#x27;she&#x27;,\n",
       "                                                                    &#x27;shes&#x27;,\n",
       "                                                                    &#x27;her&#x27;,\n",
       "                                                                    &#x27;hers&#x27;,\n",
       "                                                                    &#x27;herself&#x27;,\n",
       "                                                                    &#x27;it&#x27;, &#x27;its&#x27;,\n",
       "                                                                    &#x27;its&#x27;,\n",
       "                                                                    &#x27;itself&#x27;, ...])),\n",
       "                                       (&#x27;nb&#x27;, MultinomialNB())]),\n",
       "             n_jobs=-1,\n",
       "             param_grid={&#x27;nb__alpha&#x27;: array([1.e-04, 1.e-03, 1.e-02, 1.e-01, 1.e+00])},\n",
       "             scoring=&#x27;f1&#x27;, verbose=3)</pre><b>In a Jupyter environment, please rerun this cell to show the HTML representation or trust the notebook. <br />On GitHub, the HTML representation is unable to render, please try loading this page with nbviewer.org.</b></div><div class=\"sk-container\" hidden><div class=\"sk-item sk-dashed-wrapped\"><div class=\"sk-label-container\"><div class=\"sk-label sk-toggleable\"><input class=\"sk-toggleable__control sk-hidden--visually\" id=\"sk-estimator-id-9\" type=\"checkbox\" ><label for=\"sk-estimator-id-9\" class=\"sk-toggleable__label sk-toggleable__label-arrow\">GridSearchCV</label><div class=\"sk-toggleable__content\"><pre>GridSearchCV(estimator=Pipeline(steps=[(&#x27;bow&#x27;,\n",
       "                                        CountVectorizer(stop_words=[&#x27;i&#x27;, &#x27;me&#x27;,\n",
       "                                                                    &#x27;my&#x27;,\n",
       "                                                                    &#x27;myself&#x27;,\n",
       "                                                                    &#x27;we&#x27;, &#x27;our&#x27;,\n",
       "                                                                    &#x27;ours&#x27;,\n",
       "                                                                    &#x27;ourselves&#x27;,\n",
       "                                                                    &#x27;you&#x27;,\n",
       "                                                                    &#x27;youre&#x27;,\n",
       "                                                                    &#x27;youve&#x27;,\n",
       "                                                                    &#x27;youll&#x27;,\n",
       "                                                                    &#x27;youd&#x27;,\n",
       "                                                                    &#x27;your&#x27;,\n",
       "                                                                    &#x27;yours&#x27;,\n",
       "                                                                    &#x27;yourself&#x27;,\n",
       "                                                                    &#x27;yourselves&#x27;,\n",
       "                                                                    &#x27;he&#x27;, &#x27;him&#x27;,\n",
       "                                                                    &#x27;his&#x27;,\n",
       "                                                                    &#x27;himself&#x27;,\n",
       "                                                                    &#x27;she&#x27;,\n",
       "                                                                    &#x27;shes&#x27;,\n",
       "                                                                    &#x27;her&#x27;,\n",
       "                                                                    &#x27;hers&#x27;,\n",
       "                                                                    &#x27;herself&#x27;,\n",
       "                                                                    &#x27;it&#x27;, &#x27;its&#x27;,\n",
       "                                                                    &#x27;its&#x27;,\n",
       "                                                                    &#x27;itself&#x27;, ...])),\n",
       "                                       (&#x27;nb&#x27;, MultinomialNB())]),\n",
       "             n_jobs=-1,\n",
       "             param_grid={&#x27;nb__alpha&#x27;: array([1.e-04, 1.e-03, 1.e-02, 1.e-01, 1.e+00])},\n",
       "             scoring=&#x27;f1&#x27;, verbose=3)</pre></div></div></div><div class=\"sk-parallel\"><div class=\"sk-parallel-item\"><div class=\"sk-item\"><div class=\"sk-label-container\"><div class=\"sk-label sk-toggleable\"><input class=\"sk-toggleable__control sk-hidden--visually\" id=\"sk-estimator-id-10\" type=\"checkbox\" ><label for=\"sk-estimator-id-10\" class=\"sk-toggleable__label sk-toggleable__label-arrow\">estimator: Pipeline</label><div class=\"sk-toggleable__content\"><pre>Pipeline(steps=[(&#x27;bow&#x27;,\n",
       "                 CountVectorizer(stop_words=[&#x27;i&#x27;, &#x27;me&#x27;, &#x27;my&#x27;, &#x27;myself&#x27;, &#x27;we&#x27;,\n",
       "                                             &#x27;our&#x27;, &#x27;ours&#x27;, &#x27;ourselves&#x27;, &#x27;you&#x27;,\n",
       "                                             &#x27;youre&#x27;, &#x27;youve&#x27;, &#x27;youll&#x27;, &#x27;youd&#x27;,\n",
       "                                             &#x27;your&#x27;, &#x27;yours&#x27;, &#x27;yourself&#x27;,\n",
       "                                             &#x27;yourselves&#x27;, &#x27;he&#x27;, &#x27;him&#x27;, &#x27;his&#x27;,\n",
       "                                             &#x27;himself&#x27;, &#x27;she&#x27;, &#x27;shes&#x27;, &#x27;her&#x27;,\n",
       "                                             &#x27;hers&#x27;, &#x27;herself&#x27;, &#x27;it&#x27;, &#x27;its&#x27;,\n",
       "                                             &#x27;its&#x27;, &#x27;itself&#x27;, ...])),\n",
       "                (&#x27;nb&#x27;, MultinomialNB())])</pre></div></div></div><div class=\"sk-serial\"><div class=\"sk-item\"><div class=\"sk-serial\"><div class=\"sk-item\"><div class=\"sk-estimator sk-toggleable\"><input class=\"sk-toggleable__control sk-hidden--visually\" id=\"sk-estimator-id-11\" type=\"checkbox\" ><label for=\"sk-estimator-id-11\" class=\"sk-toggleable__label sk-toggleable__label-arrow\">CountVectorizer</label><div class=\"sk-toggleable__content\"><pre>CountVectorizer(stop_words=[&#x27;i&#x27;, &#x27;me&#x27;, &#x27;my&#x27;, &#x27;myself&#x27;, &#x27;we&#x27;, &#x27;our&#x27;, &#x27;ours&#x27;,\n",
       "                            &#x27;ourselves&#x27;, &#x27;you&#x27;, &#x27;youre&#x27;, &#x27;youve&#x27;, &#x27;youll&#x27;,\n",
       "                            &#x27;youd&#x27;, &#x27;your&#x27;, &#x27;yours&#x27;, &#x27;yourself&#x27;, &#x27;yourselves&#x27;,\n",
       "                            &#x27;he&#x27;, &#x27;him&#x27;, &#x27;his&#x27;, &#x27;himself&#x27;, &#x27;she&#x27;, &#x27;shes&#x27;, &#x27;her&#x27;,\n",
       "                            &#x27;hers&#x27;, &#x27;herself&#x27;, &#x27;it&#x27;, &#x27;its&#x27;, &#x27;its&#x27;, &#x27;itself&#x27;, ...])</pre></div></div></div><div class=\"sk-item\"><div class=\"sk-estimator sk-toggleable\"><input class=\"sk-toggleable__control sk-hidden--visually\" id=\"sk-estimator-id-12\" type=\"checkbox\" ><label for=\"sk-estimator-id-12\" class=\"sk-toggleable__label sk-toggleable__label-arrow\">MultinomialNB</label><div class=\"sk-toggleable__content\"><pre>MultinomialNB()</pre></div></div></div></div></div></div></div></div></div></div></div></div>"
      ],
      "text/plain": [
       "GridSearchCV(estimator=Pipeline(steps=[('bow',\n",
       "                                        CountVectorizer(stop_words=['i', 'me',\n",
       "                                                                    'my',\n",
       "                                                                    'myself',\n",
       "                                                                    'we', 'our',\n",
       "                                                                    'ours',\n",
       "                                                                    'ourselves',\n",
       "                                                                    'you',\n",
       "                                                                    'youre',\n",
       "                                                                    'youve',\n",
       "                                                                    'youll',\n",
       "                                                                    'youd',\n",
       "                                                                    'your',\n",
       "                                                                    'yours',\n",
       "                                                                    'yourself',\n",
       "                                                                    'yourselves',\n",
       "                                                                    'he', 'him',\n",
       "                                                                    'his',\n",
       "                                                                    'himself',\n",
       "                                                                    'she',\n",
       "                                                                    'shes',\n",
       "                                                                    'her',\n",
       "                                                                    'hers',\n",
       "                                                                    'herself',\n",
       "                                                                    'it', 'its',\n",
       "                                                                    'its',\n",
       "                                                                    'itself', ...])),\n",
       "                                       ('nb', MultinomialNB())]),\n",
       "             n_jobs=-1,\n",
       "             param_grid={'nb__alpha': array([1.e-04, 1.e-03, 1.e-02, 1.e-01, 1.e+00])},\n",
       "             scoring='f1', verbose=3)"
      ]
     },
     "execution_count": 29,
     "metadata": {},
     "output_type": "execute_result"
    }
   ],
   "source": [
    "nb = MultinomialNB()\n",
    "pipe = Pipeline([(\"bow\", count_vect), (\"nb\", nb)])\n",
    "params = {\"nb__alpha\":np.logspace(-4, 0, 5)}\n",
    "gscv_nb_bow = GridSearchCV(pipe, params, scoring=\"f1\", verbose=3, n_jobs=-1)\n",
    "gscv_nb_bow.fit(X_train, y_train)"
   ]
  },
  {
   "cell_type": "code",
   "execution_count": 30,
   "metadata": {},
   "outputs": [
    {
     "name": "stdout",
     "output_type": "stream",
     "text": [
      "F1 (cv) for best naive Bayes (words bow) model = 0.72 for Alpha = 0.1\n"
     ]
    }
   ],
   "source": [
    "best_nb_bow_cv_f1 = abs(gscv_nb_bow.best_score_)\n",
    "best_nb_bow_alpha = gscv_nb_bow.best_params_[\"nb__alpha\"]\n",
    "best_nb_bow = gscv_nb_bow.best_estimator_\n",
    "print(f\"F1 (cv) for best naive Bayes (words bow) model = {best_nb_bow_cv_f1:.2f} for Alpha = {best_nb_bow_alpha}\")"
   ]
  },
  {
   "cell_type": "markdown",
   "metadata": {},
   "source": [
    "Работает несколько хуже, чем логистическая регрессия, но зато значительно быстрее обучается при оптимальном гиперпараметре."
   ]
  },
  {
   "cell_type": "markdown",
   "metadata": {},
   "source": [
    "### Наивный Байес (TF-IDF)\n",
    "Хотя мультиноминальный классификатор и предназначена для дискретных признаков, он, по словам авторов, неплохо работает и с TD-IDF."
   ]
  },
  {
   "cell_type": "code",
   "execution_count": 31,
   "metadata": {},
   "outputs": [
    {
     "name": "stdout",
     "output_type": "stream",
     "text": [
      "Fitting 5 folds for each of 5 candidates, totalling 25 fits\n"
     ]
    },
    {
     "data": {
      "text/html": [
       "<style>#sk-container-id-4 {color: black;background-color: white;}#sk-container-id-4 pre{padding: 0;}#sk-container-id-4 div.sk-toggleable {background-color: white;}#sk-container-id-4 label.sk-toggleable__label {cursor: pointer;display: block;width: 100%;margin-bottom: 0;padding: 0.3em;box-sizing: border-box;text-align: center;}#sk-container-id-4 label.sk-toggleable__label-arrow:before {content: \"▸\";float: left;margin-right: 0.25em;color: #696969;}#sk-container-id-4 label.sk-toggleable__label-arrow:hover:before {color: black;}#sk-container-id-4 div.sk-estimator:hover label.sk-toggleable__label-arrow:before {color: black;}#sk-container-id-4 div.sk-toggleable__content {max-height: 0;max-width: 0;overflow: hidden;text-align: left;background-color: #f0f8ff;}#sk-container-id-4 div.sk-toggleable__content pre {margin: 0.2em;color: black;border-radius: 0.25em;background-color: #f0f8ff;}#sk-container-id-4 input.sk-toggleable__control:checked~div.sk-toggleable__content {max-height: 200px;max-width: 100%;overflow: auto;}#sk-container-id-4 input.sk-toggleable__control:checked~label.sk-toggleable__label-arrow:before {content: \"▾\";}#sk-container-id-4 div.sk-estimator input.sk-toggleable__control:checked~label.sk-toggleable__label {background-color: #d4ebff;}#sk-container-id-4 div.sk-label input.sk-toggleable__control:checked~label.sk-toggleable__label {background-color: #d4ebff;}#sk-container-id-4 input.sk-hidden--visually {border: 0;clip: rect(1px 1px 1px 1px);clip: rect(1px, 1px, 1px, 1px);height: 1px;margin: -1px;overflow: hidden;padding: 0;position: absolute;width: 1px;}#sk-container-id-4 div.sk-estimator {font-family: monospace;background-color: #f0f8ff;border: 1px dotted black;border-radius: 0.25em;box-sizing: border-box;margin-bottom: 0.5em;}#sk-container-id-4 div.sk-estimator:hover {background-color: #d4ebff;}#sk-container-id-4 div.sk-parallel-item::after {content: \"\";width: 100%;border-bottom: 1px solid gray;flex-grow: 1;}#sk-container-id-4 div.sk-label:hover label.sk-toggleable__label {background-color: #d4ebff;}#sk-container-id-4 div.sk-serial::before {content: \"\";position: absolute;border-left: 1px solid gray;box-sizing: border-box;top: 0;bottom: 0;left: 50%;z-index: 0;}#sk-container-id-4 div.sk-serial {display: flex;flex-direction: column;align-items: center;background-color: white;padding-right: 0.2em;padding-left: 0.2em;position: relative;}#sk-container-id-4 div.sk-item {position: relative;z-index: 1;}#sk-container-id-4 div.sk-parallel {display: flex;align-items: stretch;justify-content: center;background-color: white;position: relative;}#sk-container-id-4 div.sk-item::before, #sk-container-id-4 div.sk-parallel-item::before {content: \"\";position: absolute;border-left: 1px solid gray;box-sizing: border-box;top: 0;bottom: 0;left: 50%;z-index: -1;}#sk-container-id-4 div.sk-parallel-item {display: flex;flex-direction: column;z-index: 1;position: relative;background-color: white;}#sk-container-id-4 div.sk-parallel-item:first-child::after {align-self: flex-end;width: 50%;}#sk-container-id-4 div.sk-parallel-item:last-child::after {align-self: flex-start;width: 50%;}#sk-container-id-4 div.sk-parallel-item:only-child::after {width: 0;}#sk-container-id-4 div.sk-dashed-wrapped {border: 1px dashed gray;margin: 0 0.4em 0.5em 0.4em;box-sizing: border-box;padding-bottom: 0.4em;background-color: white;}#sk-container-id-4 div.sk-label label {font-family: monospace;font-weight: bold;display: inline-block;line-height: 1.2em;}#sk-container-id-4 div.sk-label-container {text-align: center;}#sk-container-id-4 div.sk-container {/* jupyter's `normalize.less` sets `[hidden] { display: none; }` but bootstrap.min.css set `[hidden] { display: none !important; }` so we also need the `!important` here to be able to override the default hidden behavior on the sphinx rendered scikit-learn.org. See: https://github.com/scikit-learn/scikit-learn/issues/21755 */display: inline-block !important;position: relative;}#sk-container-id-4 div.sk-text-repr-fallback {display: none;}</style><div id=\"sk-container-id-4\" class=\"sk-top-container\"><div class=\"sk-text-repr-fallback\"><pre>GridSearchCV(estimator=Pipeline(steps=[(&#x27;tfidf&#x27;,\n",
       "                                        TfidfVectorizer(stop_words=[&#x27;i&#x27;, &#x27;me&#x27;,\n",
       "                                                                    &#x27;my&#x27;,\n",
       "                                                                    &#x27;myself&#x27;,\n",
       "                                                                    &#x27;we&#x27;, &#x27;our&#x27;,\n",
       "                                                                    &#x27;ours&#x27;,\n",
       "                                                                    &#x27;ourselves&#x27;,\n",
       "                                                                    &#x27;you&#x27;,\n",
       "                                                                    &#x27;youre&#x27;,\n",
       "                                                                    &#x27;youve&#x27;,\n",
       "                                                                    &#x27;youll&#x27;,\n",
       "                                                                    &#x27;youd&#x27;,\n",
       "                                                                    &#x27;your&#x27;,\n",
       "                                                                    &#x27;yours&#x27;,\n",
       "                                                                    &#x27;yourself&#x27;,\n",
       "                                                                    &#x27;yourselves&#x27;,\n",
       "                                                                    &#x27;he&#x27;, &#x27;him&#x27;,\n",
       "                                                                    &#x27;his&#x27;,\n",
       "                                                                    &#x27;himself&#x27;,\n",
       "                                                                    &#x27;she&#x27;,\n",
       "                                                                    &#x27;shes&#x27;,\n",
       "                                                                    &#x27;her&#x27;,\n",
       "                                                                    &#x27;hers&#x27;,\n",
       "                                                                    &#x27;herself&#x27;,\n",
       "                                                                    &#x27;it&#x27;, &#x27;its&#x27;,\n",
       "                                                                    &#x27;its&#x27;,\n",
       "                                                                    &#x27;itself&#x27;, ...])),\n",
       "                                       (&#x27;nb&#x27;, MultinomialNB())]),\n",
       "             n_jobs=-1,\n",
       "             param_grid={&#x27;nb__alpha&#x27;: array([1.e-04, 1.e-03, 1.e-02, 1.e-01, 1.e+00])},\n",
       "             scoring=&#x27;f1&#x27;, verbose=3)</pre><b>In a Jupyter environment, please rerun this cell to show the HTML representation or trust the notebook. <br />On GitHub, the HTML representation is unable to render, please try loading this page with nbviewer.org.</b></div><div class=\"sk-container\" hidden><div class=\"sk-item sk-dashed-wrapped\"><div class=\"sk-label-container\"><div class=\"sk-label sk-toggleable\"><input class=\"sk-toggleable__control sk-hidden--visually\" id=\"sk-estimator-id-13\" type=\"checkbox\" ><label for=\"sk-estimator-id-13\" class=\"sk-toggleable__label sk-toggleable__label-arrow\">GridSearchCV</label><div class=\"sk-toggleable__content\"><pre>GridSearchCV(estimator=Pipeline(steps=[(&#x27;tfidf&#x27;,\n",
       "                                        TfidfVectorizer(stop_words=[&#x27;i&#x27;, &#x27;me&#x27;,\n",
       "                                                                    &#x27;my&#x27;,\n",
       "                                                                    &#x27;myself&#x27;,\n",
       "                                                                    &#x27;we&#x27;, &#x27;our&#x27;,\n",
       "                                                                    &#x27;ours&#x27;,\n",
       "                                                                    &#x27;ourselves&#x27;,\n",
       "                                                                    &#x27;you&#x27;,\n",
       "                                                                    &#x27;youre&#x27;,\n",
       "                                                                    &#x27;youve&#x27;,\n",
       "                                                                    &#x27;youll&#x27;,\n",
       "                                                                    &#x27;youd&#x27;,\n",
       "                                                                    &#x27;your&#x27;,\n",
       "                                                                    &#x27;yours&#x27;,\n",
       "                                                                    &#x27;yourself&#x27;,\n",
       "                                                                    &#x27;yourselves&#x27;,\n",
       "                                                                    &#x27;he&#x27;, &#x27;him&#x27;,\n",
       "                                                                    &#x27;his&#x27;,\n",
       "                                                                    &#x27;himself&#x27;,\n",
       "                                                                    &#x27;she&#x27;,\n",
       "                                                                    &#x27;shes&#x27;,\n",
       "                                                                    &#x27;her&#x27;,\n",
       "                                                                    &#x27;hers&#x27;,\n",
       "                                                                    &#x27;herself&#x27;,\n",
       "                                                                    &#x27;it&#x27;, &#x27;its&#x27;,\n",
       "                                                                    &#x27;its&#x27;,\n",
       "                                                                    &#x27;itself&#x27;, ...])),\n",
       "                                       (&#x27;nb&#x27;, MultinomialNB())]),\n",
       "             n_jobs=-1,\n",
       "             param_grid={&#x27;nb__alpha&#x27;: array([1.e-04, 1.e-03, 1.e-02, 1.e-01, 1.e+00])},\n",
       "             scoring=&#x27;f1&#x27;, verbose=3)</pre></div></div></div><div class=\"sk-parallel\"><div class=\"sk-parallel-item\"><div class=\"sk-item\"><div class=\"sk-label-container\"><div class=\"sk-label sk-toggleable\"><input class=\"sk-toggleable__control sk-hidden--visually\" id=\"sk-estimator-id-14\" type=\"checkbox\" ><label for=\"sk-estimator-id-14\" class=\"sk-toggleable__label sk-toggleable__label-arrow\">estimator: Pipeline</label><div class=\"sk-toggleable__content\"><pre>Pipeline(steps=[(&#x27;tfidf&#x27;,\n",
       "                 TfidfVectorizer(stop_words=[&#x27;i&#x27;, &#x27;me&#x27;, &#x27;my&#x27;, &#x27;myself&#x27;, &#x27;we&#x27;,\n",
       "                                             &#x27;our&#x27;, &#x27;ours&#x27;, &#x27;ourselves&#x27;, &#x27;you&#x27;,\n",
       "                                             &#x27;youre&#x27;, &#x27;youve&#x27;, &#x27;youll&#x27;, &#x27;youd&#x27;,\n",
       "                                             &#x27;your&#x27;, &#x27;yours&#x27;, &#x27;yourself&#x27;,\n",
       "                                             &#x27;yourselves&#x27;, &#x27;he&#x27;, &#x27;him&#x27;, &#x27;his&#x27;,\n",
       "                                             &#x27;himself&#x27;, &#x27;she&#x27;, &#x27;shes&#x27;, &#x27;her&#x27;,\n",
       "                                             &#x27;hers&#x27;, &#x27;herself&#x27;, &#x27;it&#x27;, &#x27;its&#x27;,\n",
       "                                             &#x27;its&#x27;, &#x27;itself&#x27;, ...])),\n",
       "                (&#x27;nb&#x27;, MultinomialNB())])</pre></div></div></div><div class=\"sk-serial\"><div class=\"sk-item\"><div class=\"sk-serial\"><div class=\"sk-item\"><div class=\"sk-estimator sk-toggleable\"><input class=\"sk-toggleable__control sk-hidden--visually\" id=\"sk-estimator-id-15\" type=\"checkbox\" ><label for=\"sk-estimator-id-15\" class=\"sk-toggleable__label sk-toggleable__label-arrow\">TfidfVectorizer</label><div class=\"sk-toggleable__content\"><pre>TfidfVectorizer(stop_words=[&#x27;i&#x27;, &#x27;me&#x27;, &#x27;my&#x27;, &#x27;myself&#x27;, &#x27;we&#x27;, &#x27;our&#x27;, &#x27;ours&#x27;,\n",
       "                            &#x27;ourselves&#x27;, &#x27;you&#x27;, &#x27;youre&#x27;, &#x27;youve&#x27;, &#x27;youll&#x27;,\n",
       "                            &#x27;youd&#x27;, &#x27;your&#x27;, &#x27;yours&#x27;, &#x27;yourself&#x27;, &#x27;yourselves&#x27;,\n",
       "                            &#x27;he&#x27;, &#x27;him&#x27;, &#x27;his&#x27;, &#x27;himself&#x27;, &#x27;she&#x27;, &#x27;shes&#x27;, &#x27;her&#x27;,\n",
       "                            &#x27;hers&#x27;, &#x27;herself&#x27;, &#x27;it&#x27;, &#x27;its&#x27;, &#x27;its&#x27;, &#x27;itself&#x27;, ...])</pre></div></div></div><div class=\"sk-item\"><div class=\"sk-estimator sk-toggleable\"><input class=\"sk-toggleable__control sk-hidden--visually\" id=\"sk-estimator-id-16\" type=\"checkbox\" ><label for=\"sk-estimator-id-16\" class=\"sk-toggleable__label sk-toggleable__label-arrow\">MultinomialNB</label><div class=\"sk-toggleable__content\"><pre>MultinomialNB()</pre></div></div></div></div></div></div></div></div></div></div></div></div>"
      ],
      "text/plain": [
       "GridSearchCV(estimator=Pipeline(steps=[('tfidf',\n",
       "                                        TfidfVectorizer(stop_words=['i', 'me',\n",
       "                                                                    'my',\n",
       "                                                                    'myself',\n",
       "                                                                    'we', 'our',\n",
       "                                                                    'ours',\n",
       "                                                                    'ourselves',\n",
       "                                                                    'you',\n",
       "                                                                    'youre',\n",
       "                                                                    'youve',\n",
       "                                                                    'youll',\n",
       "                                                                    'youd',\n",
       "                                                                    'your',\n",
       "                                                                    'yours',\n",
       "                                                                    'yourself',\n",
       "                                                                    'yourselves',\n",
       "                                                                    'he', 'him',\n",
       "                                                                    'his',\n",
       "                                                                    'himself',\n",
       "                                                                    'she',\n",
       "                                                                    'shes',\n",
       "                                                                    'her',\n",
       "                                                                    'hers',\n",
       "                                                                    'herself',\n",
       "                                                                    'it', 'its',\n",
       "                                                                    'its',\n",
       "                                                                    'itself', ...])),\n",
       "                                       ('nb', MultinomialNB())]),\n",
       "             n_jobs=-1,\n",
       "             param_grid={'nb__alpha': array([1.e-04, 1.e-03, 1.e-02, 1.e-01, 1.e+00])},\n",
       "             scoring='f1', verbose=3)"
      ]
     },
     "execution_count": 31,
     "metadata": {},
     "output_type": "execute_result"
    }
   ],
   "source": [
    "pipe = Pipeline([(\"tfidf\", count_tf_idf), (\"nb\", nb)])\n",
    "gscv_nb_tfidf = GridSearchCV(pipe, params, scoring=\"f1\", verbose=3, n_jobs=-1)\n",
    "gscv_nb_tfidf.fit(X_train, y_train)"
   ]
  },
  {
   "cell_type": "code",
   "execution_count": 36,
   "metadata": {},
   "outputs": [
    {
     "name": "stdout",
     "output_type": "stream",
     "text": [
      "F1 (cv) for best naive Bayes (TF_IDF) model = 0.66 for Alpha = 0.01\n"
     ]
    }
   ],
   "source": [
    "best_nb_tfidf_cv_f1 = abs(gscv_nb_tfidf.best_score_)\n",
    "best_nb_tfidf_alpha = gscv_nb_tfidf.best_params_[\"nb__alpha\"]\n",
    "best_nb_tfidf = gscv_nb_bow.best_estimator_\n",
    "print(f\"F1 (cv) for best naive Bayes (TF_IDF) model = {best_nb_tfidf_cv_f1:.2f} for Alpha = {best_nb_tfidf_alpha}\")"
   ]
  },
  {
   "cell_type": "markdown",
   "metadata": {},
   "source": [
    "Значительно хуже, чем на мешке слов."
   ]
  },
  {
   "cell_type": "markdown",
   "metadata": {},
   "source": [
    "**Промежуточный вывод:** Логистическая регрессия оказалась лучше для обоих вариантов признаков, однако Байес обучался значительно быстрее чеи логистическая регрессия при оптимальном гиперпараметре, но всё равно логистическая регрессия обучается быстро. Для неё оказался оптимальнеей вектор признаков на основе tf-idf и параметр регуляризации ~10. "
   ]
  },
  {
   "cell_type": "markdown",
   "metadata": {},
   "source": [
    "### Тестирование лучшей модели."
   ]
  },
  {
   "cell_type": "code",
   "execution_count": 37,
   "metadata": {},
   "outputs": [
    {
     "data": {
      "text/plain": [
       "0.0957854406130268"
      ]
     },
     "execution_count": 37,
     "metadata": {},
     "output_type": "execute_result"
    }
   ],
   "source": [
    "y_pred = dummy.predict(X_test)\n",
    "f1_score(y_test, y_pred)"
   ]
  },
  {
   "cell_type": "code",
   "execution_count": 38,
   "metadata": {},
   "outputs": [
    {
     "data": {
      "text/plain": [
       "0.77"
      ]
     },
     "execution_count": 38,
     "metadata": {},
     "output_type": "execute_result"
    }
   ],
   "source": [
    "y_pred = best_lr_tfidf.predict(X_test)\n",
    "round(f1_score(y_test, y_pred), 2)"
   ]
  },
  {
   "cell_type": "markdown",
   "metadata": {},
   "source": [
    "Целевое значение метрики достигнуто!"
   ]
  },
  {
   "cell_type": "markdown",
   "metadata": {},
   "source": [
    "## Выводы"
   ]
  },
  {
   "cell_type": "markdown",
   "metadata": {},
   "source": [
    "Для анализа тональности текстов используются обычно один из двух подходов: классическое ML на основе признаков (мешок слов, n-граммы, tf-idf) либо глубокое обучение на основе языковых моделей. Глубокое обучение более точное, однако, как правило более ресурсо-затратно. Я решил в своём проекте использовать классические методы. В качестве признаков взяты либо вектор на основе мешка слов либо на основе tf-idf. После предварительной очистки и лемматизации датасета были обучены модель на основе логистической регрессии и наивного байесового классификатора.  \n",
    "Логистическая регрессия оказалась лучше для обоих вариантов признаков, однако Байес обучался значительно быстрее чеи логистическая регрессия при оптимальном гиперпараметре, но всё равно логистическая регрессия обучается быстро. Для неё оказался оптимальнеей вектор признаков на основе tf-idf. Эта модель прошла тестирование на тестовом наборе и показала достаточно высокое значение метрики f1."
   ]
  },
  {
   "cell_type": "markdown",
   "metadata": {},
   "source": [
    "## Чек-лист проверки"
   ]
  },
  {
   "cell_type": "markdown",
   "metadata": {},
   "source": [
    "- [x]  Jupyter Notebook открыт\n",
    "- [x]  Весь код выполняется без ошибок\n",
    "- [x]  Ячейки с кодом расположены в порядке исполнения\n",
    "- [x]  Данные загружены и подготовлены\n",
    "- [x]  Модели обучены\n",
    "- [x]  Значение метрики *F1* не меньше 0.75\n",
    "- [x]  Выводы написаны"
   ]
  }
 ],
 "metadata": {
  "ExecuteTimeLog": [
   {
    "duration": 510,
    "start_time": "2023-01-11T06:13:59.545Z"
   },
   {
    "duration": 195,
    "start_time": "2023-01-11T06:14:40.033Z"
   },
   {
    "duration": 6,
    "start_time": "2023-01-11T06:20:09.698Z"
   },
   {
    "duration": 5,
    "start_time": "2023-01-11T06:20:44.614Z"
   },
   {
    "duration": 3946,
    "start_time": "2023-01-11T06:22:44.366Z"
   },
   {
    "duration": 21,
    "start_time": "2023-01-11T06:23:44.313Z"
   },
   {
    "duration": 15,
    "start_time": "2023-01-11T06:24:00.186Z"
   },
   {
    "duration": 942,
    "start_time": "2023-01-11T06:24:07.744Z"
   },
   {
    "duration": 14,
    "start_time": "2023-01-11T06:24:12.966Z"
   },
   {
    "duration": 14,
    "start_time": "2023-01-11T06:32:36.686Z"
   },
   {
    "duration": 11,
    "start_time": "2023-01-11T06:33:08.131Z"
   },
   {
    "duration": 71,
    "start_time": "2023-01-11T06:33:38.136Z"
   },
   {
    "duration": 20041,
    "start_time": "2023-01-11T06:33:56.348Z"
   },
   {
    "duration": 3772,
    "start_time": "2023-01-11T06:34:55.863Z"
   },
   {
    "duration": 11,
    "start_time": "2023-01-11T06:35:42.894Z"
   },
   {
    "duration": 8184,
    "start_time": "2023-01-11T06:37:07.768Z"
   },
   {
    "duration": 74,
    "start_time": "2023-01-11T06:45:35.968Z"
   },
   {
    "duration": 1945,
    "start_time": "2023-01-11T06:46:10.294Z"
   },
   {
    "duration": 65,
    "start_time": "2023-01-11T06:47:34.532Z"
   },
   {
    "duration": 1458,
    "start_time": "2023-01-11T06:47:42.121Z"
   },
   {
    "duration": 4079,
    "start_time": "2023-01-11T06:47:43.581Z"
   },
   {
    "duration": 14,
    "start_time": "2023-01-11T06:47:47.662Z"
   },
   {
    "duration": 1950,
    "start_time": "2023-01-11T06:47:53.422Z"
   },
   {
    "duration": 134,
    "start_time": "2023-01-11T06:48:18.313Z"
   },
   {
    "duration": 1352,
    "start_time": "2023-01-11T06:48:37.421Z"
   },
   {
    "duration": 7843,
    "start_time": "2023-01-11T06:48:59.210Z"
   },
   {
    "duration": 3,
    "start_time": "2023-01-11T06:49:45.214Z"
   },
   {
    "duration": 5,
    "start_time": "2023-01-11T06:49:49.612Z"
   },
   {
    "duration": 791,
    "start_time": "2023-01-11T06:49:50.243Z"
   },
   {
    "duration": 7,
    "start_time": "2023-01-11T06:49:51.683Z"
   },
   {
    "duration": 2035,
    "start_time": "2023-01-11T06:49:54.255Z"
   },
   {
    "duration": 8872,
    "start_time": "2023-01-11T06:50:12.743Z"
   },
   {
    "duration": 895,
    "start_time": "2023-01-11T06:51:51.442Z"
   },
   {
    "duration": 842,
    "start_time": "2023-01-11T06:53:21.458Z"
   },
   {
    "duration": 83,
    "start_time": "2023-01-11T06:54:19.816Z"
   },
   {
    "duration": 655,
    "start_time": "2023-01-11T06:54:36.988Z"
   },
   {
    "duration": 309,
    "start_time": "2023-01-11T06:56:57.581Z"
   },
   {
    "duration": 5,
    "start_time": "2023-01-11T06:58:30.716Z"
   },
   {
    "duration": 266,
    "start_time": "2023-01-11T06:59:59.600Z"
   },
   {
    "duration": 95,
    "start_time": "2023-01-11T07:00:31.892Z"
   },
   {
    "duration": 82,
    "start_time": "2023-01-11T07:03:45.005Z"
   },
   {
    "duration": 13,
    "start_time": "2023-01-11T07:04:19.287Z"
   },
   {
    "duration": 16,
    "start_time": "2023-01-11T07:04:33.342Z"
   },
   {
    "duration": 11,
    "start_time": "2023-01-11T07:05:08.580Z"
   },
   {
    "duration": 661,
    "start_time": "2023-01-11T07:13:27.014Z"
   },
   {
    "duration": 78,
    "start_time": "2023-01-11T07:13:34.482Z"
   },
   {
    "duration": 264,
    "start_time": "2023-01-11T07:13:42.841Z"
   },
   {
    "duration": 96,
    "start_time": "2023-01-11T07:13:45.239Z"
   },
   {
    "duration": 82,
    "start_time": "2023-01-11T07:13:48.692Z"
   },
   {
    "duration": 15,
    "start_time": "2023-01-11T07:13:49.915Z"
   },
   {
    "duration": 7692,
    "start_time": "2023-01-11T07:17:27.229Z"
   },
   {
    "duration": 60,
    "start_time": "2023-01-11T07:18:08.252Z"
   },
   {
    "duration": 4,
    "start_time": "2023-01-11T07:18:43.571Z"
   },
   {
    "duration": 929,
    "start_time": "2023-01-11T07:18:45.169Z"
   },
   {
    "duration": 9,
    "start_time": "2023-01-11T07:18:49.876Z"
   },
   {
    "duration": 1472,
    "start_time": "2023-01-11T07:18:55.889Z"
   },
   {
    "duration": 266,
    "start_time": "2023-01-11T07:18:59.142Z"
   },
   {
    "duration": 98,
    "start_time": "2023-01-11T07:19:02.153Z"
   },
   {
    "duration": 102,
    "start_time": "2023-01-11T07:19:03.562Z"
   },
   {
    "duration": 16,
    "start_time": "2023-01-11T07:19:04.273Z"
   },
   {
    "duration": 1429,
    "start_time": "2023-01-11T07:19:49.945Z"
   },
   {
    "duration": 11797,
    "start_time": "2023-01-11T07:20:47.267Z"
   },
   {
    "duration": 69,
    "start_time": "2023-01-11T07:20:59.067Z"
   },
   {
    "duration": 5,
    "start_time": "2023-01-11T07:21:15.751Z"
   },
   {
    "duration": 926,
    "start_time": "2023-01-11T07:21:16.645Z"
   },
   {
    "duration": 7,
    "start_time": "2023-01-11T07:21:17.574Z"
   },
   {
    "duration": 2388,
    "start_time": "2023-01-11T07:21:18.182Z"
   },
   {
    "duration": 3,
    "start_time": "2023-01-11T07:21:20.573Z"
   },
   {
    "duration": 1569,
    "start_time": "2023-01-11T07:21:21.397Z"
   },
   {
    "duration": 358,
    "start_time": "2023-01-11T07:21:22.968Z"
   },
   {
    "duration": 106,
    "start_time": "2023-01-11T07:21:25.998Z"
   },
   {
    "duration": 127,
    "start_time": "2023-01-11T07:21:27.391Z"
   },
   {
    "duration": 19,
    "start_time": "2023-01-11T07:21:27.950Z"
   },
   {
    "duration": 10205,
    "start_time": "2023-01-11T07:21:32.664Z"
   },
   {
    "duration": 80,
    "start_time": "2023-01-11T07:21:42.872Z"
   },
   {
    "duration": 5,
    "start_time": "2023-01-11T07:25:37.810Z"
   },
   {
    "duration": 870,
    "start_time": "2023-01-11T07:25:38.611Z"
   },
   {
    "duration": 7,
    "start_time": "2023-01-11T07:25:40.250Z"
   },
   {
    "duration": 2401,
    "start_time": "2023-01-11T07:25:43.188Z"
   },
   {
    "duration": 3,
    "start_time": "2023-01-11T07:25:45.592Z"
   },
   {
    "duration": 1463,
    "start_time": "2023-01-11T07:25:50.387Z"
   },
   {
    "duration": 336,
    "start_time": "2023-01-11T07:25:51.891Z"
   },
   {
    "duration": 102,
    "start_time": "2023-01-11T07:25:52.762Z"
   },
   {
    "duration": 106,
    "start_time": "2023-01-11T07:25:53.851Z"
   },
   {
    "duration": 28,
    "start_time": "2023-01-11T07:25:54.411Z"
   },
   {
    "duration": 859,
    "start_time": "2023-01-11T07:25:56.634Z"
   },
   {
    "duration": 150,
    "start_time": "2023-01-11T07:25:57.499Z"
   },
   {
    "duration": 225,
    "start_time": "2023-01-11T07:28:15.730Z"
   },
   {
    "duration": 13,
    "start_time": "2023-01-11T07:32:29.278Z"
   },
   {
    "duration": 119,
    "start_time": "2023-01-11T07:33:23.469Z"
   },
   {
    "duration": 115,
    "start_time": "2023-01-11T07:33:39.633Z"
   },
   {
    "duration": 18,
    "start_time": "2023-01-11T07:35:53.505Z"
   },
   {
    "duration": 4,
    "start_time": "2023-01-11T07:37:46.478Z"
   },
   {
    "duration": 44389,
    "start_time": "2023-01-11T07:41:36.896Z"
   },
   {
    "duration": 17,
    "start_time": "2023-01-11T07:46:01.202Z"
   },
   {
    "duration": 433,
    "start_time": "2023-01-11T07:46:10.240Z"
   },
   {
    "duration": 13,
    "start_time": "2023-01-11T07:47:02.431Z"
   },
   {
    "duration": 0,
    "start_time": "2023-01-11T07:49:34.856Z"
   },
   {
    "duration": 13,
    "start_time": "2023-01-11T07:49:44.342Z"
   },
   {
    "duration": 12,
    "start_time": "2023-01-11T07:49:58.984Z"
   },
   {
    "duration": 101,
    "start_time": "2023-01-11T07:50:08.555Z"
   },
   {
    "duration": 101,
    "start_time": "2023-01-11T07:51:02.766Z"
   },
   {
    "duration": 104,
    "start_time": "2023-01-11T07:54:18.579Z"
   },
   {
    "duration": 418,
    "start_time": "2023-01-11T07:59:58.250Z"
   },
   {
    "duration": 3,
    "start_time": "2023-01-11T08:01:55.079Z"
   },
   {
    "duration": 37,
    "start_time": "2023-01-11T08:03:41.477Z"
   },
   {
    "duration": 6,
    "start_time": "2023-01-11T08:06:57.418Z"
   },
   {
    "duration": 7,
    "start_time": "2023-01-11T08:09:26.011Z"
   },
   {
    "duration": 4,
    "start_time": "2023-01-11T08:10:19.300Z"
   },
   {
    "duration": 7,
    "start_time": "2023-01-11T08:16:32.952Z"
   },
   {
    "duration": 13,
    "start_time": "2023-01-11T08:19:22.405Z"
   },
   {
    "duration": 19,
    "start_time": "2023-01-11T08:19:31.662Z"
   },
   {
    "duration": 272171,
    "start_time": "2023-01-11T08:20:47.023Z"
   },
   {
    "duration": 509003,
    "start_time": "2023-01-11T08:26:56.423Z"
   },
   {
    "duration": 33632,
    "start_time": "2023-01-11T08:35:45.615Z"
   },
   {
    "duration": 987486,
    "start_time": "2023-01-11T08:36:29.061Z"
   },
   {
    "duration": 996774,
    "start_time": "2023-01-11T08:53:02.975Z"
   },
   {
    "duration": 4,
    "start_time": "2023-01-11T09:14:20.827Z"
   },
   {
    "duration": 5,
    "start_time": "2023-01-11T09:15:35.753Z"
   },
   {
    "duration": 11,
    "start_time": "2023-01-11T09:16:40.599Z"
   },
   {
    "duration": 503672,
    "start_time": "2023-01-11T09:16:58.750Z"
   },
   {
    "duration": 5,
    "start_time": "2023-01-11T09:26:35.105Z"
   },
   {
    "duration": 4,
    "start_time": "2023-01-11T09:33:32.489Z"
   },
   {
    "duration": 125090,
    "start_time": "2023-01-11T09:34:25.021Z"
   },
   {
    "duration": 12,
    "start_time": "2023-01-11T09:38:22.419Z"
   },
   {
    "duration": 5,
    "start_time": "2023-01-11T09:38:37.845Z"
   },
   {
    "duration": 4,
    "start_time": "2023-01-11T09:46:54.851Z"
   },
   {
    "duration": 796,
    "start_time": "2023-01-11T09:47:03.040Z"
   },
   {
    "duration": 8,
    "start_time": "2023-01-11T09:47:04.544Z"
   },
   {
    "duration": 1328,
    "start_time": "2023-01-11T09:47:06.869Z"
   },
   {
    "duration": 279,
    "start_time": "2023-01-11T09:47:11.783Z"
   },
   {
    "duration": 96,
    "start_time": "2023-01-11T09:47:18.397Z"
   },
   {
    "duration": 90,
    "start_time": "2023-01-11T09:47:19.902Z"
   },
   {
    "duration": 13,
    "start_time": "2023-01-11T09:47:20.729Z"
   },
   {
    "duration": 806,
    "start_time": "2023-01-11T09:47:22.293Z"
   },
   {
    "duration": 100,
    "start_time": "2023-01-11T09:47:23.518Z"
   },
   {
    "duration": 208,
    "start_time": "2023-01-11T09:47:24.974Z"
   },
   {
    "duration": 16,
    "start_time": "2023-01-11T09:47:26.520Z"
   },
   {
    "duration": 117,
    "start_time": "2023-01-11T09:47:27.140Z"
   },
   {
    "duration": 15,
    "start_time": "2023-01-11T09:47:44.581Z"
   },
   {
    "duration": 43489,
    "start_time": "2023-01-11T09:47:45.832Z"
   },
   {
    "duration": 457,
    "start_time": "2023-01-11T09:48:34.502Z"
   },
   {
    "duration": 116,
    "start_time": "2023-01-11T09:48:36.709Z"
   },
   {
    "duration": 411,
    "start_time": "2023-01-11T09:48:46.064Z"
   },
   {
    "duration": 35,
    "start_time": "2023-01-11T09:48:49.574Z"
   },
   {
    "duration": 5,
    "start_time": "2023-01-11T09:48:54.480Z"
   }
  ],
  "kernelspec": {
   "display_name": "Python 3",
   "language": "python",
   "name": "python3"
  },
  "language_info": {
   "codemirror_mode": {
    "name": "ipython",
    "version": 3
   },
   "file_extension": ".py",
   "mimetype": "text/x-python",
   "name": "python",
   "nbconvert_exporter": "python",
   "pygments_lexer": "ipython3",
   "version": "3.8.10"
  },
  "toc": {
   "base_numbering": 1,
   "nav_menu": {},
   "number_sections": true,
   "sideBar": true,
   "skip_h1_title": true,
   "title_cell": "Содержание",
   "title_sidebar": "Contents",
   "toc_cell": true,
   "toc_position": {
    "height": "calc(100% - 180px)",
    "left": "10px",
    "top": "150px",
    "width": "302.391px"
   },
   "toc_section_display": true,
   "toc_window_display": false
  }
 },
 "nbformat": 4,
 "nbformat_minor": 4
}
