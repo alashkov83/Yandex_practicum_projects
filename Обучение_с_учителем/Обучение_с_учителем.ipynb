{
 "cells": [
  {
   "cell_type": "markdown",
   "metadata": {},
   "source": [
    "# Отток клиентов"
   ]
  },
  {
   "cell_type": "markdown",
   "metadata": {},
   "source": [
    "Из «Бета-Банка» стали уходить клиенты. Каждый месяц. Немного, но заметно. Банковские маркетологи посчитали: сохранять текущих клиентов дешевле, чем привлекать новых.\n",
    "\n",
    "Нужно спрогнозировать, уйдёт клиент из банка в ближайшее время или нет. Вам предоставлены исторические данные о поведении клиентов и расторжении договоров с банком. \n",
    "\n",
    "Постройте модель с предельно большим значением *F1*-меры. Чтобы сдать проект успешно, нужно довести метрику до 0.59. Проверьте *F1*-меру на тестовой выборке самостоятельно.\n",
    "\n",
    "Дополнительно измеряйте *AUC-ROC*, сравнивайте её значение с *F1*-мерой.\n",
    "\n",
    "Источник данных: [https://www.kaggle.com/barelydedicated/bank-customer-churn-modeling](https://www.kaggle.com/barelydedicated/bank-customer-churn-modeling)"
   ]
  },
  {
   "cell_type": "markdown",
   "metadata": {},
   "source": [
    "## Подготовка данных"
   ]
  },
  {
   "cell_type": "markdown",
   "metadata": {},
   "source": [
    "### Импорты"
   ]
  },
  {
   "cell_type": "code",
   "execution_count": 1,
   "metadata": {},
   "outputs": [],
   "source": [
    "import warnings\n",
    "import re\n",
    "warnings.simplefilter(action='ignore', category=FutureWarning)\n",
    "import matplotlib.pyplot as plt\n",
    "import pandas as pd\n",
    "import numpy as np\n",
    "import seaborn as sns\n",
    "from sklearn.model_selection import train_test_split, GridSearchCV, KFold\n",
    "from sklearn.preprocessing import StandardScaler\n",
    "from sklearn.ensemble import RandomForestClassifier\n",
    "from sklearn.tree import DecisionTreeClassifier\n",
    "from sklearn.neighbors import KNeighborsClassifier\n",
    "from sklearn.linear_model import LogisticRegression\n",
    "from sklearn.metrics import accuracy_score, f1_score, roc_auc_score, roc_curve\n",
    "from sklearn.utils import shuffle\n",
    "from sklearn.dummy import DummyClassifier"
   ]
  },
  {
   "cell_type": "markdown",
   "metadata": {},
   "source": [
    "### Загружаем данные"
   ]
  },
  {
   "cell_type": "code",
   "execution_count": 2,
   "metadata": {},
   "outputs": [],
   "source": [
    "df = pd.read_csv('Churn.csv')"
   ]
  },
  {
   "cell_type": "markdown",
   "metadata": {},
   "source": [
    "### Общая информация о датасете"
   ]
  },
  {
   "cell_type": "code",
   "execution_count": 3,
   "metadata": {},
   "outputs": [
    {
     "name": "stdout",
     "output_type": "stream",
     "text": [
      "<class 'pandas.core.frame.DataFrame'>\n",
      "RangeIndex: 10000 entries, 0 to 9999\n",
      "Data columns (total 14 columns):\n",
      " #   Column           Non-Null Count  Dtype  \n",
      "---  ------           --------------  -----  \n",
      " 0   RowNumber        10000 non-null  int64  \n",
      " 1   CustomerId       10000 non-null  int64  \n",
      " 2   Surname          10000 non-null  object \n",
      " 3   CreditScore      10000 non-null  int64  \n",
      " 4   Geography        10000 non-null  object \n",
      " 5   Gender           10000 non-null  object \n",
      " 6   Age              10000 non-null  int64  \n",
      " 7   Tenure           9091 non-null   float64\n",
      " 8   Balance          10000 non-null  float64\n",
      " 9   NumOfProducts    10000 non-null  int64  \n",
      " 10  HasCrCard        10000 non-null  int64  \n",
      " 11  IsActiveMember   10000 non-null  int64  \n",
      " 12  EstimatedSalary  10000 non-null  float64\n",
      " 13  Exited           10000 non-null  int64  \n",
      "dtypes: float64(3), int64(8), object(3)\n",
      "memory usage: 1.1+ MB\n"
     ]
    }
   ],
   "source": [
    "df.info();"
   ]
  },
  {
   "cell_type": "markdown",
   "metadata": {},
   "source": [
    "Пропуски только в стобце Tenure. Однако их мало. При обработке можно выкинуть эти строки. Типы данных соответствуют содержимому."
   ]
  },
  {
   "cell_type": "code",
   "execution_count": 4,
   "metadata": {},
   "outputs": [
    {
     "data": {
      "text/html": [
       "<div>\n",
       "<style scoped>\n",
       "    .dataframe tbody tr th:only-of-type {\n",
       "        vertical-align: middle;\n",
       "    }\n",
       "\n",
       "    .dataframe tbody tr th {\n",
       "        vertical-align: top;\n",
       "    }\n",
       "\n",
       "    .dataframe thead th {\n",
       "        text-align: right;\n",
       "    }\n",
       "</style>\n",
       "<table border=\"1\" class=\"dataframe\">\n",
       "  <thead>\n",
       "    <tr style=\"text-align: right;\">\n",
       "      <th></th>\n",
       "      <th>RowNumber</th>\n",
       "      <th>CustomerId</th>\n",
       "      <th>Surname</th>\n",
       "      <th>CreditScore</th>\n",
       "      <th>Geography</th>\n",
       "      <th>Gender</th>\n",
       "      <th>Age</th>\n",
       "      <th>Tenure</th>\n",
       "      <th>Balance</th>\n",
       "      <th>NumOfProducts</th>\n",
       "      <th>HasCrCard</th>\n",
       "      <th>IsActiveMember</th>\n",
       "      <th>EstimatedSalary</th>\n",
       "      <th>Exited</th>\n",
       "    </tr>\n",
       "  </thead>\n",
       "  <tbody>\n",
       "    <tr>\n",
       "      <th>0</th>\n",
       "      <td>1</td>\n",
       "      <td>15634602</td>\n",
       "      <td>Hargrave</td>\n",
       "      <td>619</td>\n",
       "      <td>France</td>\n",
       "      <td>Female</td>\n",
       "      <td>42</td>\n",
       "      <td>2.0</td>\n",
       "      <td>0.00</td>\n",
       "      <td>1</td>\n",
       "      <td>1</td>\n",
       "      <td>1</td>\n",
       "      <td>101348.88</td>\n",
       "      <td>1</td>\n",
       "    </tr>\n",
       "    <tr>\n",
       "      <th>1</th>\n",
       "      <td>2</td>\n",
       "      <td>15647311</td>\n",
       "      <td>Hill</td>\n",
       "      <td>608</td>\n",
       "      <td>Spain</td>\n",
       "      <td>Female</td>\n",
       "      <td>41</td>\n",
       "      <td>1.0</td>\n",
       "      <td>83807.86</td>\n",
       "      <td>1</td>\n",
       "      <td>0</td>\n",
       "      <td>1</td>\n",
       "      <td>112542.58</td>\n",
       "      <td>0</td>\n",
       "    </tr>\n",
       "    <tr>\n",
       "      <th>2</th>\n",
       "      <td>3</td>\n",
       "      <td>15619304</td>\n",
       "      <td>Onio</td>\n",
       "      <td>502</td>\n",
       "      <td>France</td>\n",
       "      <td>Female</td>\n",
       "      <td>42</td>\n",
       "      <td>8.0</td>\n",
       "      <td>159660.80</td>\n",
       "      <td>3</td>\n",
       "      <td>1</td>\n",
       "      <td>0</td>\n",
       "      <td>113931.57</td>\n",
       "      <td>1</td>\n",
       "    </tr>\n",
       "    <tr>\n",
       "      <th>3</th>\n",
       "      <td>4</td>\n",
       "      <td>15701354</td>\n",
       "      <td>Boni</td>\n",
       "      <td>699</td>\n",
       "      <td>France</td>\n",
       "      <td>Female</td>\n",
       "      <td>39</td>\n",
       "      <td>1.0</td>\n",
       "      <td>0.00</td>\n",
       "      <td>2</td>\n",
       "      <td>0</td>\n",
       "      <td>0</td>\n",
       "      <td>93826.63</td>\n",
       "      <td>0</td>\n",
       "    </tr>\n",
       "    <tr>\n",
       "      <th>4</th>\n",
       "      <td>5</td>\n",
       "      <td>15737888</td>\n",
       "      <td>Mitchell</td>\n",
       "      <td>850</td>\n",
       "      <td>Spain</td>\n",
       "      <td>Female</td>\n",
       "      <td>43</td>\n",
       "      <td>2.0</td>\n",
       "      <td>125510.82</td>\n",
       "      <td>1</td>\n",
       "      <td>1</td>\n",
       "      <td>1</td>\n",
       "      <td>79084.10</td>\n",
       "      <td>0</td>\n",
       "    </tr>\n",
       "  </tbody>\n",
       "</table>\n",
       "</div>"
      ],
      "text/plain": [
       "   RowNumber  CustomerId   Surname  CreditScore Geography  Gender  Age  \\\n",
       "0          1    15634602  Hargrave          619    France  Female   42   \n",
       "1          2    15647311      Hill          608     Spain  Female   41   \n",
       "2          3    15619304      Onio          502    France  Female   42   \n",
       "3          4    15701354      Boni          699    France  Female   39   \n",
       "4          5    15737888  Mitchell          850     Spain  Female   43   \n",
       "\n",
       "   Tenure    Balance  NumOfProducts  HasCrCard  IsActiveMember  \\\n",
       "0     2.0       0.00              1          1               1   \n",
       "1     1.0   83807.86              1          0               1   \n",
       "2     8.0  159660.80              3          1               0   \n",
       "3     1.0       0.00              2          0               0   \n",
       "4     2.0  125510.82              1          1               1   \n",
       "\n",
       "   EstimatedSalary  Exited  \n",
       "0        101348.88       1  \n",
       "1        112542.58       0  \n",
       "2        113931.57       1  \n",
       "3         93826.63       0  \n",
       "4         79084.10       0  "
      ]
     },
     "execution_count": 4,
     "metadata": {},
     "output_type": "execute_result"
    }
   ],
   "source": [
    "df.head()"
   ]
  },
  {
   "cell_type": "markdown",
   "metadata": {},
   "source": [
    "Первые пять строк выглядят нормально. Выведем описательную статистику."
   ]
  },
  {
   "cell_type": "code",
   "execution_count": 5,
   "metadata": {},
   "outputs": [
    {
     "data": {
      "text/html": [
       "<div>\n",
       "<style scoped>\n",
       "    .dataframe tbody tr th:only-of-type {\n",
       "        vertical-align: middle;\n",
       "    }\n",
       "\n",
       "    .dataframe tbody tr th {\n",
       "        vertical-align: top;\n",
       "    }\n",
       "\n",
       "    .dataframe thead th {\n",
       "        text-align: right;\n",
       "    }\n",
       "</style>\n",
       "<table border=\"1\" class=\"dataframe\">\n",
       "  <thead>\n",
       "    <tr style=\"text-align: right;\">\n",
       "      <th></th>\n",
       "      <th>RowNumber</th>\n",
       "      <th>CustomerId</th>\n",
       "      <th>CreditScore</th>\n",
       "      <th>Age</th>\n",
       "      <th>Tenure</th>\n",
       "      <th>Balance</th>\n",
       "      <th>NumOfProducts</th>\n",
       "      <th>HasCrCard</th>\n",
       "      <th>IsActiveMember</th>\n",
       "      <th>EstimatedSalary</th>\n",
       "      <th>Exited</th>\n",
       "    </tr>\n",
       "  </thead>\n",
       "  <tbody>\n",
       "    <tr>\n",
       "      <th>count</th>\n",
       "      <td>10000.00000</td>\n",
       "      <td>1.000000e+04</td>\n",
       "      <td>10000.000000</td>\n",
       "      <td>10000.000000</td>\n",
       "      <td>9091.000000</td>\n",
       "      <td>10000.000000</td>\n",
       "      <td>10000.000000</td>\n",
       "      <td>10000.00000</td>\n",
       "      <td>10000.000000</td>\n",
       "      <td>10000.000000</td>\n",
       "      <td>10000.000000</td>\n",
       "    </tr>\n",
       "    <tr>\n",
       "      <th>mean</th>\n",
       "      <td>5000.50000</td>\n",
       "      <td>1.569094e+07</td>\n",
       "      <td>650.528800</td>\n",
       "      <td>38.921800</td>\n",
       "      <td>4.997690</td>\n",
       "      <td>76485.889288</td>\n",
       "      <td>1.530200</td>\n",
       "      <td>0.70550</td>\n",
       "      <td>0.515100</td>\n",
       "      <td>100090.239881</td>\n",
       "      <td>0.203700</td>\n",
       "    </tr>\n",
       "    <tr>\n",
       "      <th>std</th>\n",
       "      <td>2886.89568</td>\n",
       "      <td>7.193619e+04</td>\n",
       "      <td>96.653299</td>\n",
       "      <td>10.487806</td>\n",
       "      <td>2.894723</td>\n",
       "      <td>62397.405202</td>\n",
       "      <td>0.581654</td>\n",
       "      <td>0.45584</td>\n",
       "      <td>0.499797</td>\n",
       "      <td>57510.492818</td>\n",
       "      <td>0.402769</td>\n",
       "    </tr>\n",
       "    <tr>\n",
       "      <th>min</th>\n",
       "      <td>1.00000</td>\n",
       "      <td>1.556570e+07</td>\n",
       "      <td>350.000000</td>\n",
       "      <td>18.000000</td>\n",
       "      <td>0.000000</td>\n",
       "      <td>0.000000</td>\n",
       "      <td>1.000000</td>\n",
       "      <td>0.00000</td>\n",
       "      <td>0.000000</td>\n",
       "      <td>11.580000</td>\n",
       "      <td>0.000000</td>\n",
       "    </tr>\n",
       "    <tr>\n",
       "      <th>25%</th>\n",
       "      <td>2500.75000</td>\n",
       "      <td>1.562853e+07</td>\n",
       "      <td>584.000000</td>\n",
       "      <td>32.000000</td>\n",
       "      <td>2.000000</td>\n",
       "      <td>0.000000</td>\n",
       "      <td>1.000000</td>\n",
       "      <td>0.00000</td>\n",
       "      <td>0.000000</td>\n",
       "      <td>51002.110000</td>\n",
       "      <td>0.000000</td>\n",
       "    </tr>\n",
       "    <tr>\n",
       "      <th>50%</th>\n",
       "      <td>5000.50000</td>\n",
       "      <td>1.569074e+07</td>\n",
       "      <td>652.000000</td>\n",
       "      <td>37.000000</td>\n",
       "      <td>5.000000</td>\n",
       "      <td>97198.540000</td>\n",
       "      <td>1.000000</td>\n",
       "      <td>1.00000</td>\n",
       "      <td>1.000000</td>\n",
       "      <td>100193.915000</td>\n",
       "      <td>0.000000</td>\n",
       "    </tr>\n",
       "    <tr>\n",
       "      <th>75%</th>\n",
       "      <td>7500.25000</td>\n",
       "      <td>1.575323e+07</td>\n",
       "      <td>718.000000</td>\n",
       "      <td>44.000000</td>\n",
       "      <td>7.000000</td>\n",
       "      <td>127644.240000</td>\n",
       "      <td>2.000000</td>\n",
       "      <td>1.00000</td>\n",
       "      <td>1.000000</td>\n",
       "      <td>149388.247500</td>\n",
       "      <td>0.000000</td>\n",
       "    </tr>\n",
       "    <tr>\n",
       "      <th>max</th>\n",
       "      <td>10000.00000</td>\n",
       "      <td>1.581569e+07</td>\n",
       "      <td>850.000000</td>\n",
       "      <td>92.000000</td>\n",
       "      <td>10.000000</td>\n",
       "      <td>250898.090000</td>\n",
       "      <td>4.000000</td>\n",
       "      <td>1.00000</td>\n",
       "      <td>1.000000</td>\n",
       "      <td>199992.480000</td>\n",
       "      <td>1.000000</td>\n",
       "    </tr>\n",
       "  </tbody>\n",
       "</table>\n",
       "</div>"
      ],
      "text/plain": [
       "         RowNumber    CustomerId   CreditScore           Age       Tenure  \\\n",
       "count  10000.00000  1.000000e+04  10000.000000  10000.000000  9091.000000   \n",
       "mean    5000.50000  1.569094e+07    650.528800     38.921800     4.997690   \n",
       "std     2886.89568  7.193619e+04     96.653299     10.487806     2.894723   \n",
       "min        1.00000  1.556570e+07    350.000000     18.000000     0.000000   \n",
       "25%     2500.75000  1.562853e+07    584.000000     32.000000     2.000000   \n",
       "50%     5000.50000  1.569074e+07    652.000000     37.000000     5.000000   \n",
       "75%     7500.25000  1.575323e+07    718.000000     44.000000     7.000000   \n",
       "max    10000.00000  1.581569e+07    850.000000     92.000000    10.000000   \n",
       "\n",
       "             Balance  NumOfProducts    HasCrCard  IsActiveMember  \\\n",
       "count   10000.000000   10000.000000  10000.00000    10000.000000   \n",
       "mean    76485.889288       1.530200      0.70550        0.515100   \n",
       "std     62397.405202       0.581654      0.45584        0.499797   \n",
       "min         0.000000       1.000000      0.00000        0.000000   \n",
       "25%         0.000000       1.000000      0.00000        0.000000   \n",
       "50%     97198.540000       1.000000      1.00000        1.000000   \n",
       "75%    127644.240000       2.000000      1.00000        1.000000   \n",
       "max    250898.090000       4.000000      1.00000        1.000000   \n",
       "\n",
       "       EstimatedSalary        Exited  \n",
       "count     10000.000000  10000.000000  \n",
       "mean     100090.239881      0.203700  \n",
       "std       57510.492818      0.402769  \n",
       "min          11.580000      0.000000  \n",
       "25%       51002.110000      0.000000  \n",
       "50%      100193.915000      0.000000  \n",
       "75%      149388.247500      0.000000  \n",
       "max      199992.480000      1.000000  "
      ]
     },
     "execution_count": 5,
     "metadata": {},
     "output_type": "execute_result"
    }
   ],
   "source": [
    "df.describe()"
   ]
  },
  {
   "cell_type": "markdown",
   "metadata": {},
   "source": [
    "Количественные признаки требуют нормализации. Выбросы есть, но нельзя сказать, что они саязаны с ошибками ввода данных."
   ]
  },
  {
   "cell_type": "markdown",
   "metadata": {},
   "source": [
    "### Переименование столбцов (приведение к snake_case)"
   ]
  },
  {
   "cell_type": "code",
   "execution_count": 6,
   "metadata": {},
   "outputs": [
    {
     "data": {
      "text/plain": [
       "Index(['row_number', 'customer_id', 'surname', 'credit_score', 'geography',\n",
       "       'gender', 'age', 'tenure', 'balance', 'num_of_products', 'has_cr_card',\n",
       "       'is_active_member', 'estimated_salary', 'exited'],\n",
       "      dtype='object')"
      ]
     },
     "execution_count": 6,
     "metadata": {},
     "output_type": "execute_result"
    }
   ],
   "source": [
    "def camel_to_snake(name):\n",
    "    name = re.sub('(.)([A-Z][a-z]+)', r'\\1_\\2', name)\n",
    "    return re.sub('([a-z0-9])([A-Z])', r'\\1_\\2', name).lower().strip()\n",
    "df.columns = pd.Index([camel_to_snake(x) for x in df.columns])\n",
    "df.columns"
   ]
  },
  {
   "cell_type": "markdown",
   "metadata": {},
   "source": [
    "### Борьба с дубликатами"
   ]
  },
  {
   "cell_type": "code",
   "execution_count": 7,
   "metadata": {},
   "outputs": [
    {
     "data": {
      "text/plain": [
       "0"
      ]
     },
     "execution_count": 7,
     "metadata": {},
     "output_type": "execute_result"
    }
   ],
   "source": [
    "df.duplicated().sum()"
   ]
  },
  {
   "cell_type": "markdown",
   "metadata": {},
   "source": [
    "Полных дубликатов нет"
   ]
  },
  {
   "cell_type": "markdown",
   "metadata": {},
   "source": [
    "### Очистка от NaN значений"
   ]
  },
  {
   "cell_type": "code",
   "execution_count": 8,
   "metadata": {},
   "outputs": [
    {
     "name": "stdout",
     "output_type": "stream",
     "text": [
      "<class 'pandas.core.frame.DataFrame'>\n",
      "RangeIndex: 9091 entries, 0 to 9090\n",
      "Data columns (total 14 columns):\n",
      " #   Column            Non-Null Count  Dtype  \n",
      "---  ------            --------------  -----  \n",
      " 0   row_number        9091 non-null   int64  \n",
      " 1   customer_id       9091 non-null   int64  \n",
      " 2   surname           9091 non-null   object \n",
      " 3   credit_score      9091 non-null   int64  \n",
      " 4   geography         9091 non-null   object \n",
      " 5   gender            9091 non-null   object \n",
      " 6   age               9091 non-null   int64  \n",
      " 7   tenure            9091 non-null   float64\n",
      " 8   balance           9091 non-null   float64\n",
      " 9   num_of_products   9091 non-null   int64  \n",
      " 10  has_cr_card       9091 non-null   int64  \n",
      " 11  is_active_member  9091 non-null   int64  \n",
      " 12  estimated_salary  9091 non-null   float64\n",
      " 13  exited            9091 non-null   int64  \n",
      "dtypes: float64(3), int64(8), object(3)\n",
      "memory usage: 994.5+ KB\n"
     ]
    }
   ],
   "source": [
    "df = df.dropna().reset_index(drop=True)\n",
    "df.info()"
   ]
  },
  {
   "cell_type": "markdown",
   "metadata": {},
   "source": [
    "Потеряли 9 строчек."
   ]
  },
  {
   "cell_type": "markdown",
   "metadata": {},
   "source": [
    "### Анализ признаков и обработка"
   ]
  },
  {
   "cell_type": "markdown",
   "metadata": {},
   "source": [
    "Первые три столбца не важны для анализа. Их можно удалить."
   ]
  },
  {
   "cell_type": "code",
   "execution_count": 9,
   "metadata": {
    "scrolled": true
   },
   "outputs": [
    {
     "name": "stdout",
     "output_type": "stream",
     "text": [
      "<class 'pandas.core.frame.DataFrame'>\n",
      "RangeIndex: 9091 entries, 0 to 9090\n",
      "Data columns (total 10 columns):\n",
      " #   Column            Non-Null Count  Dtype  \n",
      "---  ------            --------------  -----  \n",
      " 0   geography         9091 non-null   object \n",
      " 1   gender            9091 non-null   object \n",
      " 2   age               9091 non-null   int64  \n",
      " 3   tenure            9091 non-null   float64\n",
      " 4   balance           9091 non-null   float64\n",
      " 5   num_of_products   9091 non-null   int64  \n",
      " 6   has_cr_card       9091 non-null   int64  \n",
      " 7   is_active_member  9091 non-null   int64  \n",
      " 8   estimated_salary  9091 non-null   float64\n",
      " 9   exited            9091 non-null   int64  \n",
      "dtypes: float64(3), int64(5), object(2)\n",
      "memory usage: 710.4+ KB\n"
     ]
    }
   ],
   "source": [
    "df = df.iloc[:,4:]\n",
    "df.info()"
   ]
  },
  {
   "cell_type": "markdown",
   "metadata": {},
   "source": [
    "#### Категориальные признаки"
   ]
  },
  {
   "cell_type": "markdown",
   "metadata": {},
   "source": [
    "Категориальные признаки: Geography, Gender, HasCrCard, IsActiveMember. Причём кодировать нужно только 2 из них. Но сначала можно посмотреть на распределения их в выборке."
   ]
  },
  {
   "cell_type": "code",
   "execution_count": 10,
   "metadata": {},
   "outputs": [
    {
     "data": {
      "image/png": "[encoded data removed]",
      "text/plain": [
       "<Figure size 1080x1080 with 4 Axes>"
      ]
     },
     "metadata": {},
     "output_type": "display_data"
    }
   ],
   "source": [
    "cat_features = ['geography', 'gender', 'has_cr_card', 'is_active_member']\n",
    "fig, axes = plt.subplots(2, 2, figsize=(15,15));\n",
    "fig.suptitle(\"Categorial features\", fontsize=16)\n",
    "axes = axes.ravel()\n",
    "for i, cat in enumerate(cat_features):\n",
    "    df.groupby(cat)[cat].count().sort_values(ascending=False).plot(kind='pie', title=cat, ax=axes[i], fontsize=14, autopct='%1.1f%%') \n",
    "    axes[i].set_ylabel(None)"
   ]
  },
  {
   "cell_type": "markdown",
   "metadata": {},
   "source": [
    "К двум категориальным признакам применим метод OHE с избеганием Dummy-ловушки. Этот метод применим, как в моделях основанных на решающих деревьях, так и к линейным моделям."
   ]
  },
  {
   "cell_type": "code",
   "execution_count": 11,
   "metadata": {},
   "outputs": [
    {
     "data": {
      "text/html": [
       "<div>\n",
       "<style scoped>\n",
       "    .dataframe tbody tr th:only-of-type {\n",
       "        vertical-align: middle;\n",
       "    }\n",
       "\n",
       "    .dataframe tbody tr th {\n",
       "        vertical-align: top;\n",
       "    }\n",
       "\n",
       "    .dataframe thead th {\n",
       "        text-align: right;\n",
       "    }\n",
       "</style>\n",
       "<table border=\"1\" class=\"dataframe\">\n",
       "  <thead>\n",
       "    <tr style=\"text-align: right;\">\n",
       "      <th></th>\n",
       "      <th>age</th>\n",
       "      <th>tenure</th>\n",
       "      <th>balance</th>\n",
       "      <th>num_of_products</th>\n",
       "      <th>has_cr_card</th>\n",
       "      <th>is_active_member</th>\n",
       "      <th>estimated_salary</th>\n",
       "      <th>exited</th>\n",
       "      <th>geography_Germany</th>\n",
       "      <th>geography_Spain</th>\n",
       "      <th>gender_Male</th>\n",
       "    </tr>\n",
       "  </thead>\n",
       "  <tbody>\n",
       "    <tr>\n",
       "      <th>0</th>\n",
       "      <td>42</td>\n",
       "      <td>2.0</td>\n",
       "      <td>0.00</td>\n",
       "      <td>1</td>\n",
       "      <td>1</td>\n",
       "      <td>1</td>\n",
       "      <td>101348.88</td>\n",
       "      <td>1</td>\n",
       "      <td>0</td>\n",
       "      <td>0</td>\n",
       "      <td>0</td>\n",
       "    </tr>\n",
       "    <tr>\n",
       "      <th>1</th>\n",
       "      <td>41</td>\n",
       "      <td>1.0</td>\n",
       "      <td>83807.86</td>\n",
       "      <td>1</td>\n",
       "      <td>0</td>\n",
       "      <td>1</td>\n",
       "      <td>112542.58</td>\n",
       "      <td>0</td>\n",
       "      <td>0</td>\n",
       "      <td>1</td>\n",
       "      <td>0</td>\n",
       "    </tr>\n",
       "    <tr>\n",
       "      <th>2</th>\n",
       "      <td>42</td>\n",
       "      <td>8.0</td>\n",
       "      <td>159660.80</td>\n",
       "      <td>3</td>\n",
       "      <td>1</td>\n",
       "      <td>0</td>\n",
       "      <td>113931.57</td>\n",
       "      <td>1</td>\n",
       "      <td>0</td>\n",
       "      <td>0</td>\n",
       "      <td>0</td>\n",
       "    </tr>\n",
       "    <tr>\n",
       "      <th>3</th>\n",
       "      <td>39</td>\n",
       "      <td>1.0</td>\n",
       "      <td>0.00</td>\n",
       "      <td>2</td>\n",
       "      <td>0</td>\n",
       "      <td>0</td>\n",
       "      <td>93826.63</td>\n",
       "      <td>0</td>\n",
       "      <td>0</td>\n",
       "      <td>0</td>\n",
       "      <td>0</td>\n",
       "    </tr>\n",
       "    <tr>\n",
       "      <th>4</th>\n",
       "      <td>43</td>\n",
       "      <td>2.0</td>\n",
       "      <td>125510.82</td>\n",
       "      <td>1</td>\n",
       "      <td>1</td>\n",
       "      <td>1</td>\n",
       "      <td>79084.10</td>\n",
       "      <td>0</td>\n",
       "      <td>0</td>\n",
       "      <td>1</td>\n",
       "      <td>0</td>\n",
       "    </tr>\n",
       "  </tbody>\n",
       "</table>\n",
       "</div>"
      ],
      "text/plain": [
       "   age  tenure    balance  num_of_products  has_cr_card  is_active_member  \\\n",
       "0   42     2.0       0.00                1            1                 1   \n",
       "1   41     1.0   83807.86                1            0                 1   \n",
       "2   42     8.0  159660.80                3            1                 0   \n",
       "3   39     1.0       0.00                2            0                 0   \n",
       "4   43     2.0  125510.82                1            1                 1   \n",
       "\n",
       "   estimated_salary  exited  geography_Germany  geography_Spain  gender_Male  \n",
       "0         101348.88       1                  0                0            0  \n",
       "1         112542.58       0                  0                1            0  \n",
       "2         113931.57       1                  0                0            0  \n",
       "3          93826.63       0                  0                0            0  \n",
       "4          79084.10       0                  0                1            0  "
      ]
     },
     "execution_count": 11,
     "metadata": {},
     "output_type": "execute_result"
    }
   ],
   "source": [
    "df = pd.get_dummies(df, drop_first=True)\n",
    "df.head()"
   ]
  },
  {
   "cell_type": "markdown",
   "metadata": {},
   "source": [
    "#### Количественные признаки"
   ]
  },
  {
   "cell_type": "code",
   "execution_count": 12,
   "metadata": {},
   "outputs": [],
   "source": [
    "num_features = ['age', 'tenure', 'balance','num_of_products', 'estimated_salary']"
   ]
  },
  {
   "cell_type": "markdown",
   "metadata": {},
   "source": [
    "##### Проверка матрицы диаграмм рассеяния"
   ]
  },
  {
   "cell_type": "code",
   "execution_count": 13,
   "metadata": {},
   "outputs": [
    {
     "data": {
      "image/png": "[encoded data removed]",
      "text/plain": [
       "<Figure size 942.375x900 with 30 Axes>"
      ]
     },
     "metadata": {
      "needs_background": "light"
     },
     "output_type": "display_data"
    }
   ],
   "source": [
    "sns.pairplot(df.loc[:,num_features+[\"exited\"]], hue=\"exited\");"
   ]
  },
  {
   "cell_type": "markdown",
   "metadata": {},
   "source": [
    "Сильных корреляций признаков и мультиколинеарности не наблюдается."
   ]
  },
  {
   "cell_type": "markdown",
   "metadata": {},
   "source": [
    "#### Разделение данных на признаки и целевую переменную"
   ]
  },
  {
   "cell_type": "code",
   "execution_count": 14,
   "metadata": {},
   "outputs": [],
   "source": [
    "target = df[\"exited\"]\n",
    "features = df.drop(['exited'], axis=1)"
   ]
  },
  {
   "cell_type": "markdown",
   "metadata": {},
   "source": [
    "#### Выделение тестового набора"
   ]
  },
  {
   "cell_type": "code",
   "execution_count": 15,
   "metadata": {},
   "outputs": [
    {
     "name": "stdout",
     "output_type": "stream",
     "text": [
      "(7272, 10)\n",
      "(1819, 10)\n",
      "(7272,)\n",
      "(1819,)\n"
     ]
    }
   ],
   "source": [
    "features_train, features_test, target_train, target_test = train_test_split(features, target,\n",
    "                                                                          test_size=0.2,\n",
    "                                                                          random_state=12345)\n",
    "features_train = features_train.reset_index(drop=True)\n",
    "features_test = features_test.reset_index(drop=True)\n",
    "target_train = target_train.reset_index(drop=True)\n",
    "target_test = target_test.reset_index(drop=True)\n",
    "print(features_train.shape) \n",
    "print(features_test.shape) \n",
    "print(target_train.shape)\n",
    "print(target_test.shape)"
   ]
  },
  {
   "cell_type": "markdown",
   "metadata": {},
   "source": [
    "### Шкалирование количественных признаков"
   ]
  },
  {
   "cell_type": "code",
   "execution_count": 16,
   "metadata": {
    "scrolled": false
   },
   "outputs": [
    {
     "data": {
      "text/html": [
       "<div>\n",
       "<style scoped>\n",
       "    .dataframe tbody tr th:only-of-type {\n",
       "        vertical-align: middle;\n",
       "    }\n",
       "\n",
       "    .dataframe tbody tr th {\n",
       "        vertical-align: top;\n",
       "    }\n",
       "\n",
       "    .dataframe thead th {\n",
       "        text-align: right;\n",
       "    }\n",
       "</style>\n",
       "<table border=\"1\" class=\"dataframe\">\n",
       "  <thead>\n",
       "    <tr style=\"text-align: right;\">\n",
       "      <th></th>\n",
       "      <th>age</th>\n",
       "      <th>tenure</th>\n",
       "      <th>balance</th>\n",
       "      <th>num_of_products</th>\n",
       "      <th>has_cr_card</th>\n",
       "      <th>is_active_member</th>\n",
       "      <th>estimated_salary</th>\n",
       "      <th>geography_Germany</th>\n",
       "      <th>geography_Spain</th>\n",
       "      <th>gender_Male</th>\n",
       "    </tr>\n",
       "  </thead>\n",
       "  <tbody>\n",
       "    <tr>\n",
       "      <th>0</th>\n",
       "      <td>-0.755896</td>\n",
       "      <td>1.032080</td>\n",
       "      <td>-1.235435</td>\n",
       "      <td>0.806573</td>\n",
       "      <td>1</td>\n",
       "      <td>0</td>\n",
       "      <td>1.351774</td>\n",
       "      <td>0</td>\n",
       "      <td>0</td>\n",
       "      <td>1</td>\n",
       "    </tr>\n",
       "    <tr>\n",
       "      <th>1</th>\n",
       "      <td>1.609084</td>\n",
       "      <td>-0.688132</td>\n",
       "      <td>1.249209</td>\n",
       "      <td>-0.909459</td>\n",
       "      <td>0</td>\n",
       "      <td>1</td>\n",
       "      <td>0.257662</td>\n",
       "      <td>0</td>\n",
       "      <td>1</td>\n",
       "      <td>1</td>\n",
       "    </tr>\n",
       "    <tr>\n",
       "      <th>2</th>\n",
       "      <td>0.757691</td>\n",
       "      <td>-0.344090</td>\n",
       "      <td>0.358445</td>\n",
       "      <td>0.806573</td>\n",
       "      <td>1</td>\n",
       "      <td>1</td>\n",
       "      <td>0.373276</td>\n",
       "      <td>1</td>\n",
       "      <td>0</td>\n",
       "      <td>0</td>\n",
       "    </tr>\n",
       "    <tr>\n",
       "      <th>3</th>\n",
       "      <td>0.190096</td>\n",
       "      <td>-0.000047</td>\n",
       "      <td>1.117429</td>\n",
       "      <td>0.806573</td>\n",
       "      <td>0</td>\n",
       "      <td>0</td>\n",
       "      <td>1.391016</td>\n",
       "      <td>0</td>\n",
       "      <td>1</td>\n",
       "      <td>1</td>\n",
       "    </tr>\n",
       "    <tr>\n",
       "      <th>4</th>\n",
       "      <td>-0.566697</td>\n",
       "      <td>-1.720259</td>\n",
       "      <td>1.682729</td>\n",
       "      <td>-0.909459</td>\n",
       "      <td>1</td>\n",
       "      <td>1</td>\n",
       "      <td>0.122738</td>\n",
       "      <td>1</td>\n",
       "      <td>0</td>\n",
       "      <td>1</td>\n",
       "    </tr>\n",
       "  </tbody>\n",
       "</table>\n",
       "</div>"
      ],
      "text/plain": [
       "        age    tenure   balance  num_of_products  has_cr_card  \\\n",
       "0 -0.755896  1.032080 -1.235435         0.806573            1   \n",
       "1  1.609084 -0.688132  1.249209        -0.909459            0   \n",
       "2  0.757691 -0.344090  0.358445         0.806573            1   \n",
       "3  0.190096 -0.000047  1.117429         0.806573            0   \n",
       "4 -0.566697 -1.720259  1.682729        -0.909459            1   \n",
       "\n",
       "   is_active_member  estimated_salary  geography_Germany  geography_Spain  \\\n",
       "0                 0          1.351774                  0                0   \n",
       "1                 1          0.257662                  0                1   \n",
       "2                 1          0.373276                  1                0   \n",
       "3                 0          1.391016                  0                1   \n",
       "4                 1          0.122738                  1                0   \n",
       "\n",
       "   gender_Male  \n",
       "0            1  \n",
       "1            1  \n",
       "2            0  \n",
       "3            1  \n",
       "4            1  "
      ]
     },
     "execution_count": 16,
     "metadata": {},
     "output_type": "execute_result"
    }
   ],
   "source": [
    "scaler = StandardScaler()\n",
    "features_train.loc[:,num_features] = pd.DataFrame(data=scaler.fit_transform(features_train.loc[:,num_features]),\n",
    "                                              columns=features_train.loc[:,num_features].columns)\n",
    "features_test.loc[:,num_features] = pd.DataFrame(data=scaler.transform(features_test.loc[:,num_features]),\n",
    "                                             columns=features_test.loc[:,num_features].columns)\n",
    "features_train.head()"
   ]
  },
  {
   "cell_type": "markdown",
   "metadata": {},
   "source": [
    "Шкалирование признаков выполнено."
   ]
  },
  {
   "cell_type": "markdown",
   "metadata": {},
   "source": [
    "## Исследование задачи"
   ]
  },
  {
   "cell_type": "markdown",
   "metadata": {},
   "source": [
    "### Выбор моделей\n",
    "\n",
    "В задаче не сказано какие модели рассматривать. Рассмотрим разные модели по скорости обучения и приципу работы.\n",
    "1. Классификатор на основе метода k ближайших соседей.\n",
    "2. Логистическая регрессия.\n",
    "3. Одиночное решающее дерево.\n",
    "4. Случайный лес.\n",
    "\n",
    "Подбирать наиболее важные гиперпараметры будем используя GridSearchCV. Поэтому валидационная выборка нам не нужна. В качестве целевой функции будем использовать f1 меру."
   ]
  },
  {
   "cell_type": "markdown",
   "metadata": {},
   "source": [
    "### Распределение классов целевой переменной"
   ]
  },
  {
   "cell_type": "code",
   "execution_count": 17,
   "metadata": {},
   "outputs": [
    {
     "data": {
      "image/png": "[encoded data removed]",
      "text/plain": [
       "<Figure size 504x504 with 1 Axes>"
      ]
     },
     "metadata": {},
     "output_type": "display_data"
    }
   ],
   "source": [
    "fig = target_train.value_counts().rename(index={1:\"Ушли\", 0:\"Остались\"}).plot(kind='pie', \n",
    "                                            title=\"Target classes:\",\n",
    "                                            fontsize=16,\n",
    "                                            legend=False,\n",
    "                                            autopct='%1.1f%%',\n",
    "                                            figsize=(7,7))\n",
    "fig.axes.title.set_size(20)\n",
    "fig.axes.set_ylabel(None);"
   ]
  },
  {
   "cell_type": "markdown",
   "metadata": {},
   "source": [
    "Присутствует сильный дисбаланс классов. Однако, по-заданию, попробуем обучить модели сначала без учета дисбаланса."
   ]
  },
  {
   "cell_type": "markdown",
   "metadata": {},
   "source": [
    "### Определение базовой линии"
   ]
  },
  {
   "cell_type": "code",
   "execution_count": 18,
   "metadata": {},
   "outputs": [
    {
     "name": "stdout",
     "output_type": "stream",
     "text": [
      "The baseline accurancy: 79.58%\n",
      "The baseline F1-score: 0.00%\n"
     ]
    }
   ],
   "source": [
    "model_bl = DummyClassifier()\n",
    "model_bl.fit(features_train, target_train)\n",
    "score = model_bl.score(features_train, target_train)\n",
    "print(f\"The baseline accurancy: {score:.2%}\")\n",
    "predicted_train = model_bl.predict(features_train)\n",
    "print(f\"The baseline F1-score: {f1_score(target_train, predicted_train):.2%}\")"
   ]
  },
  {
   "cell_type": "markdown",
   "metadata": {},
   "source": [
    "Что и следовало ожидать при дисбалансе классов достаточно для высокой accurancy просто давать метку самого популярного класса, но с F1 мерой такой трюк не проходит."
   ]
  },
  {
   "cell_type": "markdown",
   "metadata": {},
   "source": [
    "### Метод k-ближайших соседей\n",
    "\n",
    "Метод прост для понимание и быстро обучается из за того, что процесс обучения в сущности состоит из запоминания обучающего набора. Есть один самый важный гиперпараметр: число соседей.При маленьком числе соседей имеет склонность к переобучению."
   ]
  },
  {
   "cell_type": "code",
   "execution_count": 19,
   "metadata": {},
   "outputs": [
    {
     "name": "stdout",
     "output_type": "stream",
     "text": [
      "The best f1-score: 54.23% for n_neighbors: 13\n"
     ]
    }
   ],
   "source": [
    "parameters = {'n_neighbors':list(range(1,20))}\n",
    "model = KNeighborsClassifier()\n",
    "clf_knn = GridSearchCV(model, parameters, scoring='f1')\n",
    "clf_knn.fit(features_train, target_train)\n",
    "print(f\"The best f1-score: {clf_knn.best_score_:.2%} for n_neighbors: {clf_knn.best_params_['n_neighbors']}\")"
   ]
  },
  {
   "cell_type": "markdown",
   "metadata": {},
   "source": [
    "Неплохой результат."
   ]
  },
  {
   "cell_type": "markdown",
   "metadata": {},
   "source": [
    "### Логистическая регрессия\n",
    "\n",
    "Метод тоже достаточно быстрый и надежный. Но у него линейная граница принятия решений. Будем подбирать параметр регуляризации (C). Так как у него по инструкции логарифмическая шкала то воспользуемся logspace."
   ]
  },
  {
   "cell_type": "code",
   "execution_count": 20,
   "metadata": {},
   "outputs": [
    {
     "name": "stdout",
     "output_type": "stream",
     "text": [
      "The best f1-score: 29.92% for C: 10.0\n"
     ]
    }
   ],
   "source": [
    "parameters = {\"random_state\":[12345], 'C':list(np.logspace(-3, 4, 8))}\n",
    "model = LogisticRegression()\n",
    "clf_lr = GridSearchCV(model, parameters, scoring='f1')\n",
    "clf_lr.fit(features_train, target_train)\n",
    "print(f\"The best f1-score: {clf_lr.best_score_:.2%} for C: {clf_lr.best_params_['C']}\")\n"
   ]
  },
  {
   "cell_type": "markdown",
   "metadata": {},
   "source": [
    "Плохо."
   ]
  },
  {
   "cell_type": "markdown",
   "metadata": {},
   "source": [
    "### Решающее дерево"
   ]
  },
  {
   "cell_type": "markdown",
   "metadata": {},
   "source": [
    "Из всех гиперпараметров будем подбирать один из самых важных: максимальную высоту дерева. При низкой высоте дерево склонно к недобучению, а при слишком высокой - переобучению."
   ]
  },
  {
   "cell_type": "code",
   "execution_count": 21,
   "metadata": {
    "scrolled": true
   },
   "outputs": [
    {
     "name": "stdout",
     "output_type": "stream",
     "text": [
      "The best f1-score: 56.39% for max_depth: 7\n"
     ]
    }
   ],
   "source": [
    "parameters = {\"random_state\":[12345], 'max_depth':list(range(1, 20))}\n",
    "model = DecisionTreeClassifier()\n",
    "clf_dt = GridSearchCV(model, parameters, scoring='f1')\n",
    "clf_dt.fit(features_train, target_train)\n",
    "print(f\"The best f1-score: {clf_dt.best_score_:.2%} for max_depth: {clf_dt.best_params_['max_depth']}\")"
   ]
  },
  {
   "cell_type": "markdown",
   "metadata": {},
   "source": [
    "Результат близок к необходимому и без учёта дисбаланса, но недостаточно хорош."
   ]
  },
  {
   "cell_type": "markdown",
   "metadata": {},
   "source": [
    "### Случайный лес\n",
    "\n",
    "Самая медленная модель. Будем перебирать два параметра: количество деревьев и максимальную глубину каждого дерева."
   ]
  },
  {
   "cell_type": "code",
   "execution_count": 22,
   "metadata": {},
   "outputs": [
    {
     "name": "stdout",
     "output_type": "stream",
     "text": [
      "The best f1-score: 57.34% for max_depth:13 and n_estimators: 50\n"
     ]
    }
   ],
   "source": [
    "parameters = {\"random_state\":[12345], \n",
    "              'max_depth':list(range(1, 15)), \n",
    "              'n_estimators':[50, 100, 200, 350]}\n",
    "model = RandomForestClassifier()\n",
    "clf_rf = GridSearchCV(model, parameters, scoring='f1', n_jobs=-1)\n",
    "clf_rf.fit(features_train, target_train)\n",
    "print(f\"The best f1-score: {clf_rf.best_score_:.2%} for max_depth:\" \n",
    "      f\"{clf_rf.best_params_['max_depth']} and n_estimators: {clf_rf.best_params_['n_estimators']}\")"
   ]
  },
  {
   "cell_type": "markdown",
   "metadata": {},
   "source": [
    "Результат близок к необходимому и без учёта дисбаланса, но недостаточно хорош."
   ]
  },
  {
   "cell_type": "markdown",
   "metadata": {},
   "source": [
    "### Сравнение лучших моделей по F1"
   ]
  },
  {
   "cell_type": "code",
   "execution_count": 23,
   "metadata": {},
   "outputs": [
    {
     "data": {
      "image/png": "[encoded data removed]",
      "text/plain": [
       "<Figure size 720x432 with 1 Axes>"
      ]
     },
     "metadata": {
      "needs_background": "light"
     },
     "output_type": "display_data"
    }
   ],
   "source": [
    "fig = pd.Series(data=[clf_knn.best_score_,\n",
    "                clf_lr.best_score_,\n",
    "                clf_dt.best_score_,\n",
    "                clf_rf.best_score_],\n",
    "                index=['KNN','LR','DT', 'RF']).plot(kind='bar', \n",
    "                                                    title=\"Unweighted classes\",\n",
    "                                                    fontsize=16,\n",
    "                                                    figsize=(10,6))\n",
    "fig.set_ylabel('F1');\n",
    "plt.axhline(y = 0.59, color = 'r', linestyle = '-');"
   ]
  },
  {
   "cell_type": "markdown",
   "metadata": {},
   "source": [
    "**Вывод** Не одна из моделей не дотягивает до целевого значения метрики. Есть и аутсайдер - логистическая регрессия."
   ]
  },
  {
   "cell_type": "markdown",
   "metadata": {},
   "source": [
    "## Борьба с дисбалансом"
   ]
  },
  {
   "cell_type": "markdown",
   "metadata": {},
   "source": [
    "### Взвешивание классов\n",
    "Применим веса классов для моделей, которые позволяют это сделать. И заново натренируем модели с подбором оптимальных параметров."
   ]
  },
  {
   "cell_type": "markdown",
   "metadata": {},
   "source": [
    "#### Логистическая регрессия"
   ]
  },
  {
   "cell_type": "code",
   "execution_count": 24,
   "metadata": {},
   "outputs": [
    {
     "name": "stdout",
     "output_type": "stream",
     "text": [
      "The best f1-score: 49.98% for C: 0.01\n"
     ]
    }
   ],
   "source": [
    "parameters = {\"random_state\":[12345], 'class_weight':['balanced'], 'C':list(np.logspace(-3, 4, 8))}\n",
    "model = LogisticRegression()\n",
    "clf_lr_w = GridSearchCV(model, parameters, scoring='f1')\n",
    "clf_lr_w.fit(features_train, target_train)\n",
    "print(f\"The best f1-score: {clf_lr_w.best_score_:.2%} for C: {clf_lr_w.best_params_['C']}\")"
   ]
  },
  {
   "cell_type": "markdown",
   "metadata": {},
   "source": [
    "Лучше чем было до взвешивания, но всё равно плохо."
   ]
  },
  {
   "cell_type": "markdown",
   "metadata": {},
   "source": [
    "#### Решающее дерево"
   ]
  },
  {
   "cell_type": "code",
   "execution_count": 25,
   "metadata": {},
   "outputs": [
    {
     "name": "stdout",
     "output_type": "stream",
     "text": [
      "The best f1-score: 56.23% for max_depth: 5\n"
     ]
    }
   ],
   "source": [
    "parameters = {\"random_state\":[12345], 'class_weight':['balanced'], 'max_depth':list(range(1, 20))}\n",
    "model = DecisionTreeClassifier()\n",
    "clf_dt_w = GridSearchCV(model, parameters, scoring='f1')\n",
    "clf_dt_w.fit(features_train, target_train)\n",
    "print(f\"The best f1-score: {clf_dt_w.best_score_:.2%} for max_depth: {clf_dt_w.best_params_['max_depth']}\")"
   ]
  },
  {
   "cell_type": "markdown",
   "metadata": {},
   "source": [
    "Значение практически не изменилось."
   ]
  },
  {
   "cell_type": "markdown",
   "metadata": {},
   "source": [
    "#### Случайный лес"
   ]
  },
  {
   "cell_type": "code",
   "execution_count": 26,
   "metadata": {},
   "outputs": [
    {
     "name": "stdout",
     "output_type": "stream",
     "text": [
      "The best f1-score: 61.50% for max_depth:10 and n_estimators: 100\n"
     ]
    }
   ],
   "source": [
    "parameters = {\"random_state\":[12345],\n",
    "              'class_weight':['balanced'],\n",
    "              'max_depth':list(range(1, 15)), \n",
    "              'n_estimators':[50, 100, 200, 350]}\n",
    "model = RandomForestClassifier()\n",
    "clf_rf_w = GridSearchCV(model, parameters, scoring='f1', n_jobs=-1)\n",
    "clf_rf_w.fit(features_train, target_train)\n",
    "print(f\"The best f1-score: {clf_rf_w.best_score_:.2%} for max_depth:\" \n",
    "      f\"{clf_rf_w.best_params_['max_depth']} and n_estimators: {clf_rf_w.best_params_['n_estimators']}\")"
   ]
  },
  {
   "cell_type": "markdown",
   "metadata": {},
   "source": [
    "Значение выросло до значения пригодного для сдачи проекта. Но дальше будет одна забавная вещь связанная с Upsampling и кросс-валидацией."
   ]
  },
  {
   "cell_type": "markdown",
   "metadata": {},
   "source": [
    "#### Сравнение лучших моделей по F1"
   ]
  },
  {
   "cell_type": "code",
   "execution_count": 27,
   "metadata": {
    "scrolled": true
   },
   "outputs": [
    {
     "data": {
      "image/png": "[encoded data removed]",
      "text/plain": [
       "<Figure size 720x432 with 1 Axes>"
      ]
     },
     "metadata": {
      "needs_background": "light"
     },
     "output_type": "display_data"
    }
   ],
   "source": [
    "fig = pd.Series(data=[clf_lr_w.best_score_,\n",
    "                clf_dt_w.best_score_,\n",
    "                clf_rf_w.best_score_],\n",
    "                index=['LR','DT', 'RF']).plot(kind='bar', \n",
    "                                                    title=\"Weighted classes\",\n",
    "                                                    fontsize=16,\n",
    "                                                    figsize=(10,6))\n",
    "fig.set_ylabel('F1');\n",
    "plt.axhline(y = 0.59, color = 'r', linestyle = '-');"
   ]
  },
  {
   "cell_type": "markdown",
   "metadata": {},
   "source": [
    "**Вывод** При использования автоматического взвешенного класса целевая метрика выросла и у случайного леса превысила порог."
   ]
  },
  {
   "cell_type": "markdown",
   "metadata": {},
   "source": [
    "### Downsampling уменьшение выборки\n",
    "\n",
    "Точек положительного класса меньше, чем точек отрицательного в 4 раза (0.25). Случайно удалив часть выборки можно добиться баланса классов."
   ]
  },
  {
   "cell_type": "code",
   "execution_count": 28,
   "metadata": {},
   "outputs": [
    {
     "data": {
      "image/png": "[encoded data removed]",
      "text/plain": [
       "<Figure size 504x504 with 1 Axes>"
      ]
     },
     "metadata": {},
     "output_type": "display_data"
    }
   ],
   "source": [
    "def downsample(features, target, fraction=0.25):\n",
    "    features_zeros = features[target == 0]\n",
    "    features_ones = features[target == 1]\n",
    "    target_zeros = target[target == 0]\n",
    "    target_ones = target[target == 1]\n",
    "\n",
    "    features_downsampled = pd.concat(\n",
    "        [features_zeros.sample(frac=fraction, random_state=12345)] + [features_ones])\n",
    "    target_downsampled = pd.concat(\n",
    "        [target_zeros.sample(frac=fraction, random_state=12345)] + [target_ones])\n",
    "    \n",
    "    features_downsampled, target_downsampled = shuffle(\n",
    "        features_downsampled, target_downsampled, random_state=12345)\n",
    "    \n",
    "    return features_downsampled, target_downsampled\n",
    "\n",
    "features_downsampled, target_downsampled = downsample(features_train, target_train, 0.25)\n",
    "fig = target_downsampled.value_counts().rename(index={1:\"Ушли\", 0:\"Остались\"}).plot(kind='pie', \n",
    "                                            title=\"Target classes:\",\n",
    "                                            fontsize=16,\n",
    "                                            legend=False,\n",
    "                                            autopct='%1.1f%%',\n",
    "                                            figsize=(7,7))\n",
    "fig.axes.title.set_size(20)\n",
    "fig.axes.set_ylabel(None);"
   ]
  },
  {
   "cell_type": "markdown",
   "metadata": {},
   "source": [
    "Дисбаланс устранён."
   ]
  },
  {
   "cell_type": "markdown",
   "metadata": {},
   "source": [
    "#### Метод k-ближайших соседей."
   ]
  },
  {
   "cell_type": "code",
   "execution_count": 29,
   "metadata": {},
   "outputs": [
    {
     "name": "stdout",
     "output_type": "stream",
     "text": [
      "The best f1-score: 75.71% for n_neighbors: 19\n"
     ]
    }
   ],
   "source": [
    "parameters = {'n_neighbors':list(range(1,20))}\n",
    "model = KNeighborsClassifier()\n",
    "clf_knn_d = GridSearchCV(model, parameters, scoring='f1')\n",
    "clf_knn_d.fit(features_downsampled, target_downsampled)\n",
    "print(f\"The best f1-score: {clf_knn_d.best_score_:.2%} for n_neighbors: {clf_knn_d.best_params_['n_neighbors']}\")"
   ]
  },
  {
   "cell_type": "markdown",
   "metadata": {},
   "source": [
    "Значимое возрастание критерия оценки. "
   ]
  },
  {
   "cell_type": "code",
   "execution_count": 30,
   "metadata": {},
   "outputs": [],
   "source": [
    "def score_model(model, params, resample_func, cv=None):\n",
    "    \"\"\"\n",
    "    Creates folds manually, and upsamples within each fold.\n",
    "    Returns an array of validation (recall) scores\n",
    "    \"\"\"\n",
    "    if cv is None:\n",
    "        cv = KFold(n_splits=5, random_state=12345, shuffle=True)\n",
    "    \n",
    "    scores = []\n",
    "    X_train = features_train.to_numpy()\n",
    "    y_train = target_train.to_numpy()\n",
    "    for train_fold_index, val_fold_index in cv.split(X_train, y_train):\n",
    "        # Get the training data\n",
    "        X_train_fold, y_train_fold = X_train[train_fold_index], y_train[train_fold_index]\n",
    "        # Get the validation data\n",
    "        X_val_fold, y_val_fold = X_train[val_fold_index], y_train[val_fold_index]\n",
    "\n",
    "        # Upsample only the data in the training section\n",
    "        X_train_fold_upsample, y_train_fold_upsample = resample_func(pd.DataFrame(data=X_train_fold),\n",
    "                                                                pd.Series(data = y_train_fold))\n",
    "        # Fit the model on the upsampled training data\n",
    "        model_obj = model(**params).fit(X_train_fold_upsample, y_train_fold_upsample)\n",
    "        # Score the model on the (non-upsampled) validation data\n",
    "        score = f1_score(y_val_fold, model_obj.predict(X_val_fold))\n",
    "        scores.append(score)\n",
    "    return np.array(scores)"
   ]
  },
  {
   "cell_type": "code",
   "execution_count": 31,
   "metadata": {},
   "outputs": [
    {
     "data": {
      "text/plain": [
       "{'n_neighbors': 12, 'f1_score': 0.5743942993126276}"
      ]
     },
     "execution_count": 31,
     "metadata": {},
     "output_type": "execute_result"
    }
   ],
   "source": [
    "score_tracker = []\n",
    "parameters = {'n_neighbors':list(range(1,20))}\n",
    "for n_neighbors in parameters['n_neighbors']:\n",
    "    example_params = {\n",
    "        'n_neighbors': n_neighbors,\n",
    "    }\n",
    "    example_params['f1_score'] = score_model(KNeighborsClassifier, example_params, downsample).mean()\n",
    "    score_tracker.append(example_params)\n",
    "        \n",
    "# What's the best model?\n",
    "best_knn_d = sorted(score_tracker, key=lambda x: x['f1_score'], reverse=True)[0]\n",
    "best_knn_d"
   ]
  },
  {
   "cell_type": "markdown",
   "metadata": {},
   "source": [
    "Лучше, чем при дисбалансе. Результат стал более реальным, чем при неправильной кросс-валидации при даунсамплинге."
   ]
  },
  {
   "cell_type": "markdown",
   "metadata": {},
   "source": [
    "#### Логистическая регрессия"
   ]
  },
  {
   "cell_type": "code",
   "execution_count": 32,
   "metadata": {},
   "outputs": [
    {
     "data": {
      "text/plain": [
       "{'C': 0.01, 'random_state': 12345, 'f1_score': 0.4928863684467119}"
      ]
     },
     "execution_count": 32,
     "metadata": {},
     "output_type": "execute_result"
    }
   ],
   "source": [
    "parameters = {\"random_state\":[12345], 'C':list(np.logspace(-3, 4, 8))}\n",
    "score_tracker = []\n",
    "for c in parameters['C']:\n",
    "    example_params = {\n",
    "        'C': c,\n",
    "        \"random_state\": 12345\n",
    "    }\n",
    "    example_params['f1_score'] = score_model(LogisticRegression, example_params, downsample).mean()\n",
    "    score_tracker.append(example_params)\n",
    "        \n",
    "# What's the best model?\n",
    "best_lr_d = sorted(score_tracker, key=lambda x: x['f1_score'], reverse=True)[0]\n",
    "best_lr_d"
   ]
  },
  {
   "cell_type": "markdown",
   "metadata": {},
   "source": [
    "Уменьшение выборки лучшим образом сказались на качестве модели, но это не самая лучшая модель."
   ]
  },
  {
   "cell_type": "markdown",
   "metadata": {},
   "source": [
    "#### Решающее дерево"
   ]
  },
  {
   "cell_type": "code",
   "execution_count": 33,
   "metadata": {},
   "outputs": [
    {
     "data": {
      "text/plain": [
       "{'max_depth': 6, 'random_state': 12345, 'f1_score': 0.5571826305924994}"
      ]
     },
     "execution_count": 33,
     "metadata": {},
     "output_type": "execute_result"
    }
   ],
   "source": [
    "parameters = {\"random_state\":[12345], 'max_depth':list(range(1, 20))} \n",
    "score_tracker = []\n",
    "for max_depth in parameters['max_depth']:\n",
    "    example_params = {\n",
    "        'max_depth': max_depth,\n",
    "        \"random_state\": 12345\n",
    "    }\n",
    "    example_params['f1_score'] = score_model(DecisionTreeClassifier, example_params, downsample).mean()\n",
    "    score_tracker.append(example_params)\n",
    "        \n",
    "# What's the best model?\n",
    "best_dt_d = sorted(score_tracker, key=lambda x: x['f1_score'], reverse=True)[0]\n",
    "best_dt_d"
   ]
  },
  {
   "cell_type": "markdown",
   "metadata": {},
   "source": [
    "Техника Downsampling показывает свою эффективность и здесь. Но результат хуже, чем при взвешивани. Видимо недообучение."
   ]
  },
  {
   "cell_type": "markdown",
   "metadata": {},
   "source": [
    "#### Случайный лес"
   ]
  },
  {
   "cell_type": "code",
   "execution_count": 34,
   "metadata": {},
   "outputs": [
    {
     "data": {
      "text/plain": [
       "{'max_depth': 6,\n",
       " 'random_state': 12345,\n",
       " 'n_estimators': 350,\n",
       " 'f1_score': 0.5777626120666073}"
      ]
     },
     "execution_count": 34,
     "metadata": {},
     "output_type": "execute_result"
    }
   ],
   "source": [
    "parameters = {\"random_state\":[12345], \n",
    "              'max_depth':list(range(1, 15)), \n",
    "              'n_estimators':[50, 100, 200, 350]}\n",
    "score_tracker = []\n",
    "for n_estimators in parameters['n_estimators']:\n",
    "    for max_depth in parameters['max_depth']:\n",
    "        example_params = {\n",
    "            'max_depth': max_depth,\n",
    "            \"random_state\": 12345,\n",
    "            \"n_estimators\": n_estimators\n",
    "        }\n",
    "        example_params['f1_score'] = score_model(RandomForestClassifier, example_params, downsample).mean()\n",
    "        score_tracker.append(example_params)\n",
    "        \n",
    "# What's the best model?\n",
    "best_rf_d = sorted(score_tracker, key=lambda x: x['f1_score'], reverse=True)[0]\n",
    "best_rf_d"
   ]
  },
  {
   "cell_type": "markdown",
   "metadata": {},
   "source": [
    "Результат хуже, чем при взвешивани. Видимо недообучение."
   ]
  },
  {
   "cell_type": "markdown",
   "metadata": {},
   "source": [
    "#### Сравнение лучших моделей по F1"
   ]
  },
  {
   "cell_type": "code",
   "execution_count": 35,
   "metadata": {},
   "outputs": [
    {
     "data": {
      "image/png": "[encoded data removed]",
      "text/plain": [
       "<Figure size 720x432 with 1 Axes>"
      ]
     },
     "metadata": {
      "needs_background": "light"
     },
     "output_type": "display_data"
    }
   ],
   "source": [
    "fig = pd.Series(data=[best_knn_d['f1_score'],\n",
    "                best_lr_d['f1_score'],\n",
    "                best_dt_d['f1_score'],\n",
    "                best_rf_d['f1_score']],\n",
    "                index=['KNN','LR','DT', 'RF']).plot(kind='bar', \n",
    "                                                    title=\"Unweighted classes with dowsampling\",\n",
    "                                                    fontsize=16,\n",
    "                                                    figsize=(10,6))\n",
    "fig.set_ylabel('F1');\n",
    "plt.axhline(y = 0.59, color = 'r', linestyle = '-');"
   ]
  },
  {
   "cell_type": "markdown",
   "metadata": {},
   "source": [
    "**Вывод** Техника Downsampling не оправдала себя. При таком простом методе могут быть потеряны наблюдения, несущие полезную информацию, поэтому повышается риск недообучения моделей."
   ]
  },
  {
   "cell_type": "markdown",
   "metadata": {},
   "source": [
    "### Upsampling увеличение выборки"
   ]
  },
  {
   "cell_type": "code",
   "execution_count": 36,
   "metadata": {},
   "outputs": [
    {
     "data": {
      "image/png": "[encoded data removed]",
      "text/plain": [
       "<Figure size 504x504 with 1 Axes>"
      ]
     },
     "metadata": {},
     "output_type": "display_data"
    }
   ],
   "source": [
    "def upsample(features, target, repeat=4):\n",
    "    features_zeros = features[target == 0]\n",
    "    features_ones = features[target == 1]\n",
    "    target_zeros = target[target == 0]\n",
    "    target_ones = target[target == 1]\n",
    "\n",
    "    features_upsampled = pd.concat([features_zeros] + [features_ones] * repeat)\n",
    "    target_upsampled = pd.concat([target_zeros] + [target_ones] * repeat)\n",
    "    \n",
    "    features_upsampled, target_upsampled = shuffle(\n",
    "        features_upsampled, target_upsampled, random_state=12345)\n",
    "    \n",
    "    return features_upsampled, target_upsampled\n",
    "\n",
    "features_upsampled, target_upsampled = upsample(features_train, target_train, 4)\n",
    "fig = target_upsampled.value_counts().rename(index={1:\"Ушли\", 0:\"Остались\"}).plot(kind='pie', \n",
    "                                            title=\"Target classes:\",\n",
    "                                            fontsize=16,\n",
    "                                            legend=False,\n",
    "                                            autopct='%1.1f%%',\n",
    "                                            figsize=(7,7))\n",
    "fig.axes.title.set_size(20)\n",
    "fig.axes.set_ylabel(None);"
   ]
  },
  {
   "cell_type": "markdown",
   "metadata": {},
   "source": [
    "Дисбаланс устранён."
   ]
  },
  {
   "cell_type": "markdown",
   "metadata": {},
   "source": [
    "#### Метод k-ближайших соседей"
   ]
  },
  {
   "cell_type": "code",
   "execution_count": 37,
   "metadata": {},
   "outputs": [
    {
     "name": "stdout",
     "output_type": "stream",
     "text": [
      "The best f1-score: 93.26% for n_neighbors: 1\n"
     ]
    }
   ],
   "source": [
    "parameters = {'n_neighbors':list(range(1,20))}\n",
    "model = KNeighborsClassifier()\n",
    "clf_knn_u = GridSearchCV(model, parameters, scoring='f1')\n",
    "clf_knn_u.fit(features_upsampled, target_upsampled)\n",
    "print(f\"The best f1-score: {clf_knn_u.best_score_:.2%} for n_neighbors: {clf_knn_u.best_params_['n_neighbors']}\")"
   ]
  },
  {
   "cell_type": "markdown",
   "metadata": {},
   "source": [
    "Вау-вау! Супер метод ближайших соседей достиг потрясающего значения метрики. Самая лучшая модель. Или...\n",
    "\n",
    "На самом деле нет. Нужно обратить внимание на число соседей - 1. Это свидетельствует о сильном переобучении. Но почему F1-мера на кросс-проверки такая большая? А это потому что при кросс-проверке используются тоже дублированные сэмплы. Эта проблема возникает и при более продвинутых техниках upsampling и есть несколько выриантов борьбы с ней.\n",
    "1) Отказаться для этой ситуации от GridSearchCV и перекрёстной проверки разделив выборку на обучающую и валидационную. Увеличить только обучающую. Подбирать параметры в цикле.\n",
    "\n",
    "2) Отказаться для этой ситуации от GridSearchCV и написать функцию перекрёстной проверки с учётом upsampling. Подбирать параметры в цикле.\n",
    "\n",
    "3) Использовать вспомогательные классы модели. (Из пакета imblearn например).\n",
    "\n",
    "Попробуем реализовать второй способ."
   ]
  },
  {
   "cell_type": "code",
   "execution_count": 38,
   "metadata": {},
   "outputs": [
    {
     "data": {
      "text/plain": [
       "{'n_neighbors': 16, 'f1_score': 0.5717311980719859}"
      ]
     },
     "execution_count": 38,
     "metadata": {},
     "output_type": "execute_result"
    }
   ],
   "source": [
    "score_tracker = []\n",
    "parameters = {'n_neighbors':list(range(1,20))}\n",
    "for n_neighbors in parameters['n_neighbors']:\n",
    "    example_params = {\n",
    "        'n_neighbors': n_neighbors,\n",
    "    }\n",
    "    example_params['f1_score'] = score_model(KNeighborsClassifier,example_params, upsample).mean()\n",
    "    score_tracker.append(example_params)\n",
    "        \n",
    "# What's the best model?\n",
    "best_knn_u = sorted(score_tracker, key=lambda x: x['f1_score'], reverse=True)[0]\n",
    "best_knn_u"
   ]
  },
  {
   "cell_type": "markdown",
   "metadata": {},
   "source": [
    "Вот теперь всё более реально."
   ]
  },
  {
   "cell_type": "markdown",
   "metadata": {},
   "source": [
    "#### Логистическая регрессия"
   ]
  },
  {
   "cell_type": "code",
   "execution_count": 39,
   "metadata": {},
   "outputs": [
    {
     "data": {
      "text/plain": [
       "{'C': 0.01, 'random_state': 12345, 'f1_score': 0.49503933733040845}"
      ]
     },
     "execution_count": 39,
     "metadata": {},
     "output_type": "execute_result"
    }
   ],
   "source": [
    "parameters = {\"random_state\":[12345], 'C':list(np.logspace(-3, 4, 8))}\n",
    "score_tracker = []\n",
    "for c in parameters['C']:\n",
    "    example_params = {\n",
    "        'C': c,\n",
    "        \"random_state\": 12345\n",
    "    }\n",
    "    example_params['f1_score'] = score_model(LogisticRegression, example_params, upsample).mean()\n",
    "    score_tracker.append(example_params)\n",
    "        \n",
    "# What's the best model?\n",
    "best_lr_u = sorted(score_tracker, key=lambda x: x['f1_score'], reverse=True)[0]\n",
    "best_lr_u"
   ]
  },
  {
   "cell_type": "markdown",
   "metadata": {},
   "source": [
    "Примерно одинаково, как  при downsampling так и при взвешенных классах."
   ]
  },
  {
   "cell_type": "markdown",
   "metadata": {},
   "source": [
    "#### Решающее дерево"
   ]
  },
  {
   "cell_type": "code",
   "execution_count": 40,
   "metadata": {},
   "outputs": [
    {
     "data": {
      "text/plain": [
       "{'max_depth': 6, 'random_state': 12345, 'f1_score': 0.5711716035372119}"
      ]
     },
     "execution_count": 40,
     "metadata": {},
     "output_type": "execute_result"
    }
   ],
   "source": [
    "parameters = {\"random_state\":[12345], 'max_depth':list(range(1, 20))} \n",
    "score_tracker = []\n",
    "for max_depth in parameters['max_depth']:\n",
    "    example_params = {\n",
    "        'max_depth': max_depth,\n",
    "        \"random_state\": 12345\n",
    "    }\n",
    "    example_params['f1_score'] = score_model(DecisionTreeClassifier, example_params, upsample).mean()\n",
    "    score_tracker.append(example_params)\n",
    "        \n",
    "# What's the best model?\n",
    "best_dt_u = sorted(score_tracker, key=lambda x: x['f1_score'], reverse=True)[0]\n",
    "best_dt_u"
   ]
  },
  {
   "cell_type": "markdown",
   "metadata": {},
   "source": [
    "Лучше, чем при взвешенных классах и при downsampling."
   ]
  },
  {
   "cell_type": "markdown",
   "metadata": {},
   "source": [
    "#### Случайный лес"
   ]
  },
  {
   "cell_type": "code",
   "execution_count": 41,
   "metadata": {},
   "outputs": [
    {
     "data": {
      "text/plain": [
       "{'max_depth': 12,\n",
       " 'random_state': 12345,\n",
       " 'n_estimators': 50,\n",
       " 'f1_score': 0.6039138264424277}"
      ]
     },
     "execution_count": 41,
     "metadata": {},
     "output_type": "execute_result"
    }
   ],
   "source": [
    "parameters = {\"random_state\":[12345], \n",
    "              'max_depth':list(range(1, 15)), \n",
    "              'n_estimators':[50, 100, 200, 350]}\n",
    "score_tracker = []\n",
    "for n_estimators in parameters['n_estimators']:\n",
    "    for max_depth in parameters['max_depth']:\n",
    "        example_params = {\n",
    "            'max_depth': max_depth,\n",
    "            \"random_state\": 12345,\n",
    "            \"n_estimators\": n_estimators\n",
    "        }\n",
    "        example_params['f1_score'] = score_model(RandomForestClassifier, example_params,upsample).mean()\n",
    "        score_tracker.append(example_params)\n",
    "        \n",
    "# What's the best model?\n",
    "best_rf_u = sorted(score_tracker, key=lambda x: x['f1_score'], reverse=True)[0]\n",
    "best_rf_u"
   ]
  },
  {
   "cell_type": "markdown",
   "metadata": {},
   "source": [
    "Впринципе довольно хорошая модель по метрики, но не дотягивает до такой же при взвешенных классах."
   ]
  },
  {
   "cell_type": "markdown",
   "metadata": {},
   "source": [
    "#### Сравнение лучших моделей по F1"
   ]
  },
  {
   "cell_type": "code",
   "execution_count": 42,
   "metadata": {},
   "outputs": [
    {
     "data": {
      "image/png": "[encoded data removed]",
      "text/plain": [
       "<Figure size 720x432 with 1 Axes>"
      ]
     },
     "metadata": {
      "needs_background": "light"
     },
     "output_type": "display_data"
    }
   ],
   "source": [
    "fig = pd.Series(data=[best_knn_u['f1_score'],\n",
    "                best_lr_u['f1_score'],\n",
    "                best_dt_u['f1_score'],\n",
    "                best_rf_u['f1_score']],\n",
    "                index=['KNN','LR','DT', 'RF']).plot(kind='bar', \n",
    "                                                    title=\"Unweighted classes with dowsampling\",\n",
    "                                                    fontsize=16,\n",
    "                                                    figsize=(10,6))\n",
    "fig.set_ylabel('F1');\n",
    "plt.axhline(y = 0.59, color = 'r', linestyle = '-');"
   ]
  },
  {
   "cell_type": "markdown",
   "metadata": {},
   "source": [
    "**Вывод** При кросс-валидации результаты по метрики получились лучше, чем при downsampling, но так ли это на самом деле решим при тестировании на тестовом наборе. Тестировать будем лучшие модели - деревья решений."
   ]
  },
  {
   "cell_type": "markdown",
   "metadata": {},
   "source": [
    "## Тестирование модели"
   ]
  },
  {
   "cell_type": "code",
   "execution_count": 43,
   "metadata": {},
   "outputs": [],
   "source": [
    "plt.rcParams[\"figure.figsize\"] = (10,10)\n",
    "def roc_plot(target_valid, features_valid, model):\n",
    "    probabilities_valid = model.predict_proba(features_valid)\n",
    "    probabilities_one_valid = probabilities_valid[:, 1]\n",
    "    fpr, tpr, thresholds = roc_curve(target_valid, probabilities_one_valid)\n",
    "    plt.plot(fpr, tpr, linestyle='-')\n",
    "    plt.xlim([0,1])\n",
    "    plt.ylim([0,1])\n",
    "    plt.xlabel(\"False Positive Rate\")\n",
    "    plt.ylabel('True Positive Rate')\n",
    "    plt.title(\"ROC-кривая\")"
   ]
  },
  {
   "cell_type": "markdown",
   "metadata": {},
   "source": [
    "### Базовая линия"
   ]
  },
  {
   "cell_type": "code",
   "execution_count": 44,
   "metadata": {
    "scrolled": true
   },
   "outputs": [
    {
     "name": "stdout",
     "output_type": "stream",
     "text": [
      "The baseline F1-score: 0.00%\n",
      "The baseline AUC-ROC-score: 50.00%\n"
     ]
    },
    {
     "data": {
      "image/png": "[encoded data removed]",
      "text/plain": [
       "<Figure size 720x720 with 1 Axes>"
      ]
     },
     "metadata": {
      "needs_background": "light"
     },
     "output_type": "display_data"
    }
   ],
   "source": [
    "predicted_test = model_bl.predict(features_test)\n",
    "print(f\"The baseline F1-score: {f1_score(target_test, predicted_test):.2%}\")\n",
    "print(f\"The baseline AUC-ROC-score: {roc_auc_score(target_test, model_bl.predict_proba(features_test)[:, 1]):.2%}\")\n",
    "roc_plot(target_test, features_test, model_bl)"
   ]
  },
  {
   "cell_type": "markdown",
   "metadata": {},
   "source": [
    "Соответствует случайной модели."
   ]
  },
  {
   "cell_type": "markdown",
   "metadata": {},
   "source": [
    "### Модель  с взвешенными классами"
   ]
  },
  {
   "cell_type": "code",
   "execution_count": 45,
   "metadata": {
    "scrolled": true
   },
   "outputs": [
    {
     "name": "stdout",
     "output_type": "stream",
     "text": [
      "The weighted classes RF F1-score: 60.69%\n",
      "The weighted classes RF AUC-ROC-score: 85.92%\n"
     ]
    },
    {
     "data": {
      "image/png": "[encoded data removed]",
      "text/plain": [
       "<Figure size 720x720 with 1 Axes>"
      ]
     },
     "metadata": {
      "needs_background": "light"
     },
     "output_type": "display_data"
    }
   ],
   "source": [
    "model_best = clf_rf_w.best_estimator_\n",
    "predicted_test = model_best.predict(features_test)\n",
    "print(f\"The weighted classes RF F1-score: {f1_score(target_test, predicted_test):.2%}\")\n",
    "print(f\"The weighted classes RF AUC-ROC-score: {roc_auc_score(target_test, model_best.predict_proba(features_test)[:, 1]):.2%}\")\n",
    "roc_plot(target_test, features_test, model_best)"
   ]
  },
  {
   "cell_type": "markdown",
   "metadata": {},
   "source": [
    "**Достаточно высокое значение как F1-меры так и AUC.**"
   ]
  },
  {
   "cell_type": "markdown",
   "metadata": {},
   "source": [
    "### Модель с простым увеличением выборки"
   ]
  },
  {
   "cell_type": "code",
   "execution_count": 46,
   "metadata": {},
   "outputs": [
    {
     "name": "stdout",
     "output_type": "stream",
     "text": [
      "The upsampling RF F1-score: 60.76%\n",
      "The upsampling RF AUC-ROC-score: 85.83%\n"
     ]
    },
    {
     "data": {
      "image/png": "[encoded data removed]",
      "text/plain": [
       "<Figure size 720x720 with 1 Axes>"
      ]
     },
     "metadata": {
      "needs_background": "light"
     },
     "output_type": "display_data"
    }
   ],
   "source": [
    "model_best=RandomForestClassifier(max_depth=12, random_state=12345, n_estimators=200)\n",
    "model_best.fit(features_upsampled, target_upsampled)\n",
    "predicted_test = model_best.predict(features_test)\n",
    "print(f\"The upsampling RF F1-score: {f1_score(target_test, predicted_test):.2%}\")\n",
    "print(f\"The upsampling RF AUC-ROC-score: {roc_auc_score(target_test, model_best.predict_proba(features_test)[:, 1]):.2%}\")\n",
    "roc_plot(target_test, features_test, model_best)"
   ]
  },
  {
   "cell_type": "markdown",
   "metadata": {},
   "source": [
    "**И F1 и AUC-ROC хуже, чем у модели со взвешенными классами. Может в будущем следует попробовать более продвинутые варианты Upsampling.**"
   ]
  },
  {
   "cell_type": "markdown",
   "metadata": {},
   "source": [
    "## Чек-лист готовности проекта"
   ]
  },
  {
   "cell_type": "markdown",
   "metadata": {},
   "source": [
    "Поставьте 'x' в выполненных пунктах. Далее нажмите Shift+Enter."
   ]
  },
  {
   "cell_type": "markdown",
   "metadata": {},
   "source": [
    "- [x]  Jupyter Notebook открыт\n",
    "- [x]  Весь код выполняется без ошибок\n",
    "- [x]  Ячейки с кодом расположены в порядке исполнения\n",
    "- [x]  Выполнен шаг 1: данные подготовлены\n",
    "- [x]  Выполнен шаг 2: задача исследована\n",
    "    - [x]  Исследован баланс классов\n",
    "    - [x]  Изучены модели без учёта дисбаланса\n",
    "    - [x]  Написаны выводы по результатам исследования\n",
    "- [x]  Выполнен шаг 3: учтён дисбаланс\n",
    "    - [x]  Применено несколько способов борьбы с дисбалансом\n",
    "    - [x]  Написаны выводы по результатам исследования\n",
    "- [x]  Выполнен шаг 4: проведено тестирование\n",
    "- [x]  Удалось достичь *F1*-меры не менее 0.59\n",
    "- [x]  Исследована метрика *AUC-ROC*"
   ]
  }
 ],
 "metadata": {
  "ExecuteTimeLog": [
   {
    "duration": 1638,
    "start_time": "2022-10-19T10:22:47.813Z"
   },
   {
    "duration": 160,
    "start_time": "2022-10-19T10:25:23.592Z"
   },
   {
    "duration": 124,
    "start_time": "2022-10-19T10:26:31.502Z"
   },
   {
    "duration": 40,
    "start_time": "2022-10-19T10:26:39.426Z"
   },
   {
    "duration": 13,
    "start_time": "2022-10-19T10:26:40.478Z"
   },
   {
    "duration": 17,
    "start_time": "2022-10-19T10:30:11.921Z"
   },
   {
    "duration": 40,
    "start_time": "2022-10-19T10:32:52.760Z"
   },
   {
    "duration": 16,
    "start_time": "2022-10-19T10:35:21.817Z"
   },
   {
    "duration": 14,
    "start_time": "2022-10-19T10:35:39.308Z"
   },
   {
    "duration": 7,
    "start_time": "2022-10-19T10:37:40.767Z"
   },
   {
    "duration": 19,
    "start_time": "2022-10-19T10:37:54.502Z"
   },
   {
    "duration": 50777,
    "start_time": "2022-10-19T10:42:10.550Z"
   },
   {
    "duration": 10,
    "start_time": "2022-10-19T10:46:56.885Z"
   },
   {
    "duration": 43,
    "start_time": "2022-10-19T10:47:15.883Z"
   },
   {
    "duration": 17,
    "start_time": "2022-10-19T10:47:16.623Z"
   },
   {
    "duration": 14,
    "start_time": "2022-10-19T10:47:17.383Z"
   },
   {
    "duration": 45,
    "start_time": "2022-10-19T10:47:18.235Z"
   },
   {
    "duration": 14,
    "start_time": "2022-10-19T10:47:20.028Z"
   },
   {
    "duration": 18,
    "start_time": "2022-10-19T10:47:21.662Z"
   },
   {
    "duration": 13,
    "start_time": "2022-10-19T10:47:24.983Z"
   },
   {
    "duration": 12,
    "start_time": "2022-10-19T13:18:46.151Z"
   },
   {
    "duration": 4,
    "start_time": "2022-10-19T13:19:49.777Z"
   },
   {
    "duration": 36,
    "start_time": "2022-10-19T13:19:51.057Z"
   },
   {
    "duration": 13,
    "start_time": "2022-10-19T13:19:52.259Z"
   },
   {
    "duration": 13,
    "start_time": "2022-10-19T13:19:53.348Z"
   },
   {
    "duration": 36,
    "start_time": "2022-10-19T13:19:54.454Z"
   },
   {
    "duration": 11,
    "start_time": "2022-10-19T13:19:56.353Z"
   },
   {
    "duration": 20,
    "start_time": "2022-10-19T13:19:58.249Z"
   },
   {
    "duration": 12,
    "start_time": "2022-10-19T13:20:05.152Z"
   },
   {
    "duration": 334,
    "start_time": "2022-10-19T13:20:08.338Z"
   },
   {
    "duration": 724,
    "start_time": "2022-10-19T13:20:23.931Z"
   },
   {
    "duration": 460,
    "start_time": "2022-10-19T13:23:38.003Z"
   },
   {
    "duration": 287,
    "start_time": "2022-10-19T13:24:23.536Z"
   },
   {
    "duration": 304,
    "start_time": "2022-10-19T13:25:05.341Z"
   },
   {
    "duration": 8,
    "start_time": "2022-10-19T13:32:01.346Z"
   },
   {
    "duration": 21,
    "start_time": "2022-10-19T13:32:13.280Z"
   },
   {
    "duration": 19,
    "start_time": "2022-10-19T13:33:08.260Z"
   },
   {
    "duration": 15,
    "start_time": "2022-10-19T13:33:18.540Z"
   },
   {
    "duration": 4,
    "start_time": "2022-10-19T13:40:55.996Z"
   },
   {
    "duration": 4,
    "start_time": "2022-10-19T13:42:48.335Z"
   },
   {
    "duration": 36,
    "start_time": "2022-10-19T13:42:49.523Z"
   },
   {
    "duration": 17,
    "start_time": "2022-10-19T13:42:50.630Z"
   },
   {
    "duration": 18,
    "start_time": "2022-10-19T13:42:51.966Z"
   },
   {
    "duration": 40,
    "start_time": "2022-10-19T13:42:53.095Z"
   },
   {
    "duration": 10,
    "start_time": "2022-10-19T13:42:58.026Z"
   },
   {
    "duration": 5,
    "start_time": "2022-10-19T13:43:13.563Z"
   },
   {
    "duration": 5,
    "start_time": "2022-10-19T13:44:40.996Z"
   },
   {
    "duration": 10,
    "start_time": "2022-10-19T13:44:42.985Z"
   },
   {
    "duration": 15,
    "start_time": "2022-10-19T13:44:45.571Z"
   },
   {
    "duration": 12,
    "start_time": "2022-10-19T13:44:53.732Z"
   },
   {
    "duration": 303,
    "start_time": "2022-10-19T13:45:46.188Z"
   },
   {
    "duration": 16,
    "start_time": "2022-10-19T13:45:56.757Z"
   },
   {
    "duration": 19,
    "start_time": "2022-10-19T13:46:16.706Z"
   },
   {
    "duration": 3,
    "start_time": "2022-10-19T14:05:20.324Z"
   },
   {
    "duration": 709,
    "start_time": "2022-10-19T14:05:45.377Z"
   },
   {
    "duration": 3099,
    "start_time": "2022-10-19T14:06:22.089Z"
   },
   {
    "duration": 3,
    "start_time": "2022-10-19T14:07:15.448Z"
   },
   {
    "duration": 36,
    "start_time": "2022-10-19T14:07:16.624Z"
   },
   {
    "duration": 11,
    "start_time": "2022-10-19T14:07:17.176Z"
   },
   {
    "duration": 14,
    "start_time": "2022-10-19T14:07:17.675Z"
   },
   {
    "duration": 268,
    "start_time": "2022-10-19T14:07:18.350Z"
   },
   {
    "duration": 5,
    "start_time": "2022-10-19T14:07:19.753Z"
   },
   {
    "duration": 10,
    "start_time": "2022-10-19T14:07:20.650Z"
   },
   {
    "duration": 16,
    "start_time": "2022-10-19T14:07:21.866Z"
   },
   {
    "duration": 12,
    "start_time": "2022-10-19T14:07:23.317Z"
   },
   {
    "duration": 311,
    "start_time": "2022-10-19T14:07:24.746Z"
   },
   {
    "duration": 22,
    "start_time": "2022-10-19T14:07:29.401Z"
   },
   {
    "duration": 3,
    "start_time": "2022-10-19T14:07:30.960Z"
   },
   {
    "duration": 2755,
    "start_time": "2022-10-19T14:07:36.200Z"
   },
   {
    "duration": 4,
    "start_time": "2022-10-19T14:08:11.464Z"
   },
   {
    "duration": 41,
    "start_time": "2022-10-19T14:08:16.201Z"
   },
   {
    "duration": 11,
    "start_time": "2022-10-19T14:08:17.144Z"
   },
   {
    "duration": 12,
    "start_time": "2022-10-19T14:08:18.078Z"
   },
   {
    "duration": 42,
    "start_time": "2022-10-19T14:08:19.202Z"
   },
   {
    "duration": 6,
    "start_time": "2022-10-19T14:08:21.043Z"
   },
   {
    "duration": 17,
    "start_time": "2022-10-19T14:08:22.400Z"
   },
   {
    "duration": 21,
    "start_time": "2022-10-19T14:08:26.631Z"
   },
   {
    "duration": 12,
    "start_time": "2022-10-19T14:08:29.060Z"
   },
   {
    "duration": 305,
    "start_time": "2022-10-19T14:08:31.619Z"
   },
   {
    "duration": 25,
    "start_time": "2022-10-19T14:08:34.719Z"
   },
   {
    "duration": 6,
    "start_time": "2022-10-19T14:08:38.014Z"
   },
   {
    "duration": 3886,
    "start_time": "2022-10-19T14:08:53.183Z"
   },
   {
    "duration": 2694,
    "start_time": "2022-10-19T14:09:30.095Z"
   },
   {
    "duration": 3285,
    "start_time": "2022-10-19T14:13:09.789Z"
   },
   {
    "duration": 12354,
    "start_time": "2022-10-19T14:14:19.781Z"
   },
   {
    "duration": 12280,
    "start_time": "2022-10-19T14:15:51.815Z"
   },
   {
    "duration": 9,
    "start_time": "2022-10-20T05:37:45.800Z"
   },
   {
    "duration": 10,
    "start_time": "2022-10-20T07:25:28.529Z"
   },
   {
    "duration": 4,
    "start_time": "2022-10-20T07:25:48.912Z"
   },
   {
    "duration": 36,
    "start_time": "2022-10-20T07:25:50.415Z"
   },
   {
    "duration": 11,
    "start_time": "2022-10-20T07:25:51.448Z"
   },
   {
    "duration": 11,
    "start_time": "2022-10-20T07:25:52.432Z"
   },
   {
    "duration": 35,
    "start_time": "2022-10-20T07:25:53.207Z"
   },
   {
    "duration": 5,
    "start_time": "2022-10-20T07:25:55.967Z"
   },
   {
    "duration": 11,
    "start_time": "2022-10-20T07:26:07.766Z"
   },
   {
    "duration": 14,
    "start_time": "2022-10-20T07:26:09.142Z"
   },
   {
    "duration": 11,
    "start_time": "2022-10-20T07:26:15.445Z"
   },
   {
    "duration": 303,
    "start_time": "2022-10-20T07:26:46.350Z"
   },
   {
    "duration": 16,
    "start_time": "2022-10-20T07:27:03.893Z"
   },
   {
    "duration": 3,
    "start_time": "2022-10-20T07:27:09.716Z"
   },
   {
    "duration": 10572,
    "start_time": "2022-10-20T07:27:10.869Z"
   },
   {
    "duration": 10,
    "start_time": "2022-10-20T07:33:38.009Z"
   },
   {
    "duration": 13,
    "start_time": "2022-10-20T07:33:54.135Z"
   },
   {
    "duration": 22,
    "start_time": "2022-10-20T07:34:23.381Z"
   },
   {
    "duration": 10,
    "start_time": "2022-10-20T07:34:52.654Z"
   },
   {
    "duration": 4,
    "start_time": "2022-10-20T07:35:35.128Z"
   },
   {
    "duration": 35,
    "start_time": "2022-10-20T07:35:35.628Z"
   },
   {
    "duration": 13,
    "start_time": "2022-10-20T07:35:36.058Z"
   },
   {
    "duration": 11,
    "start_time": "2022-10-20T07:35:36.539Z"
   },
   {
    "duration": 35,
    "start_time": "2022-10-20T07:35:37.082Z"
   },
   {
    "duration": 6,
    "start_time": "2022-10-20T07:35:37.965Z"
   },
   {
    "duration": 12,
    "start_time": "2022-10-20T07:35:38.927Z"
   },
   {
    "duration": 16,
    "start_time": "2022-10-20T07:35:40.210Z"
   },
   {
    "duration": 11,
    "start_time": "2022-10-20T07:35:42.115Z"
   },
   {
    "duration": 598,
    "start_time": "2022-10-20T07:35:43.236Z"
   },
   {
    "duration": 15,
    "start_time": "2022-10-20T07:35:43.860Z"
   },
   {
    "duration": 2,
    "start_time": "2022-10-20T07:35:45.549Z"
   },
   {
    "duration": 10717,
    "start_time": "2022-10-20T07:35:46.568Z"
   },
   {
    "duration": 261,
    "start_time": "2022-10-20T07:36:15.789Z"
   },
   {
    "duration": 20,
    "start_time": "2022-10-20T07:36:38.284Z"
   },
   {
    "duration": 5,
    "start_time": "2022-10-20T07:37:55.737Z"
   },
   {
    "duration": 46,
    "start_time": "2022-10-20T07:37:55.743Z"
   },
   {
    "duration": 12,
    "start_time": "2022-10-20T07:37:55.790Z"
   },
   {
    "duration": 16,
    "start_time": "2022-10-20T07:37:55.803Z"
   },
   {
    "duration": 39,
    "start_time": "2022-10-20T07:37:55.820Z"
   },
   {
    "duration": 5,
    "start_time": "2022-10-20T07:37:55.861Z"
   },
   {
    "duration": 26,
    "start_time": "2022-10-20T07:37:55.867Z"
   },
   {
    "duration": 17,
    "start_time": "2022-10-20T07:37:55.894Z"
   },
   {
    "duration": 10,
    "start_time": "2022-10-20T07:37:55.913Z"
   },
   {
    "duration": 296,
    "start_time": "2022-10-20T07:37:55.924Z"
   },
   {
    "duration": 17,
    "start_time": "2022-10-20T07:37:56.221Z"
   },
   {
    "duration": 3,
    "start_time": "2022-10-20T07:37:56.240Z"
   },
   {
    "duration": 10847,
    "start_time": "2022-10-20T07:37:56.244Z"
   },
   {
    "duration": 17,
    "start_time": "2022-10-20T07:38:14.908Z"
   },
   {
    "duration": 10,
    "start_time": "2022-10-20T07:38:19.243Z"
   },
   {
    "duration": 1208,
    "start_time": "2022-10-20T07:41:41.063Z"
   },
   {
    "duration": 4,
    "start_time": "2022-10-20T07:42:02.832Z"
   },
   {
    "duration": 6,
    "start_time": "2022-10-20T07:44:44.803Z"
   },
   {
    "duration": 85,
    "start_time": "2022-10-20T07:59:07.366Z"
   },
   {
    "duration": 78,
    "start_time": "2022-10-20T07:59:19.599Z"
   },
   {
    "duration": 82,
    "start_time": "2022-10-20T07:59:39.663Z"
   },
   {
    "duration": 7,
    "start_time": "2022-10-20T08:08:56.199Z"
   },
   {
    "duration": 22,
    "start_time": "2022-10-20T08:31:20.842Z"
   },
   {
    "duration": 7000,
    "start_time": "2022-10-20T08:31:43.849Z"
   },
   {
    "duration": 19118,
    "start_time": "2022-10-20T08:37:35.996Z"
   },
   {
    "duration": 19083,
    "start_time": "2022-10-20T08:38:22.028Z"
   },
   {
    "duration": 7328,
    "start_time": "2022-10-20T08:39:15.682Z"
   },
   {
    "duration": 19,
    "start_time": "2022-10-20T08:44:31.116Z"
   },
   {
    "duration": 20,
    "start_time": "2022-10-20T08:45:12.074Z"
   },
   {
    "duration": 7641,
    "start_time": "2022-10-20T08:45:33.769Z"
   },
   {
    "duration": 1568,
    "start_time": "2022-10-20T08:45:53.076Z"
   },
   {
    "duration": 1580,
    "start_time": "2022-10-20T08:46:22.129Z"
   },
   {
    "duration": 20,
    "start_time": "2022-10-20T09:08:39.839Z"
   },
   {
    "duration": 410070,
    "start_time": "2022-10-20T09:09:47.494Z"
   },
   {
    "duration": 309873,
    "start_time": "2022-10-20T09:16:41.498Z"
   },
   {
    "duration": 1320,
    "start_time": "2022-10-20T09:22:22.370Z"
   },
   {
    "duration": 39,
    "start_time": "2022-10-20T09:22:23.692Z"
   },
   {
    "duration": 12,
    "start_time": "2022-10-20T09:22:23.733Z"
   },
   {
    "duration": 14,
    "start_time": "2022-10-20T09:22:23.748Z"
   },
   {
    "duration": 42,
    "start_time": "2022-10-20T09:22:23.764Z"
   },
   {
    "duration": 5,
    "start_time": "2022-10-20T09:22:23.808Z"
   },
   {
    "duration": 20,
    "start_time": "2022-10-20T09:22:23.815Z"
   },
   {
    "duration": 17,
    "start_time": "2022-10-20T09:22:23.837Z"
   },
   {
    "duration": 12,
    "start_time": "2022-10-20T09:22:23.855Z"
   },
   {
    "duration": 331,
    "start_time": "2022-10-20T09:22:23.869Z"
   },
   {
    "duration": 17,
    "start_time": "2022-10-20T09:22:24.202Z"
   },
   {
    "duration": 5,
    "start_time": "2022-10-20T09:22:24.221Z"
   },
   {
    "duration": 10936,
    "start_time": "2022-10-20T09:22:24.228Z"
   },
   {
    "duration": 18,
    "start_time": "2022-10-20T09:22:35.165Z"
   },
   {
    "duration": 25,
    "start_time": "2022-10-20T09:22:35.185Z"
   },
   {
    "duration": 11,
    "start_time": "2022-10-20T09:22:35.211Z"
   },
   {
    "duration": 21,
    "start_time": "2022-10-20T09:22:35.223Z"
   },
   {
    "duration": 101,
    "start_time": "2022-10-20T09:22:35.246Z"
   },
   {
    "duration": 8,
    "start_time": "2022-10-20T09:22:35.349Z"
   },
   {
    "duration": 7341,
    "start_time": "2022-10-20T09:22:35.359Z"
   },
   {
    "duration": 7905,
    "start_time": "2022-10-20T09:22:42.705Z"
   },
   {
    "duration": 1754,
    "start_time": "2022-10-20T09:22:50.612Z"
   },
   {
    "duration": 103,
    "start_time": "2022-10-20T09:23:18.939Z"
   },
   {
    "duration": 7979,
    "start_time": "2022-10-20T09:23:51.428Z"
   },
   {
    "duration": 1748,
    "start_time": "2022-10-20T09:24:22.725Z"
   },
   {
    "duration": 73,
    "start_time": "2022-10-20T09:25:05.891Z"
   },
   {
    "duration": 177825,
    "start_time": "2022-10-20T09:25:19.119Z"
   },
   {
    "duration": 7801,
    "start_time": "2022-10-20T09:34:00.207Z"
   },
   {
    "duration": 1711,
    "start_time": "2022-10-20T09:34:12.257Z"
   },
   {
    "duration": 19,
    "start_time": "2022-10-20T09:47:07.154Z"
   },
   {
    "duration": 18,
    "start_time": "2022-10-20T09:48:53.969Z"
   },
   {
    "duration": 4,
    "start_time": "2022-10-20T09:49:08.403Z"
   },
   {
    "duration": 10,
    "start_time": "2022-10-20T09:49:15.579Z"
   },
   {
    "duration": 12900,
    "start_time": "2022-10-20T09:50:16.435Z"
   },
   {
    "duration": 9433,
    "start_time": "2022-10-20T09:52:02.278Z"
   },
   {
    "duration": 15,
    "start_time": "2022-10-20T09:54:12.745Z"
   },
   {
    "duration": 7,
    "start_time": "2022-10-20T10:10:37.877Z"
   },
   {
    "duration": 7562,
    "start_time": "2022-10-20T10:10:39.870Z"
   },
   {
    "duration": 12991,
    "start_time": "2022-10-20T10:10:47.434Z"
   },
   {
    "duration": 1772,
    "start_time": "2022-10-20T10:11:00.510Z"
   },
   {
    "duration": 184936,
    "start_time": "2022-10-20T10:11:13.092Z"
   },
   {
    "duration": 14,
    "start_time": "2022-10-20T10:14:18.030Z"
   },
   {
    "duration": 124,
    "start_time": "2022-10-20T10:15:14.409Z"
   },
   {
    "duration": 112,
    "start_time": "2022-10-20T10:15:30.528Z"
   },
   {
    "duration": 11177,
    "start_time": "2022-10-20T10:28:05.532Z"
   },
   {
    "duration": 1738,
    "start_time": "2022-10-20T10:28:25.818Z"
   },
   {
    "duration": 184182,
    "start_time": "2022-10-20T10:28:42.774Z"
   },
   {
    "duration": 11,
    "start_time": "2022-10-20T10:35:29.764Z"
   },
   {
    "duration": 105,
    "start_time": "2022-10-20T10:35:48.727Z"
   },
   {
    "duration": 105,
    "start_time": "2022-10-20T10:47:43.055Z"
   },
   {
    "duration": 12,
    "start_time": "2022-10-20T10:52:11.446Z"
   },
   {
    "duration": 82,
    "start_time": "2022-10-20T10:53:21.117Z"
   },
   {
    "duration": 2692,
    "start_time": "2022-10-20T10:55:26.328Z"
   },
   {
    "duration": 2664,
    "start_time": "2022-10-20T10:56:07.224Z"
   },
   {
    "duration": 4187,
    "start_time": "2022-10-20T10:57:56.787Z"
   },
   {
    "duration": 88,
    "start_time": "2022-10-20T10:59:08.851Z"
   },
   {
    "duration": 12708,
    "start_time": "2022-10-20T11:01:28.315Z"
   },
   {
    "duration": 924,
    "start_time": "2022-10-20T11:03:39.256Z"
   },
   {
    "duration": 106478,
    "start_time": "2022-10-20T11:06:33.117Z"
   },
   {
    "duration": 122,
    "start_time": "2022-10-20T11:14:57.340Z"
   },
   {
    "duration": 73,
    "start_time": "2022-10-20T11:17:51.784Z"
   },
   {
    "duration": 110105,
    "start_time": "2022-10-20T11:18:40.449Z"
   },
   {
    "duration": 250,
    "start_time": "2022-10-20T11:22:21.164Z"
   },
   {
    "duration": 226,
    "start_time": "2022-10-20T11:22:36.520Z"
   },
   {
    "duration": 313,
    "start_time": "2022-10-20T11:23:40.809Z"
   },
   {
    "duration": 215,
    "start_time": "2022-10-20T11:24:02.822Z"
   },
   {
    "duration": 7567,
    "start_time": "2022-10-20T11:24:22.347Z"
   },
   {
    "duration": 262,
    "start_time": "2022-10-20T11:24:37.084Z"
   },
   {
    "duration": 12957,
    "start_time": "2022-10-20T11:26:03.467Z"
   },
   {
    "duration": 1761,
    "start_time": "2022-10-20T11:26:25.681Z"
   },
   {
    "duration": 182660,
    "start_time": "2022-10-20T11:26:30.149Z"
   },
   {
    "duration": 233,
    "start_time": "2022-10-20T11:29:32.810Z"
   },
   {
    "duration": 88,
    "start_time": "2022-10-20T11:29:33.045Z"
   },
   {
    "duration": 2652,
    "start_time": "2022-10-20T11:29:33.135Z"
   },
   {
    "duration": 14225,
    "start_time": "2022-10-20T11:29:35.789Z"
   },
   {
    "duration": 1018,
    "start_time": "2022-10-20T11:29:50.016Z"
   },
   {
    "duration": 113651,
    "start_time": "2022-10-20T11:29:51.036Z"
   },
   {
    "duration": 242,
    "start_time": "2022-10-20T11:31:44.688Z"
   },
   {
    "duration": 96,
    "start_time": "2022-10-20T11:37:06.289Z"
   },
   {
    "duration": 10,
    "start_time": "2022-10-20T11:53:31.809Z"
   },
   {
    "duration": 6950,
    "start_time": "2022-10-20T11:54:13.606Z"
   },
   {
    "duration": 1829,
    "start_time": "2022-10-20T12:03:09.228Z"
   },
   {
    "duration": 34,
    "start_time": "2022-10-20T12:03:11.060Z"
   },
   {
    "duration": 1825,
    "start_time": "2022-10-20T12:03:27.857Z"
   },
   {
    "duration": 20,
    "start_time": "2022-10-20T12:03:29.684Z"
   },
   {
    "duration": 261358,
    "start_time": "2022-10-20T12:05:08.888Z"
   },
   {
    "duration": 3964,
    "start_time": "2022-10-20T12:13:51.210Z"
   },
   {
    "duration": 23142,
    "start_time": "2022-10-20T12:14:03.406Z"
   },
   {
    "duration": 11481,
    "start_time": "2022-10-20T12:14:33.522Z"
   },
   {
    "duration": 25,
    "start_time": "2022-10-20T12:14:45.005Z"
   },
   {
    "duration": 5,
    "start_time": "2022-10-20T12:15:01.890Z"
   },
   {
    "duration": 41,
    "start_time": "2022-10-20T12:15:05.054Z"
   },
   {
    "duration": 13,
    "start_time": "2022-10-20T12:15:06.226Z"
   },
   {
    "duration": 14,
    "start_time": "2022-10-20T12:15:08.452Z"
   },
   {
    "duration": 41,
    "start_time": "2022-10-20T12:15:09.238Z"
   },
   {
    "duration": 7,
    "start_time": "2022-10-20T12:15:10.406Z"
   },
   {
    "duration": 13,
    "start_time": "2022-10-20T12:15:11.336Z"
   },
   {
    "duration": 17,
    "start_time": "2022-10-20T12:15:12.911Z"
   },
   {
    "duration": 11,
    "start_time": "2022-10-20T12:15:14.830Z"
   },
   {
    "duration": 289,
    "start_time": "2022-10-20T12:15:16.620Z"
   },
   {
    "duration": 19,
    "start_time": "2022-10-20T12:15:18.142Z"
   },
   {
    "duration": 2,
    "start_time": "2022-10-20T12:15:19.766Z"
   },
   {
    "duration": 11051,
    "start_time": "2022-10-20T12:15:24.974Z"
   },
   {
    "duration": 18,
    "start_time": "2022-10-20T12:15:36.027Z"
   },
   {
    "duration": 10,
    "start_time": "2022-10-20T12:15:36.047Z"
   },
   {
    "duration": 4,
    "start_time": "2022-10-20T12:15:36.059Z"
   },
   {
    "duration": 10,
    "start_time": "2022-10-20T12:15:36.064Z"
   },
   {
    "duration": 89,
    "start_time": "2022-10-20T12:15:52.871Z"
   },
   {
    "duration": 8,
    "start_time": "2022-10-20T12:15:55.319Z"
   },
   {
    "duration": 7358,
    "start_time": "2022-10-20T12:15:57.287Z"
   },
   {
    "duration": 7578,
    "start_time": "2022-10-20T12:16:10.335Z"
   },
   {
    "duration": 1680,
    "start_time": "2022-10-20T12:16:31.383Z"
   },
   {
    "duration": 181513,
    "start_time": "2022-10-20T12:16:44.148Z"
   },
   {
    "duration": 220,
    "start_time": "2022-10-20T12:24:14.727Z"
   },
   {
    "duration": 7751,
    "start_time": "2022-10-20T12:24:18.862Z"
   },
   {
    "duration": 1760,
    "start_time": "2022-10-20T12:24:32.975Z"
   },
   {
    "duration": 183618,
    "start_time": "2022-10-20T12:24:48.429Z"
   },
   {
    "duration": 192,
    "start_time": "2022-10-20T12:27:52.049Z"
   },
   {
    "duration": 106,
    "start_time": "2022-10-20T12:27:52.243Z"
   },
   {
    "duration": 2579,
    "start_time": "2022-10-20T12:27:52.351Z"
   },
   {
    "duration": 5274,
    "start_time": "2022-10-20T12:27:54.932Z"
   },
   {
    "duration": 1022,
    "start_time": "2022-10-20T12:28:00.208Z"
   },
   {
    "duration": 107620,
    "start_time": "2022-10-20T12:28:01.232Z"
   },
   {
    "duration": 280,
    "start_time": "2022-10-20T12:29:48.853Z"
   },
   {
    "duration": 177,
    "start_time": "2022-10-20T12:29:49.135Z"
   },
   {
    "duration": 88462,
    "start_time": "2022-10-20T12:30:01.146Z"
   },
   {
    "duration": 12119,
    "start_time": "2022-10-20T12:31:35.524Z"
   },
   {
    "duration": 24,
    "start_time": "2022-10-20T12:31:55.869Z"
   },
   {
    "duration": 7,
    "start_time": "2022-10-20T12:36:58.825Z"
   },
   {
    "duration": 5,
    "start_time": "2022-10-20T12:42:04.612Z"
   },
   {
    "duration": 11,
    "start_time": "2022-10-20T12:43:53.842Z"
   },
   {
    "duration": 11,
    "start_time": "2022-10-20T12:44:21.434Z"
   },
   {
    "duration": 13,
    "start_time": "2022-10-20T12:49:08.397Z"
   },
   {
    "duration": 5,
    "start_time": "2022-10-20T12:49:23.904Z"
   },
   {
    "duration": 5,
    "start_time": "2022-10-20T12:49:42.763Z"
   },
   {
    "duration": 16,
    "start_time": "2022-10-20T12:49:44.067Z"
   },
   {
    "duration": 4,
    "start_time": "2022-10-20T12:51:14.403Z"
   },
   {
    "duration": 13,
    "start_time": "2022-10-20T12:51:15.150Z"
   },
   {
    "duration": 4,
    "start_time": "2022-10-20T12:53:42.427Z"
   },
   {
    "duration": 24,
    "start_time": "2022-10-20T12:53:46.840Z"
   },
   {
    "duration": 4,
    "start_time": "2022-10-20T12:56:38.871Z"
   },
   {
    "duration": 23,
    "start_time": "2022-10-20T12:56:39.625Z"
   },
   {
    "duration": 7,
    "start_time": "2022-10-20T13:03:05.600Z"
   },
   {
    "duration": 14,
    "start_time": "2022-10-20T13:03:06.009Z"
   },
   {
    "duration": 4,
    "start_time": "2022-10-20T13:04:15.648Z"
   },
   {
    "duration": 14,
    "start_time": "2022-10-20T13:04:16.311Z"
   },
   {
    "duration": 90,
    "start_time": "2022-10-20T13:05:23.292Z"
   },
   {
    "duration": 13219,
    "start_time": "2022-10-20T13:05:23.932Z"
   },
   {
    "duration": 5,
    "start_time": "2022-10-20T13:05:37.153Z"
   },
   {
    "duration": 5,
    "start_time": "2022-10-20T13:06:32.988Z"
   },
   {
    "duration": 21,
    "start_time": "2022-10-20T13:06:36.030Z"
   },
   {
    "duration": 19,
    "start_time": "2022-10-20T13:07:31.584Z"
   },
   {
    "duration": 84,
    "start_time": "2022-10-20T13:08:11.908Z"
   },
   {
    "duration": 5,
    "start_time": "2022-10-20T13:10:58.391Z"
   },
   {
    "duration": 9475,
    "start_time": "2022-10-20T13:11:01.455Z"
   },
   {
    "duration": 24,
    "start_time": "2022-10-20T13:14:51.625Z"
   },
   {
    "duration": 9255,
    "start_time": "2022-10-20T13:15:38.257Z"
   },
   {
    "duration": 10713,
    "start_time": "2022-10-20T13:17:26.494Z"
   },
   {
    "duration": 2301,
    "start_time": "2022-10-20T13:20:57.658Z"
   },
   {
    "duration": 119,
    "start_time": "2022-10-20T13:32:07.624Z"
   },
   {
    "duration": 260573,
    "start_time": "2022-10-20T13:34:06.406Z"
   },
   {
    "duration": 2190,
    "start_time": "2022-10-20T13:46:51.387Z"
   },
   {
    "duration": 6,
    "start_time": "2022-10-20T13:54:34.354Z"
   },
   {
    "duration": 9,
    "start_time": "2022-10-20T13:55:23.314Z"
   },
   {
    "duration": 61,
    "start_time": "2022-10-20T13:57:34.863Z"
   },
   {
    "duration": 44,
    "start_time": "2022-10-20T13:58:58.622Z"
   },
   {
    "duration": 10,
    "start_time": "2022-10-20T14:08:40.179Z"
   },
   {
    "duration": 492,
    "start_time": "2022-10-20T14:09:13.842Z"
   },
   {
    "duration": 41,
    "start_time": "2022-10-20T14:09:42.401Z"
   },
   {
    "duration": 300,
    "start_time": "2022-10-20T14:10:15.122Z"
   },
   {
    "duration": 74,
    "start_time": "2022-10-20T14:11:07.976Z"
   },
   {
    "duration": 39,
    "start_time": "2022-10-20T14:11:28.150Z"
   },
   {
    "duration": 12,
    "start_time": "2022-10-20T14:17:42.265Z"
   },
   {
    "duration": 619,
    "start_time": "2022-10-20T14:17:55.319Z"
   },
   {
    "duration": 42,
    "start_time": "2022-10-20T14:23:08.941Z"
   },
   {
    "duration": 10,
    "start_time": "2022-10-20T14:24:23.656Z"
   },
   {
    "duration": 52,
    "start_time": "2022-10-21T05:59:42.095Z"
   },
   {
    "duration": 1671,
    "start_time": "2022-10-21T05:59:55.418Z"
   },
   {
    "duration": 165,
    "start_time": "2022-10-21T05:59:57.092Z"
   },
   {
    "duration": 13,
    "start_time": "2022-10-21T05:59:57.258Z"
   },
   {
    "duration": 15,
    "start_time": "2022-10-21T05:59:57.273Z"
   },
   {
    "duration": 46,
    "start_time": "2022-10-21T05:59:57.290Z"
   },
   {
    "duration": 7,
    "start_time": "2022-10-21T05:59:57.338Z"
   },
   {
    "duration": 27,
    "start_time": "2022-10-21T05:59:57.346Z"
   },
   {
    "duration": 25,
    "start_time": "2022-10-21T05:59:57.375Z"
   },
   {
    "duration": 13,
    "start_time": "2022-10-21T05:59:57.401Z"
   },
   {
    "duration": 366,
    "start_time": "2022-10-21T05:59:57.418Z"
   },
   {
    "duration": 24,
    "start_time": "2022-10-21T05:59:57.785Z"
   },
   {
    "duration": 2,
    "start_time": "2022-10-21T05:59:57.811Z"
   },
   {
    "duration": 12287,
    "start_time": "2022-10-21T05:59:57.815Z"
   },
   {
    "duration": 22,
    "start_time": "2022-10-21T06:00:10.104Z"
   },
   {
    "duration": 18,
    "start_time": "2022-10-21T06:00:10.127Z"
   },
   {
    "duration": 10,
    "start_time": "2022-10-21T06:00:10.146Z"
   },
   {
    "duration": 26,
    "start_time": "2022-10-21T06:00:10.158Z"
   },
   {
    "duration": 102,
    "start_time": "2022-10-21T06:00:10.186Z"
   },
   {
    "duration": 9,
    "start_time": "2022-10-21T06:00:10.289Z"
   },
   {
    "duration": 7996,
    "start_time": "2022-10-21T06:00:10.300Z"
   },
   {
    "duration": 9706,
    "start_time": "2022-10-21T06:00:18.298Z"
   },
   {
    "duration": 1906,
    "start_time": "2022-10-21T06:00:28.100Z"
   },
   {
    "duration": 198009,
    "start_time": "2022-10-21T06:00:30.008Z"
   },
   {
    "duration": 222,
    "start_time": "2022-10-21T06:03:48.018Z"
   },
   {
    "duration": 9159,
    "start_time": "2022-10-21T06:03:48.241Z"
   },
   {
    "duration": 2086,
    "start_time": "2022-10-21T06:03:57.402Z"
   },
   {
    "duration": 201378,
    "start_time": "2022-10-21T06:03:59.490Z"
   },
   {
    "duration": 265,
    "start_time": "2022-10-21T06:07:20.871Z"
   },
   {
    "duration": 99,
    "start_time": "2022-10-21T06:07:21.138Z"
   },
   {
    "duration": 3003,
    "start_time": "2022-10-21T06:07:21.239Z"
   },
   {
    "duration": 6458,
    "start_time": "2022-10-21T06:07:24.243Z"
   },
   {
    "duration": 1214,
    "start_time": "2022-10-21T06:07:30.703Z"
   },
   {
    "duration": 119599,
    "start_time": "2022-10-21T06:07:31.919Z"
   },
   {
    "duration": 311,
    "start_time": "2022-10-21T06:09:31.520Z"
   },
   {
    "duration": 92,
    "start_time": "2022-10-21T06:09:31.832Z"
   },
   {
    "duration": 14589,
    "start_time": "2022-10-21T06:09:31.926Z"
   },
   {
    "duration": 7,
    "start_time": "2022-10-21T06:09:46.517Z"
   },
   {
    "duration": 10878,
    "start_time": "2022-10-21T06:09:46.526Z"
   },
   {
    "duration": 10598,
    "start_time": "2022-10-21T06:09:57.406Z"
   },
   {
    "duration": 2444,
    "start_time": "2022-10-21T06:10:08.095Z"
   },
   {
    "duration": 279706,
    "start_time": "2022-10-21T06:10:10.540Z"
   },
   {
    "duration": 9,
    "start_time": "2022-10-21T06:56:50.142Z"
   },
   {
    "duration": 66,
    "start_time": "2022-10-21T06:58:26.195Z"
   },
   {
    "duration": 147,
    "start_time": "2022-10-21T06:58:56.085Z"
   },
   {
    "duration": 87,
    "start_time": "2022-10-21T07:00:29.229Z"
   },
   {
    "duration": 825,
    "start_time": "2022-10-21T07:19:00.392Z"
   },
   {
    "duration": 8,
    "start_time": "2022-10-21T07:20:09.967Z"
   },
   {
    "duration": 131,
    "start_time": "2022-10-21T07:20:10.975Z"
   },
   {
    "duration": 93,
    "start_time": "2022-10-21T07:20:13.391Z"
   },
   {
    "duration": 1924,
    "start_time": "2022-10-21T07:20:21.495Z"
   },
   {
    "duration": 116,
    "start_time": "2022-10-21T07:30:46.876Z"
   },
   {
    "duration": 15830,
    "start_time": "2022-10-21T07:30:54.448Z"
   },
   {
    "duration": 10956,
    "start_time": "2022-10-21T07:33:14.747Z"
   },
   {
    "duration": 72,
    "start_time": "2022-10-21T08:03:46.498Z"
   },
   {
    "duration": 4,
    "start_time": "2022-10-21T08:04:02.778Z"
   },
   {
    "duration": 4,
    "start_time": "2022-10-21T08:04:50.568Z"
   },
   {
    "duration": 84,
    "start_time": "2022-10-21T08:09:44.991Z"
   },
   {
    "duration": 5,
    "start_time": "2022-10-21T08:09:57.510Z"
   },
   {
    "duration": 118,
    "start_time": "2022-10-21T08:10:04.703Z"
   },
   {
    "duration": 4,
    "start_time": "2022-10-21T08:10:22.775Z"
   },
   {
    "duration": 117,
    "start_time": "2022-10-21T08:10:23.879Z"
   },
   {
    "duration": 4,
    "start_time": "2022-10-21T08:11:16.222Z"
   },
   {
    "duration": 207,
    "start_time": "2022-10-21T08:11:17.694Z"
   },
   {
    "duration": 5,
    "start_time": "2022-10-21T08:12:37.189Z"
   },
   {
    "duration": 166,
    "start_time": "2022-10-21T08:12:38.733Z"
   },
   {
    "duration": 5,
    "start_time": "2022-10-21T08:13:02.727Z"
   },
   {
    "duration": 172,
    "start_time": "2022-10-21T08:13:04.281Z"
   },
   {
    "duration": 312,
    "start_time": "2022-10-21T08:15:37.896Z"
   },
   {
    "duration": 525,
    "start_time": "2022-10-21T08:15:56.560Z"
   },
   {
    "duration": 326,
    "start_time": "2022-10-21T08:22:25.306Z"
   },
   {
    "duration": 2262,
    "start_time": "2022-10-21T08:24:53.649Z"
   },
   {
    "duration": 275,
    "start_time": "2022-10-21T08:31:00.907Z"
   },
   {
    "duration": 2323,
    "start_time": "2022-10-21T08:32:02.304Z"
   },
   {
    "duration": 5,
    "start_time": "2022-10-21T08:33:41.296Z"
   },
   {
    "duration": 160,
    "start_time": "2022-10-21T08:33:42.838Z"
   },
   {
    "duration": 373,
    "start_time": "2022-10-21T08:33:44.847Z"
   },
   {
    "duration": 312,
    "start_time": "2022-10-21T08:33:46.806Z"
   },
   {
    "duration": 2512,
    "start_time": "2022-10-21T08:33:48.156Z"
   },
   {
    "duration": 1527,
    "start_time": "2022-10-22T16:58:49.209Z"
   },
   {
    "duration": 163,
    "start_time": "2022-10-22T16:58:50.738Z"
   },
   {
    "duration": 13,
    "start_time": "2022-10-22T16:58:50.902Z"
   },
   {
    "duration": 16,
    "start_time": "2022-10-22T16:58:50.917Z"
   },
   {
    "duration": 39,
    "start_time": "2022-10-22T16:58:50.934Z"
   },
   {
    "duration": 17,
    "start_time": "2022-10-22T16:58:50.974Z"
   },
   {
    "duration": 11,
    "start_time": "2022-10-22T16:58:50.993Z"
   },
   {
    "duration": 17,
    "start_time": "2022-10-22T16:58:51.005Z"
   },
   {
    "duration": 11,
    "start_time": "2022-10-22T16:58:51.023Z"
   },
   {
    "duration": 367,
    "start_time": "2022-10-22T16:58:51.036Z"
   },
   {
    "duration": 18,
    "start_time": "2022-10-22T16:58:51.404Z"
   },
   {
    "duration": 5,
    "start_time": "2022-10-22T16:58:51.424Z"
   },
   {
    "duration": 11770,
    "start_time": "2022-10-22T16:58:51.430Z"
   },
   {
    "duration": 4,
    "start_time": "2022-10-22T16:59:03.202Z"
   },
   {
    "duration": 7,
    "start_time": "2022-10-22T16:59:03.207Z"
   },
   {
    "duration": 11,
    "start_time": "2022-10-22T16:59:06.372Z"
   },
   {
    "duration": 92,
    "start_time": "2022-10-22T17:00:00.075Z"
   },
   {
    "duration": 8,
    "start_time": "2022-10-22T17:00:06.308Z"
   },
   {
    "duration": 8644,
    "start_time": "2022-10-22T17:00:11.120Z"
   },
   {
    "duration": 4634,
    "start_time": "2022-10-22T17:00:29.460Z"
   },
   {
    "duration": 1558,
    "start_time": "2022-10-22T17:00:39.094Z"
   },
   {
    "duration": 199506,
    "start_time": "2022-10-22T17:00:47.732Z"
   },
   {
    "duration": 262,
    "start_time": "2022-10-22T17:04:30.658Z"
   },
   {
    "duration": 4869,
    "start_time": "2022-10-22T17:04:45.824Z"
   },
   {
    "duration": 1616,
    "start_time": "2022-10-22T17:04:57.057Z"
   },
   {
    "duration": 191587,
    "start_time": "2022-10-22T17:05:03.936Z"
   },
   {
    "duration": 1528,
    "start_time": "2022-10-24T05:37:05.473Z"
   },
   {
    "duration": 180,
    "start_time": "2022-10-24T05:37:07.003Z"
   },
   {
    "duration": 15,
    "start_time": "2022-10-24T05:37:07.185Z"
   },
   {
    "duration": 16,
    "start_time": "2022-10-24T05:37:07.203Z"
   },
   {
    "duration": 40,
    "start_time": "2022-10-24T05:37:07.221Z"
   },
   {
    "duration": 5,
    "start_time": "2022-10-24T05:37:07.263Z"
   },
   {
    "duration": 16,
    "start_time": "2022-10-24T05:37:07.269Z"
   },
   {
    "duration": 18,
    "start_time": "2022-10-24T05:37:07.286Z"
   },
   {
    "duration": 28,
    "start_time": "2022-10-24T05:37:07.306Z"
   },
   {
    "duration": 369,
    "start_time": "2022-10-24T05:37:07.336Z"
   },
   {
    "duration": 24,
    "start_time": "2022-10-24T05:37:07.706Z"
   },
   {
    "duration": 3,
    "start_time": "2022-10-24T05:37:07.731Z"
   },
   {
    "duration": 12745,
    "start_time": "2022-10-24T05:37:07.735Z"
   },
   {
    "duration": 4,
    "start_time": "2022-10-24T05:37:20.482Z"
   },
   {
    "duration": 17,
    "start_time": "2022-10-24T05:37:20.487Z"
   },
   {
    "duration": 12,
    "start_time": "2022-10-24T05:37:20.505Z"
   },
   {
    "duration": 110,
    "start_time": "2022-10-24T05:37:20.519Z"
   },
   {
    "duration": 9,
    "start_time": "2022-10-24T05:37:20.631Z"
   },
   {
    "duration": 9751,
    "start_time": "2022-10-24T05:37:20.642Z"
   },
   {
    "duration": 7131,
    "start_time": "2022-10-24T05:37:30.395Z"
   },
   {
    "duration": 1655,
    "start_time": "2022-10-24T05:37:37.623Z"
   },
   {
    "duration": 219903,
    "start_time": "2022-10-24T05:37:39.280Z"
   },
   {
    "duration": 271,
    "start_time": "2022-10-24T05:41:19.184Z"
   },
   {
    "duration": 7467,
    "start_time": "2022-10-24T05:41:19.456Z"
   },
   {
    "duration": 1945,
    "start_time": "2022-10-24T05:41:26.926Z"
   },
   {
    "duration": 223385,
    "start_time": "2022-10-24T05:41:28.873Z"
   },
   {
    "duration": 219,
    "start_time": "2022-10-24T05:45:12.261Z"
   },
   {
    "duration": 142,
    "start_time": "2022-10-24T05:45:12.482Z"
   },
   {
    "duration": 0,
    "start_time": "2022-10-24T05:45:12.626Z"
   },
   {
    "duration": 0,
    "start_time": "2022-10-24T05:45:12.628Z"
   },
   {
    "duration": 19,
    "start_time": "2022-10-24T05:45:59.593Z"
   },
   {
    "duration": 13,
    "start_time": "2022-10-24T05:47:37.059Z"
   },
   {
    "duration": 14,
    "start_time": "2022-10-24T05:48:00.758Z"
   },
   {
    "duration": 21,
    "start_time": "2022-10-24T05:48:25.587Z"
   },
   {
    "duration": 302,
    "start_time": "2022-10-24T05:57:29.077Z"
   },
   {
    "duration": 4,
    "start_time": "2022-10-24T06:03:06.930Z"
   },
   {
    "duration": 45,
    "start_time": "2022-10-24T06:03:06.936Z"
   },
   {
    "duration": 12,
    "start_time": "2022-10-24T06:03:06.983Z"
   },
   {
    "duration": 13,
    "start_time": "2022-10-24T06:03:06.997Z"
   },
   {
    "duration": 38,
    "start_time": "2022-10-24T06:03:07.012Z"
   },
   {
    "duration": 6,
    "start_time": "2022-10-24T06:03:07.051Z"
   },
   {
    "duration": 14,
    "start_time": "2022-10-24T06:03:07.059Z"
   },
   {
    "duration": 16,
    "start_time": "2022-10-24T06:03:07.075Z"
   },
   {
    "duration": 34,
    "start_time": "2022-10-24T06:03:07.093Z"
   },
   {
    "duration": 351,
    "start_time": "2022-10-24T06:03:07.129Z"
   },
   {
    "duration": 17,
    "start_time": "2022-10-24T06:03:07.482Z"
   },
   {
    "duration": 5,
    "start_time": "2022-10-24T06:03:07.501Z"
   },
   {
    "duration": 12000,
    "start_time": "2022-10-24T06:03:07.507Z"
   },
   {
    "duration": 17,
    "start_time": "2022-10-24T06:03:19.508Z"
   },
   {
    "duration": 17,
    "start_time": "2022-10-24T06:03:19.527Z"
   },
   {
    "duration": 22,
    "start_time": "2022-10-24T06:03:25.585Z"
   },
   {
    "duration": 12,
    "start_time": "2022-10-24T06:03:57.270Z"
   },
   {
    "duration": 84,
    "start_time": "2022-10-24T06:04:05.186Z"
   },
   {
    "duration": 11,
    "start_time": "2022-10-24T06:04:07.220Z"
   },
   {
    "duration": 9077,
    "start_time": "2022-10-24T06:04:08.938Z"
   },
   {
    "duration": 7508,
    "start_time": "2022-10-24T06:04:18.017Z"
   },
   {
    "duration": 1854,
    "start_time": "2022-10-24T06:04:25.527Z"
   },
   {
    "duration": 193365,
    "start_time": "2022-10-24T06:04:27.383Z"
   },
   {
    "duration": 220,
    "start_time": "2022-10-24T06:07:40.749Z"
   },
   {
    "duration": 8159,
    "start_time": "2022-10-24T06:07:40.971Z"
   },
   {
    "duration": 2014,
    "start_time": "2022-10-24T06:07:49.134Z"
   },
   {
    "duration": 196240,
    "start_time": "2022-10-24T06:07:51.150Z"
   },
   {
    "duration": 273,
    "start_time": "2022-10-24T06:11:07.392Z"
   },
   {
    "duration": 19,
    "start_time": "2022-10-24T06:11:07.667Z"
   },
   {
    "duration": 21,
    "start_time": "2022-10-24T06:14:07.143Z"
   },
   {
    "duration": 15,
    "start_time": "2022-10-24T06:15:49.524Z"
   },
   {
    "duration": 20,
    "start_time": "2022-10-24T06:16:02.220Z"
   },
   {
    "duration": 86,
    "start_time": "2022-10-24T06:16:10.690Z"
   },
   {
    "duration": 5,
    "start_time": "2022-10-24T06:16:21.035Z"
   },
   {
    "duration": 49,
    "start_time": "2022-10-24T06:16:21.043Z"
   },
   {
    "duration": 18,
    "start_time": "2022-10-24T06:16:21.094Z"
   },
   {
    "duration": 18,
    "start_time": "2022-10-24T06:16:21.115Z"
   },
   {
    "duration": 44,
    "start_time": "2022-10-24T06:16:21.134Z"
   },
   {
    "duration": 5,
    "start_time": "2022-10-24T06:16:21.180Z"
   },
   {
    "duration": 39,
    "start_time": "2022-10-24T06:16:21.187Z"
   },
   {
    "duration": 18,
    "start_time": "2022-10-24T06:16:21.227Z"
   },
   {
    "duration": 12,
    "start_time": "2022-10-24T06:16:21.247Z"
   },
   {
    "duration": 356,
    "start_time": "2022-10-24T06:16:21.261Z"
   },
   {
    "duration": 18,
    "start_time": "2022-10-24T06:16:21.619Z"
   },
   {
    "duration": 3,
    "start_time": "2022-10-24T06:16:21.638Z"
   },
   {
    "duration": 11907,
    "start_time": "2022-10-24T06:16:21.642Z"
   },
   {
    "duration": 4,
    "start_time": "2022-10-24T06:16:33.550Z"
   },
   {
    "duration": 8,
    "start_time": "2022-10-24T06:16:33.556Z"
   },
   {
    "duration": 22,
    "start_time": "2022-10-24T06:16:33.565Z"
   },
   {
    "duration": 117,
    "start_time": "2022-10-24T06:16:33.589Z"
   },
   {
    "duration": 87,
    "start_time": "2022-10-24T06:16:39.917Z"
   },
   {
    "duration": 8,
    "start_time": "2022-10-24T06:16:44.251Z"
   },
   {
    "duration": 9625,
    "start_time": "2022-10-24T06:16:48.661Z"
   },
   {
    "duration": 10917,
    "start_time": "2022-10-24T06:17:04.015Z"
   },
   {
    "duration": 2089,
    "start_time": "2022-10-24T06:17:22.662Z"
   },
   {
    "duration": 211692,
    "start_time": "2022-10-24T06:17:29.468Z"
   },
   {
    "duration": 221,
    "start_time": "2022-10-24T06:21:01.162Z"
   },
   {
    "duration": 8746,
    "start_time": "2022-10-24T06:21:01.385Z"
   },
   {
    "duration": 2228,
    "start_time": "2022-10-24T06:21:10.136Z"
   },
   {
    "duration": 204914,
    "start_time": "2022-10-24T06:21:12.365Z"
   },
   {
    "duration": 0,
    "start_time": "2022-10-24T06:24:37.281Z"
   },
   {
    "duration": 0,
    "start_time": "2022-10-24T06:24:37.282Z"
   },
   {
    "duration": 1372,
    "start_time": "2022-10-24T06:24:51.942Z"
   },
   {
    "duration": 43,
    "start_time": "2022-10-24T06:24:53.317Z"
   },
   {
    "duration": 14,
    "start_time": "2022-10-24T06:24:53.362Z"
   },
   {
    "duration": 17,
    "start_time": "2022-10-24T06:24:53.378Z"
   },
   {
    "duration": 43,
    "start_time": "2022-10-24T06:24:53.397Z"
   },
   {
    "duration": 6,
    "start_time": "2022-10-24T06:24:53.442Z"
   },
   {
    "duration": 21,
    "start_time": "2022-10-24T06:24:53.450Z"
   },
   {
    "duration": 19,
    "start_time": "2022-10-24T06:24:53.472Z"
   },
   {
    "duration": 34,
    "start_time": "2022-10-24T06:24:53.493Z"
   },
   {
    "duration": 373,
    "start_time": "2022-10-24T06:24:53.530Z"
   },
   {
    "duration": 24,
    "start_time": "2022-10-24T06:24:53.904Z"
   },
   {
    "duration": 2,
    "start_time": "2022-10-24T06:24:53.930Z"
   },
   {
    "duration": 13386,
    "start_time": "2022-10-24T06:24:53.933Z"
   },
   {
    "duration": 6,
    "start_time": "2022-10-24T06:25:07.322Z"
   },
   {
    "duration": 10,
    "start_time": "2022-10-24T06:25:07.330Z"
   },
   {
    "duration": 1369,
    "start_time": "2022-10-24T06:25:07.342Z"
   },
   {
    "duration": 27,
    "start_time": "2022-10-24T06:26:32.841Z"
   },
   {
    "duration": 5,
    "start_time": "2022-10-24T06:27:10.377Z"
   },
   {
    "duration": 45,
    "start_time": "2022-10-24T06:27:10.384Z"
   },
   {
    "duration": 13,
    "start_time": "2022-10-24T06:27:10.431Z"
   },
   {
    "duration": 14,
    "start_time": "2022-10-24T06:27:10.445Z"
   },
   {
    "duration": 39,
    "start_time": "2022-10-24T06:27:10.461Z"
   },
   {
    "duration": 23,
    "start_time": "2022-10-24T06:27:10.502Z"
   },
   {
    "duration": 21,
    "start_time": "2022-10-24T06:27:10.527Z"
   },
   {
    "duration": 16,
    "start_time": "2022-10-24T06:27:10.549Z"
   },
   {
    "duration": 13,
    "start_time": "2022-10-24T06:27:10.567Z"
   },
   {
    "duration": 458,
    "start_time": "2022-10-24T06:27:10.582Z"
   },
   {
    "duration": 20,
    "start_time": "2022-10-24T06:27:11.043Z"
   },
   {
    "duration": 4,
    "start_time": "2022-10-24T06:27:11.064Z"
   },
   {
    "duration": 12972,
    "start_time": "2022-10-24T06:27:11.069Z"
   },
   {
    "duration": 4,
    "start_time": "2022-10-24T06:27:24.043Z"
   },
   {
    "duration": 13,
    "start_time": "2022-10-24T06:27:24.049Z"
   },
   {
    "duration": 6,
    "start_time": "2022-10-24T06:29:11.956Z"
   },
   {
    "duration": 23,
    "start_time": "2022-10-24T06:30:00.607Z"
   },
   {
    "duration": 22,
    "start_time": "2022-10-24T06:31:02.857Z"
   },
   {
    "duration": 32,
    "start_time": "2022-10-24T06:32:15.332Z"
   },
   {
    "duration": 95,
    "start_time": "2022-10-24T06:32:35.491Z"
   },
   {
    "duration": 10,
    "start_time": "2022-10-24T06:32:41.248Z"
   },
   {
    "duration": 345,
    "start_time": "2022-10-24T06:32:45.545Z"
   },
   {
    "duration": 32,
    "start_time": "2022-10-24T06:34:25.704Z"
   },
   {
    "duration": 4,
    "start_time": "2022-10-24T06:37:34.333Z"
   },
   {
    "duration": 43,
    "start_time": "2022-10-24T06:37:34.340Z"
   },
   {
    "duration": 14,
    "start_time": "2022-10-24T06:37:34.385Z"
   },
   {
    "duration": 15,
    "start_time": "2022-10-24T06:37:34.400Z"
   },
   {
    "duration": 48,
    "start_time": "2022-10-24T06:37:34.418Z"
   },
   {
    "duration": 7,
    "start_time": "2022-10-24T06:37:34.468Z"
   },
   {
    "duration": 14,
    "start_time": "2022-10-24T06:37:34.477Z"
   },
   {
    "duration": 35,
    "start_time": "2022-10-24T06:37:34.492Z"
   },
   {
    "duration": 13,
    "start_time": "2022-10-24T06:37:34.529Z"
   },
   {
    "duration": 350,
    "start_time": "2022-10-24T06:37:34.543Z"
   },
   {
    "duration": 30,
    "start_time": "2022-10-24T06:37:34.895Z"
   },
   {
    "duration": 2,
    "start_time": "2022-10-24T06:37:34.927Z"
   },
   {
    "duration": 13180,
    "start_time": "2022-10-24T06:37:34.931Z"
   },
   {
    "duration": 12,
    "start_time": "2022-10-24T06:37:48.113Z"
   },
   {
    "duration": 13,
    "start_time": "2022-10-24T06:38:01.949Z"
   },
   {
    "duration": 27,
    "start_time": "2022-10-24T06:38:20.774Z"
   },
   {
    "duration": 6,
    "start_time": "2022-10-24T06:38:40.681Z"
   },
   {
    "duration": 57,
    "start_time": "2022-10-24T06:38:40.689Z"
   },
   {
    "duration": 13,
    "start_time": "2022-10-24T06:38:40.748Z"
   },
   {
    "duration": 17,
    "start_time": "2022-10-24T06:38:40.763Z"
   },
   {
    "duration": 57,
    "start_time": "2022-10-24T06:38:40.782Z"
   },
   {
    "duration": 6,
    "start_time": "2022-10-24T06:38:40.841Z"
   },
   {
    "duration": 25,
    "start_time": "2022-10-24T06:38:40.849Z"
   },
   {
    "duration": 22,
    "start_time": "2022-10-24T06:38:40.876Z"
   },
   {
    "duration": 24,
    "start_time": "2022-10-24T06:38:40.900Z"
   },
   {
    "duration": 379,
    "start_time": "2022-10-24T06:38:40.926Z"
   },
   {
    "duration": 24,
    "start_time": "2022-10-24T06:38:41.307Z"
   },
   {
    "duration": 3,
    "start_time": "2022-10-24T06:38:41.333Z"
   },
   {
    "duration": 13691,
    "start_time": "2022-10-24T06:38:41.337Z"
   },
   {
    "duration": 5,
    "start_time": "2022-10-24T06:38:55.030Z"
   },
   {
    "duration": 21,
    "start_time": "2022-10-24T06:38:55.036Z"
   },
   {
    "duration": 27,
    "start_time": "2022-10-24T06:39:01.696Z"
   },
   {
    "duration": 97,
    "start_time": "2022-10-24T06:39:10.932Z"
   },
   {
    "duration": 9,
    "start_time": "2022-10-24T06:39:12.978Z"
   },
   {
    "duration": 8665,
    "start_time": "2022-10-24T06:39:15.379Z"
   },
   {
    "duration": 13725,
    "start_time": "2022-10-24T06:39:29.506Z"
   },
   {
    "duration": 2103,
    "start_time": "2022-10-24T06:39:47.682Z"
   },
   {
    "duration": 225912,
    "start_time": "2022-10-24T06:39:54.639Z"
   },
   {
    "duration": 249,
    "start_time": "2022-10-24T06:43:40.553Z"
   },
   {
    "duration": 15902,
    "start_time": "2022-10-24T06:43:40.824Z"
   },
   {
    "duration": 2486,
    "start_time": "2022-10-24T06:43:56.729Z"
   },
   {
    "duration": 229855,
    "start_time": "2022-10-24T06:43:59.217Z"
   },
   {
    "duration": 297,
    "start_time": "2022-10-24T06:47:49.074Z"
   },
   {
    "duration": 103,
    "start_time": "2022-10-24T06:48:34.196Z"
   },
   {
    "duration": 3509,
    "start_time": "2022-10-24T06:48:43.837Z"
   },
   {
    "duration": 6,
    "start_time": "2022-10-24T06:49:50.007Z"
   },
   {
    "duration": 7389,
    "start_time": "2022-10-24T06:49:51.681Z"
   },
   {
    "duration": 16,
    "start_time": "2022-10-24T06:52:18.928Z"
   },
   {
    "duration": 18243,
    "start_time": "2022-10-24T06:52:50.382Z"
   },
   {
    "duration": 1515,
    "start_time": "2022-10-24T06:53:40.734Z"
   },
   {
    "duration": 145064,
    "start_time": "2022-10-24T06:55:29.372Z"
   },
   {
    "duration": 266,
    "start_time": "2022-10-24T06:59:09.888Z"
   },
   {
    "duration": 100,
    "start_time": "2022-10-24T07:01:22.598Z"
   },
   {
    "duration": 16742,
    "start_time": "2022-10-24T07:01:27.486Z"
   },
   {
    "duration": 100,
    "start_time": "2022-10-24T07:01:47.181Z"
   },
   {
    "duration": 16249,
    "start_time": "2022-10-24T07:05:42.633Z"
   },
   {
    "duration": 10,
    "start_time": "2022-10-24T07:05:58.884Z"
   },
   {
    "duration": 11640,
    "start_time": "2022-10-24T07:06:21.222Z"
   },
   {
    "duration": 12,
    "start_time": "2022-10-24T07:07:10.512Z"
   },
   {
    "duration": 14050,
    "start_time": "2022-10-24T07:07:27.375Z"
   },
   {
    "duration": 10,
    "start_time": "2022-10-24T08:11:51.092Z"
   },
   {
    "duration": 12,
    "start_time": "2022-10-24T08:12:13.699Z"
   },
   {
    "duration": 13,
    "start_time": "2022-10-24T08:12:33.119Z"
   },
   {
    "duration": 2682,
    "start_time": "2022-10-24T08:12:41.347Z"
   },
   {
    "duration": 12,
    "start_time": "2022-10-24T08:14:53.146Z"
   },
   {
    "duration": 293890,
    "start_time": "2022-10-24T08:15:25.128Z"
   },
   {
    "duration": 218,
    "start_time": "2022-10-24T08:21:45.842Z"
   },
   {
    "duration": 4,
    "start_time": "2022-10-24T08:22:23.047Z"
   },
   {
    "duration": 159,
    "start_time": "2022-10-24T08:22:24.098Z"
   },
   {
    "duration": 277,
    "start_time": "2022-10-24T08:22:30.868Z"
   },
   {
    "duration": 268,
    "start_time": "2022-10-24T08:22:39.841Z"
   },
   {
    "duration": 2330,
    "start_time": "2022-10-24T08:25:18.180Z"
   },
   {
    "duration": 9689,
    "start_time": "2022-10-25T06:01:13.813Z"
   },
   {
    "duration": 2919,
    "start_time": "2022-10-25T06:01:27.747Z"
   }
  ],
  "kernelspec": {
   "display_name": "Python 3",
   "language": "python",
   "name": "python3"
  },
  "language_info": {
   "codemirror_mode": {
    "name": "ipython",
    "version": 3
   },
   "file_extension": ".py",
   "mimetype": "text/x-python",
   "name": "python",
   "nbconvert_exporter": "python",
   "pygments_lexer": "ipython3",
   "version": "3.8.10"
  },
  "toc": {
   "base_numbering": 1,
   "nav_menu": {},
   "number_sections": true,
   "sideBar": true,
   "skip_h1_title": true,
   "title_cell": "Содержание",
   "title_sidebar": "Contents",
   "toc_cell": true,
   "toc_position": {},
   "toc_section_display": true,
   "toc_window_display": false
  }
 },
 "nbformat": 4,
 "nbformat_minor": 2
}
