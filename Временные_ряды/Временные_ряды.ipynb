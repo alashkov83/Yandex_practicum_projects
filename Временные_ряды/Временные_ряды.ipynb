{
 "cells": [
  {
   "cell_type": "markdown",
   "metadata": {},
   "source": [
    "#  Прогнозирование заказов такси"
   ]
  },
  {
   "cell_type": "markdown",
   "metadata": {},
   "source": [
    "Компания «Чётенькое такси» собрала исторические данные о заказах такси в аэропортах. Чтобы привлекать больше водителей в период пиковой нагрузки, нужно спрогнозировать количество заказов такси на следующий час. Постройте модель для такого предсказания.\n",
    "\n",
    "Значение метрики *RMSE* на тестовой выборке должно быть не больше 48.\n",
    "\n",
    "Вам нужно:\n",
    "\n",
    "1. Загрузить данные и выполнить их ресемплирование по одному часу.\n",
    "2. Проанализировать данные.\n",
    "3. Обучить разные модели с различными гиперпараметрами. Сделать тестовую выборку размером 10% от исходных данных.\n",
    "4. Проверить данные на тестовой выборке и сделать выводы.\n",
    "\n",
    "\n",
    "Данные лежат в файле `taxi.csv`. Количество заказов находится в столбце `num_orders` (от англ. *number of orders*, «число заказов»)."
   ]
  },
  {
   "cell_type": "markdown",
   "metadata": {},
   "source": [
    "## Подготовка"
   ]
  },
  {
   "cell_type": "markdown",
   "metadata": {},
   "source": [
    "### Импорты"
   ]
  },
  {
   "cell_type": "code",
   "execution_count": 1,
   "metadata": {},
   "outputs": [
    {
     "name": "stderr",
     "output_type": "stream",
     "text": [
      "/usr/lib/python3/dist-packages/dask/dataframe/utils.py:14: FutureWarning: pandas.util.testing is deprecated. Use the functions in the public API at pandas.testing instead.\n",
      "  import pandas.util.testing as tm\n",
      "/usr/lib/python3/dist-packages/dask/dataframe/utils.py:362: FutureWarning: pandas.Int64Index is deprecated and will be removed from pandas in a future version. Use pandas.Index with the appropriate dtype instead.\n",
      "  _numeric_index_types = (pd.Int64Index, pd.Float64Index, pd.UInt64Index)\n",
      "/usr/lib/python3/dist-packages/dask/dataframe/utils.py:362: FutureWarning: pandas.Float64Index is deprecated and will be removed from pandas in a future version. Use pandas.Index with the appropriate dtype instead.\n",
      "  _numeric_index_types = (pd.Int64Index, pd.Float64Index, pd.UInt64Index)\n",
      "/usr/lib/python3/dist-packages/dask/dataframe/utils.py:362: FutureWarning: pandas.UInt64Index is deprecated and will be removed from pandas in a future version. Use pandas.Index with the appropriate dtype instead.\n",
      "  _numeric_index_types = (pd.Int64Index, pd.Float64Index, pd.UInt64Index)\n"
     ]
    }
   ],
   "source": [
    "import numpy as np\n",
    "import pandas as pd\n",
    "import seaborn as sns\n",
    "import matplotlib.pyplot as plt\n",
    "from statsmodels.tsa.seasonal import seasonal_decompose\n",
    "from sklearn.model_selection import train_test_split, cross_val_score, TimeSeriesSplit, GridSearchCV\n",
    "from sklearn.metrics import mean_squared_error, make_scorer\n",
    "from sklearn.linear_model import LinearRegression, Ridge\n",
    "from lightgbm.sklearn import LGBMRegressor"
   ]
  },
  {
   "cell_type": "markdown",
   "metadata": {},
   "source": [
    "### Загрузка данных"
   ]
  },
  {
   "cell_type": "code",
   "execution_count": 2,
   "metadata": {},
   "outputs": [],
   "source": [
    "df = pd.read_csv(\"taxi.csv\", index_col=[0], parse_dates=[0])"
   ]
  },
  {
   "cell_type": "markdown",
   "metadata": {},
   "source": [
    "### Проверка загрузки"
   ]
  },
  {
   "cell_type": "code",
   "execution_count": 3,
   "metadata": {},
   "outputs": [
    {
     "data": {
      "text/html": [
       "<div>\n",
       "<style scoped>\n",
       "    .dataframe tbody tr th:only-of-type {\n",
       "        vertical-align: middle;\n",
       "    }\n",
       "\n",
       "    .dataframe tbody tr th {\n",
       "        vertical-align: top;\n",
       "    }\n",
       "\n",
       "    .dataframe thead th {\n",
       "        text-align: right;\n",
       "    }\n",
       "</style>\n",
       "<table border=\"1\" class=\"dataframe\">\n",
       "  <thead>\n",
       "    <tr style=\"text-align: right;\">\n",
       "      <th></th>\n",
       "      <th>num_orders</th>\n",
       "    </tr>\n",
       "    <tr>\n",
       "      <th>datetime</th>\n",
       "      <th></th>\n",
       "    </tr>\n",
       "  </thead>\n",
       "  <tbody>\n",
       "    <tr>\n",
       "      <th>2018-03-01 00:00:00</th>\n",
       "      <td>9</td>\n",
       "    </tr>\n",
       "    <tr>\n",
       "      <th>2018-03-01 00:10:00</th>\n",
       "      <td>14</td>\n",
       "    </tr>\n",
       "    <tr>\n",
       "      <th>2018-03-01 00:20:00</th>\n",
       "      <td>28</td>\n",
       "    </tr>\n",
       "    <tr>\n",
       "      <th>2018-03-01 00:30:00</th>\n",
       "      <td>20</td>\n",
       "    </tr>\n",
       "    <tr>\n",
       "      <th>2018-03-01 00:40:00</th>\n",
       "      <td>32</td>\n",
       "    </tr>\n",
       "  </tbody>\n",
       "</table>\n",
       "</div>"
      ],
      "text/plain": [
       "                     num_orders\n",
       "datetime                       \n",
       "2018-03-01 00:00:00           9\n",
       "2018-03-01 00:10:00          14\n",
       "2018-03-01 00:20:00          28\n",
       "2018-03-01 00:30:00          20\n",
       "2018-03-01 00:40:00          32"
      ]
     },
     "execution_count": 3,
     "metadata": {},
     "output_type": "execute_result"
    }
   ],
   "source": [
    "df.head()"
   ]
  },
  {
   "cell_type": "code",
   "execution_count": 4,
   "metadata": {},
   "outputs": [
    {
     "name": "stdout",
     "output_type": "stream",
     "text": [
      "<class 'pandas.core.frame.DataFrame'>\n",
      "DatetimeIndex: 26496 entries, 2018-03-01 00:00:00 to 2018-08-31 23:50:00\n",
      "Data columns (total 1 columns):\n",
      " #   Column      Non-Null Count  Dtype\n",
      "---  ------      --------------  -----\n",
      " 0   num_orders  26496 non-null  int64\n",
      "dtypes: int64(1)\n",
      "memory usage: 414.0 KB\n"
     ]
    }
   ],
   "source": [
    "df.info()"
   ]
  },
  {
   "cell_type": "markdown",
   "metadata": {},
   "source": [
    "Данные успешно загружены."
   ]
  },
  {
   "cell_type": "markdown",
   "metadata": {},
   "source": [
    "### Сортировка индексов"
   ]
  },
  {
   "cell_type": "code",
   "execution_count": 5,
   "metadata": {},
   "outputs": [],
   "source": [
    "df = df.sort_index()"
   ]
  },
  {
   "cell_type": "markdown",
   "metadata": {},
   "source": [
    "### Проверка на монотонность"
   ]
  },
  {
   "cell_type": "code",
   "execution_count": 6,
   "metadata": {},
   "outputs": [
    {
     "name": "stderr",
     "output_type": "stream",
     "text": [
      "<ipython-input-6-d1f11a250a74>:1: FutureWarning: is_monotonic is deprecated and will be removed in a future version. Use is_monotonic_increasing instead.\n",
      "  df.index.is_monotonic\n"
     ]
    },
    {
     "data": {
      "text/plain": [
       "True"
      ]
     },
     "execution_count": 6,
     "metadata": {},
     "output_type": "execute_result"
    }
   ],
   "source": [
    "df.index.is_monotonic"
   ]
  },
  {
   "cell_type": "code",
   "execution_count": 7,
   "metadata": {},
   "outputs": [
    {
     "name": "stdout",
     "output_type": "stream",
     "text": [
      "<class 'pandas.core.frame.DataFrame'>\n",
      "DatetimeIndex: 26496 entries, 2018-03-01 00:00:00 to 2018-08-31 23:50:00\n",
      "Data columns (total 1 columns):\n",
      " #   Column      Non-Null Count  Dtype\n",
      "---  ------      --------------  -----\n",
      " 0   num_orders  26496 non-null  int64\n",
      "dtypes: int64(1)\n",
      "memory usage: 414.0 KB\n"
     ]
    }
   ],
   "source": [
    "df.info()"
   ]
  },
  {
   "cell_type": "code",
   "execution_count": 8,
   "metadata": {},
   "outputs": [
    {
     "data": {
      "text/html": [
       "<div>\n",
       "<style scoped>\n",
       "    .dataframe tbody tr th:only-of-type {\n",
       "        vertical-align: middle;\n",
       "    }\n",
       "\n",
       "    .dataframe tbody tr th {\n",
       "        vertical-align: top;\n",
       "    }\n",
       "\n",
       "    .dataframe thead th {\n",
       "        text-align: right;\n",
       "    }\n",
       "</style>\n",
       "<table border=\"1\" class=\"dataframe\">\n",
       "  <thead>\n",
       "    <tr style=\"text-align: right;\">\n",
       "      <th></th>\n",
       "      <th>num_orders</th>\n",
       "    </tr>\n",
       "    <tr>\n",
       "      <th>datetime</th>\n",
       "      <th></th>\n",
       "    </tr>\n",
       "  </thead>\n",
       "  <tbody>\n",
       "    <tr>\n",
       "      <th>2018-03-01 00:00:00</th>\n",
       "      <td>9</td>\n",
       "    </tr>\n",
       "    <tr>\n",
       "      <th>2018-03-01 00:10:00</th>\n",
       "      <td>14</td>\n",
       "    </tr>\n",
       "    <tr>\n",
       "      <th>2018-03-01 00:20:00</th>\n",
       "      <td>28</td>\n",
       "    </tr>\n",
       "    <tr>\n",
       "      <th>2018-03-01 00:30:00</th>\n",
       "      <td>20</td>\n",
       "    </tr>\n",
       "    <tr>\n",
       "      <th>2018-03-01 00:40:00</th>\n",
       "      <td>32</td>\n",
       "    </tr>\n",
       "  </tbody>\n",
       "</table>\n",
       "</div>"
      ],
      "text/plain": [
       "                     num_orders\n",
       "datetime                       \n",
       "2018-03-01 00:00:00           9\n",
       "2018-03-01 00:10:00          14\n",
       "2018-03-01 00:20:00          28\n",
       "2018-03-01 00:30:00          20\n",
       "2018-03-01 00:40:00          32"
      ]
     },
     "execution_count": 8,
     "metadata": {},
     "output_type": "execute_result"
    }
   ],
   "source": [
    "df.head()"
   ]
  },
  {
   "cell_type": "markdown",
   "metadata": {},
   "source": [
    "Индекс монотонный. Данные записаны с 1 марта 2018 года по 31 августа 2018 года с шагом в 10 минут."
   ]
  },
  {
   "cell_type": "markdown",
   "metadata": {},
   "source": [
    "### Проверка на пропуски"
   ]
  },
  {
   "cell_type": "code",
   "execution_count": 9,
   "metadata": {},
   "outputs": [
    {
     "data": {
      "text/plain": [
       "num_orders    0\n",
       "dtype: int64"
      ]
     },
     "execution_count": 9,
     "metadata": {},
     "output_type": "execute_result"
    }
   ],
   "source": [
    "df.isna().sum()"
   ]
  },
  {
   "cell_type": "markdown",
   "metadata": {},
   "source": [
    "Пропусков нет."
   ]
  },
  {
   "cell_type": "markdown",
   "metadata": {},
   "source": [
    "### Ресемплинг"
   ]
  },
  {
   "cell_type": "markdown",
   "metadata": {},
   "source": [
    "Так как мы имеем дело с количеством заказов для ресемплинга нужно использовать суммирование."
   ]
  },
  {
   "cell_type": "code",
   "execution_count": 10,
   "metadata": {},
   "outputs": [
    {
     "data": {
      "text/html": [
       "<div>\n",
       "<style scoped>\n",
       "    .dataframe tbody tr th:only-of-type {\n",
       "        vertical-align: middle;\n",
       "    }\n",
       "\n",
       "    .dataframe tbody tr th {\n",
       "        vertical-align: top;\n",
       "    }\n",
       "\n",
       "    .dataframe thead th {\n",
       "        text-align: right;\n",
       "    }\n",
       "</style>\n",
       "<table border=\"1\" class=\"dataframe\">\n",
       "  <thead>\n",
       "    <tr style=\"text-align: right;\">\n",
       "      <th></th>\n",
       "      <th>num_orders</th>\n",
       "    </tr>\n",
       "    <tr>\n",
       "      <th>datetime</th>\n",
       "      <th></th>\n",
       "    </tr>\n",
       "  </thead>\n",
       "  <tbody>\n",
       "    <tr>\n",
       "      <th>2018-03-01 00:00:00</th>\n",
       "      <td>124</td>\n",
       "    </tr>\n",
       "    <tr>\n",
       "      <th>2018-03-01 01:00:00</th>\n",
       "      <td>85</td>\n",
       "    </tr>\n",
       "    <tr>\n",
       "      <th>2018-03-01 02:00:00</th>\n",
       "      <td>71</td>\n",
       "    </tr>\n",
       "    <tr>\n",
       "      <th>2018-03-01 03:00:00</th>\n",
       "      <td>66</td>\n",
       "    </tr>\n",
       "    <tr>\n",
       "      <th>2018-03-01 04:00:00</th>\n",
       "      <td>43</td>\n",
       "    </tr>\n",
       "  </tbody>\n",
       "</table>\n",
       "</div>"
      ],
      "text/plain": [
       "                     num_orders\n",
       "datetime                       \n",
       "2018-03-01 00:00:00         124\n",
       "2018-03-01 01:00:00          85\n",
       "2018-03-01 02:00:00          71\n",
       "2018-03-01 03:00:00          66\n",
       "2018-03-01 04:00:00          43"
      ]
     },
     "execution_count": 10,
     "metadata": {},
     "output_type": "execute_result"
    }
   ],
   "source": [
    "df = df.resample(\"1H\").sum()\n",
    "df.head()"
   ]
  },
  {
   "cell_type": "code",
   "execution_count": 11,
   "metadata": {},
   "outputs": [
    {
     "name": "stdout",
     "output_type": "stream",
     "text": [
      "<class 'pandas.core.frame.DataFrame'>\n",
      "DatetimeIndex: 4416 entries, 2018-03-01 00:00:00 to 2018-08-31 23:00:00\n",
      "Freq: H\n",
      "Data columns (total 1 columns):\n",
      " #   Column      Non-Null Count  Dtype\n",
      "---  ------      --------------  -----\n",
      " 0   num_orders  4416 non-null   int64\n",
      "dtypes: int64(1)\n",
      "memory usage: 69.0 KB\n"
     ]
    }
   ],
   "source": [
    "df.info()"
   ]
  },
  {
   "cell_type": "markdown",
   "metadata": {},
   "source": [
    "## Анализ"
   ]
  },
  {
   "cell_type": "markdown",
   "metadata": {},
   "source": [
    "### Описательная статистика"
   ]
  },
  {
   "cell_type": "code",
   "execution_count": 12,
   "metadata": {},
   "outputs": [
    {
     "data": {
      "text/html": [
       "<div>\n",
       "<style scoped>\n",
       "    .dataframe tbody tr th:only-of-type {\n",
       "        vertical-align: middle;\n",
       "    }\n",
       "\n",
       "    .dataframe tbody tr th {\n",
       "        vertical-align: top;\n",
       "    }\n",
       "\n",
       "    .dataframe thead th {\n",
       "        text-align: right;\n",
       "    }\n",
       "</style>\n",
       "<table border=\"1\" class=\"dataframe\">\n",
       "  <thead>\n",
       "    <tr style=\"text-align: right;\">\n",
       "      <th></th>\n",
       "      <th>num_orders</th>\n",
       "    </tr>\n",
       "  </thead>\n",
       "  <tbody>\n",
       "    <tr>\n",
       "      <th>count</th>\n",
       "      <td>4416.000000</td>\n",
       "    </tr>\n",
       "    <tr>\n",
       "      <th>mean</th>\n",
       "      <td>84.422781</td>\n",
       "    </tr>\n",
       "    <tr>\n",
       "      <th>std</th>\n",
       "      <td>45.023853</td>\n",
       "    </tr>\n",
       "    <tr>\n",
       "      <th>min</th>\n",
       "      <td>0.000000</td>\n",
       "    </tr>\n",
       "    <tr>\n",
       "      <th>25%</th>\n",
       "      <td>54.000000</td>\n",
       "    </tr>\n",
       "    <tr>\n",
       "      <th>50%</th>\n",
       "      <td>78.000000</td>\n",
       "    </tr>\n",
       "    <tr>\n",
       "      <th>75%</th>\n",
       "      <td>107.000000</td>\n",
       "    </tr>\n",
       "    <tr>\n",
       "      <th>max</th>\n",
       "      <td>462.000000</td>\n",
       "    </tr>\n",
       "  </tbody>\n",
       "</table>\n",
       "</div>"
      ],
      "text/plain": [
       "        num_orders\n",
       "count  4416.000000\n",
       "mean     84.422781\n",
       "std      45.023853\n",
       "min       0.000000\n",
       "25%      54.000000\n",
       "50%      78.000000\n",
       "75%     107.000000\n",
       "max     462.000000"
      ]
     },
     "execution_count": 12,
     "metadata": {},
     "output_type": "execute_result"
    }
   ],
   "source": [
    "df.describe()"
   ]
  },
  {
   "cell_type": "markdown",
   "metadata": {},
   "source": [
    "Cреднее количестов заказов 84, медианное - 78."
   ]
  },
  {
   "cell_type": "markdown",
   "metadata": {},
   "source": [
    "### KDE"
   ]
  },
  {
   "cell_type": "code",
   "execution_count": 13,
   "metadata": {},
   "outputs": [
    {
     "data": {
      "image/png": "[encoded data removed]",
      "text/plain": [
       "<Figure size 432x288 with 1 Axes>"
      ]
     },
     "metadata": {
      "needs_background": "light"
     },
     "output_type": "display_data"
    }
   ],
   "source": [
    "sns.set(rc={'figure.figsize':(15, 9)})\n",
    "sns.kdeplot(df.iloc[:,0], clip=(0.0, 300));"
   ]
  },
  {
   "cell_type": "markdown",
   "metadata": {},
   "source": [
    "Больше похоже на распределение Пуассона."
   ]
  },
  {
   "cell_type": "markdown",
   "metadata": {},
   "source": [
    "### Общий график"
   ]
  },
  {
   "cell_type": "code",
   "execution_count": 14,
   "metadata": {},
   "outputs": [
    {
     "data": {
      "image/png": "[encoded data removed]",
      "text/plain": [
       "<Figure size 432x288 with 1 Axes>"
      ]
     },
     "metadata": {
      "needs_background": "light"
     },
     "output_type": "display_data"
    }
   ],
   "source": [
    "df.plot(ylabel=\"Число заказов\");"
   ]
  },
  {
   "cell_type": "markdown",
   "metadata": {},
   "source": [
    "Без декомпозиции видно, что среднее число заказов растёт."
   ]
  },
  {
   "cell_type": "markdown",
   "metadata": {},
   "source": [
    "### Скользящее среднее за сутки"
   ]
  },
  {
   "cell_type": "code",
   "execution_count": 15,
   "metadata": {},
   "outputs": [
    {
     "data": {
      "image/png": "[encoded data removed]",
      "text/plain": [
       "<Figure size 432x288 with 1 Axes>"
      ]
     },
     "metadata": {
      "needs_background": "light"
     },
     "output_type": "display_data"
    }
   ],
   "source": [
    "df.rolling(24).mean().dropna().plot(ylabel=\"Число заказов\");"
   ]
  },
  {
   "cell_type": "markdown",
   "metadata": {},
   "source": [
    "Общая тенденция к росту числа заказов стала ещё очевиднее."
   ]
  },
  {
   "cell_type": "markdown",
   "metadata": {},
   "source": [
    "### Декомпозиция"
   ]
  },
  {
   "cell_type": "markdown",
   "metadata": {},
   "source": [
    "#### По дням"
   ]
  },
  {
   "cell_type": "code",
   "execution_count": 16,
   "metadata": {},
   "outputs": [
    {
     "data": {
      "image/png": "[encoded data removed]",
      "text/plain": [
       "<Figure size 1440x1296 with 3 Axes>"
      ]
     },
     "metadata": {
      "needs_background": "light"
     },
     "output_type": "display_data"
    }
   ],
   "source": [
    "decomposed = seasonal_decompose(df.resample(\"1D\").sum()) \n",
    "plt.figure(figsize=(20, 18))\n",
    "plt.subplot(311)\n",
    "decomposed.trend.plot(ax=plt.gca())\n",
    "plt.title('Trend')\n",
    "plt.subplot(312)\n",
    "decomposed.seasonal.plot(ax=plt.gca())\n",
    "plt.title('Seasonality')\n",
    "plt.subplot(313)\n",
    "decomposed.resid.plot(ax=plt.gca())\n",
    "plt.title('Residuals')\n",
    "plt.tight_layout()"
   ]
  },
  {
   "cell_type": "markdown",
   "metadata": {},
   "source": [
    "Видна недельная сезонность."
   ]
  },
  {
   "cell_type": "markdown",
   "metadata": {},
   "source": [
    "#### Сутки"
   ]
  },
  {
   "cell_type": "code",
   "execution_count": 17,
   "metadata": {},
   "outputs": [
    {
     "data": {
      "image/png": "[encoded data removed]",
      "text/plain": [
       "<Figure size 1440x1296 with 3 Axes>"
      ]
     },
     "metadata": {
      "needs_background": "light"
     },
     "output_type": "display_data"
    }
   ],
   "source": [
    "decomposed = seasonal_decompose(df.iloc[0:48]) \n",
    "plt.figure(figsize=(20, 18))\n",
    "plt.subplot(311)\n",
    "decomposed.trend.plot(ax=plt.gca())\n",
    "plt.title('Trend')\n",
    "plt.subplot(312)\n",
    "decomposed.seasonal.plot(ax=plt.gca())\n",
    "plt.title('Seasonality')\n",
    "plt.subplot(313)\n",
    "decomposed.resid.plot(ax=plt.gca())\n",
    "plt.title('Residuals')\n",
    "plt.tight_layout()"
   ]
  },
  {
   "cell_type": "markdown",
   "metadata": {},
   "source": [
    "Суточная сезонность тоже заметна."
   ]
  },
  {
   "cell_type": "markdown",
   "metadata": {},
   "source": [
    "## Обучение"
   ]
  },
  {
   "cell_type": "markdown",
   "metadata": {},
   "source": [
    "### Создадим признаки"
   ]
  },
  {
   "cell_type": "code",
   "execution_count": 18,
   "metadata": {},
   "outputs": [],
   "source": [
    "def make_features(data, max_lag, step_lag, rolling_mean_size):\n",
    "    data['day'] = data.index.day\n",
    "    data['dayofweek'] = data.index.dayofweek\n",
    "    data['hour'] = data.index.hour\n",
    "    \n",
    "    for lag in range(step_lag, max_lag + 1, step_lag):\n",
    "        data['lag_{}'.format(lag)] = data['num_orders'].shift(lag)\n",
    "    data['rolling_mean'] = data['num_orders'].shift().rolling(rolling_mean_size).mean()"
   ]
  },
  {
   "cell_type": "code",
   "execution_count": 19,
   "metadata": {},
   "outputs": [
    {
     "data": {
      "text/html": [
       "<div>\n",
       "<style scoped>\n",
       "    .dataframe tbody tr th:only-of-type {\n",
       "        vertical-align: middle;\n",
       "    }\n",
       "\n",
       "    .dataframe tbody tr th {\n",
       "        vertical-align: top;\n",
       "    }\n",
       "\n",
       "    .dataframe thead th {\n",
       "        text-align: right;\n",
       "    }\n",
       "</style>\n",
       "<table border=\"1\" class=\"dataframe\">\n",
       "  <thead>\n",
       "    <tr style=\"text-align: right;\">\n",
       "      <th></th>\n",
       "      <th>num_orders</th>\n",
       "      <th>day</th>\n",
       "      <th>dayofweek</th>\n",
       "      <th>hour</th>\n",
       "      <th>lag_8</th>\n",
       "      <th>lag_16</th>\n",
       "      <th>lag_24</th>\n",
       "      <th>lag_32</th>\n",
       "      <th>lag_40</th>\n",
       "      <th>lag_48</th>\n",
       "      <th>...</th>\n",
       "      <th>lag_96</th>\n",
       "      <th>lag_104</th>\n",
       "      <th>lag_112</th>\n",
       "      <th>lag_120</th>\n",
       "      <th>lag_128</th>\n",
       "      <th>lag_136</th>\n",
       "      <th>lag_144</th>\n",
       "      <th>lag_152</th>\n",
       "      <th>lag_160</th>\n",
       "      <th>rolling_mean</th>\n",
       "    </tr>\n",
       "    <tr>\n",
       "      <th>datetime</th>\n",
       "      <th></th>\n",
       "      <th></th>\n",
       "      <th></th>\n",
       "      <th></th>\n",
       "      <th></th>\n",
       "      <th></th>\n",
       "      <th></th>\n",
       "      <th></th>\n",
       "      <th></th>\n",
       "      <th></th>\n",
       "      <th></th>\n",
       "      <th></th>\n",
       "      <th></th>\n",
       "      <th></th>\n",
       "      <th></th>\n",
       "      <th></th>\n",
       "      <th></th>\n",
       "      <th></th>\n",
       "      <th></th>\n",
       "      <th></th>\n",
       "      <th></th>\n",
       "    </tr>\n",
       "  </thead>\n",
       "  <tbody>\n",
       "    <tr>\n",
       "      <th>2018-03-01 00:00:00</th>\n",
       "      <td>124</td>\n",
       "      <td>1</td>\n",
       "      <td>3</td>\n",
       "      <td>0</td>\n",
       "      <td>NaN</td>\n",
       "      <td>NaN</td>\n",
       "      <td>NaN</td>\n",
       "      <td>NaN</td>\n",
       "      <td>NaN</td>\n",
       "      <td>NaN</td>\n",
       "      <td>...</td>\n",
       "      <td>NaN</td>\n",
       "      <td>NaN</td>\n",
       "      <td>NaN</td>\n",
       "      <td>NaN</td>\n",
       "      <td>NaN</td>\n",
       "      <td>NaN</td>\n",
       "      <td>NaN</td>\n",
       "      <td>NaN</td>\n",
       "      <td>NaN</td>\n",
       "      <td>NaN</td>\n",
       "    </tr>\n",
       "    <tr>\n",
       "      <th>2018-03-01 01:00:00</th>\n",
       "      <td>85</td>\n",
       "      <td>1</td>\n",
       "      <td>3</td>\n",
       "      <td>1</td>\n",
       "      <td>NaN</td>\n",
       "      <td>NaN</td>\n",
       "      <td>NaN</td>\n",
       "      <td>NaN</td>\n",
       "      <td>NaN</td>\n",
       "      <td>NaN</td>\n",
       "      <td>...</td>\n",
       "      <td>NaN</td>\n",
       "      <td>NaN</td>\n",
       "      <td>NaN</td>\n",
       "      <td>NaN</td>\n",
       "      <td>NaN</td>\n",
       "      <td>NaN</td>\n",
       "      <td>NaN</td>\n",
       "      <td>NaN</td>\n",
       "      <td>NaN</td>\n",
       "      <td>NaN</td>\n",
       "    </tr>\n",
       "    <tr>\n",
       "      <th>2018-03-01 02:00:00</th>\n",
       "      <td>71</td>\n",
       "      <td>1</td>\n",
       "      <td>3</td>\n",
       "      <td>2</td>\n",
       "      <td>NaN</td>\n",
       "      <td>NaN</td>\n",
       "      <td>NaN</td>\n",
       "      <td>NaN</td>\n",
       "      <td>NaN</td>\n",
       "      <td>NaN</td>\n",
       "      <td>...</td>\n",
       "      <td>NaN</td>\n",
       "      <td>NaN</td>\n",
       "      <td>NaN</td>\n",
       "      <td>NaN</td>\n",
       "      <td>NaN</td>\n",
       "      <td>NaN</td>\n",
       "      <td>NaN</td>\n",
       "      <td>NaN</td>\n",
       "      <td>NaN</td>\n",
       "      <td>NaN</td>\n",
       "    </tr>\n",
       "    <tr>\n",
       "      <th>2018-03-01 03:00:00</th>\n",
       "      <td>66</td>\n",
       "      <td>1</td>\n",
       "      <td>3</td>\n",
       "      <td>3</td>\n",
       "      <td>NaN</td>\n",
       "      <td>NaN</td>\n",
       "      <td>NaN</td>\n",
       "      <td>NaN</td>\n",
       "      <td>NaN</td>\n",
       "      <td>NaN</td>\n",
       "      <td>...</td>\n",
       "      <td>NaN</td>\n",
       "      <td>NaN</td>\n",
       "      <td>NaN</td>\n",
       "      <td>NaN</td>\n",
       "      <td>NaN</td>\n",
       "      <td>NaN</td>\n",
       "      <td>NaN</td>\n",
       "      <td>NaN</td>\n",
       "      <td>NaN</td>\n",
       "      <td>NaN</td>\n",
       "    </tr>\n",
       "    <tr>\n",
       "      <th>2018-03-01 04:00:00</th>\n",
       "      <td>43</td>\n",
       "      <td>1</td>\n",
       "      <td>3</td>\n",
       "      <td>4</td>\n",
       "      <td>NaN</td>\n",
       "      <td>NaN</td>\n",
       "      <td>NaN</td>\n",
       "      <td>NaN</td>\n",
       "      <td>NaN</td>\n",
       "      <td>NaN</td>\n",
       "      <td>...</td>\n",
       "      <td>NaN</td>\n",
       "      <td>NaN</td>\n",
       "      <td>NaN</td>\n",
       "      <td>NaN</td>\n",
       "      <td>NaN</td>\n",
       "      <td>NaN</td>\n",
       "      <td>NaN</td>\n",
       "      <td>NaN</td>\n",
       "      <td>NaN</td>\n",
       "      <td>NaN</td>\n",
       "    </tr>\n",
       "  </tbody>\n",
       "</table>\n",
       "<p>5 rows × 25 columns</p>\n",
       "</div>"
      ],
      "text/plain": [
       "                     num_orders  day  dayofweek  hour  lag_8  lag_16  lag_24  \\\n",
       "datetime                                                                       \n",
       "2018-03-01 00:00:00         124    1          3     0    NaN     NaN     NaN   \n",
       "2018-03-01 01:00:00          85    1          3     1    NaN     NaN     NaN   \n",
       "2018-03-01 02:00:00          71    1          3     2    NaN     NaN     NaN   \n",
       "2018-03-01 03:00:00          66    1          3     3    NaN     NaN     NaN   \n",
       "2018-03-01 04:00:00          43    1          3     4    NaN     NaN     NaN   \n",
       "\n",
       "                     lag_32  lag_40  lag_48  ...  lag_96  lag_104  lag_112  \\\n",
       "datetime                                     ...                             \n",
       "2018-03-01 00:00:00     NaN     NaN     NaN  ...     NaN      NaN      NaN   \n",
       "2018-03-01 01:00:00     NaN     NaN     NaN  ...     NaN      NaN      NaN   \n",
       "2018-03-01 02:00:00     NaN     NaN     NaN  ...     NaN      NaN      NaN   \n",
       "2018-03-01 03:00:00     NaN     NaN     NaN  ...     NaN      NaN      NaN   \n",
       "2018-03-01 04:00:00     NaN     NaN     NaN  ...     NaN      NaN      NaN   \n",
       "\n",
       "                     lag_120  lag_128  lag_136  lag_144  lag_152  lag_160  \\\n",
       "datetime                                                                    \n",
       "2018-03-01 00:00:00      NaN      NaN      NaN      NaN      NaN      NaN   \n",
       "2018-03-01 01:00:00      NaN      NaN      NaN      NaN      NaN      NaN   \n",
       "2018-03-01 02:00:00      NaN      NaN      NaN      NaN      NaN      NaN   \n",
       "2018-03-01 03:00:00      NaN      NaN      NaN      NaN      NaN      NaN   \n",
       "2018-03-01 04:00:00      NaN      NaN      NaN      NaN      NaN      NaN   \n",
       "\n",
       "                     rolling_mean  \n",
       "datetime                           \n",
       "2018-03-01 00:00:00           NaN  \n",
       "2018-03-01 01:00:00           NaN  \n",
       "2018-03-01 02:00:00           NaN  \n",
       "2018-03-01 03:00:00           NaN  \n",
       "2018-03-01 04:00:00           NaN  \n",
       "\n",
       "[5 rows x 25 columns]"
      ]
     },
     "execution_count": 19,
     "metadata": {},
     "output_type": "execute_result"
    }
   ],
   "source": [
    "make_features(df, 160, 8,  48)\n",
    "df.head()"
   ]
  },
  {
   "cell_type": "markdown",
   "metadata": {},
   "source": [
    "### Разделение выборки на обучающую и тестовую"
   ]
  },
  {
   "cell_type": "code",
   "execution_count": 20,
   "metadata": {},
   "outputs": [],
   "source": [
    "train, test = train_test_split(df, shuffle=False, test_size=0.1)\n",
    "train = train.dropna()"
   ]
  },
  {
   "cell_type": "markdown",
   "metadata": {},
   "source": [
    "### Разделение на предикторы и отклик"
   ]
  },
  {
   "cell_type": "code",
   "execution_count": 21,
   "metadata": {},
   "outputs": [],
   "source": [
    "test_X = test.drop(\"num_orders\", axis=1)\n",
    "test_y = test[\"num_orders\"]\n",
    "train_X = train.drop(\"num_orders\", axis=1)\n",
    "train_y = train[\"num_orders\"]"
   ]
  },
  {
   "cell_type": "markdown",
   "metadata": {},
   "source": [
    "#### Линейные модели"
   ]
  },
  {
   "cell_type": "markdown",
   "metadata": {},
   "source": [
    "##### Линейная регрессия"
   ]
  },
  {
   "cell_type": "markdown",
   "metadata": {},
   "source": [
    "Будем использовать кросс-валидацию со специальным вариантом сплита для временных рядов."
   ]
  },
  {
   "cell_type": "code",
   "execution_count": 22,
   "metadata": {},
   "outputs": [
    {
     "name": "stdout",
     "output_type": "stream",
     "text": [
      "RMSE= 24.2\n"
     ]
    }
   ],
   "source": [
    "rmse_scorer = make_scorer(lambda y_true, y_pred: mean_squared_error(y_true, y_pred, squared=False), greater_is_better=False)\n",
    "tscv = TimeSeriesSplit()\n",
    "lr = LinearRegression()\n",
    "rmse = cross_val_score(lr,train_X, train_y, cv=tscv, scoring=rmse_scorer).mean()\n",
    "print(\"RMSE=\", round(abs(rmse), 1))"
   ]
  },
  {
   "cell_type": "markdown",
   "metadata": {},
   "source": [
    "В качестве базовой модели неплохо."
   ]
  },
  {
   "cell_type": "markdown",
   "metadata": {},
   "source": [
    "##### Гребневая регрессия"
   ]
  },
  {
   "cell_type": "markdown",
   "metadata": {},
   "source": [
    "Будем подбирать гиперпараметр - степень регуляризации."
   ]
  },
  {
   "cell_type": "code",
   "execution_count": 23,
   "metadata": {},
   "outputs": [
    {
     "name": "stdout",
     "output_type": "stream",
     "text": [
      "Fitting 5 folds for each of 20 candidates, totalling 100 fits\n"
     ]
    },
    {
     "data": {
      "text/html": [
       "<style>#sk-container-id-1 {color: black;background-color: white;}#sk-container-id-1 pre{padding: 0;}#sk-container-id-1 div.sk-toggleable {background-color: white;}#sk-container-id-1 label.sk-toggleable__label {cursor: pointer;display: block;width: 100%;margin-bottom: 0;padding: 0.3em;box-sizing: border-box;text-align: center;}#sk-container-id-1 label.sk-toggleable__label-arrow:before {content: \"▸\";float: left;margin-right: 0.25em;color: #696969;}#sk-container-id-1 label.sk-toggleable__label-arrow:hover:before {color: black;}#sk-container-id-1 div.sk-estimator:hover label.sk-toggleable__label-arrow:before {color: black;}#sk-container-id-1 div.sk-toggleable__content {max-height: 0;max-width: 0;overflow: hidden;text-align: left;background-color: #f0f8ff;}#sk-container-id-1 div.sk-toggleable__content pre {margin: 0.2em;color: black;border-radius: 0.25em;background-color: #f0f8ff;}#sk-container-id-1 input.sk-toggleable__control:checked~div.sk-toggleable__content {max-height: 200px;max-width: 100%;overflow: auto;}#sk-container-id-1 input.sk-toggleable__control:checked~label.sk-toggleable__label-arrow:before {content: \"▾\";}#sk-container-id-1 div.sk-estimator input.sk-toggleable__control:checked~label.sk-toggleable__label {background-color: #d4ebff;}#sk-container-id-1 div.sk-label input.sk-toggleable__control:checked~label.sk-toggleable__label {background-color: #d4ebff;}#sk-container-id-1 input.sk-hidden--visually {border: 0;clip: rect(1px 1px 1px 1px);clip: rect(1px, 1px, 1px, 1px);height: 1px;margin: -1px;overflow: hidden;padding: 0;position: absolute;width: 1px;}#sk-container-id-1 div.sk-estimator {font-family: monospace;background-color: #f0f8ff;border: 1px dotted black;border-radius: 0.25em;box-sizing: border-box;margin-bottom: 0.5em;}#sk-container-id-1 div.sk-estimator:hover {background-color: #d4ebff;}#sk-container-id-1 div.sk-parallel-item::after {content: \"\";width: 100%;border-bottom: 1px solid gray;flex-grow: 1;}#sk-container-id-1 div.sk-label:hover label.sk-toggleable__label {background-color: #d4ebff;}#sk-container-id-1 div.sk-serial::before {content: \"\";position: absolute;border-left: 1px solid gray;box-sizing: border-box;top: 0;bottom: 0;left: 50%;z-index: 0;}#sk-container-id-1 div.sk-serial {display: flex;flex-direction: column;align-items: center;background-color: white;padding-right: 0.2em;padding-left: 0.2em;position: relative;}#sk-container-id-1 div.sk-item {position: relative;z-index: 1;}#sk-container-id-1 div.sk-parallel {display: flex;align-items: stretch;justify-content: center;background-color: white;position: relative;}#sk-container-id-1 div.sk-item::before, #sk-container-id-1 div.sk-parallel-item::before {content: \"\";position: absolute;border-left: 1px solid gray;box-sizing: border-box;top: 0;bottom: 0;left: 50%;z-index: -1;}#sk-container-id-1 div.sk-parallel-item {display: flex;flex-direction: column;z-index: 1;position: relative;background-color: white;}#sk-container-id-1 div.sk-parallel-item:first-child::after {align-self: flex-end;width: 50%;}#sk-container-id-1 div.sk-parallel-item:last-child::after {align-self: flex-start;width: 50%;}#sk-container-id-1 div.sk-parallel-item:only-child::after {width: 0;}#sk-container-id-1 div.sk-dashed-wrapped {border: 1px dashed gray;margin: 0 0.4em 0.5em 0.4em;box-sizing: border-box;padding-bottom: 0.4em;background-color: white;}#sk-container-id-1 div.sk-label label {font-family: monospace;font-weight: bold;display: inline-block;line-height: 1.2em;}#sk-container-id-1 div.sk-label-container {text-align: center;}#sk-container-id-1 div.sk-container {/* jupyter's `normalize.less` sets `[hidden] { display: none; }` but bootstrap.min.css set `[hidden] { display: none !important; }` so we also need the `!important` here to be able to override the default hidden behavior on the sphinx rendered scikit-learn.org. See: https://github.com/scikit-learn/scikit-learn/issues/21755 */display: inline-block !important;position: relative;}#sk-container-id-1 div.sk-text-repr-fallback {display: none;}</style><div id=\"sk-container-id-1\" class=\"sk-top-container\"><div class=\"sk-text-repr-fallback\"><pre>GridSearchCV(cv=TimeSeriesSplit(gap=0, max_train_size=None, n_splits=5, test_size=None),\n",
       "             estimator=Ridge(random_state=12345), n_jobs=-1,\n",
       "             param_grid={&#x27;alpha&#x27;: array([1.00000000e-05, 3.35981829e-05, 1.12883789e-04, 3.79269019e-04,\n",
       "       1.27427499e-03, 4.28133240e-03, 1.43844989e-02, 4.83293024e-02,\n",
       "       1.62377674e-01, 5.45559478e-01, 1.83298071e+00, 6.15848211e+00,\n",
       "       2.06913808e+01, 6.95192796e+01, 2.33572147e+02, 7.84759970e+02,\n",
       "       2.63665090e+03, 8.85866790e+03, 2.97635144e+04, 1.00000000e+05])},\n",
       "             scoring=make_scorer(&lt;lambda&gt;, greater_is_better=False), verbose=3)</pre><b>In a Jupyter environment, please rerun this cell to show the HTML representation or trust the notebook. <br />On GitHub, the HTML representation is unable to render, please try loading this page with nbviewer.org.</b></div><div class=\"sk-container\" hidden><div class=\"sk-item sk-dashed-wrapped\"><div class=\"sk-label-container\"><div class=\"sk-label sk-toggleable\"><input class=\"sk-toggleable__control sk-hidden--visually\" id=\"sk-estimator-id-1\" type=\"checkbox\" ><label for=\"sk-estimator-id-1\" class=\"sk-toggleable__label sk-toggleable__label-arrow\">GridSearchCV</label><div class=\"sk-toggleable__content\"><pre>GridSearchCV(cv=TimeSeriesSplit(gap=0, max_train_size=None, n_splits=5, test_size=None),\n",
       "             estimator=Ridge(random_state=12345), n_jobs=-1,\n",
       "             param_grid={&#x27;alpha&#x27;: array([1.00000000e-05, 3.35981829e-05, 1.12883789e-04, 3.79269019e-04,\n",
       "       1.27427499e-03, 4.28133240e-03, 1.43844989e-02, 4.83293024e-02,\n",
       "       1.62377674e-01, 5.45559478e-01, 1.83298071e+00, 6.15848211e+00,\n",
       "       2.06913808e+01, 6.95192796e+01, 2.33572147e+02, 7.84759970e+02,\n",
       "       2.63665090e+03, 8.85866790e+03, 2.97635144e+04, 1.00000000e+05])},\n",
       "             scoring=make_scorer(&lt;lambda&gt;, greater_is_better=False), verbose=3)</pre></div></div></div><div class=\"sk-parallel\"><div class=\"sk-parallel-item\"><div class=\"sk-item\"><div class=\"sk-label-container\"><div class=\"sk-label sk-toggleable\"><input class=\"sk-toggleable__control sk-hidden--visually\" id=\"sk-estimator-id-2\" type=\"checkbox\" ><label for=\"sk-estimator-id-2\" class=\"sk-toggleable__label sk-toggleable__label-arrow\">estimator: Ridge</label><div class=\"sk-toggleable__content\"><pre>Ridge(random_state=12345)</pre></div></div></div><div class=\"sk-serial\"><div class=\"sk-item\"><div class=\"sk-estimator sk-toggleable\"><input class=\"sk-toggleable__control sk-hidden--visually\" id=\"sk-estimator-id-3\" type=\"checkbox\" ><label for=\"sk-estimator-id-3\" class=\"sk-toggleable__label sk-toggleable__label-arrow\">Ridge</label><div class=\"sk-toggleable__content\"><pre>Ridge(random_state=12345)</pre></div></div></div></div></div></div></div></div></div></div>"
      ],
      "text/plain": [
       "GridSearchCV(cv=TimeSeriesSplit(gap=0, max_train_size=None, n_splits=5, test_size=None),\n",
       "             estimator=Ridge(random_state=12345), n_jobs=-1,\n",
       "             param_grid={'alpha': array([1.00000000e-05, 3.35981829e-05, 1.12883789e-04, 3.79269019e-04,\n",
       "       1.27427499e-03, 4.28133240e-03, 1.43844989e-02, 4.83293024e-02,\n",
       "       1.62377674e-01, 5.45559478e-01, 1.83298071e+00, 6.15848211e+00,\n",
       "       2.06913808e+01, 6.95192796e+01, 2.33572147e+02, 7.84759970e+02,\n",
       "       2.63665090e+03, 8.85866790e+03, 2.97635144e+04, 1.00000000e+05])},\n",
       "             scoring=make_scorer(<lambda>, greater_is_better=False), verbose=3)"
      ]
     },
     "execution_count": 23,
     "metadata": {},
     "output_type": "execute_result"
    }
   ],
   "source": [
    "SEED = 12345\n",
    "ridge = Ridge(random_state=SEED)\n",
    "params = {\"alpha\":np.logspace(-5, 5, 20)}\n",
    "gscv_ridge = GridSearchCV(ridge, params, cv=tscv, scoring=rmse_scorer, verbose=3, n_jobs=-1)\n",
    "gscv_ridge.fit(train_X, train_y)"
   ]
  },
  {
   "cell_type": "code",
   "execution_count": 24,
   "metadata": {},
   "outputs": [
    {
     "name": "stdout",
     "output_type": "stream",
     "text": [
      "RMSE (cv) for best ridge model = 24.1 for Alpha = 100000.0\n"
     ]
    }
   ],
   "source": [
    "best_ridge_cv_rmse = abs(gscv_ridge.best_score_)\n",
    "best_ridge_alpha = gscv_ridge.best_params_[\"alpha\"]\n",
    "best_ridge = gscv_ridge.best_estimator_\n",
    "print(f\"RMSE (cv) for best ridge model = {best_ridge_cv_rmse:.1f} for Alpha = {best_ridge_alpha}\")"
   ]
  },
  {
   "cell_type": "markdown",
   "metadata": {},
   "source": [
    "Регуляризация не сильно помогла."
   ]
  },
  {
   "cell_type": "markdown",
   "metadata": {},
   "source": [
    "### Градиентный бустинг"
   ]
  },
  {
   "cell_type": "code",
   "execution_count": 25,
   "metadata": {},
   "outputs": [
    {
     "name": "stdout",
     "output_type": "stream",
     "text": [
      "Fitting 5 folds for each of 9 candidates, totalling 45 fits\n"
     ]
    },
    {
     "data": {
      "text/html": [
       "<style>#sk-container-id-2 {color: black;background-color: white;}#sk-container-id-2 pre{padding: 0;}#sk-container-id-2 div.sk-toggleable {background-color: white;}#sk-container-id-2 label.sk-toggleable__label {cursor: pointer;display: block;width: 100%;margin-bottom: 0;padding: 0.3em;box-sizing: border-box;text-align: center;}#sk-container-id-2 label.sk-toggleable__label-arrow:before {content: \"▸\";float: left;margin-right: 0.25em;color: #696969;}#sk-container-id-2 label.sk-toggleable__label-arrow:hover:before {color: black;}#sk-container-id-2 div.sk-estimator:hover label.sk-toggleable__label-arrow:before {color: black;}#sk-container-id-2 div.sk-toggleable__content {max-height: 0;max-width: 0;overflow: hidden;text-align: left;background-color: #f0f8ff;}#sk-container-id-2 div.sk-toggleable__content pre {margin: 0.2em;color: black;border-radius: 0.25em;background-color: #f0f8ff;}#sk-container-id-2 input.sk-toggleable__control:checked~div.sk-toggleable__content {max-height: 200px;max-width: 100%;overflow: auto;}#sk-container-id-2 input.sk-toggleable__control:checked~label.sk-toggleable__label-arrow:before {content: \"▾\";}#sk-container-id-2 div.sk-estimator input.sk-toggleable__control:checked~label.sk-toggleable__label {background-color: #d4ebff;}#sk-container-id-2 div.sk-label input.sk-toggleable__control:checked~label.sk-toggleable__label {background-color: #d4ebff;}#sk-container-id-2 input.sk-hidden--visually {border: 0;clip: rect(1px 1px 1px 1px);clip: rect(1px, 1px, 1px, 1px);height: 1px;margin: -1px;overflow: hidden;padding: 0;position: absolute;width: 1px;}#sk-container-id-2 div.sk-estimator {font-family: monospace;background-color: #f0f8ff;border: 1px dotted black;border-radius: 0.25em;box-sizing: border-box;margin-bottom: 0.5em;}#sk-container-id-2 div.sk-estimator:hover {background-color: #d4ebff;}#sk-container-id-2 div.sk-parallel-item::after {content: \"\";width: 100%;border-bottom: 1px solid gray;flex-grow: 1;}#sk-container-id-2 div.sk-label:hover label.sk-toggleable__label {background-color: #d4ebff;}#sk-container-id-2 div.sk-serial::before {content: \"\";position: absolute;border-left: 1px solid gray;box-sizing: border-box;top: 0;bottom: 0;left: 50%;z-index: 0;}#sk-container-id-2 div.sk-serial {display: flex;flex-direction: column;align-items: center;background-color: white;padding-right: 0.2em;padding-left: 0.2em;position: relative;}#sk-container-id-2 div.sk-item {position: relative;z-index: 1;}#sk-container-id-2 div.sk-parallel {display: flex;align-items: stretch;justify-content: center;background-color: white;position: relative;}#sk-container-id-2 div.sk-item::before, #sk-container-id-2 div.sk-parallel-item::before {content: \"\";position: absolute;border-left: 1px solid gray;box-sizing: border-box;top: 0;bottom: 0;left: 50%;z-index: -1;}#sk-container-id-2 div.sk-parallel-item {display: flex;flex-direction: column;z-index: 1;position: relative;background-color: white;}#sk-container-id-2 div.sk-parallel-item:first-child::after {align-self: flex-end;width: 50%;}#sk-container-id-2 div.sk-parallel-item:last-child::after {align-self: flex-start;width: 50%;}#sk-container-id-2 div.sk-parallel-item:only-child::after {width: 0;}#sk-container-id-2 div.sk-dashed-wrapped {border: 1px dashed gray;margin: 0 0.4em 0.5em 0.4em;box-sizing: border-box;padding-bottom: 0.4em;background-color: white;}#sk-container-id-2 div.sk-label label {font-family: monospace;font-weight: bold;display: inline-block;line-height: 1.2em;}#sk-container-id-2 div.sk-label-container {text-align: center;}#sk-container-id-2 div.sk-container {/* jupyter's `normalize.less` sets `[hidden] { display: none; }` but bootstrap.min.css set `[hidden] { display: none !important; }` so we also need the `!important` here to be able to override the default hidden behavior on the sphinx rendered scikit-learn.org. See: https://github.com/scikit-learn/scikit-learn/issues/21755 */display: inline-block !important;position: relative;}#sk-container-id-2 div.sk-text-repr-fallback {display: none;}</style><div id=\"sk-container-id-2\" class=\"sk-top-container\"><div class=\"sk-text-repr-fallback\"><pre>GridSearchCV(cv=TimeSeriesSplit(gap=0, max_train_size=None, n_splits=5, test_size=None),\n",
       "             estimator=LGBMRegressor(random_state=12345), n_jobs=-1,\n",
       "             param_grid={&#x27;learning_rate&#x27;: [0.01, 0.1, 1.0],\n",
       "                         &#x27;num_leaves&#x27;: [20, 30, 40]},\n",
       "             scoring=make_scorer(&lt;lambda&gt;, greater_is_better=False), verbose=3)</pre><b>In a Jupyter environment, please rerun this cell to show the HTML representation or trust the notebook. <br />On GitHub, the HTML representation is unable to render, please try loading this page with nbviewer.org.</b></div><div class=\"sk-container\" hidden><div class=\"sk-item sk-dashed-wrapped\"><div class=\"sk-label-container\"><div class=\"sk-label sk-toggleable\"><input class=\"sk-toggleable__control sk-hidden--visually\" id=\"sk-estimator-id-4\" type=\"checkbox\" ><label for=\"sk-estimator-id-4\" class=\"sk-toggleable__label sk-toggleable__label-arrow\">GridSearchCV</label><div class=\"sk-toggleable__content\"><pre>GridSearchCV(cv=TimeSeriesSplit(gap=0, max_train_size=None, n_splits=5, test_size=None),\n",
       "             estimator=LGBMRegressor(random_state=12345), n_jobs=-1,\n",
       "             param_grid={&#x27;learning_rate&#x27;: [0.01, 0.1, 1.0],\n",
       "                         &#x27;num_leaves&#x27;: [20, 30, 40]},\n",
       "             scoring=make_scorer(&lt;lambda&gt;, greater_is_better=False), verbose=3)</pre></div></div></div><div class=\"sk-parallel\"><div class=\"sk-parallel-item\"><div class=\"sk-item\"><div class=\"sk-label-container\"><div class=\"sk-label sk-toggleable\"><input class=\"sk-toggleable__control sk-hidden--visually\" id=\"sk-estimator-id-5\" type=\"checkbox\" ><label for=\"sk-estimator-id-5\" class=\"sk-toggleable__label sk-toggleable__label-arrow\">estimator: LGBMRegressor</label><div class=\"sk-toggleable__content\"><pre>LGBMRegressor(random_state=12345)</pre></div></div></div><div class=\"sk-serial\"><div class=\"sk-item\"><div class=\"sk-estimator sk-toggleable\"><input class=\"sk-toggleable__control sk-hidden--visually\" id=\"sk-estimator-id-6\" type=\"checkbox\" ><label for=\"sk-estimator-id-6\" class=\"sk-toggleable__label sk-toggleable__label-arrow\">LGBMRegressor</label><div class=\"sk-toggleable__content\"><pre>LGBMRegressor(random_state=12345)</pre></div></div></div></div></div></div></div></div></div></div>"
      ],
      "text/plain": [
       "GridSearchCV(cv=TimeSeriesSplit(gap=0, max_train_size=None, n_splits=5, test_size=None),\n",
       "             estimator=LGBMRegressor(random_state=12345), n_jobs=-1,\n",
       "             param_grid={'learning_rate': [0.01, 0.1, 1.0],\n",
       "                         'num_leaves': [20, 30, 40]},\n",
       "             scoring=make_scorer(<lambda>, greater_is_better=False), verbose=3)"
      ]
     },
     "execution_count": 25,
     "metadata": {},
     "output_type": "execute_result"
    }
   ],
   "source": [
    "gb = LGBMRegressor(random_state=SEED)\n",
    "params = {\"num_leaves\":[20, 30, 40], 'learning_rate':[0.01, 0.1, 1.0]}\n",
    "gscv_gb = GridSearchCV(gb, params, cv=tscv, scoring=rmse_scorer, verbose=3, n_jobs=-1)\n",
    "gscv_gb.fit(train_X, train_y)"
   ]
  },
  {
   "cell_type": "code",
   "execution_count": 26,
   "metadata": {},
   "outputs": [
    {
     "name": "stdout",
     "output_type": "stream",
     "text": [
      "RMSE (cv) for best GB model = 24.8 for No. leaves = 20, Learning Rate = 0.1\n"
     ]
    }
   ],
   "source": [
    "best_gb_cv_rmse = abs(gscv_gb.best_score_)\n",
    "best_gb_nl = gscv_gb.best_params_[\"num_leaves\"]\n",
    "best_gb_lr = gscv_gb.best_params_[\"learning_rate\"]\n",
    "best_gb = gscv_gb.best_estimator_\n",
    "print(f\"RMSE (cv) for best GB model = {best_gb_cv_rmse:.1f} for No. leaves = {best_gb_nl}, Learning Rate = {best_gb_lr}\")"
   ]
  },
  {
   "cell_type": "markdown",
   "metadata": {},
   "source": [
    "Странно, что это хуже, чем линейные модели."
   ]
  },
  {
   "cell_type": "markdown",
   "metadata": {},
   "source": [
    "## Тестирование"
   ]
  },
  {
   "cell_type": "markdown",
   "metadata": {},
   "source": [
    "### Базовые линии"
   ]
  },
  {
   "cell_type": "markdown",
   "metadata": {},
   "source": [
    "#### По среднему"
   ]
  },
  {
   "cell_type": "code",
   "execution_count": 27,
   "metadata": {},
   "outputs": [
    {
     "name": "stdout",
     "output_type": "stream",
     "text": [
      "RMSE: 84.0\n"
     ]
    }
   ],
   "source": [
    "pred_mean = np.ones(test_y.shape) * train_y.mean()\n",
    "print(\"RMSE:\", round(mean_squared_error(test_y, pred_mean, squared=False), 1))"
   ]
  },
  {
   "cell_type": "markdown",
   "metadata": {},
   "source": [
    "#### По предыдущнму"
   ]
  },
  {
   "cell_type": "code",
   "execution_count": 28,
   "metadata": {},
   "outputs": [
    {
     "name": "stdout",
     "output_type": "stream",
     "text": [
      "RMSE: 58.9\n"
     ]
    }
   ],
   "source": [
    "pred_previous = test_y.shift()\n",
    "pred_previous.iloc[0] = train_y.iloc[-1] \n",
    "print(\"RMSE:\", round(mean_squared_error(test_y, pred_previous, squared=False), 1))"
   ]
  },
  {
   "cell_type": "markdown",
   "metadata": {},
   "source": [
    "Если учесть суточную сезнонность."
   ]
  },
  {
   "cell_type": "code",
   "execution_count": 29,
   "metadata": {},
   "outputs": [
    {
     "name": "stdout",
     "output_type": "stream",
     "text": [
      "RMSE: 57.2\n"
     ]
    }
   ],
   "source": [
    "pred_previous = test_y.shift(24)\n",
    "pred_previous.isna().sum()\n",
    "pred_previous.iloc[0:24] = train_y.iloc[-24:] \n",
    "print(\"RMSE:\", round(mean_squared_error(test_y, pred_previous, squared=False), 1))"
   ]
  },
  {
   "cell_type": "markdown",
   "metadata": {},
   "source": [
    "Меньше, чем просто по предыдущему."
   ]
  },
  {
   "cell_type": "markdown",
   "metadata": {},
   "source": [
    "Учитывая недельную сезонность."
   ]
  },
  {
   "cell_type": "code",
   "execution_count": 30,
   "metadata": {},
   "outputs": [
    {
     "name": "stdout",
     "output_type": "stream",
     "text": [
      "RMSE: 39.5\n"
     ]
    }
   ],
   "source": [
    "pred_previous = test_y.shift(24*7)\n",
    "pred_previous.isna().sum()\n",
    "pred_previous.iloc[0:24*7] = train_y.iloc[-24*7:] \n",
    "print(\"RMSE:\", round(mean_squared_error(test_y, pred_previous, squared=False), 1))"
   ]
  },
  {
   "cell_type": "markdown",
   "metadata": {},
   "source": [
    "Ха, тут для предсказания, с достаточной точностью и модель не особо нужна :-)"
   ]
  },
  {
   "cell_type": "markdown",
   "metadata": {},
   "source": [
    "### Тестирование модели"
   ]
  },
  {
   "cell_type": "code",
   "execution_count": 31,
   "metadata": {},
   "outputs": [
    {
     "name": "stdout",
     "output_type": "stream",
     "text": [
      "RMSE (test) for Ridge model = 41.5\n"
     ]
    }
   ],
   "source": [
    "y_pred = best_ridge.predict(test_X)\n",
    "gb_test_rmse = mean_squared_error(test_y, y_pred, squared=False)\n",
    "print(f\"RMSE (test) for Ridge model = {gb_test_rmse:.1f}\")"
   ]
  },
  {
   "cell_type": "markdown",
   "metadata": {},
   "source": [
    "Тем не менее, гребневая регрессия показывает результат, достаточный для сдачи проекта."
   ]
  },
  {
   "cell_type": "markdown",
   "metadata": {},
   "source": [
    "## Чек-лист проверки"
   ]
  },
  {
   "cell_type": "markdown",
   "metadata": {},
   "source": [
    "- [x]  Jupyter Notebook открыт\n",
    "- [x]  Весь код выполняется без ошибок\n",
    "- [x]  Ячейки с кодом расположены в порядке исполнения\n",
    "- [x]  Данные загружены и подготовлены\n",
    "- [x]  Данные проанализированы\n",
    "- [x]  Модель обучена, гиперпараметры подобраны\n",
    "- [x]  Качество моделей проверено, выводы сделаны\n",
    "- [x]  Значение *RMSE* на тестовой выборке не больше 48"
   ]
  }
 ],
 "metadata": {
  "ExecuteTimeLog": [
   {
    "duration": 370,
    "start_time": "2022-12-28T07:45:07.727Z"
   },
   {
    "duration": 169,
    "start_time": "2022-12-28T07:48:04.262Z"
   },
   {
    "duration": 14,
    "start_time": "2022-12-28T07:48:13.345Z"
   },
   {
    "duration": 13,
    "start_time": "2022-12-28T07:48:35.458Z"
   },
   {
    "duration": 12,
    "start_time": "2022-12-28T07:49:54.977Z"
   },
   {
    "duration": 5,
    "start_time": "2022-12-28T07:50:29.015Z"
   },
   {
    "duration": 10,
    "start_time": "2022-12-28T07:50:40.339Z"
   },
   {
    "duration": 9,
    "start_time": "2022-12-28T07:51:00.703Z"
   },
   {
    "duration": 15,
    "start_time": "2022-12-28T07:53:11.117Z"
   },
   {
    "duration": 6,
    "start_time": "2022-12-28T07:53:26.000Z"
   },
   {
    "duration": 11,
    "start_time": "2022-12-28T07:57:37.029Z"
   },
   {
    "duration": 10,
    "start_time": "2022-12-28T07:58:09.299Z"
   },
   {
    "duration": 20,
    "start_time": "2022-12-28T07:59:16.973Z"
   },
   {
    "duration": 942,
    "start_time": "2022-12-28T08:02:18.977Z"
   },
   {
    "duration": 224,
    "start_time": "2022-12-28T08:03:21.040Z"
   },
   {
    "duration": 231,
    "start_time": "2022-12-28T08:03:33.377Z"
   },
   {
    "duration": 68,
    "start_time": "2022-12-28T08:07:11.176Z"
   },
   {
    "duration": 121,
    "start_time": "2022-12-28T08:07:29.493Z"
   },
   {
    "duration": 194,
    "start_time": "2022-12-28T08:08:06.813Z"
   },
   {
    "duration": 153,
    "start_time": "2022-12-28T08:08:43.745Z"
   },
   {
    "duration": 205,
    "start_time": "2022-12-28T08:10:00.413Z"
   },
   {
    "duration": 255,
    "start_time": "2022-12-28T08:10:12.776Z"
   },
   {
    "duration": 253,
    "start_time": "2022-12-28T08:11:59.569Z"
   },
   {
    "duration": 445,
    "start_time": "2022-12-28T08:13:30.367Z"
   },
   {
    "duration": 641,
    "start_time": "2022-12-28T08:13:56.765Z"
   },
   {
    "duration": 464,
    "start_time": "2022-12-28T08:14:35.952Z"
   },
   {
    "duration": 12,
    "start_time": "2022-12-28T08:16:49.725Z"
   },
   {
    "duration": 430,
    "start_time": "2022-12-28T08:17:35.387Z"
   },
   {
    "duration": 29,
    "start_time": "2022-12-28T08:24:38.967Z"
   },
   {
    "duration": 27,
    "start_time": "2022-12-28T08:25:18.522Z"
   },
   {
    "duration": 3,
    "start_time": "2022-12-28T08:26:16.145Z"
   },
   {
    "duration": 1293,
    "start_time": "2022-12-28T08:26:26.642Z"
   },
   {
    "duration": 2006,
    "start_time": "2022-12-28T08:26:57.124Z"
   },
   {
    "duration": 29,
    "start_time": "2022-12-28T08:29:33.871Z"
   },
   {
    "duration": 1231,
    "start_time": "2022-12-28T08:29:49.462Z"
   },
   {
    "duration": 2061,
    "start_time": "2022-12-28T08:33:04.155Z"
   },
   {
    "duration": 2055,
    "start_time": "2022-12-28T08:33:42.684Z"
   },
   {
    "duration": 1304,
    "start_time": "2022-12-28T08:35:33.408Z"
   },
   {
    "duration": 1398,
    "start_time": "2022-12-28T08:35:47.305Z"
   },
   {
    "duration": 11,
    "start_time": "2022-12-28T08:38:27.345Z"
   },
   {
    "duration": 12,
    "start_time": "2022-12-28T08:38:48.906Z"
   },
   {
    "duration": 824,
    "start_time": "2022-12-28T08:39:00.705Z"
   },
   {
    "duration": 5,
    "start_time": "2022-12-28T08:47:52.273Z"
   },
   {
    "duration": 18,
    "start_time": "2022-12-28T08:49:55.803Z"
   },
   {
    "duration": 4,
    "start_time": "2022-12-28T08:51:08.499Z"
   },
   {
    "duration": 23,
    "start_time": "2022-12-28T08:51:10.493Z"
   },
   {
    "duration": 3,
    "start_time": "2022-12-28T08:56:52.202Z"
   },
   {
    "duration": 7,
    "start_time": "2022-12-28T08:59:36.841Z"
   },
   {
    "duration": 7,
    "start_time": "2022-12-28T09:02:45.701Z"
   },
   {
    "duration": 46,
    "start_time": "2022-12-28T09:09:50.060Z"
   },
   {
    "duration": 72,
    "start_time": "2022-12-28T09:10:40.530Z"
   },
   {
    "duration": 37,
    "start_time": "2022-12-28T09:10:49.710Z"
   },
   {
    "duration": 36,
    "start_time": "2022-12-28T09:11:03.001Z"
   },
   {
    "duration": 37,
    "start_time": "2022-12-28T09:12:52.783Z"
   },
   {
    "duration": 5,
    "start_time": "2022-12-28T09:16:29.937Z"
   },
   {
    "duration": 13,
    "start_time": "2022-12-28T09:22:23.635Z"
   },
   {
    "duration": 1859,
    "start_time": "2022-12-28T09:23:08.341Z"
   },
   {
    "duration": 1828,
    "start_time": "2022-12-28T09:23:58.956Z"
   },
   {
    "duration": 5,
    "start_time": "2022-12-28T09:24:06.883Z"
   },
   {
    "duration": 38,
    "start_time": "2022-12-28T09:24:30.556Z"
   },
   {
    "duration": 1997,
    "start_time": "2022-12-28T09:25:01.491Z"
   },
   {
    "duration": 3,
    "start_time": "2022-12-28T09:25:07.956Z"
   },
   {
    "duration": 12,
    "start_time": "2022-12-28T09:28:57.753Z"
   },
   {
    "duration": 4,
    "start_time": "2022-12-28T09:29:23.940Z"
   },
   {
    "duration": 78170,
    "start_time": "2022-12-28T09:29:59.633Z"
   },
   {
    "duration": 6,
    "start_time": "2022-12-28T09:41:06.675Z"
   },
   {
    "duration": 69,
    "start_time": "2022-12-28T09:41:06.682Z"
   },
   {
    "duration": 7,
    "start_time": "2022-12-28T09:41:06.753Z"
   },
   {
    "duration": 28,
    "start_time": "2022-12-28T09:41:06.762Z"
   },
   {
    "duration": 48,
    "start_time": "2022-12-28T09:41:06.792Z"
   },
   {
    "duration": 53,
    "start_time": "2022-12-28T09:41:06.844Z"
   },
   {
    "duration": 20,
    "start_time": "2022-12-28T09:41:06.898Z"
   },
   {
    "duration": 35,
    "start_time": "2022-12-28T09:41:06.920Z"
   },
   {
    "duration": 48,
    "start_time": "2022-12-28T09:41:06.957Z"
   },
   {
    "duration": 44,
    "start_time": "2022-12-28T09:41:07.006Z"
   },
   {
    "duration": 49,
    "start_time": "2022-12-28T09:41:07.053Z"
   },
   {
    "duration": 95,
    "start_time": "2022-12-28T09:41:07.104Z"
   },
   {
    "duration": 237,
    "start_time": "2022-12-28T09:41:07.201Z"
   },
   {
    "duration": 362,
    "start_time": "2022-12-28T09:41:07.440Z"
   },
   {
    "duration": 356,
    "start_time": "2022-12-28T09:41:07.804Z"
   },
   {
    "duration": 1246,
    "start_time": "2022-12-28T09:41:08.162Z"
   },
   {
    "duration": 813,
    "start_time": "2022-12-28T09:41:09.409Z"
   },
   {
    "duration": 4,
    "start_time": "2022-12-28T09:41:10.224Z"
   },
   {
    "duration": 23,
    "start_time": "2022-12-28T09:41:10.230Z"
   },
   {
    "duration": 7,
    "start_time": "2022-12-28T09:41:10.255Z"
   },
   {
    "duration": 8,
    "start_time": "2022-12-28T09:41:10.278Z"
   },
   {
    "duration": 35,
    "start_time": "2022-12-28T09:41:10.294Z"
   },
   {
    "duration": 1977,
    "start_time": "2022-12-28T09:41:10.330Z"
   },
   {
    "duration": 74,
    "start_time": "2022-12-28T09:41:12.309Z"
   },
   {
    "duration": 749805,
    "start_time": "2022-12-28T09:41:21.399Z"
   },
   {
    "duration": 3,
    "start_time": "2022-12-28T09:55:29.749Z"
   },
   {
    "duration": 15,
    "start_time": "2022-12-28T09:59:22.319Z"
   },
   {
    "duration": 10,
    "start_time": "2022-12-28T10:00:11.979Z"
   },
   {
    "duration": 3,
    "start_time": "2022-12-28T10:00:30.853Z"
   },
   {
    "duration": 12,
    "start_time": "2022-12-28T10:00:48.778Z"
   },
   {
    "duration": 5,
    "start_time": "2022-12-28T10:01:05.842Z"
   },
   {
    "duration": 5,
    "start_time": "2022-12-28T10:01:38.058Z"
   },
   {
    "duration": 5,
    "start_time": "2022-12-28T10:02:10.650Z"
   },
   {
    "duration": 3,
    "start_time": "2022-12-28T10:04:37.607Z"
   },
   {
    "duration": 55,
    "start_time": "2022-12-28T10:04:42.138Z"
   },
   {
    "duration": 9,
    "start_time": "2022-12-28T10:04:44.616Z"
   },
   {
    "duration": 8,
    "start_time": "2022-12-28T10:04:57.232Z"
   },
   {
    "duration": 9,
    "start_time": "2022-12-28T10:05:03.395Z"
   },
   {
    "duration": 3,
    "start_time": "2022-12-28T10:05:22.492Z"
   },
   {
    "duration": 5,
    "start_time": "2022-12-28T10:05:24.245Z"
   },
   {
    "duration": 14,
    "start_time": "2022-12-28T10:05:25.694Z"
   },
   {
    "duration": 7,
    "start_time": "2022-12-28T10:06:12.237Z"
   },
   {
    "duration": 6,
    "start_time": "2022-12-28T10:06:16.219Z"
   },
   {
    "duration": 11,
    "start_time": "2022-12-28T10:06:19.820Z"
   },
   {
    "duration": 10,
    "start_time": "2022-12-28T10:06:27.163Z"
   },
   {
    "duration": 12,
    "start_time": "2022-12-28T10:06:34.314Z"
   },
   {
    "duration": 251,
    "start_time": "2022-12-28T10:06:36.147Z"
   },
   {
    "duration": 366,
    "start_time": "2022-12-28T10:06:38.295Z"
   },
   {
    "duration": 374,
    "start_time": "2022-12-28T10:06:40.473Z"
   },
   {
    "duration": 1871,
    "start_time": "2022-12-28T10:06:43.443Z"
   },
   {
    "duration": 776,
    "start_time": "2022-12-28T10:06:47.995Z"
   },
   {
    "duration": 5,
    "start_time": "2022-12-28T10:06:52.969Z"
   },
   {
    "duration": 22,
    "start_time": "2022-12-28T10:06:59.307Z"
   },
   {
    "duration": 7,
    "start_time": "2022-12-28T10:07:01.596Z"
   },
   {
    "duration": 5,
    "start_time": "2022-12-28T10:07:03.826Z"
   },
   {
    "duration": 4,
    "start_time": "2022-12-28T10:08:45.196Z"
   },
   {
    "duration": 37,
    "start_time": "2022-12-28T10:11:33.515Z"
   },
   {
    "duration": 1849,
    "start_time": "2022-12-28T10:11:51.243Z"
   },
   {
    "duration": 3,
    "start_time": "2022-12-28T10:12:32.538Z"
   },
   {
    "duration": 303496,
    "start_time": "2022-12-28T10:13:38.600Z"
   },
   {
    "duration": 4,
    "start_time": "2022-12-28T10:18:50.845Z"
   },
   {
    "duration": 7,
    "start_time": "2022-12-28T10:19:07.279Z"
   },
   {
    "duration": 5,
    "start_time": "2022-12-28T10:19:11.156Z"
   },
   {
    "duration": 7,
    "start_time": "2022-12-28T10:20:31.077Z"
   },
   {
    "duration": 5,
    "start_time": "2022-12-28T10:21:14.415Z"
   },
   {
    "duration": 11,
    "start_time": "2022-12-28T10:23:32.651Z"
   },
   {
    "duration": 10,
    "start_time": "2022-12-28T10:24:02.107Z"
   },
   {
    "duration": 5,
    "start_time": "2022-12-28T10:24:49.163Z"
   },
   {
    "duration": 13,
    "start_time": "2022-12-28T10:24:55.408Z"
   },
   {
    "duration": 10,
    "start_time": "2022-12-28T10:26:29.035Z"
   },
   {
    "duration": 30,
    "start_time": "2022-12-28T10:26:58.374Z"
   },
   {
    "duration": 13,
    "start_time": "2022-12-28T10:28:00.943Z"
   },
   {
    "duration": 41,
    "start_time": "2022-12-28T10:28:01.823Z"
   },
   {
    "duration": 7,
    "start_time": "2022-12-28T10:28:04.997Z"
   },
   {
    "duration": 7,
    "start_time": "2022-12-28T10:28:10.154Z"
   },
   {
    "duration": 1170,
    "start_time": "2022-12-28T10:28:15.118Z"
   },
   {
    "duration": 4,
    "start_time": "2022-12-28T10:28:56.664Z"
   },
   {
    "duration": 73,
    "start_time": "2022-12-28T10:28:57.669Z"
   },
   {
    "duration": 9,
    "start_time": "2022-12-28T10:28:58.306Z"
   },
   {
    "duration": 11,
    "start_time": "2022-12-28T10:28:59.058Z"
   },
   {
    "duration": 3,
    "start_time": "2022-12-28T10:28:59.972Z"
   },
   {
    "duration": 4,
    "start_time": "2022-12-28T10:29:00.546Z"
   },
   {
    "duration": 12,
    "start_time": "2022-12-28T10:29:00.852Z"
   },
   {
    "duration": 7,
    "start_time": "2022-12-28T10:29:01.149Z"
   },
   {
    "duration": 7,
    "start_time": "2022-12-28T10:29:02.044Z"
   },
   {
    "duration": 11,
    "start_time": "2022-12-28T10:29:03.123Z"
   },
   {
    "duration": 11,
    "start_time": "2022-12-28T10:29:03.417Z"
   },
   {
    "duration": 18,
    "start_time": "2022-12-28T10:29:04.228Z"
   },
   {
    "duration": 284,
    "start_time": "2022-12-28T10:29:05.044Z"
   },
   {
    "duration": 392,
    "start_time": "2022-12-28T10:29:06.476Z"
   },
   {
    "duration": 389,
    "start_time": "2022-12-28T10:29:08.420Z"
   },
   {
    "duration": 1332,
    "start_time": "2022-12-28T10:29:09.519Z"
   },
   {
    "duration": 946,
    "start_time": "2022-12-28T10:29:10.853Z"
   },
   {
    "duration": 5,
    "start_time": "2022-12-28T10:29:11.812Z"
   },
   {
    "duration": 73,
    "start_time": "2022-12-28T10:29:12.141Z"
   },
   {
    "duration": 3,
    "start_time": "2022-12-28T10:30:40.428Z"
   },
   {
    "duration": 18,
    "start_time": "2022-12-28T10:30:44.100Z"
   },
   {
    "duration": 7,
    "start_time": "2022-12-28T10:30:49.248Z"
   },
   {
    "duration": 5,
    "start_time": "2022-12-28T10:30:51.041Z"
   },
   {
    "duration": 46,
    "start_time": "2022-12-28T10:30:54.049Z"
   },
   {
    "duration": 15,
    "start_time": "2022-12-28T10:31:17.128Z"
   },
   {
    "duration": 6,
    "start_time": "2022-12-28T10:31:20.893Z"
   },
   {
    "duration": 6,
    "start_time": "2022-12-28T10:31:22.766Z"
   },
   {
    "duration": 35,
    "start_time": "2022-12-28T10:31:26.297Z"
   },
   {
    "duration": 23,
    "start_time": "2022-12-28T10:31:36.206Z"
   },
   {
    "duration": 7,
    "start_time": "2022-12-28T10:31:39.064Z"
   },
   {
    "duration": 5,
    "start_time": "2022-12-28T10:31:42.221Z"
   },
   {
    "duration": 32,
    "start_time": "2022-12-28T10:31:44.819Z"
   },
   {
    "duration": 29,
    "start_time": "2022-12-28T10:31:56.569Z"
   },
   {
    "duration": 8,
    "start_time": "2022-12-28T10:32:04.447Z"
   },
   {
    "duration": 7,
    "start_time": "2022-12-28T10:32:06.084Z"
   },
   {
    "duration": 42,
    "start_time": "2022-12-28T10:32:08.368Z"
   },
   {
    "duration": 35,
    "start_time": "2022-12-28T10:32:26.199Z"
   },
   {
    "duration": 5,
    "start_time": "2022-12-28T10:32:34.963Z"
   },
   {
    "duration": 40,
    "start_time": "2022-12-28T10:32:37.769Z"
   },
   {
    "duration": 12,
    "start_time": "2022-12-28T10:33:33.319Z"
   },
   {
    "duration": 62,
    "start_time": "2022-12-28T10:33:33.333Z"
   },
   {
    "duration": 6,
    "start_time": "2022-12-28T10:33:33.397Z"
   },
   {
    "duration": 13,
    "start_time": "2022-12-28T10:33:33.405Z"
   },
   {
    "duration": 3,
    "start_time": "2022-12-28T10:33:33.420Z"
   },
   {
    "duration": 7,
    "start_time": "2022-12-28T10:33:33.425Z"
   },
   {
    "duration": 28,
    "start_time": "2022-12-28T10:33:33.433Z"
   },
   {
    "duration": 29,
    "start_time": "2022-12-28T10:33:33.462Z"
   },
   {
    "duration": 15,
    "start_time": "2022-12-28T10:33:33.492Z"
   },
   {
    "duration": 16,
    "start_time": "2022-12-28T10:33:33.508Z"
   },
   {
    "duration": 18,
    "start_time": "2022-12-28T10:33:33.527Z"
   },
   {
    "duration": 18,
    "start_time": "2022-12-28T10:33:33.547Z"
   },
   {
    "duration": 222,
    "start_time": "2022-12-28T10:33:33.567Z"
   },
   {
    "duration": 464,
    "start_time": "2022-12-28T10:33:33.792Z"
   },
   {
    "duration": 391,
    "start_time": "2022-12-28T10:33:34.258Z"
   },
   {
    "duration": 1239,
    "start_time": "2022-12-28T10:33:34.651Z"
   },
   {
    "duration": 862,
    "start_time": "2022-12-28T10:33:35.892Z"
   },
   {
    "duration": 4,
    "start_time": "2022-12-28T10:33:46.272Z"
   },
   {
    "duration": 25,
    "start_time": "2022-12-28T10:33:58.428Z"
   },
   {
    "duration": 8,
    "start_time": "2022-12-28T10:34:00.450Z"
   },
   {
    "duration": 5,
    "start_time": "2022-12-28T10:34:02.042Z"
   },
   {
    "duration": 38,
    "start_time": "2022-12-28T10:34:05.560Z"
   },
   {
    "duration": 1412,
    "start_time": "2022-12-28T10:34:31.993Z"
   },
   {
    "duration": 46,
    "start_time": "2022-12-28T10:34:33.407Z"
   },
   {
    "duration": 12,
    "start_time": "2022-12-28T10:34:33.455Z"
   },
   {
    "duration": 13,
    "start_time": "2022-12-28T10:34:33.469Z"
   },
   {
    "duration": 14,
    "start_time": "2022-12-28T10:34:33.485Z"
   },
   {
    "duration": 12,
    "start_time": "2022-12-28T10:34:33.501Z"
   },
   {
    "duration": 13,
    "start_time": "2022-12-28T10:34:33.515Z"
   },
   {
    "duration": 14,
    "start_time": "2022-12-28T10:34:33.530Z"
   },
   {
    "duration": 10,
    "start_time": "2022-12-28T10:34:33.546Z"
   },
   {
    "duration": 13,
    "start_time": "2022-12-28T10:34:33.557Z"
   },
   {
    "duration": 14,
    "start_time": "2022-12-28T10:34:33.572Z"
   },
   {
    "duration": 18,
    "start_time": "2022-12-28T10:34:33.587Z"
   },
   {
    "duration": 220,
    "start_time": "2022-12-28T10:34:33.606Z"
   },
   {
    "duration": 463,
    "start_time": "2022-12-28T10:34:33.828Z"
   },
   {
    "duration": 370,
    "start_time": "2022-12-28T10:34:34.292Z"
   },
   {
    "duration": 1270,
    "start_time": "2022-12-28T10:34:34.663Z"
   },
   {
    "duration": 908,
    "start_time": "2022-12-28T10:34:35.935Z"
   },
   {
    "duration": 4,
    "start_time": "2022-12-28T10:34:41.631Z"
   },
   {
    "duration": 22,
    "start_time": "2022-12-28T10:34:43.414Z"
   },
   {
    "duration": 8,
    "start_time": "2022-12-28T10:34:45.614Z"
   },
   {
    "duration": 5,
    "start_time": "2022-12-28T10:34:47.292Z"
   },
   {
    "duration": 37,
    "start_time": "2022-12-28T10:34:50.278Z"
   },
   {
    "duration": 2131,
    "start_time": "2022-12-28T10:34:56.456Z"
   },
   {
    "duration": 4,
    "start_time": "2022-12-28T10:34:58.590Z"
   },
   {
    "duration": 1702614,
    "start_time": "2022-12-28T10:35:11.893Z"
   },
   {
    "duration": 52,
    "start_time": "2022-12-28T11:04:11.601Z"
   },
   {
    "duration": 10,
    "start_time": "2022-12-28T11:04:18.833Z"
   },
   {
    "duration": 7,
    "start_time": "2022-12-28T11:04:20.932Z"
   },
   {
    "duration": 1631,
    "start_time": "2022-12-28T11:04:29.051Z"
   },
   {
    "duration": 7464,
    "start_time": "2022-12-28T11:04:38.336Z"
   },
   {
    "duration": 5,
    "start_time": "2022-12-28T11:05:00.603Z"
   },
   {
    "duration": 258997,
    "start_time": "2022-12-28T11:05:04.805Z"
   },
   {
    "duration": 1616,
    "start_time": "2022-12-28T11:09:57.643Z"
   },
   {
    "duration": 52,
    "start_time": "2022-12-28T11:09:59.260Z"
   },
   {
    "duration": 16,
    "start_time": "2022-12-28T11:09:59.313Z"
   },
   {
    "duration": 15,
    "start_time": "2022-12-28T11:09:59.331Z"
   },
   {
    "duration": 4,
    "start_time": "2022-12-28T11:09:59.349Z"
   },
   {
    "duration": 23,
    "start_time": "2022-12-28T11:09:59.355Z"
   },
   {
    "duration": 26,
    "start_time": "2022-12-28T11:09:59.384Z"
   },
   {
    "duration": 27,
    "start_time": "2022-12-28T11:09:59.412Z"
   },
   {
    "duration": 13,
    "start_time": "2022-12-28T11:09:59.441Z"
   },
   {
    "duration": 20,
    "start_time": "2022-12-28T11:09:59.456Z"
   },
   {
    "duration": 13,
    "start_time": "2022-12-28T11:09:59.480Z"
   },
   {
    "duration": 16,
    "start_time": "2022-12-28T11:09:59.499Z"
   },
   {
    "duration": 254,
    "start_time": "2022-12-28T11:09:59.516Z"
   },
   {
    "duration": 488,
    "start_time": "2022-12-28T11:09:59.772Z"
   },
   {
    "duration": 362,
    "start_time": "2022-12-28T11:10:00.262Z"
   },
   {
    "duration": 1328,
    "start_time": "2022-12-28T11:10:00.626Z"
   },
   {
    "duration": 819,
    "start_time": "2022-12-28T11:10:01.956Z"
   },
   {
    "duration": 4,
    "start_time": "2022-12-28T11:10:08.762Z"
   },
   {
    "duration": 38,
    "start_time": "2022-12-28T11:10:23.717Z"
   },
   {
    "duration": 9,
    "start_time": "2022-12-28T11:10:32.819Z"
   },
   {
    "duration": 6,
    "start_time": "2022-12-28T11:10:34.010Z"
   },
   {
    "duration": 1082,
    "start_time": "2022-12-28T11:10:36.419Z"
   },
   {
    "duration": 27,
    "start_time": "2022-12-28T11:11:04.297Z"
   },
   {
    "duration": 11,
    "start_time": "2022-12-28T11:11:06.580Z"
   },
   {
    "duration": 5,
    "start_time": "2022-12-28T11:11:07.597Z"
   },
   {
    "duration": 1019,
    "start_time": "2022-12-28T11:11:08.969Z"
   },
   {
    "duration": 45,
    "start_time": "2022-12-28T11:11:24.707Z"
   },
   {
    "duration": 8,
    "start_time": "2022-12-28T11:11:26.418Z"
   },
   {
    "duration": 7,
    "start_time": "2022-12-28T11:11:27.463Z"
   },
   {
    "duration": 962,
    "start_time": "2022-12-28T11:11:29.646Z"
   },
   {
    "duration": 36,
    "start_time": "2022-12-28T11:11:46.498Z"
   },
   {
    "duration": 8,
    "start_time": "2022-12-28T11:11:47.834Z"
   },
   {
    "duration": 9,
    "start_time": "2022-12-28T11:11:48.886Z"
   },
   {
    "duration": 1090,
    "start_time": "2022-12-28T11:11:50.795Z"
   },
   {
    "duration": 29,
    "start_time": "2022-12-28T11:12:00.624Z"
   },
   {
    "duration": 7,
    "start_time": "2022-12-28T11:12:01.672Z"
   },
   {
    "duration": 5,
    "start_time": "2022-12-28T11:12:02.465Z"
   },
   {
    "duration": 1034,
    "start_time": "2022-12-28T11:12:08.855Z"
   },
   {
    "duration": 39,
    "start_time": "2022-12-28T11:12:24.705Z"
   },
   {
    "duration": 9,
    "start_time": "2022-12-28T11:12:25.656Z"
   },
   {
    "duration": 16,
    "start_time": "2022-12-28T11:12:26.574Z"
   },
   {
    "duration": 1028,
    "start_time": "2022-12-28T11:12:27.856Z"
   },
   {
    "duration": 34,
    "start_time": "2022-12-28T11:12:44.552Z"
   },
   {
    "duration": 8,
    "start_time": "2022-12-28T11:12:45.396Z"
   },
   {
    "duration": 6,
    "start_time": "2022-12-28T11:12:46.125Z"
   },
   {
    "duration": 1067,
    "start_time": "2022-12-28T11:12:48.320Z"
   },
   {
    "duration": 33,
    "start_time": "2022-12-28T11:12:58.793Z"
   },
   {
    "duration": 8,
    "start_time": "2022-12-28T11:12:59.751Z"
   },
   {
    "duration": 6,
    "start_time": "2022-12-28T11:13:00.654Z"
   },
   {
    "duration": 746,
    "start_time": "2022-12-28T11:13:02.439Z"
   },
   {
    "duration": 30,
    "start_time": "2022-12-28T11:13:13.290Z"
   },
   {
    "duration": 8,
    "start_time": "2022-12-28T11:13:14.328Z"
   },
   {
    "duration": 6,
    "start_time": "2022-12-28T11:13:15.045Z"
   },
   {
    "duration": 1357,
    "start_time": "2022-12-28T11:13:16.823Z"
   },
   {
    "duration": 29,
    "start_time": "2022-12-28T11:13:31.522Z"
   },
   {
    "duration": 7,
    "start_time": "2022-12-28T11:13:32.550Z"
   },
   {
    "duration": 5,
    "start_time": "2022-12-28T11:13:33.407Z"
   },
   {
    "duration": 1190,
    "start_time": "2022-12-28T11:13:34.709Z"
   },
   {
    "duration": 41,
    "start_time": "2022-12-28T11:13:48.394Z"
   },
   {
    "duration": 9,
    "start_time": "2022-12-28T11:13:52.029Z"
   },
   {
    "duration": 6,
    "start_time": "2022-12-28T11:13:53.336Z"
   },
   {
    "duration": 1554,
    "start_time": "2022-12-28T11:13:55.246Z"
   },
   {
    "duration": 10668,
    "start_time": "2022-12-28T11:14:04.126Z"
   },
   {
    "duration": 4,
    "start_time": "2022-12-28T11:14:27.679Z"
   },
   {
    "duration": 14,
    "start_time": "2022-12-28T11:15:20.682Z"
   },
   {
    "duration": 365680,
    "start_time": "2022-12-28T11:17:38.495Z"
   },
   {
    "duration": 7,
    "start_time": "2022-12-28T11:25:25.136Z"
   },
   {
    "duration": 101,
    "start_time": "2022-12-28T11:25:25.146Z"
   },
   {
    "duration": 8,
    "start_time": "2022-12-28T11:25:25.250Z"
   },
   {
    "duration": 20,
    "start_time": "2022-12-28T11:25:25.262Z"
   },
   {
    "duration": 30,
    "start_time": "2022-12-28T11:25:25.285Z"
   },
   {
    "duration": 15,
    "start_time": "2022-12-28T11:25:25.317Z"
   },
   {
    "duration": 26,
    "start_time": "2022-12-28T11:25:25.334Z"
   },
   {
    "duration": 13,
    "start_time": "2022-12-28T11:25:25.363Z"
   },
   {
    "duration": 33,
    "start_time": "2022-12-28T11:25:25.385Z"
   },
   {
    "duration": 17,
    "start_time": "2022-12-28T11:25:25.421Z"
   },
   {
    "duration": 15,
    "start_time": "2022-12-28T11:25:25.441Z"
   },
   {
    "duration": 39,
    "start_time": "2022-12-28T11:25:25.458Z"
   },
   {
    "duration": 361,
    "start_time": "2022-12-28T11:25:25.502Z"
   },
   {
    "duration": 612,
    "start_time": "2022-12-28T11:25:25.866Z"
   },
   {
    "duration": 564,
    "start_time": "2022-12-28T11:25:26.480Z"
   },
   {
    "duration": 1583,
    "start_time": "2022-12-28T11:25:27.047Z"
   },
   {
    "duration": 1454,
    "start_time": "2022-12-28T11:25:28.633Z"
   },
   {
    "duration": 93,
    "start_time": "2022-12-28T11:26:05.413Z"
   },
   {
    "duration": 4,
    "start_time": "2022-12-28T11:26:16.105Z"
   },
   {
    "duration": 50,
    "start_time": "2022-12-28T11:26:18.068Z"
   },
   {
    "duration": 12,
    "start_time": "2022-12-28T11:26:28.299Z"
   },
   {
    "duration": 9,
    "start_time": "2022-12-28T11:26:29.498Z"
   },
   {
    "duration": 569,
    "start_time": "2022-12-28T11:26:32.418Z"
   },
   {
    "duration": 8004,
    "start_time": "2022-12-28T11:26:53.121Z"
   },
   {
    "duration": 4,
    "start_time": "2022-12-28T11:27:07.506Z"
   },
   {
    "duration": 5764454,
    "start_time": "2022-12-28T11:27:11.731Z"
   },
   {
    "duration": 5,
    "start_time": "2022-12-28T13:03:23.384Z"
   },
   {
    "duration": 6,
    "start_time": "2022-12-28T13:03:36.874Z"
   },
   {
    "duration": 5,
    "start_time": "2022-12-28T13:03:41.736Z"
   },
   {
    "duration": 6,
    "start_time": "2022-12-28T13:03:43.953Z"
   },
   {
    "duration": 7,
    "start_time": "2022-12-28T13:04:17.736Z"
   },
   {
    "duration": 9,
    "start_time": "2022-12-28T13:06:39.076Z"
   },
   {
    "duration": 25,
    "start_time": "2022-12-28T13:07:57.381Z"
   },
   {
    "duration": 9,
    "start_time": "2022-12-28T13:08:09.558Z"
   }
  ],
  "kernelspec": {
   "display_name": "Python 3",
   "language": "python",
   "name": "python3"
  },
  "language_info": {
   "codemirror_mode": {
    "name": "ipython",
    "version": 3
   },
   "file_extension": ".py",
   "mimetype": "text/x-python",
   "name": "python",
   "nbconvert_exporter": "python",
   "pygments_lexer": "ipython3",
   "version": "3.8.10"
  },
  "toc": {
   "base_numbering": 1,
   "nav_menu": {},
   "number_sections": true,
   "sideBar": true,
   "skip_h1_title": true,
   "title_cell": "Содержание",
   "title_sidebar": "Contents",
   "toc_cell": true,
   "toc_position": {},
   "toc_section_display": true,
   "toc_window_display": false
  }
 },
 "nbformat": 4,
 "nbformat_minor": 2
}
